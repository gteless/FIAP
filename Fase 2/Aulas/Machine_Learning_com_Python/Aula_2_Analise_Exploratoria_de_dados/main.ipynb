{
 "cells": [
  {
   "cell_type": "code",
   "execution_count": 1,
   "id": "e7b1e256",
   "metadata": {},
   "outputs": [],
   "source": [
    "# importação das biliotecas\n",
    "import pandas as pd\n",
    "import matplotlib.pyplot as plt\n",
    "import seaborn as sns\n",
    "from scipy.stats import shapiro\n",
    "from scipy.stats import mannwhitneyu"
   ]
  },
  {
   "cell_type": "code",
   "execution_count": 2,
   "id": "3d3d35f8",
   "metadata": {},
   "outputs": [],
   "source": [
    "df = pd.read_excel(\"dataset_rolling_stones.xlsx\")"
   ]
  },
  {
   "cell_type": "code",
   "execution_count": 3,
   "id": "224a3c0d",
   "metadata": {},
   "outputs": [
    {
     "data": {
      "application/vnd.microsoft.datawrangler.viewer.v0+json": {
       "columns": [
        {
         "name": "index",
         "rawType": "int64",
         "type": "integer"
        },
        {
         "name": "name",
         "rawType": "object",
         "type": "string"
        },
        {
         "name": "album",
         "rawType": "object",
         "type": "string"
        },
        {
         "name": "release_date",
         "rawType": "datetime64[ns]",
         "type": "datetime"
        },
        {
         "name": "track_number",
         "rawType": "int64",
         "type": "integer"
        },
        {
         "name": "acousticness",
         "rawType": "float64",
         "type": "float"
        },
        {
         "name": "danceability",
         "rawType": "float64",
         "type": "float"
        },
        {
         "name": "energy",
         "rawType": "float64",
         "type": "float"
        },
        {
         "name": "instrumentalness",
         "rawType": "float64",
         "type": "float"
        },
        {
         "name": "liveness",
         "rawType": "float64",
         "type": "float"
        },
        {
         "name": "loudness",
         "rawType": "float64",
         "type": "float"
        },
        {
         "name": "speechiness",
         "rawType": "float64",
         "type": "float"
        },
        {
         "name": "tempo",
         "rawType": "float64",
         "type": "float"
        },
        {
         "name": "valence",
         "rawType": "float64",
         "type": "float"
        },
        {
         "name": "popularity",
         "rawType": "int64",
         "type": "integer"
        },
        {
         "name": "duration_ms",
         "rawType": "int64",
         "type": "integer"
        }
       ],
       "ref": "f85002a3-00d3-4e34-b49c-e6ebc61d3210",
       "rows": [
        [
         "0",
         "Concert Intro Music - Live",
         "Licked Live In NYC",
         "2022-06-10 00:00:00",
         "1",
         "0.0824",
         "0.463",
         "0.993",
         "0.996",
         "0.932",
         "-12913.0",
         "0.11",
         "118001.0",
         "0.0302",
         "33",
         "48640"
        ],
        [
         "1",
         "Street Fighting Man - Live",
         "Licked Live In NYC",
         "2022-06-10 00:00:00",
         "2",
         "0.437",
         "0.326",
         "0.965",
         "0.233",
         "0.961",
         "-4803.0",
         "0.0759",
         "131455.0",
         "0.318",
         "34",
         "253173"
        ],
        [
         "2",
         "Start Me Up - Live",
         "Licked Live In NYC",
         "2022-06-10 00:00:00",
         "3",
         "0.416",
         "0.386",
         "0.969",
         "0.4",
         "0.956",
         "-4936.0",
         "0.115",
         "130066.0",
         "0.313",
         "34",
         "263160"
        ],
        [
         "3",
         "If You Can't Rock Me - Live",
         "Licked Live In NYC",
         "2022-06-10 00:00:00",
         "4",
         "0.567",
         "0.369",
         "0.985",
         "0.000107",
         "0.895",
         "-5535.0",
         "0.193",
         "132994.0",
         "0.147",
         "32",
         "305880"
        ],
        [
         "4",
         "Don’t Stop - Live",
         "Licked Live In NYC",
         "2022-06-10 00:00:00",
         "5",
         "0.4",
         "0.303",
         "0.969",
         "0.0559",
         "0.966",
         "-5098.0",
         "0.093",
         "130533.0",
         "0.206",
         "32",
         "305106"
        ]
       ],
       "shape": {
        "columns": 15,
        "rows": 5
       }
      },
      "text/html": [
       "<div>\n",
       "<style scoped>\n",
       "    .dataframe tbody tr th:only-of-type {\n",
       "        vertical-align: middle;\n",
       "    }\n",
       "\n",
       "    .dataframe tbody tr th {\n",
       "        vertical-align: top;\n",
       "    }\n",
       "\n",
       "    .dataframe thead th {\n",
       "        text-align: right;\n",
       "    }\n",
       "</style>\n",
       "<table border=\"1\" class=\"dataframe\">\n",
       "  <thead>\n",
       "    <tr style=\"text-align: right;\">\n",
       "      <th></th>\n",
       "      <th>name</th>\n",
       "      <th>album</th>\n",
       "      <th>release_date</th>\n",
       "      <th>track_number</th>\n",
       "      <th>acousticness</th>\n",
       "      <th>danceability</th>\n",
       "      <th>energy</th>\n",
       "      <th>instrumentalness</th>\n",
       "      <th>liveness</th>\n",
       "      <th>loudness</th>\n",
       "      <th>speechiness</th>\n",
       "      <th>tempo</th>\n",
       "      <th>valence</th>\n",
       "      <th>popularity</th>\n",
       "      <th>duration_ms</th>\n",
       "    </tr>\n",
       "  </thead>\n",
       "  <tbody>\n",
       "    <tr>\n",
       "      <th>0</th>\n",
       "      <td>Concert Intro Music - Live</td>\n",
       "      <td>Licked Live In NYC</td>\n",
       "      <td>2022-06-10</td>\n",
       "      <td>1</td>\n",
       "      <td>0.0824</td>\n",
       "      <td>0.463</td>\n",
       "      <td>0.993</td>\n",
       "      <td>0.996000</td>\n",
       "      <td>0.932</td>\n",
       "      <td>-12913.0</td>\n",
       "      <td>0.1100</td>\n",
       "      <td>118001.0</td>\n",
       "      <td>0.0302</td>\n",
       "      <td>33</td>\n",
       "      <td>48640</td>\n",
       "    </tr>\n",
       "    <tr>\n",
       "      <th>1</th>\n",
       "      <td>Street Fighting Man - Live</td>\n",
       "      <td>Licked Live In NYC</td>\n",
       "      <td>2022-06-10</td>\n",
       "      <td>2</td>\n",
       "      <td>0.4370</td>\n",
       "      <td>0.326</td>\n",
       "      <td>0.965</td>\n",
       "      <td>0.233000</td>\n",
       "      <td>0.961</td>\n",
       "      <td>-4803.0</td>\n",
       "      <td>0.0759</td>\n",
       "      <td>131455.0</td>\n",
       "      <td>0.3180</td>\n",
       "      <td>34</td>\n",
       "      <td>253173</td>\n",
       "    </tr>\n",
       "    <tr>\n",
       "      <th>2</th>\n",
       "      <td>Start Me Up - Live</td>\n",
       "      <td>Licked Live In NYC</td>\n",
       "      <td>2022-06-10</td>\n",
       "      <td>3</td>\n",
       "      <td>0.4160</td>\n",
       "      <td>0.386</td>\n",
       "      <td>0.969</td>\n",
       "      <td>0.400000</td>\n",
       "      <td>0.956</td>\n",
       "      <td>-4936.0</td>\n",
       "      <td>0.1150</td>\n",
       "      <td>130066.0</td>\n",
       "      <td>0.3130</td>\n",
       "      <td>34</td>\n",
       "      <td>263160</td>\n",
       "    </tr>\n",
       "    <tr>\n",
       "      <th>3</th>\n",
       "      <td>If You Can't Rock Me - Live</td>\n",
       "      <td>Licked Live In NYC</td>\n",
       "      <td>2022-06-10</td>\n",
       "      <td>4</td>\n",
       "      <td>0.5670</td>\n",
       "      <td>0.369</td>\n",
       "      <td>0.985</td>\n",
       "      <td>0.000107</td>\n",
       "      <td>0.895</td>\n",
       "      <td>-5535.0</td>\n",
       "      <td>0.1930</td>\n",
       "      <td>132994.0</td>\n",
       "      <td>0.1470</td>\n",
       "      <td>32</td>\n",
       "      <td>305880</td>\n",
       "    </tr>\n",
       "    <tr>\n",
       "      <th>4</th>\n",
       "      <td>Don’t Stop - Live</td>\n",
       "      <td>Licked Live In NYC</td>\n",
       "      <td>2022-06-10</td>\n",
       "      <td>5</td>\n",
       "      <td>0.4000</td>\n",
       "      <td>0.303</td>\n",
       "      <td>0.969</td>\n",
       "      <td>0.055900</td>\n",
       "      <td>0.966</td>\n",
       "      <td>-5098.0</td>\n",
       "      <td>0.0930</td>\n",
       "      <td>130533.0</td>\n",
       "      <td>0.2060</td>\n",
       "      <td>32</td>\n",
       "      <td>305106</td>\n",
       "    </tr>\n",
       "  </tbody>\n",
       "</table>\n",
       "</div>"
      ],
      "text/plain": [
       "                          name               album release_date  track_number  \\\n",
       "0   Concert Intro Music - Live  Licked Live In NYC   2022-06-10             1   \n",
       "1   Street Fighting Man - Live  Licked Live In NYC   2022-06-10             2   \n",
       "2           Start Me Up - Live  Licked Live In NYC   2022-06-10             3   \n",
       "3  If You Can't Rock Me - Live  Licked Live In NYC   2022-06-10             4   \n",
       "4            Don’t Stop - Live  Licked Live In NYC   2022-06-10             5   \n",
       "\n",
       "   acousticness  danceability  energy  instrumentalness  liveness  loudness  \\\n",
       "0        0.0824         0.463   0.993          0.996000     0.932  -12913.0   \n",
       "1        0.4370         0.326   0.965          0.233000     0.961   -4803.0   \n",
       "2        0.4160         0.386   0.969          0.400000     0.956   -4936.0   \n",
       "3        0.5670         0.369   0.985          0.000107     0.895   -5535.0   \n",
       "4        0.4000         0.303   0.969          0.055900     0.966   -5098.0   \n",
       "\n",
       "   speechiness     tempo  valence  popularity  duration_ms  \n",
       "0       0.1100  118001.0   0.0302          33        48640  \n",
       "1       0.0759  131455.0   0.3180          34       253173  \n",
       "2       0.1150  130066.0   0.3130          34       263160  \n",
       "3       0.1930  132994.0   0.1470          32       305880  \n",
       "4       0.0930  130533.0   0.2060          32       305106  "
      ]
     },
     "execution_count": 3,
     "metadata": {},
     "output_type": "execute_result"
    }
   ],
   "source": [
    "df.head()"
   ]
  },
  {
   "cell_type": "code",
   "execution_count": 4,
   "id": "17566225",
   "metadata": {},
   "outputs": [
    {
     "data": {
      "text/plain": [
       "(1610, 15)"
      ]
     },
     "execution_count": 4,
     "metadata": {},
     "output_type": "execute_result"
    }
   ],
   "source": [
    "df.shape"
   ]
  },
  {
   "cell_type": "code",
   "execution_count": 5,
   "id": "72312b4b",
   "metadata": {},
   "outputs": [
    {
     "name": "stdout",
     "output_type": "stream",
     "text": [
      "<class 'pandas.core.frame.DataFrame'>\n",
      "RangeIndex: 1610 entries, 0 to 1609\n",
      "Data columns (total 15 columns):\n",
      " #   Column            Non-Null Count  Dtype         \n",
      "---  ------            --------------  -----         \n",
      " 0   name              1610 non-null   object        \n",
      " 1   album             1610 non-null   object        \n",
      " 2   release_date      1610 non-null   datetime64[ns]\n",
      " 3   track_number      1610 non-null   int64         \n",
      " 4   acousticness      1610 non-null   float64       \n",
      " 5   danceability      1610 non-null   float64       \n",
      " 6   energy            1610 non-null   float64       \n",
      " 7   instrumentalness  1610 non-null   float64       \n",
      " 8   liveness          1610 non-null   float64       \n",
      " 9   loudness          1610 non-null   float64       \n",
      " 10  speechiness       1610 non-null   float64       \n",
      " 11  tempo             1610 non-null   float64       \n",
      " 12  valence           1610 non-null   float64       \n",
      " 13  popularity        1610 non-null   int64         \n",
      " 14  duration_ms       1610 non-null   int64         \n",
      "dtypes: datetime64[ns](1), float64(9), int64(3), object(2)\n",
      "memory usage: 188.8+ KB\n"
     ]
    }
   ],
   "source": [
    "# utiliza a função info para analisar as colunas, os tipos de dados, quantidade de linhas, etc.\n",
    "df.info()"
   ]
  },
  {
   "cell_type": "code",
   "execution_count": 6,
   "id": "f3ff6baf",
   "metadata": {},
   "outputs": [
    {
     "name": "stdout",
     "output_type": "stream",
     "text": [
      "Primeiro lançamento: 1964-04-16 00:00:00\n"
     ]
    }
   ],
   "source": [
    "# verifica a data de lançamento (released date), utiliza a função min para capturar o primeiro lançamento\n",
    "print(f'Primeiro lançamento: {df[\"release_date\"].min()}')"
   ]
  },
  {
   "cell_type": "code",
   "execution_count": 7,
   "id": "28f4a7b5",
   "metadata": {},
   "outputs": [
    {
     "name": "stdout",
     "output_type": "stream",
     "text": [
      "Último lançamento: 2022-06-10 00:00:00\n"
     ]
    }
   ],
   "source": [
    "# verifica a data de lançamento (released date), utiliza a função min para capturar o último lançamento\n",
    "print(f'Último lançamento: {df[\"release_date\"].max()}')"
   ]
  },
  {
   "cell_type": "code",
   "execution_count": 8,
   "id": "dc0bd6de",
   "metadata": {},
   "outputs": [
    {
     "data": {
      "application/vnd.microsoft.datawrangler.viewer.v0+json": {
       "columns": [
        {
         "name": "index",
         "rawType": "object",
         "type": "string"
        },
        {
         "name": "0",
         "rawType": "int64",
         "type": "integer"
        }
       ],
       "ref": "400a96c8-60bc-473c-a87f-6ab5376b2b91",
       "rows": [
        [
         "name",
         "0"
        ],
        [
         "album",
         "0"
        ],
        [
         "release_date",
         "0"
        ],
        [
         "track_number",
         "0"
        ],
        [
         "acousticness",
         "0"
        ],
        [
         "danceability",
         "0"
        ],
        [
         "energy",
         "0"
        ],
        [
         "instrumentalness",
         "0"
        ],
        [
         "liveness",
         "0"
        ],
        [
         "loudness",
         "0"
        ],
        [
         "speechiness",
         "0"
        ],
        [
         "tempo",
         "0"
        ],
        [
         "valence",
         "0"
        ],
        [
         "popularity",
         "0"
        ],
        [
         "duration_ms",
         "0"
        ]
       ],
       "shape": {
        "columns": 1,
        "rows": 15
       }
      },
      "text/plain": [
       "name                0\n",
       "album               0\n",
       "release_date        0\n",
       "track_number        0\n",
       "acousticness        0\n",
       "danceability        0\n",
       "energy              0\n",
       "instrumentalness    0\n",
       "liveness            0\n",
       "loudness            0\n",
       "speechiness         0\n",
       "tempo               0\n",
       "valence             0\n",
       "popularity          0\n",
       "duration_ms         0\n",
       "dtype: int64"
      ]
     },
     "execution_count": 8,
     "metadata": {},
     "output_type": "execute_result"
    }
   ],
   "source": [
    "# usa a função is null para verificar quantos dados nulos existem no df\n",
    "df.isnull().sum()"
   ]
  },
  {
   "cell_type": "code",
   "execution_count": 9,
   "id": "0c0e981e",
   "metadata": {},
   "outputs": [
    {
     "data": {
      "text/plain": [
       "6"
      ]
     },
     "execution_count": 9,
     "metadata": {},
     "output_type": "execute_result"
    }
   ],
   "source": [
    "# verifica se há dados duplicados\n",
    "df.duplicated().sum()"
   ]
  },
  {
   "cell_type": "code",
   "execution_count": 10,
   "id": "298cc0cc",
   "metadata": {},
   "outputs": [
    {
     "data": {
      "application/vnd.microsoft.datawrangler.viewer.v0+json": {
       "columns": [
        {
         "name": "index",
         "rawType": "int64",
         "type": "integer"
        },
        {
         "name": "name",
         "rawType": "object",
         "type": "string"
        },
        {
         "name": "album",
         "rawType": "object",
         "type": "string"
        },
        {
         "name": "release_date",
         "rawType": "datetime64[ns]",
         "type": "datetime"
        },
        {
         "name": "track_number",
         "rawType": "int64",
         "type": "integer"
        },
        {
         "name": "acousticness",
         "rawType": "float64",
         "type": "float"
        },
        {
         "name": "danceability",
         "rawType": "float64",
         "type": "float"
        },
        {
         "name": "energy",
         "rawType": "float64",
         "type": "float"
        },
        {
         "name": "instrumentalness",
         "rawType": "float64",
         "type": "float"
        },
        {
         "name": "liveness",
         "rawType": "float64",
         "type": "float"
        },
        {
         "name": "loudness",
         "rawType": "float64",
         "type": "float"
        },
        {
         "name": "speechiness",
         "rawType": "float64",
         "type": "float"
        },
        {
         "name": "tempo",
         "rawType": "float64",
         "type": "float"
        },
        {
         "name": "valence",
         "rawType": "float64",
         "type": "float"
        },
        {
         "name": "popularity",
         "rawType": "int64",
         "type": "integer"
        },
        {
         "name": "duration_ms",
         "rawType": "int64",
         "type": "integer"
        }
       ],
       "ref": "e1216786-2ea7-4810-a033-35950caa4400",
       "rows": [
        [
         "928",
         "Some Girls - Remastered",
         "Some Girls (Deluxe Version)",
         "1978-06-09 00:00:00",
         "4",
         "0.527",
         "0.474",
         "0.938",
         "0.52",
         "0.299",
         "-2643.0",
         "0.0898",
         "71995.0",
         "0.505",
         "21",
         "276933"
        ],
        [
         "929",
         "Lies - Remastered",
         "Some Girls (Deluxe Version)",
         "1978-06-09 00:00:00",
         "5",
         "0.437",
         "0.382",
         "0.997",
         "0.95",
         "0.617",
         "-1568.0",
         "0.188",
         "162428.0",
         "0.563",
         "16",
         "191266"
        ],
        [
         "935",
         "Claudine",
         "Some Girls (Deluxe Version)",
         "1978-06-09 00:00:00",
         "1",
         "0.0144",
         "0.439",
         "0.977",
         "0.0221",
         "0.383",
         "-4386.0",
         "0.128",
         "105124.0",
         "0.364",
         "17",
         "222253"
        ],
        [
         "939",
         "No Spare Parts",
         "Some Girls (Deluxe Version)",
         "1978-06-09 00:00:00",
         "5",
         "0.24",
         "0.594",
         "0.762",
         "1.52e-05",
         "0.712",
         "-5145.0",
         "0.0292",
         "72648.0",
         "0.54",
         "19",
         "270466"
        ],
        [
         "940",
         "Don't Be A Stranger",
         "Some Girls (Deluxe Version)",
         "1978-06-09 00:00:00",
         "6",
         "0.061",
         "0.72",
         "0.867",
         "0.0297",
         "0.385",
         "-5871.0",
         "0.039",
         "127329.0",
         "0.847",
         "15",
         "246266"
        ],
        [
         "946",
         "Petrol Blues",
         "Some Girls (Deluxe Version)",
         "1978-06-09 00:00:00",
         "12",
         "0.769",
         "0.835",
         "0.621",
         "0.114",
         "0.116",
         "-8007.0",
         "0.0406",
         "115.87",
         "0.336",
         "13",
         "95626"
        ]
       ],
       "shape": {
        "columns": 15,
        "rows": 6
       }
      },
      "text/html": [
       "<div>\n",
       "<style scoped>\n",
       "    .dataframe tbody tr th:only-of-type {\n",
       "        vertical-align: middle;\n",
       "    }\n",
       "\n",
       "    .dataframe tbody tr th {\n",
       "        vertical-align: top;\n",
       "    }\n",
       "\n",
       "    .dataframe thead th {\n",
       "        text-align: right;\n",
       "    }\n",
       "</style>\n",
       "<table border=\"1\" class=\"dataframe\">\n",
       "  <thead>\n",
       "    <tr style=\"text-align: right;\">\n",
       "      <th></th>\n",
       "      <th>name</th>\n",
       "      <th>album</th>\n",
       "      <th>release_date</th>\n",
       "      <th>track_number</th>\n",
       "      <th>acousticness</th>\n",
       "      <th>danceability</th>\n",
       "      <th>energy</th>\n",
       "      <th>instrumentalness</th>\n",
       "      <th>liveness</th>\n",
       "      <th>loudness</th>\n",
       "      <th>speechiness</th>\n",
       "      <th>tempo</th>\n",
       "      <th>valence</th>\n",
       "      <th>popularity</th>\n",
       "      <th>duration_ms</th>\n",
       "    </tr>\n",
       "  </thead>\n",
       "  <tbody>\n",
       "    <tr>\n",
       "      <th>928</th>\n",
       "      <td>Some Girls - Remastered</td>\n",
       "      <td>Some Girls (Deluxe Version)</td>\n",
       "      <td>1978-06-09</td>\n",
       "      <td>4</td>\n",
       "      <td>0.5270</td>\n",
       "      <td>0.474</td>\n",
       "      <td>0.938</td>\n",
       "      <td>0.520000</td>\n",
       "      <td>0.299</td>\n",
       "      <td>-2643.0</td>\n",
       "      <td>0.0898</td>\n",
       "      <td>71995.00</td>\n",
       "      <td>0.505</td>\n",
       "      <td>21</td>\n",
       "      <td>276933</td>\n",
       "    </tr>\n",
       "    <tr>\n",
       "      <th>929</th>\n",
       "      <td>Lies - Remastered</td>\n",
       "      <td>Some Girls (Deluxe Version)</td>\n",
       "      <td>1978-06-09</td>\n",
       "      <td>5</td>\n",
       "      <td>0.4370</td>\n",
       "      <td>0.382</td>\n",
       "      <td>0.997</td>\n",
       "      <td>0.950000</td>\n",
       "      <td>0.617</td>\n",
       "      <td>-1568.0</td>\n",
       "      <td>0.1880</td>\n",
       "      <td>162428.00</td>\n",
       "      <td>0.563</td>\n",
       "      <td>16</td>\n",
       "      <td>191266</td>\n",
       "    </tr>\n",
       "    <tr>\n",
       "      <th>935</th>\n",
       "      <td>Claudine</td>\n",
       "      <td>Some Girls (Deluxe Version)</td>\n",
       "      <td>1978-06-09</td>\n",
       "      <td>1</td>\n",
       "      <td>0.0144</td>\n",
       "      <td>0.439</td>\n",
       "      <td>0.977</td>\n",
       "      <td>0.022100</td>\n",
       "      <td>0.383</td>\n",
       "      <td>-4386.0</td>\n",
       "      <td>0.1280</td>\n",
       "      <td>105124.00</td>\n",
       "      <td>0.364</td>\n",
       "      <td>17</td>\n",
       "      <td>222253</td>\n",
       "    </tr>\n",
       "    <tr>\n",
       "      <th>939</th>\n",
       "      <td>No Spare Parts</td>\n",
       "      <td>Some Girls (Deluxe Version)</td>\n",
       "      <td>1978-06-09</td>\n",
       "      <td>5</td>\n",
       "      <td>0.2400</td>\n",
       "      <td>0.594</td>\n",
       "      <td>0.762</td>\n",
       "      <td>0.000015</td>\n",
       "      <td>0.712</td>\n",
       "      <td>-5145.0</td>\n",
       "      <td>0.0292</td>\n",
       "      <td>72648.00</td>\n",
       "      <td>0.540</td>\n",
       "      <td>19</td>\n",
       "      <td>270466</td>\n",
       "    </tr>\n",
       "    <tr>\n",
       "      <th>940</th>\n",
       "      <td>Don't Be A Stranger</td>\n",
       "      <td>Some Girls (Deluxe Version)</td>\n",
       "      <td>1978-06-09</td>\n",
       "      <td>6</td>\n",
       "      <td>0.0610</td>\n",
       "      <td>0.720</td>\n",
       "      <td>0.867</td>\n",
       "      <td>0.029700</td>\n",
       "      <td>0.385</td>\n",
       "      <td>-5871.0</td>\n",
       "      <td>0.0390</td>\n",
       "      <td>127329.00</td>\n",
       "      <td>0.847</td>\n",
       "      <td>15</td>\n",
       "      <td>246266</td>\n",
       "    </tr>\n",
       "    <tr>\n",
       "      <th>946</th>\n",
       "      <td>Petrol Blues</td>\n",
       "      <td>Some Girls (Deluxe Version)</td>\n",
       "      <td>1978-06-09</td>\n",
       "      <td>12</td>\n",
       "      <td>0.7690</td>\n",
       "      <td>0.835</td>\n",
       "      <td>0.621</td>\n",
       "      <td>0.114000</td>\n",
       "      <td>0.116</td>\n",
       "      <td>-8007.0</td>\n",
       "      <td>0.0406</td>\n",
       "      <td>115.87</td>\n",
       "      <td>0.336</td>\n",
       "      <td>13</td>\n",
       "      <td>95626</td>\n",
       "    </tr>\n",
       "  </tbody>\n",
       "</table>\n",
       "</div>"
      ],
      "text/plain": [
       "                        name                        album release_date  \\\n",
       "928  Some Girls - Remastered  Some Girls (Deluxe Version)   1978-06-09   \n",
       "929        Lies - Remastered  Some Girls (Deluxe Version)   1978-06-09   \n",
       "935                 Claudine  Some Girls (Deluxe Version)   1978-06-09   \n",
       "939           No Spare Parts  Some Girls (Deluxe Version)   1978-06-09   \n",
       "940      Don't Be A Stranger  Some Girls (Deluxe Version)   1978-06-09   \n",
       "946             Petrol Blues  Some Girls (Deluxe Version)   1978-06-09   \n",
       "\n",
       "     track_number  acousticness  danceability  energy  instrumentalness  \\\n",
       "928             4        0.5270         0.474   0.938          0.520000   \n",
       "929             5        0.4370         0.382   0.997          0.950000   \n",
       "935             1        0.0144         0.439   0.977          0.022100   \n",
       "939             5        0.2400         0.594   0.762          0.000015   \n",
       "940             6        0.0610         0.720   0.867          0.029700   \n",
       "946            12        0.7690         0.835   0.621          0.114000   \n",
       "\n",
       "     liveness  loudness  speechiness      tempo  valence  popularity  \\\n",
       "928     0.299   -2643.0       0.0898   71995.00    0.505          21   \n",
       "929     0.617   -1568.0       0.1880  162428.00    0.563          16   \n",
       "935     0.383   -4386.0       0.1280  105124.00    0.364          17   \n",
       "939     0.712   -5145.0       0.0292   72648.00    0.540          19   \n",
       "940     0.385   -5871.0       0.0390  127329.00    0.847          15   \n",
       "946     0.116   -8007.0       0.0406     115.87    0.336          13   \n",
       "\n",
       "     duration_ms  \n",
       "928       276933  \n",
       "929       191266  \n",
       "935       222253  \n",
       "939       270466  \n",
       "940       246266  \n",
       "946        95626  "
      ]
     },
     "execution_count": 10,
     "metadata": {},
     "output_type": "execute_result"
    }
   ],
   "source": [
    "# mostra quais são os dados que estão duplicados\n",
    "df[df.duplicated()]"
   ]
  },
  {
   "cell_type": "code",
   "execution_count": 11,
   "id": "1af500b4",
   "metadata": {},
   "outputs": [
    {
     "data": {
      "application/vnd.microsoft.datawrangler.viewer.v0+json": {
       "columns": [
        {
         "name": "index",
         "rawType": "object",
         "type": "string"
        },
        {
         "name": "release_date",
         "rawType": "object",
         "type": "unknown"
        },
        {
         "name": "track_number",
         "rawType": "float64",
         "type": "float"
        },
        {
         "name": "acousticness",
         "rawType": "float64",
         "type": "float"
        },
        {
         "name": "danceability",
         "rawType": "float64",
         "type": "float"
        },
        {
         "name": "energy",
         "rawType": "float64",
         "type": "float"
        },
        {
         "name": "instrumentalness",
         "rawType": "float64",
         "type": "float"
        },
        {
         "name": "liveness",
         "rawType": "float64",
         "type": "float"
        },
        {
         "name": "loudness",
         "rawType": "float64",
         "type": "float"
        },
        {
         "name": "speechiness",
         "rawType": "float64",
         "type": "float"
        },
        {
         "name": "tempo",
         "rawType": "float64",
         "type": "float"
        },
        {
         "name": "valence",
         "rawType": "float64",
         "type": "float"
        },
        {
         "name": "popularity",
         "rawType": "float64",
         "type": "float"
        },
        {
         "name": "duration_ms",
         "rawType": "float64",
         "type": "float"
        }
       ],
       "ref": "cb6ee87a-027b-47c3-96ed-5b77b3497cbf",
       "rows": [
        [
         "count",
         "1610",
         "1610.0",
         "1610.0",
         "1610.0",
         "1610.0",
         "1610.0",
         "1610.0",
         "1610.0",
         "1610.0",
         "1610.0",
         "1610.0",
         "1610.0",
         "1610.0"
        ],
        [
         "mean",
         "1992-04-23 12:57:14.534161536",
         "8.613664596273292",
         "0.2504747648757764",
         "0.46885962732919256",
         "0.7923521739130435",
         "0.1641697790869565",
         "0.4917296273291924",
         "-6406.640074534162",
         "0.06951242236024846",
         "114078.72526086957",
         "0.5821654658385093",
         "20.788198757763976",
         "257736.48819875775"
        ],
        [
         "min",
         "1964-04-16 00:00:00",
         "1.0",
         "8.94e-06",
         "0.104",
         "0.141",
         "0.0",
         "0.0219",
         "-24408.0",
         "0.0232",
         "65.99",
         "0.0",
         "0.0",
         "21000.0"
        ],
        [
         "25%",
         "1970-09-04 00:00:00",
         "4.0",
         "0.05835",
         "0.36224999999999996",
         "0.674",
         "0.00021925000000000002",
         "0.153",
         "-8829.5",
         "0.0365",
         "98996.5",
         "0.40425",
         "13.0",
         "190613.0"
        ],
        [
         "50%",
         "1986-03-24 00:00:00",
         "7.0",
         "0.183",
         "0.458",
         "0.8485",
         "0.01375",
         "0.3795",
         "-6179.0",
         "0.0512",
         "120319.0",
         "0.583",
         "20.0",
         "243093.0"
        ],
        [
         "75%",
         "2017-12-01 00:00:00",
         "11.0",
         "0.40375000000000005",
         "0.578",
         "0.945",
         "0.179",
         "0.89375",
         "-4254.75",
         "0.0866",
         "140853.75",
         "0.778",
         "27.0",
         "295319.75"
        ],
        [
         "max",
         "2022-06-10 00:00:00",
         "47.0",
         "0.994",
         "0.887",
         "0.999",
         "0.996",
         "0.998",
         "-2.31",
         "0.624",
         "216304.0",
         "0.974",
         "80.0",
         "981866.0"
        ],
        [
         "std",
         null,
         "6.560219653419199",
         "0.2273968923468458",
         "0.1417750524297936",
         "0.17988583030268485",
         "0.2762487405581575",
         "0.3490996115969464",
         "3474.2859411504",
         "0.05163137058571898",
         "46196.602233408004",
         "0.2312527978899838",
         "12.426859374735498",
         "108333.47492032833"
        ]
       ],
       "shape": {
        "columns": 13,
        "rows": 8
       }
      },
      "text/html": [
       "<div>\n",
       "<style scoped>\n",
       "    .dataframe tbody tr th:only-of-type {\n",
       "        vertical-align: middle;\n",
       "    }\n",
       "\n",
       "    .dataframe tbody tr th {\n",
       "        vertical-align: top;\n",
       "    }\n",
       "\n",
       "    .dataframe thead th {\n",
       "        text-align: right;\n",
       "    }\n",
       "</style>\n",
       "<table border=\"1\" class=\"dataframe\">\n",
       "  <thead>\n",
       "    <tr style=\"text-align: right;\">\n",
       "      <th></th>\n",
       "      <th>release_date</th>\n",
       "      <th>track_number</th>\n",
       "      <th>acousticness</th>\n",
       "      <th>danceability</th>\n",
       "      <th>energy</th>\n",
       "      <th>instrumentalness</th>\n",
       "      <th>liveness</th>\n",
       "      <th>loudness</th>\n",
       "      <th>speechiness</th>\n",
       "      <th>tempo</th>\n",
       "      <th>valence</th>\n",
       "      <th>popularity</th>\n",
       "      <th>duration_ms</th>\n",
       "    </tr>\n",
       "  </thead>\n",
       "  <tbody>\n",
       "    <tr>\n",
       "      <th>count</th>\n",
       "      <td>1610</td>\n",
       "      <td>1610.000000</td>\n",
       "      <td>1610.000000</td>\n",
       "      <td>1610.000000</td>\n",
       "      <td>1610.000000</td>\n",
       "      <td>1610.000000</td>\n",
       "      <td>1610.00000</td>\n",
       "      <td>1610.000000</td>\n",
       "      <td>1610.000000</td>\n",
       "      <td>1610.000000</td>\n",
       "      <td>1610.000000</td>\n",
       "      <td>1610.000000</td>\n",
       "      <td>1610.000000</td>\n",
       "    </tr>\n",
       "    <tr>\n",
       "      <th>mean</th>\n",
       "      <td>1992-04-23 12:57:14.534161536</td>\n",
       "      <td>8.613665</td>\n",
       "      <td>0.250475</td>\n",
       "      <td>0.468860</td>\n",
       "      <td>0.792352</td>\n",
       "      <td>0.164170</td>\n",
       "      <td>0.49173</td>\n",
       "      <td>-6406.640075</td>\n",
       "      <td>0.069512</td>\n",
       "      <td>114078.725261</td>\n",
       "      <td>0.582165</td>\n",
       "      <td>20.788199</td>\n",
       "      <td>257736.488199</td>\n",
       "    </tr>\n",
       "    <tr>\n",
       "      <th>min</th>\n",
       "      <td>1964-04-16 00:00:00</td>\n",
       "      <td>1.000000</td>\n",
       "      <td>0.000009</td>\n",
       "      <td>0.104000</td>\n",
       "      <td>0.141000</td>\n",
       "      <td>0.000000</td>\n",
       "      <td>0.02190</td>\n",
       "      <td>-24408.000000</td>\n",
       "      <td>0.023200</td>\n",
       "      <td>65.990000</td>\n",
       "      <td>0.000000</td>\n",
       "      <td>0.000000</td>\n",
       "      <td>21000.000000</td>\n",
       "    </tr>\n",
       "    <tr>\n",
       "      <th>25%</th>\n",
       "      <td>1970-09-04 00:00:00</td>\n",
       "      <td>4.000000</td>\n",
       "      <td>0.058350</td>\n",
       "      <td>0.362250</td>\n",
       "      <td>0.674000</td>\n",
       "      <td>0.000219</td>\n",
       "      <td>0.15300</td>\n",
       "      <td>-8829.500000</td>\n",
       "      <td>0.036500</td>\n",
       "      <td>98996.500000</td>\n",
       "      <td>0.404250</td>\n",
       "      <td>13.000000</td>\n",
       "      <td>190613.000000</td>\n",
       "    </tr>\n",
       "    <tr>\n",
       "      <th>50%</th>\n",
       "      <td>1986-03-24 00:00:00</td>\n",
       "      <td>7.000000</td>\n",
       "      <td>0.183000</td>\n",
       "      <td>0.458000</td>\n",
       "      <td>0.848500</td>\n",
       "      <td>0.013750</td>\n",
       "      <td>0.37950</td>\n",
       "      <td>-6179.000000</td>\n",
       "      <td>0.051200</td>\n",
       "      <td>120319.000000</td>\n",
       "      <td>0.583000</td>\n",
       "      <td>20.000000</td>\n",
       "      <td>243093.000000</td>\n",
       "    </tr>\n",
       "    <tr>\n",
       "      <th>75%</th>\n",
       "      <td>2017-12-01 00:00:00</td>\n",
       "      <td>11.000000</td>\n",
       "      <td>0.403750</td>\n",
       "      <td>0.578000</td>\n",
       "      <td>0.945000</td>\n",
       "      <td>0.179000</td>\n",
       "      <td>0.89375</td>\n",
       "      <td>-4254.750000</td>\n",
       "      <td>0.086600</td>\n",
       "      <td>140853.750000</td>\n",
       "      <td>0.778000</td>\n",
       "      <td>27.000000</td>\n",
       "      <td>295319.750000</td>\n",
       "    </tr>\n",
       "    <tr>\n",
       "      <th>max</th>\n",
       "      <td>2022-06-10 00:00:00</td>\n",
       "      <td>47.000000</td>\n",
       "      <td>0.994000</td>\n",
       "      <td>0.887000</td>\n",
       "      <td>0.999000</td>\n",
       "      <td>0.996000</td>\n",
       "      <td>0.99800</td>\n",
       "      <td>-2.310000</td>\n",
       "      <td>0.624000</td>\n",
       "      <td>216304.000000</td>\n",
       "      <td>0.974000</td>\n",
       "      <td>80.000000</td>\n",
       "      <td>981866.000000</td>\n",
       "    </tr>\n",
       "    <tr>\n",
       "      <th>std</th>\n",
       "      <td>NaN</td>\n",
       "      <td>6.560220</td>\n",
       "      <td>0.227397</td>\n",
       "      <td>0.141775</td>\n",
       "      <td>0.179886</td>\n",
       "      <td>0.276249</td>\n",
       "      <td>0.34910</td>\n",
       "      <td>3474.285941</td>\n",
       "      <td>0.051631</td>\n",
       "      <td>46196.602233</td>\n",
       "      <td>0.231253</td>\n",
       "      <td>12.426859</td>\n",
       "      <td>108333.474920</td>\n",
       "    </tr>\n",
       "  </tbody>\n",
       "</table>\n",
       "</div>"
      ],
      "text/plain": [
       "                        release_date  track_number  acousticness  \\\n",
       "count                           1610   1610.000000   1610.000000   \n",
       "mean   1992-04-23 12:57:14.534161536      8.613665      0.250475   \n",
       "min              1964-04-16 00:00:00      1.000000      0.000009   \n",
       "25%              1970-09-04 00:00:00      4.000000      0.058350   \n",
       "50%              1986-03-24 00:00:00      7.000000      0.183000   \n",
       "75%              2017-12-01 00:00:00     11.000000      0.403750   \n",
       "max              2022-06-10 00:00:00     47.000000      0.994000   \n",
       "std                              NaN      6.560220      0.227397   \n",
       "\n",
       "       danceability       energy  instrumentalness    liveness      loudness  \\\n",
       "count   1610.000000  1610.000000       1610.000000  1610.00000   1610.000000   \n",
       "mean       0.468860     0.792352          0.164170     0.49173  -6406.640075   \n",
       "min        0.104000     0.141000          0.000000     0.02190 -24408.000000   \n",
       "25%        0.362250     0.674000          0.000219     0.15300  -8829.500000   \n",
       "50%        0.458000     0.848500          0.013750     0.37950  -6179.000000   \n",
       "75%        0.578000     0.945000          0.179000     0.89375  -4254.750000   \n",
       "max        0.887000     0.999000          0.996000     0.99800     -2.310000   \n",
       "std        0.141775     0.179886          0.276249     0.34910   3474.285941   \n",
       "\n",
       "       speechiness          tempo      valence   popularity    duration_ms  \n",
       "count  1610.000000    1610.000000  1610.000000  1610.000000    1610.000000  \n",
       "mean      0.069512  114078.725261     0.582165    20.788199  257736.488199  \n",
       "min       0.023200      65.990000     0.000000     0.000000   21000.000000  \n",
       "25%       0.036500   98996.500000     0.404250    13.000000  190613.000000  \n",
       "50%       0.051200  120319.000000     0.583000    20.000000  243093.000000  \n",
       "75%       0.086600  140853.750000     0.778000    27.000000  295319.750000  \n",
       "max       0.624000  216304.000000     0.974000    80.000000  981866.000000  \n",
       "std       0.051631   46196.602233     0.231253    12.426859  108333.474920  "
      ]
     },
     "execution_count": 11,
     "metadata": {},
     "output_type": "execute_result"
    }
   ],
   "source": [
    "df.describe()"
   ]
  },
  {
   "cell_type": "code",
   "execution_count": 12,
   "id": "a15bbd89",
   "metadata": {},
   "outputs": [],
   "source": [
    "# cria uma nova coluna capturando o valor da duration_ms dividindo por 60000 para se obter os minutos\n",
    "df[\"duracao_em_min\"] = df[\"duration_ms\"] / 60_000"
   ]
  },
  {
   "cell_type": "code",
   "execution_count": 13,
   "id": "c17af5d6",
   "metadata": {},
   "outputs": [
    {
     "data": {
      "application/vnd.microsoft.datawrangler.viewer.v0+json": {
       "columns": [
        {
         "name": "index",
         "rawType": "int64",
         "type": "integer"
        },
        {
         "name": "name",
         "rawType": "object",
         "type": "string"
        },
        {
         "name": "album",
         "rawType": "object",
         "type": "string"
        },
        {
         "name": "release_date",
         "rawType": "datetime64[ns]",
         "type": "datetime"
        },
        {
         "name": "track_number",
         "rawType": "int64",
         "type": "integer"
        },
        {
         "name": "acousticness",
         "rawType": "float64",
         "type": "float"
        },
        {
         "name": "danceability",
         "rawType": "float64",
         "type": "float"
        },
        {
         "name": "energy",
         "rawType": "float64",
         "type": "float"
        },
        {
         "name": "instrumentalness",
         "rawType": "float64",
         "type": "float"
        },
        {
         "name": "liveness",
         "rawType": "float64",
         "type": "float"
        },
        {
         "name": "loudness",
         "rawType": "float64",
         "type": "float"
        },
        {
         "name": "speechiness",
         "rawType": "float64",
         "type": "float"
        },
        {
         "name": "tempo",
         "rawType": "float64",
         "type": "float"
        },
        {
         "name": "valence",
         "rawType": "float64",
         "type": "float"
        },
        {
         "name": "popularity",
         "rawType": "int64",
         "type": "integer"
        },
        {
         "name": "duration_ms",
         "rawType": "int64",
         "type": "integer"
        },
        {
         "name": "duracao_em_min",
         "rawType": "float64",
         "type": "float"
        }
       ],
       "ref": "f142f57f-318b-4711-b7f4-407b1c24bd8d",
       "rows": [
        [
         "0",
         "Concert Intro Music - Live",
         "Licked Live In NYC",
         "2022-06-10 00:00:00",
         "1",
         "0.0824",
         "0.463",
         "0.993",
         "0.996",
         "0.932",
         "-12913.0",
         "0.11",
         "118001.0",
         "0.0302",
         "33",
         "48640",
         "0.8106666666666666"
        ],
        [
         "1",
         "Street Fighting Man - Live",
         "Licked Live In NYC",
         "2022-06-10 00:00:00",
         "2",
         "0.437",
         "0.326",
         "0.965",
         "0.233",
         "0.961",
         "-4803.0",
         "0.0759",
         "131455.0",
         "0.318",
         "34",
         "253173",
         "4.21955"
        ],
        [
         "2",
         "Start Me Up - Live",
         "Licked Live In NYC",
         "2022-06-10 00:00:00",
         "3",
         "0.416",
         "0.386",
         "0.969",
         "0.4",
         "0.956",
         "-4936.0",
         "0.115",
         "130066.0",
         "0.313",
         "34",
         "263160",
         "4.386"
        ],
        [
         "3",
         "If You Can't Rock Me - Live",
         "Licked Live In NYC",
         "2022-06-10 00:00:00",
         "4",
         "0.567",
         "0.369",
         "0.985",
         "0.000107",
         "0.895",
         "-5535.0",
         "0.193",
         "132994.0",
         "0.147",
         "32",
         "305880",
         "5.098"
        ],
        [
         "4",
         "Don’t Stop - Live",
         "Licked Live In NYC",
         "2022-06-10 00:00:00",
         "5",
         "0.4",
         "0.303",
         "0.969",
         "0.0559",
         "0.966",
         "-5098.0",
         "0.093",
         "130533.0",
         "0.206",
         "32",
         "305106",
         "5.0851"
        ]
       ],
       "shape": {
        "columns": 16,
        "rows": 5
       }
      },
      "text/html": [
       "<div>\n",
       "<style scoped>\n",
       "    .dataframe tbody tr th:only-of-type {\n",
       "        vertical-align: middle;\n",
       "    }\n",
       "\n",
       "    .dataframe tbody tr th {\n",
       "        vertical-align: top;\n",
       "    }\n",
       "\n",
       "    .dataframe thead th {\n",
       "        text-align: right;\n",
       "    }\n",
       "</style>\n",
       "<table border=\"1\" class=\"dataframe\">\n",
       "  <thead>\n",
       "    <tr style=\"text-align: right;\">\n",
       "      <th></th>\n",
       "      <th>name</th>\n",
       "      <th>album</th>\n",
       "      <th>release_date</th>\n",
       "      <th>track_number</th>\n",
       "      <th>acousticness</th>\n",
       "      <th>danceability</th>\n",
       "      <th>energy</th>\n",
       "      <th>instrumentalness</th>\n",
       "      <th>liveness</th>\n",
       "      <th>loudness</th>\n",
       "      <th>speechiness</th>\n",
       "      <th>tempo</th>\n",
       "      <th>valence</th>\n",
       "      <th>popularity</th>\n",
       "      <th>duration_ms</th>\n",
       "      <th>duracao_em_min</th>\n",
       "    </tr>\n",
       "  </thead>\n",
       "  <tbody>\n",
       "    <tr>\n",
       "      <th>0</th>\n",
       "      <td>Concert Intro Music - Live</td>\n",
       "      <td>Licked Live In NYC</td>\n",
       "      <td>2022-06-10</td>\n",
       "      <td>1</td>\n",
       "      <td>0.0824</td>\n",
       "      <td>0.463</td>\n",
       "      <td>0.993</td>\n",
       "      <td>0.996000</td>\n",
       "      <td>0.932</td>\n",
       "      <td>-12913.0</td>\n",
       "      <td>0.1100</td>\n",
       "      <td>118001.0</td>\n",
       "      <td>0.0302</td>\n",
       "      <td>33</td>\n",
       "      <td>48640</td>\n",
       "      <td>0.810667</td>\n",
       "    </tr>\n",
       "    <tr>\n",
       "      <th>1</th>\n",
       "      <td>Street Fighting Man - Live</td>\n",
       "      <td>Licked Live In NYC</td>\n",
       "      <td>2022-06-10</td>\n",
       "      <td>2</td>\n",
       "      <td>0.4370</td>\n",
       "      <td>0.326</td>\n",
       "      <td>0.965</td>\n",
       "      <td>0.233000</td>\n",
       "      <td>0.961</td>\n",
       "      <td>-4803.0</td>\n",
       "      <td>0.0759</td>\n",
       "      <td>131455.0</td>\n",
       "      <td>0.3180</td>\n",
       "      <td>34</td>\n",
       "      <td>253173</td>\n",
       "      <td>4.219550</td>\n",
       "    </tr>\n",
       "    <tr>\n",
       "      <th>2</th>\n",
       "      <td>Start Me Up - Live</td>\n",
       "      <td>Licked Live In NYC</td>\n",
       "      <td>2022-06-10</td>\n",
       "      <td>3</td>\n",
       "      <td>0.4160</td>\n",
       "      <td>0.386</td>\n",
       "      <td>0.969</td>\n",
       "      <td>0.400000</td>\n",
       "      <td>0.956</td>\n",
       "      <td>-4936.0</td>\n",
       "      <td>0.1150</td>\n",
       "      <td>130066.0</td>\n",
       "      <td>0.3130</td>\n",
       "      <td>34</td>\n",
       "      <td>263160</td>\n",
       "      <td>4.386000</td>\n",
       "    </tr>\n",
       "    <tr>\n",
       "      <th>3</th>\n",
       "      <td>If You Can't Rock Me - Live</td>\n",
       "      <td>Licked Live In NYC</td>\n",
       "      <td>2022-06-10</td>\n",
       "      <td>4</td>\n",
       "      <td>0.5670</td>\n",
       "      <td>0.369</td>\n",
       "      <td>0.985</td>\n",
       "      <td>0.000107</td>\n",
       "      <td>0.895</td>\n",
       "      <td>-5535.0</td>\n",
       "      <td>0.1930</td>\n",
       "      <td>132994.0</td>\n",
       "      <td>0.1470</td>\n",
       "      <td>32</td>\n",
       "      <td>305880</td>\n",
       "      <td>5.098000</td>\n",
       "    </tr>\n",
       "    <tr>\n",
       "      <th>4</th>\n",
       "      <td>Don’t Stop - Live</td>\n",
       "      <td>Licked Live In NYC</td>\n",
       "      <td>2022-06-10</td>\n",
       "      <td>5</td>\n",
       "      <td>0.4000</td>\n",
       "      <td>0.303</td>\n",
       "      <td>0.969</td>\n",
       "      <td>0.055900</td>\n",
       "      <td>0.966</td>\n",
       "      <td>-5098.0</td>\n",
       "      <td>0.0930</td>\n",
       "      <td>130533.0</td>\n",
       "      <td>0.2060</td>\n",
       "      <td>32</td>\n",
       "      <td>305106</td>\n",
       "      <td>5.085100</td>\n",
       "    </tr>\n",
       "  </tbody>\n",
       "</table>\n",
       "</div>"
      ],
      "text/plain": [
       "                          name               album release_date  track_number  \\\n",
       "0   Concert Intro Music - Live  Licked Live In NYC   2022-06-10             1   \n",
       "1   Street Fighting Man - Live  Licked Live In NYC   2022-06-10             2   \n",
       "2           Start Me Up - Live  Licked Live In NYC   2022-06-10             3   \n",
       "3  If You Can't Rock Me - Live  Licked Live In NYC   2022-06-10             4   \n",
       "4            Don’t Stop - Live  Licked Live In NYC   2022-06-10             5   \n",
       "\n",
       "   acousticness  danceability  energy  instrumentalness  liveness  loudness  \\\n",
       "0        0.0824         0.463   0.993          0.996000     0.932  -12913.0   \n",
       "1        0.4370         0.326   0.965          0.233000     0.961   -4803.0   \n",
       "2        0.4160         0.386   0.969          0.400000     0.956   -4936.0   \n",
       "3        0.5670         0.369   0.985          0.000107     0.895   -5535.0   \n",
       "4        0.4000         0.303   0.969          0.055900     0.966   -5098.0   \n",
       "\n",
       "   speechiness     tempo  valence  popularity  duration_ms  duracao_em_min  \n",
       "0       0.1100  118001.0   0.0302          33        48640        0.810667  \n",
       "1       0.0759  131455.0   0.3180          34       253173        4.219550  \n",
       "2       0.1150  130066.0   0.3130          34       263160        4.386000  \n",
       "3       0.1930  132994.0   0.1470          32       305880        5.098000  \n",
       "4       0.0930  130533.0   0.2060          32       305106        5.085100  "
      ]
     },
     "execution_count": 13,
     "metadata": {},
     "output_type": "execute_result"
    }
   ],
   "source": [
    "df.head()"
   ]
  },
  {
   "cell_type": "code",
   "execution_count": 14,
   "id": "1d902ee9",
   "metadata": {},
   "outputs": [
    {
     "data": {
      "application/vnd.microsoft.datawrangler.viewer.v0+json": {
       "columns": [
        {
         "name": "index",
         "rawType": "object",
         "type": "string"
        },
        {
         "name": "release_date",
         "rawType": "object",
         "type": "unknown"
        },
        {
         "name": "track_number",
         "rawType": "float64",
         "type": "float"
        },
        {
         "name": "acousticness",
         "rawType": "float64",
         "type": "float"
        },
        {
         "name": "danceability",
         "rawType": "float64",
         "type": "float"
        },
        {
         "name": "energy",
         "rawType": "float64",
         "type": "float"
        },
        {
         "name": "instrumentalness",
         "rawType": "float64",
         "type": "float"
        },
        {
         "name": "liveness",
         "rawType": "float64",
         "type": "float"
        },
        {
         "name": "loudness",
         "rawType": "float64",
         "type": "float"
        },
        {
         "name": "speechiness",
         "rawType": "float64",
         "type": "float"
        },
        {
         "name": "tempo",
         "rawType": "float64",
         "type": "float"
        },
        {
         "name": "valence",
         "rawType": "float64",
         "type": "float"
        },
        {
         "name": "popularity",
         "rawType": "float64",
         "type": "float"
        },
        {
         "name": "duration_ms",
         "rawType": "float64",
         "type": "float"
        },
        {
         "name": "duracao_em_min",
         "rawType": "float64",
         "type": "float"
        }
       ],
       "ref": "7ecd01fe-717b-4536-b735-022efbcb2163",
       "rows": [
        [
         "count",
         "1610",
         "1610.0",
         "1610.0",
         "1610.0",
         "1610.0",
         "1610.0",
         "1610.0",
         "1610.0",
         "1610.0",
         "1610.0",
         "1610.0",
         "1610.0",
         "1610.0",
         "1610.0"
        ],
        [
         "mean",
         "1992-04-23 12:57:14.534161536",
         "8.613664596273292",
         "0.2504747648757764",
         "0.46885962732919256",
         "0.7923521739130435",
         "0.1641697790869565",
         "0.4917296273291924",
         "-6406.640074534162",
         "0.06951242236024846",
         "114078.72526086957",
         "0.5821654658385093",
         "20.788198757763976",
         "257736.48819875775",
         "4.295608136645963"
        ],
        [
         "min",
         "1964-04-16 00:00:00",
         "1.0",
         "8.94e-06",
         "0.104",
         "0.141",
         "0.0",
         "0.0219",
         "-24408.0",
         "0.0232",
         "65.99",
         "0.0",
         "0.0",
         "21000.0",
         "0.35"
        ],
        [
         "25%",
         "1970-09-04 00:00:00",
         "4.0",
         "0.05835",
         "0.36224999999999996",
         "0.674",
         "0.00021925000000000002",
         "0.153",
         "-8829.5",
         "0.0365",
         "98996.5",
         "0.40425",
         "13.0",
         "190613.0",
         "3.1768833333333335"
        ],
        [
         "50%",
         "1986-03-24 00:00:00",
         "7.0",
         "0.183",
         "0.458",
         "0.8485",
         "0.01375",
         "0.3795",
         "-6179.0",
         "0.0512",
         "120319.0",
         "0.583",
         "20.0",
         "243093.0",
         "4.05155"
        ],
        [
         "75%",
         "2017-12-01 00:00:00",
         "11.0",
         "0.40375000000000005",
         "0.578",
         "0.945",
         "0.179",
         "0.89375",
         "-4254.75",
         "0.0866",
         "140853.75",
         "0.778",
         "27.0",
         "295319.75",
         "4.921995833333333"
        ],
        [
         "max",
         "2022-06-10 00:00:00",
         "47.0",
         "0.994",
         "0.887",
         "0.999",
         "0.996",
         "0.998",
         "-2.31",
         "0.624",
         "216304.0",
         "0.974",
         "80.0",
         "981866.0",
         "16.364433333333334"
        ],
        [
         "std",
         null,
         "6.560219653419199",
         "0.2273968923468458",
         "0.1417750524297936",
         "0.17988583030268485",
         "0.2762487405581575",
         "0.3490996115969464",
         "3474.2859411504",
         "0.05163137058571898",
         "46196.602233408004",
         "0.2312527978899838",
         "12.426859374735498",
         "108333.47492032833",
         "1.8055579153388057"
        ]
       ],
       "shape": {
        "columns": 14,
        "rows": 8
       }
      },
      "text/html": [
       "<div>\n",
       "<style scoped>\n",
       "    .dataframe tbody tr th:only-of-type {\n",
       "        vertical-align: middle;\n",
       "    }\n",
       "\n",
       "    .dataframe tbody tr th {\n",
       "        vertical-align: top;\n",
       "    }\n",
       "\n",
       "    .dataframe thead th {\n",
       "        text-align: right;\n",
       "    }\n",
       "</style>\n",
       "<table border=\"1\" class=\"dataframe\">\n",
       "  <thead>\n",
       "    <tr style=\"text-align: right;\">\n",
       "      <th></th>\n",
       "      <th>release_date</th>\n",
       "      <th>track_number</th>\n",
       "      <th>acousticness</th>\n",
       "      <th>danceability</th>\n",
       "      <th>energy</th>\n",
       "      <th>instrumentalness</th>\n",
       "      <th>liveness</th>\n",
       "      <th>loudness</th>\n",
       "      <th>speechiness</th>\n",
       "      <th>tempo</th>\n",
       "      <th>valence</th>\n",
       "      <th>popularity</th>\n",
       "      <th>duration_ms</th>\n",
       "      <th>duracao_em_min</th>\n",
       "    </tr>\n",
       "  </thead>\n",
       "  <tbody>\n",
       "    <tr>\n",
       "      <th>count</th>\n",
       "      <td>1610</td>\n",
       "      <td>1610.000000</td>\n",
       "      <td>1610.000000</td>\n",
       "      <td>1610.000000</td>\n",
       "      <td>1610.000000</td>\n",
       "      <td>1610.000000</td>\n",
       "      <td>1610.00000</td>\n",
       "      <td>1610.000000</td>\n",
       "      <td>1610.000000</td>\n",
       "      <td>1610.000000</td>\n",
       "      <td>1610.000000</td>\n",
       "      <td>1610.000000</td>\n",
       "      <td>1610.000000</td>\n",
       "      <td>1610.000000</td>\n",
       "    </tr>\n",
       "    <tr>\n",
       "      <th>mean</th>\n",
       "      <td>1992-04-23 12:57:14.534161536</td>\n",
       "      <td>8.613665</td>\n",
       "      <td>0.250475</td>\n",
       "      <td>0.468860</td>\n",
       "      <td>0.792352</td>\n",
       "      <td>0.164170</td>\n",
       "      <td>0.49173</td>\n",
       "      <td>-6406.640075</td>\n",
       "      <td>0.069512</td>\n",
       "      <td>114078.725261</td>\n",
       "      <td>0.582165</td>\n",
       "      <td>20.788199</td>\n",
       "      <td>257736.488199</td>\n",
       "      <td>4.295608</td>\n",
       "    </tr>\n",
       "    <tr>\n",
       "      <th>min</th>\n",
       "      <td>1964-04-16 00:00:00</td>\n",
       "      <td>1.000000</td>\n",
       "      <td>0.000009</td>\n",
       "      <td>0.104000</td>\n",
       "      <td>0.141000</td>\n",
       "      <td>0.000000</td>\n",
       "      <td>0.02190</td>\n",
       "      <td>-24408.000000</td>\n",
       "      <td>0.023200</td>\n",
       "      <td>65.990000</td>\n",
       "      <td>0.000000</td>\n",
       "      <td>0.000000</td>\n",
       "      <td>21000.000000</td>\n",
       "      <td>0.350000</td>\n",
       "    </tr>\n",
       "    <tr>\n",
       "      <th>25%</th>\n",
       "      <td>1970-09-04 00:00:00</td>\n",
       "      <td>4.000000</td>\n",
       "      <td>0.058350</td>\n",
       "      <td>0.362250</td>\n",
       "      <td>0.674000</td>\n",
       "      <td>0.000219</td>\n",
       "      <td>0.15300</td>\n",
       "      <td>-8829.500000</td>\n",
       "      <td>0.036500</td>\n",
       "      <td>98996.500000</td>\n",
       "      <td>0.404250</td>\n",
       "      <td>13.000000</td>\n",
       "      <td>190613.000000</td>\n",
       "      <td>3.176883</td>\n",
       "    </tr>\n",
       "    <tr>\n",
       "      <th>50%</th>\n",
       "      <td>1986-03-24 00:00:00</td>\n",
       "      <td>7.000000</td>\n",
       "      <td>0.183000</td>\n",
       "      <td>0.458000</td>\n",
       "      <td>0.848500</td>\n",
       "      <td>0.013750</td>\n",
       "      <td>0.37950</td>\n",
       "      <td>-6179.000000</td>\n",
       "      <td>0.051200</td>\n",
       "      <td>120319.000000</td>\n",
       "      <td>0.583000</td>\n",
       "      <td>20.000000</td>\n",
       "      <td>243093.000000</td>\n",
       "      <td>4.051550</td>\n",
       "    </tr>\n",
       "    <tr>\n",
       "      <th>75%</th>\n",
       "      <td>2017-12-01 00:00:00</td>\n",
       "      <td>11.000000</td>\n",
       "      <td>0.403750</td>\n",
       "      <td>0.578000</td>\n",
       "      <td>0.945000</td>\n",
       "      <td>0.179000</td>\n",
       "      <td>0.89375</td>\n",
       "      <td>-4254.750000</td>\n",
       "      <td>0.086600</td>\n",
       "      <td>140853.750000</td>\n",
       "      <td>0.778000</td>\n",
       "      <td>27.000000</td>\n",
       "      <td>295319.750000</td>\n",
       "      <td>4.921996</td>\n",
       "    </tr>\n",
       "    <tr>\n",
       "      <th>max</th>\n",
       "      <td>2022-06-10 00:00:00</td>\n",
       "      <td>47.000000</td>\n",
       "      <td>0.994000</td>\n",
       "      <td>0.887000</td>\n",
       "      <td>0.999000</td>\n",
       "      <td>0.996000</td>\n",
       "      <td>0.99800</td>\n",
       "      <td>-2.310000</td>\n",
       "      <td>0.624000</td>\n",
       "      <td>216304.000000</td>\n",
       "      <td>0.974000</td>\n",
       "      <td>80.000000</td>\n",
       "      <td>981866.000000</td>\n",
       "      <td>16.364433</td>\n",
       "    </tr>\n",
       "    <tr>\n",
       "      <th>std</th>\n",
       "      <td>NaN</td>\n",
       "      <td>6.560220</td>\n",
       "      <td>0.227397</td>\n",
       "      <td>0.141775</td>\n",
       "      <td>0.179886</td>\n",
       "      <td>0.276249</td>\n",
       "      <td>0.34910</td>\n",
       "      <td>3474.285941</td>\n",
       "      <td>0.051631</td>\n",
       "      <td>46196.602233</td>\n",
       "      <td>0.231253</td>\n",
       "      <td>12.426859</td>\n",
       "      <td>108333.474920</td>\n",
       "      <td>1.805558</td>\n",
       "    </tr>\n",
       "  </tbody>\n",
       "</table>\n",
       "</div>"
      ],
      "text/plain": [
       "                        release_date  track_number  acousticness  \\\n",
       "count                           1610   1610.000000   1610.000000   \n",
       "mean   1992-04-23 12:57:14.534161536      8.613665      0.250475   \n",
       "min              1964-04-16 00:00:00      1.000000      0.000009   \n",
       "25%              1970-09-04 00:00:00      4.000000      0.058350   \n",
       "50%              1986-03-24 00:00:00      7.000000      0.183000   \n",
       "75%              2017-12-01 00:00:00     11.000000      0.403750   \n",
       "max              2022-06-10 00:00:00     47.000000      0.994000   \n",
       "std                              NaN      6.560220      0.227397   \n",
       "\n",
       "       danceability       energy  instrumentalness    liveness      loudness  \\\n",
       "count   1610.000000  1610.000000       1610.000000  1610.00000   1610.000000   \n",
       "mean       0.468860     0.792352          0.164170     0.49173  -6406.640075   \n",
       "min        0.104000     0.141000          0.000000     0.02190 -24408.000000   \n",
       "25%        0.362250     0.674000          0.000219     0.15300  -8829.500000   \n",
       "50%        0.458000     0.848500          0.013750     0.37950  -6179.000000   \n",
       "75%        0.578000     0.945000          0.179000     0.89375  -4254.750000   \n",
       "max        0.887000     0.999000          0.996000     0.99800     -2.310000   \n",
       "std        0.141775     0.179886          0.276249     0.34910   3474.285941   \n",
       "\n",
       "       speechiness          tempo      valence   popularity    duration_ms  \\\n",
       "count  1610.000000    1610.000000  1610.000000  1610.000000    1610.000000   \n",
       "mean      0.069512  114078.725261     0.582165    20.788199  257736.488199   \n",
       "min       0.023200      65.990000     0.000000     0.000000   21000.000000   \n",
       "25%       0.036500   98996.500000     0.404250    13.000000  190613.000000   \n",
       "50%       0.051200  120319.000000     0.583000    20.000000  243093.000000   \n",
       "75%       0.086600  140853.750000     0.778000    27.000000  295319.750000   \n",
       "max       0.624000  216304.000000     0.974000    80.000000  981866.000000   \n",
       "std       0.051631   46196.602233     0.231253    12.426859  108333.474920   \n",
       "\n",
       "       duracao_em_min  \n",
       "count     1610.000000  \n",
       "mean         4.295608  \n",
       "min          0.350000  \n",
       "25%          3.176883  \n",
       "50%          4.051550  \n",
       "75%          4.921996  \n",
       "max         16.364433  \n",
       "std          1.805558  "
      ]
     },
     "execution_count": 14,
     "metadata": {},
     "output_type": "execute_result"
    }
   ],
   "source": [
    "df.describe()"
   ]
  },
  {
   "cell_type": "code",
   "execution_count": 15,
   "id": "3cfa2635",
   "metadata": {},
   "outputs": [
    {
     "data": {
      "application/vnd.microsoft.datawrangler.viewer.v0+json": {
       "columns": [
        {
         "name": "album",
         "rawType": "object",
         "type": "string"
        },
        {
         "name": "duracao_em_min",
         "rawType": "float64",
         "type": "float"
        }
       ],
       "ref": "2c3f1800-3131-4d81-82ff-2398c4d1fef3",
       "rows": [
        [
         "12 X 5",
         "2.682068055555556"
        ],
        [
         "12 x 5",
         "2.6827722222222223"
        ],
        [
         "A Bigger Bang (2009 Re-Mastered)",
         "4.01635625"
        ],
        [
         "A Bigger Bang (Live)",
         "5.176630303030303"
        ],
        [
         "Aftermath",
         "3.8991848484848486"
        ],
        [
         "Aftermath (UK Version)",
         "3.8005196428571426"
        ],
        [
         "Beggars Banquet",
         "3.964705"
        ],
        [
         "Beggars Banquet (50th Anniversary Edition)",
         "3.9811483333333326"
        ],
        [
         "Between The Buttons",
         "3.2048555555555556"
        ],
        [
         "Between The Buttons (UK Version)",
         "3.203123611111111"
        ],
        [
         "Between The Buttons (US track listing)",
         "3.2077708333333335"
        ],
        [
         "Black And Blue",
         "5.147579166666667"
        ],
        [
         "Black And Blue (Remastered 2009)",
         "5.16996875"
        ],
        [
         "Blue & Lonesome",
         "3.558659722222222"
        ],
        [
         "Bridges To Babylon",
         "4.795447435897436"
        ],
        [
         "Bridges To Babylon (Remastered)",
         "4.79908717948718"
        ],
        [
         "Bridges To Bremen (Live)",
         "6.332265151515151"
        ],
        [
         "Bridges To Buenos Aires (Live)",
         "5.722842424242424"
        ],
        [
         "December's Children (and everybody's)",
         "2.4089763888888887"
        ],
        [
         "December’s Children (And Everybody’s)",
         "2.4085319444444444"
        ],
        [
         "Dirty Work",
         "3.617142424242424"
        ],
        [
         "Dirty Work (Remastered 2009)",
         "3.617142424242424"
        ],
        [
         "Emotional Rescue",
         "4.119438333333333"
        ],
        [
         "Emotional Rescue (2009 Re-Mastered)",
         "4.126171666666666"
        ],
        [
         "England's Newest Hit Makers",
         "2.5967152777777778"
        ],
        [
         "England’s Newest Hitmakers",
         "2.5963249999999998"
        ],
        [
         "Exile On Main Street (2010 Re-Mastered)",
         "3.728574074074074"
        ],
        [
         "Exile On Main Street (Bonus Track Version)",
         "3.8755942528735634"
        ],
        [
         "Exile On Main Street (Deluxe Version)",
         "3.8652625"
        ],
        [
         "Flashpoint",
         "4.497725980392157"
        ],
        [
         "Flowers",
         "3.0905125000000004"
        ],
        [
         "From The Vault: No Security - San Jose 1999 (Live)",
         "5.525861666666667"
        ],
        [
         "Get Yer Ya Yas Out",
         "4.770770000000001"
        ],
        [
         "Get Yer Ya-Ya's Out! (Remastered)",
         "4.773193333333333"
        ],
        [
         "Get Yer Ya-Ya's Out! The Rolling Stones In Concert (40th Anniversary Edition)",
         "4.019196296296296"
        ],
        [
         "Goats Head Soup",
         "4.687061666666667"
        ],
        [
         "Goats Head Soup (Deluxe)",
         "4.680636936936938"
        ],
        [
         "Goats Head Soup (Remastered 2009)",
         "4.67666"
        ],
        [
         "Got Live if you want it!",
         "2.7625333333333333"
        ],
        [
         "Havana Moon (Live)",
         "6.632818518518518"
        ],
        [
         "Honk (Deluxe)",
         "4.276327304964539"
        ],
        [
         "It's Only Rock 'N' Roll",
         "4.843993333333334"
        ],
        [
         "It's Only Rock 'N' Roll (2009 Re-Mastered)",
         "4.843838333333333"
        ],
        [
         "Jamming With Edward",
         "6.042794444444444"
        ],
        [
         "Ladies & Gentlemen (Live)",
         "4.784801041666666"
        ],
        [
         "Let It Bleed",
         "4.706834259259259"
        ],
        [
         "Let It Bleed (50th Anniversary Edition / Remastered 2019)",
         "4.7094"
        ],
        [
         "Licked Live In NYC",
         "5.611829710144927"
        ],
        [
         "Live 1965: Music From Charlie Is My Darling (Live From England/1965)",
         "2.1460820512820513"
        ],
        [
         "Live At The Checkerboard Lounge",
         "6.009647395833333"
        ]
       ],
       "shape": {
        "columns": 1,
        "rows": 90
       }
      },
      "text/plain": [
       "album\n",
       "12 X 5                              2.682068\n",
       "12 x 5                              2.682772\n",
       "A Bigger Bang (2009 Re-Mastered)    4.016356\n",
       "A Bigger Bang (Live)                5.176630\n",
       "Aftermath                           3.899185\n",
       "                                      ...   \n",
       "Undercover                          4.492750\n",
       "Undercover (2009 Re-Mastered)       4.497595\n",
       "Voodoo Lounge (Remastered 2009)     4.118779\n",
       "Voodoo Lounge Uncut (Live)          5.248507\n",
       "got LIVE if you want it!            2.762532\n",
       "Name: duracao_em_min, Length: 90, dtype: float64"
      ]
     },
     "execution_count": 15,
     "metadata": {},
     "output_type": "execute_result"
    }
   ],
   "source": [
    "df.groupby(\"album\")[\"duracao_em_min\"].mean()"
   ]
  },
  {
   "cell_type": "code",
   "execution_count": 16,
   "id": "1c610f14",
   "metadata": {},
   "outputs": [],
   "source": [
    "# cria um novo df para armazenar o df agrupado e utiliza a função sort values para ordenar os valores\n",
    "# do maior para o menor setadno o parametro ascending para False\n",
    "df_maior_duracao_musica = df.groupby(\"album\")[\"duracao_em_min\"].mean().sort_values(ascending=False)"
   ]
  },
  {
   "cell_type": "code",
   "execution_count": 17,
   "id": "62afce0f",
   "metadata": {},
   "outputs": [
    {
     "data": {
      "application/vnd.microsoft.datawrangler.viewer.v0+json": {
       "columns": [
        {
         "name": "album",
         "rawType": "object",
         "type": "string"
        },
        {
         "name": "duracao_em_min",
         "rawType": "float64",
         "type": "float"
        }
       ],
       "ref": "3caca8b9-3f41-4c87-910c-edc9664830d5",
       "rows": [
        [
         "Havana Moon (Live)",
         "6.632818518518518"
        ],
        [
         "Bridges To Bremen (Live)",
         "6.332265151515151"
        ],
        [
         "Jamming With Edward",
         "6.042794444444444"
        ],
        [
         "Live At The Checkerboard Lounge",
         "6.009647395833333"
        ],
        [
         "Totally Stripped - Paris (Live)",
         "5.947429545454545"
        ],
        [
         "Bridges To Buenos Aires (Live)",
         "5.722842424242424"
        ],
        [
         "Totally Stripped (Live)",
         "5.635596428571428"
        ],
        [
         "Licked Live In NYC",
         "5.611829710144927"
        ],
        [
         "Steel Wheels Live",
         "5.598141975308642"
        ],
        [
         "From The Vault: No Security - San Jose 1999 (Live)",
         "5.525861666666667"
        ],
        [
         "Voodoo Lounge Uncut (Live)",
         "5.248506547619047"
        ],
        [
         "Totally Stripped - Brixton (Live)",
         "5.237258333333333"
        ],
        [
         "A Bigger Bang (Live)",
         "5.176630303030303"
        ],
        [
         "Black And Blue (Remastered 2009)",
         "5.16996875"
        ],
        [
         "Black And Blue",
         "5.147579166666667"
        ],
        [
         "Sticky Fingers (Super Deluxe)",
         "5.09359797979798"
        ],
        [
         "Sticky Fingers (Deluxe)",
         "5.014995833333333"
        ],
        [
         "Sticky Fingers Live At The Fonda Theatre",
         "4.974757291666666"
        ],
        [
         "It's Only Rock 'N' Roll",
         "4.843993333333334"
        ],
        [
         "It's Only Rock 'N' Roll (2009 Re-Mastered)",
         "4.843838333333333"
        ],
        [
         "Bridges To Babylon (Remastered)",
         "4.79908717948718"
        ],
        [
         "Bridges To Babylon",
         "4.795447435897436"
        ],
        [
         "Ladies & Gentlemen (Live)",
         "4.784801041666666"
        ],
        [
         "Get Yer Ya-Ya's Out! (Remastered)",
         "4.773193333333333"
        ],
        [
         "Get Yer Ya Yas Out",
         "4.770770000000001"
        ],
        [
         "Live Licks",
         "4.753408333333333"
        ],
        [
         "Let It Bleed (50th Anniversary Edition / Remastered 2019)",
         "4.7094"
        ],
        [
         "Let It Bleed",
         "4.706834259259259"
        ],
        [
         "Some Girls: Live In Texas '78",
         "4.704619607843137"
        ],
        [
         "Goats Head Soup",
         "4.687061666666667"
        ],
        [
         "Goats Head Soup (Deluxe)",
         "4.680636936936938"
        ],
        [
         "Goats Head Soup (Remastered 2009)",
         "4.67666"
        ],
        [
         "Live At The El Mocambo",
         "4.6728144927536235"
        ],
        [
         "Sticky Fingers (Remastered)",
         "4.625371666666666"
        ],
        [
         "Love You Live (Remastered)",
         "4.622944444444444"
        ],
        [
         "Love You Live (Remastered 2009)",
         "4.620487962962963"
        ],
        [
         "Totally Stripped - Amsterdam (Live)",
         "4.5963625"
        ],
        [
         "Tattoo You (Super Deluxe)",
         "4.517239492753623"
        ],
        [
         "Flashpoint",
         "4.497725980392157"
        ],
        [
         "Undercover (2009 Re-Mastered)",
         "4.497595"
        ],
        [
         "Undercover",
         "4.49275"
        ],
        [
         "Their Satanic Majesties Request (50th Anniversary Special Edition / Remastered)",
         "4.4205733333333335"
        ],
        [
         "Steel Wheels (Remastered 2009)",
         "4.417345833333333"
        ],
        [
         "Steel Wheels",
         "4.415070833333334"
        ],
        [
         "Their Satanic Majesties Request",
         "4.41055"
        ],
        [
         "Honk (Deluxe)",
         "4.276327304964539"
        ],
        [
         "Stripped",
         "4.2548125"
        ],
        [
         "Emotional Rescue (2009 Re-Mastered)",
         "4.126171666666666"
        ],
        [
         "Emotional Rescue",
         "4.119438333333333"
        ],
        [
         "Voodoo Lounge (Remastered 2009)",
         "4.1187788888888885"
        ]
       ],
       "shape": {
        "columns": 1,
        "rows": 90
       }
      },
      "text/plain": [
       "album\n",
       "Havana Moon (Live)                                                      6.632819\n",
       "Bridges To Bremen (Live)                                                6.332265\n",
       "Jamming With Edward                                                     6.042794\n",
       "Live At The Checkerboard Lounge                                         6.009647\n",
       "Totally Stripped - Paris (Live)                                         5.947430\n",
       "                                                                          ...   \n",
       "Out Of Our Heads (UK)                                                   2.464643\n",
       "Out Of Our Heads (UK Sequence)                                          2.449274\n",
       "December's Children (and everybody's)                                   2.408976\n",
       "December’s Children (And Everybody’s)                                   2.408532\n",
       "Live 1965: Music From Charlie Is My Darling (Live From England/1965)    2.146082\n",
       "Name: duracao_em_min, Length: 90, dtype: float64"
      ]
     },
     "execution_count": 17,
     "metadata": {},
     "output_type": "execute_result"
    }
   ],
   "source": [
    "df_maior_duracao_musica"
   ]
  },
  {
   "cell_type": "code",
   "execution_count": 18,
   "id": "af3efc39",
   "metadata": {},
   "outputs": [
    {
     "data": {
      "image/png": "[encoded data removed]",
      "text/plain": [
       "<Figure size 640x480 with 1 Axes>"
      ]
     },
     "metadata": {},
     "output_type": "display_data"
    }
   ],
   "source": [
    "# visualiza o 5 albuns com a maior duração de min entre as musicas\n",
    "df_maior_duracao_musica.head(5).plot(kind=\"bar\")\n",
    "plt.title(\"Top 5 Álbuns\")\n",
    "plt.xlabel(\"Álbuns\")\n",
    "plt.ylabel(\"Média de duuração das músicas em Minutos\")\n",
    "plt.show()"
   ]
  },
  {
   "cell_type": "code",
   "execution_count": 19,
   "id": "ab24a3db",
   "metadata": {},
   "outputs": [
    {
     "data": {
      "application/vnd.microsoft.datawrangler.viewer.v0+json": {
       "columns": [
        {
         "name": "album",
         "rawType": "object",
         "type": "string"
        },
        {
         "name": "count",
         "rawType": "int64",
         "type": "integer"
        }
       ],
       "ref": "ad40348a-b720-4f44-b972-c295b6d22c00",
       "rows": [
        [
         "Voodoo Lounge Uncut (Live)",
         "56"
        ],
        [
         "Honk (Deluxe)",
         "47"
        ],
        [
         "Live Licks",
         "46"
        ],
        [
         "Tattoo You (Super Deluxe)",
         "46"
        ],
        [
         "Some Girls (Deluxe Version)",
         "44"
        ],
        [
         "Goats Head Soup (Deluxe)",
         "37"
        ],
        [
         "Flashpoint",
         "34"
        ],
        [
         "Sticky Fingers (Super Deluxe)",
         "33"
        ],
        [
         "On Air (Deluxe)",
         "32"
        ],
        [
         "Live At The Checkerboard Lounge",
         "32"
        ]
       ],
       "shape": {
        "columns": 1,
        "rows": 10
       }
      },
      "text/plain": [
       "album\n",
       "Voodoo Lounge Uncut (Live)         56\n",
       "Honk (Deluxe)                      47\n",
       "Live Licks                         46\n",
       "Tattoo You (Super Deluxe)          46\n",
       "Some Girls (Deluxe Version)        44\n",
       "Goats Head Soup (Deluxe)           37\n",
       "Flashpoint                         34\n",
       "Sticky Fingers (Super Deluxe)      33\n",
       "On Air (Deluxe)                    32\n",
       "Live At The Checkerboard Lounge    32\n",
       "Name: count, dtype: int64"
      ]
     },
     "execution_count": 19,
     "metadata": {},
     "output_type": "execute_result"
    }
   ],
   "source": [
    "top_albums = df['album'].value_counts().head(10)\n",
    "top_albums"
   ]
  },
  {
   "cell_type": "code",
   "execution_count": 20,
   "id": "299d0d58",
   "metadata": {},
   "outputs": [
    {
     "data": {
      "image/png": "[encoded data removed]",
      "text/plain": [
       "<Figure size 640x480 with 1 Axes>"
      ]
     },
     "metadata": {},
     "output_type": "display_data"
    }
   ],
   "source": [
    "plt.barh(top_albums.index, top_albums.values)\n",
    "plt.title(\"Top 10 álbuns com mais músicas\")\n",
    "plt.show()"
   ]
  },
  {
   "cell_type": "code",
   "execution_count": 21,
   "id": "4d667300",
   "metadata": {},
   "outputs": [
    {
     "data": {
      "application/vnd.microsoft.datawrangler.viewer.v0+json": {
       "columns": [
        {
         "name": "index",
         "rawType": "int64",
         "type": "integer"
        },
        {
         "name": "name",
         "rawType": "object",
         "type": "string"
        },
        {
         "name": "album",
         "rawType": "object",
         "type": "string"
        },
        {
         "name": "release_date",
         "rawType": "datetime64[ns]",
         "type": "datetime"
        },
        {
         "name": "track_number",
         "rawType": "int64",
         "type": "integer"
        },
        {
         "name": "acousticness",
         "rawType": "float64",
         "type": "float"
        },
        {
         "name": "danceability",
         "rawType": "float64",
         "type": "float"
        },
        {
         "name": "energy",
         "rawType": "float64",
         "type": "float"
        },
        {
         "name": "instrumentalness",
         "rawType": "float64",
         "type": "float"
        },
        {
         "name": "liveness",
         "rawType": "float64",
         "type": "float"
        },
        {
         "name": "loudness",
         "rawType": "float64",
         "type": "float"
        },
        {
         "name": "speechiness",
         "rawType": "float64",
         "type": "float"
        },
        {
         "name": "tempo",
         "rawType": "float64",
         "type": "float"
        },
        {
         "name": "valence",
         "rawType": "float64",
         "type": "float"
        },
        {
         "name": "popularity",
         "rawType": "int64",
         "type": "integer"
        },
        {
         "name": "duration_ms",
         "rawType": "int64",
         "type": "integer"
        },
        {
         "name": "duracao_em_min",
         "rawType": "float64",
         "type": "float"
        }
       ],
       "ref": "bd936b6d-226b-459c-9e71-4c5a074a52b7",
       "rows": [
        [
         "189",
         "(I Can't Get No) Satisfaction - Live",
         "Bridges To Buenos Aires (Live)",
         "2019-11-08 00:00:00",
         "1",
         "0.0215",
         "0.294",
         "0.986",
         "0.0503",
         "0.588",
         "-5094.0",
         "0.206",
         "142591.0",
         "0.0918",
         "24",
         "320440",
         "5.3406666666666665"
        ],
        [
         "190",
         "Let's Spend The Night Together - Live",
         "Bridges To Buenos Aires (Live)",
         "2019-11-08 00:00:00",
         "2",
         "0.108",
         "0.487",
         "0.983",
         "3.01e-05",
         "0.944",
         "-4454.0",
         "0.251",
         "143.53",
         "0.287",
         "24",
         "245493",
         "4.09155"
        ],
        [
         "191",
         "Flip The Switch - Live",
         "Bridges To Buenos Aires (Live)",
         "2019-11-08 00:00:00",
         "3",
         "0.0827",
         "0.335",
         "0.972",
         "0.00372",
         "0.931",
         "-4931.0",
         "0.208",
         "152321.0",
         "0.337",
         "19",
         "243906",
         "4.0651"
        ],
        [
         "192",
         "Gimme Shelter - Live",
         "Bridges To Buenos Aires (Live)",
         "2019-11-08 00:00:00",
         "4",
         "0.0997",
         "0.438",
         "0.957",
         "0.00554",
         "0.774",
         "-5064.0",
         "0.135",
         "119245.0",
         "0.272",
         "25",
         "397386",
         "6.6231"
        ],
        [
         "193",
         "Sister Morphine - Live",
         "Bridges To Buenos Aires (Live)",
         "2019-11-08 00:00:00",
         "5",
         "0.105",
         "0.246",
         "0.913",
         "0.000478",
         "0.969",
         "-5153.0",
         "0.0921",
         "80371.0",
         "0.332",
         "19",
         "379800",
         "6.33"
        ],
        [
         "194",
         "It's Only Rock 'N' Roll (But I Like It) - Live",
         "Bridges To Buenos Aires (Live)",
         "2019-11-08 00:00:00",
         "6",
         "0.0782",
         "0.366",
         "0.981",
         "0.00269",
         "0.853",
         "-4416.0",
         "0.174",
         "142269.0",
         "0.368",
         "20",
         "279120",
         "4.652"
        ],
        [
         "195",
         "Saint Of Me - Live",
         "Bridges To Buenos Aires (Live)",
         "2019-11-08 00:00:00",
         "7",
         "0.123",
         "0.363",
         "0.953",
         "0.00102",
         "0.908",
         "-4687.0",
         "0.143",
         "125673.0",
         "0.2",
         "21",
         "313920",
         "5.232"
        ],
        [
         "196",
         "Out Of Control - Live",
         "Bridges To Buenos Aires (Live)",
         "2019-11-08 00:00:00",
         "8",
         "0.182",
         "0.311",
         "0.905",
         "0.0001",
         "0.948",
         "-5523.0",
         "0.116",
         "119406.0",
         "0.35",
         "22",
         "451386",
         "7.5231"
        ],
        [
         "197",
         "Miss You - Live",
         "Bridges To Buenos Aires (Live)",
         "2019-11-08 00:00:00",
         "9",
         "0.113",
         "0.477",
         "0.933",
         "0.0107",
         "0.956",
         "-4.95",
         "0.22",
         "119985.0",
         "0.396",
         "22",
         "593853",
         "9.89755"
        ],
        [
         "198",
         "Like A Rolling Stone - Live",
         "Bridges To Buenos Aires (Live)",
         "2019-11-08 00:00:00",
         "10",
         "0.106",
         "0.303",
         "0.955",
         "0.000564",
         "0.906",
         "-4232.0",
         "0.188",
         "107591.0",
         "0.307",
         "23",
         "385386",
         "6.4231"
        ],
        [
         "199",
         "Thief In The Night - Live",
         "Bridges To Buenos Aires (Live)",
         "2019-11-08 00:00:00",
         "11",
         "0.109",
         "0.453",
         "0.817",
         "3.73e-05",
         "0.93",
         "-5283.0",
         "0.0307",
         "93726.0",
         "0.671",
         "17",
         "379733",
         "6.328883333333334"
        ],
        [
         "200",
         "Wanna Hold You - Live",
         "Bridges To Buenos Aires (Live)",
         "2019-11-08 00:00:00",
         "12",
         "0.0743",
         "0.188",
         "0.957",
         "0.00234",
         "0.965",
         "-4337.0",
         "0.21",
         "144547.0",
         "0.385",
         "15",
         "292853",
         "4.880883333333333"
        ],
        [
         "201",
         "Little Queenie - Live",
         "Bridges To Buenos Aires (Live)",
         "2019-11-08 00:00:00",
         "13",
         "0.0904",
         "0.388",
         "0.987",
         "0.0411",
         "0.988",
         "-3972.0",
         "0.255",
         "144367.0",
         "0.246",
         "17",
         "258573",
         "4.30955"
        ],
        [
         "202",
         "When The Whip Comes Down - Live",
         "Bridges To Buenos Aires (Live)",
         "2019-11-08 00:00:00",
         "14",
         "0.0804",
         "0.288",
         "0.975",
         "0.00139",
         "0.955",
         "-4254.0",
         "0.215",
         "147703.0",
         "0.237",
         "14",
         "232640",
         "3.8773333333333335"
        ],
        [
         "203",
         "You Got Me Rocking - Live",
         "Bridges To Buenos Aires (Live)",
         "2019-11-08 00:00:00",
         "15",
         "0.0199",
         "0.342",
         "0.976",
         "0.00863",
         "0.967",
         "-3456.0",
         "0.195",
         "137945.0",
         "0.141",
         "17",
         "193560",
         "3.226"
        ],
        [
         "204",
         "Sympathy For The Devil - Live",
         "Bridges To Buenos Aires (Live)",
         "2019-11-08 00:00:00",
         "16",
         "0.24",
         "0.583",
         "0.982",
         "0.000667",
         "0.973",
         "-4429.0",
         "0.166",
         "109012.0",
         "0.384",
         "22",
         "491440",
         "8.190666666666667"
        ],
        [
         "205",
         "Tumbling Dice - Live",
         "Bridges To Buenos Aires (Live)",
         "2019-11-08 00:00:00",
         "17",
         "0.108",
         "0.409",
         "0.96",
         "0.00133",
         "0.947",
         "-3806.0",
         "0.138",
         "109091.0",
         "0.359",
         "20",
         "356546",
         "5.942433333333334"
        ],
        [
         "206",
         "Honky Tonk Women - Live",
         "Bridges To Buenos Aires (Live)",
         "2019-11-08 00:00:00",
         "18",
         "0.139",
         "0.456",
         "0.969",
         "0.000766",
         "0.925",
         "-3582.0",
         "0.0961",
         "112632.0",
         "0.499",
         "17",
         "290386",
         "4.839766666666667"
        ],
        [
         "207",
         "Start Me Up - Live",
         "Bridges To Buenos Aires (Live)",
         "2019-11-08 00:00:00",
         "19",
         "0.102",
         "0.42",
         "0.979",
         "0.0198",
         "0.943",
         "-4133.0",
         "0.116",
         "123541.0",
         "0.462",
         "19",
         "260079",
         "4.33465"
        ],
        [
         "208",
         "Jumpin’ Jack Flash - Live",
         "Bridges To Buenos Aires (Live)",
         "2019-11-08 00:00:00",
         "20",
         "0.123",
         "0.274",
         "0.982",
         "0.0135",
         "0.904",
         "-4032.0",
         "0.157",
         "129367.0",
         "0.154",
         "21",
         "418253",
         "6.970883333333333"
        ],
        [
         "209",
         "You Can't Always Get What You Want - Live",
         "Bridges To Buenos Aires (Live)",
         "2019-11-08 00:00:00",
         "21",
         "0.172",
         "0.204",
         "0.942",
         "0.0165",
         "0.904",
         "-4185.0",
         "0.141",
         "76782.0",
         "0.358",
         "18",
         "348013",
         "5.800216666666667"
        ],
        [
         "210",
         "Brown Sugar - Live",
         "Bridges To Buenos Aires (Live)",
         "2019-11-08 00:00:00",
         "22",
         "0.0861",
         "0.344",
         "0.978",
         "0.0228",
         "0.275",
         "-3888.0",
         "0.123",
         "135341.0",
         "0.17",
         "17",
         "421386",
         "7.0231"
        ],
        [
         "211",
         "(I Can't Get No) Satisfaction - Live",
         "Bridges To Bremen (Live)",
         "2019-06-21 00:00:00",
         "1",
         "0.0377",
         "0.331",
         "0.973",
         "0.0118",
         "0.967",
         "-4344.0",
         "0.121",
         "139314.0",
         "0.3",
         "20",
         "308586",
         "5.1431"
        ],
        [
         "212",
         "Let's Spend The Night Together - Live",
         "Bridges To Bremen (Live)",
         "2019-06-21 00:00:00",
         "2",
         "0.196",
         "0.446",
         "0.957",
         "0.0",
         "0.683",
         "-5113.0",
         "0.244",
         "140.87",
         "0.397",
         "19",
         "274786",
         "4.579766666666667"
        ],
        [
         "213",
         "Flip The Switch - Live",
         "Bridges To Bremen (Live)",
         "2019-06-21 00:00:00",
         "3",
         "0.0868",
         "0.369",
         "0.977",
         "0.000621",
         "0.967",
         "-4552.0",
         "0.306",
         "148352.0",
         "0.387",
         "17",
         "273573",
         "4.55955"
        ],
        [
         "214",
         "Gimme Shelter - Live",
         "Bridges To Bremen (Live)",
         "2019-06-21 00:00:00",
         "4",
         "0.216",
         "0.405",
         "0.955",
         "0.014",
         "0.74",
         "-4029.0",
         "0.0881",
         "121535.0",
         "0.327",
         "24",
         "403413",
         "6.72355"
        ],
        [
         "215",
         "Anybody Seen My Baby? - Live",
         "Bridges To Bremen (Live)",
         "2019-06-21 00:00:00",
         "5",
         "0.248",
         "0.482",
         "0.843",
         "0.000103",
         "0.69",
         "-5762.0",
         "0.0772",
         "112.06",
         "0.429",
         "24",
         "319053",
         "5.31755"
        ],
        [
         "216",
         "Paint It Black - Live",
         "Bridges To Bremen (Live)",
         "2019-06-21 00:00:00",
         "6",
         "0.0124",
         "0.225",
         "0.965",
         "0.0",
         "0.969",
         "-4575.0",
         "0.0905",
         "147127.0",
         "0.263",
         "23",
         "304906",
         "5.081766666666667"
        ],
        [
         "217",
         "Saint Of Me - Live",
         "Bridges To Bremen (Live)",
         "2019-06-21 00:00:00",
         "7",
         "0.323",
         "0.279",
         "0.967",
         "0.0067",
         "0.836",
         "-4809.0",
         "0.28",
         "129096.0",
         "0.168",
         "18",
         "414613",
         "6.910216666666667"
        ],
        [
         "218",
         "Out Of Control - Live",
         "Bridges To Bremen (Live)",
         "2019-06-21 00:00:00",
         "8",
         "0.254",
         "0.302",
         "0.817",
         "0.00273",
         "0.975",
         "-5634.0",
         "0.104",
         "119018.0",
         "0.358",
         "21",
         "496733",
         "8.278883333333333"
        ],
        [
         "219",
         "Memory Motel - Live",
         "Bridges To Bremen (Live)",
         "2019-06-21 00:00:00",
         "9",
         "0.522",
         "0.301",
         "0.732",
         "1.06e-06",
         "0.685",
         "-6627.0",
         "0.0654",
         "172.76",
         "0.383",
         "23",
         "379600",
         "6.326666666666667"
        ],
        [
         "220",
         "Miss You - Live",
         "Bridges To Bremen (Live)",
         "2019-06-21 00:00:00",
         "10",
         "0.18",
         "0.429",
         "0.919",
         "4.07e-06",
         "0.796",
         "-4904.0",
         "0.182",
         "116807.0",
         "0.31",
         "21",
         "981866",
         "16.364433333333334"
        ],
        [
         "221",
         "Thief In The Night - Live",
         "Bridges To Bremen (Live)",
         "2019-06-21 00:00:00",
         "11",
         "0.285",
         "0.358",
         "0.798",
         "0.0",
         "0.914",
         "-5706.0",
         "0.053",
         "95254.0",
         "0.472",
         "12",
         "404866",
         "6.747766666666666"
        ],
        [
         "222",
         "Wanna Hold You - Live",
         "Bridges To Bremen (Live)",
         "2019-06-21 00:00:00",
         "12",
         "0.192",
         "0.263",
         "0.895",
         "0.000256",
         "0.966",
         "-3409.0",
         "0.0601",
         "140363.0",
         "0.544",
         "14",
         "298080",
         "4.968"
        ],
        [
         "223",
         "It's Only Rock 'N' Roll (But I Like It) - Live",
         "Bridges To Bremen (Live)",
         "2019-06-21 00:00:00",
         "13",
         "0.49",
         "0.439",
         "0.982",
         "0.00958",
         "0.835",
         "-4034.0",
         "0.144",
         "141422.0",
         "0.416",
         "15",
         "277746",
         "4.6291"
        ],
        [
         "224",
         "You Got Me Rocking - Live",
         "Bridges To Bremen (Live)",
         "2019-06-21 00:00:00",
         "14",
         "0.232",
         "0.383",
         "0.953",
         "0.0349",
         "0.53",
         "-3.68",
         "0.17",
         "136241.0",
         "0.283",
         "13",
         "222506",
         "3.7084333333333332"
        ],
        [
         "225",
         "Like A Rolling Stone - Live",
         "Bridges To Bremen (Live)",
         "2019-06-21 00:00:00",
         "15",
         "0.242",
         "0.355",
         "0.945",
         "0.00401",
         "0.969",
         "-3504.0",
         "0.13",
         "110178.0",
         "0.318",
         "19",
         "351533",
         "5.858883333333333"
        ],
        [
         "226",
         "Sympathy For The Devil - Live",
         "Bridges To Bremen (Live)",
         "2019-06-21 00:00:00",
         "16",
         "0.29",
         "0.582",
         "0.973",
         "2.72e-06",
         "0.893",
         "-4771.0",
         "0.124",
         "108996.0",
         "0.357",
         "20",
         "519986",
         "8.666433333333334"
        ],
        [
         "227",
         "Tumbling Dice - Live",
         "Bridges To Bremen (Live)",
         "2019-06-21 00:00:00",
         "17",
         "0.17",
         "0.39",
         "0.956",
         "0.000126",
         "0.968",
         "-3449.0",
         "0.0839",
         "109.49",
         "0.486",
         "14",
         "330320",
         "5.505333333333334"
        ],
        [
         "228",
         "Honky Tonk Women - Live",
         "Bridges To Bremen (Live)",
         "2019-06-21 00:00:00",
         "18",
         "0.0771",
         "0.462",
         "0.911",
         "6.43e-05",
         "0.872",
         "-3932.0",
         "0.0888",
         "110192.0",
         "0.596",
         "15",
         "282306",
         "4.7051"
        ],
        [
         "229",
         "Start Me Up - Live",
         "Bridges To Bremen (Live)",
         "2019-06-21 00:00:00",
         "19",
         "0.241",
         "0.419",
         "0.945",
         "0.0476",
         "0.97",
         "-3609.0",
         "0.0741",
         "119245.0",
         "0.564",
         "16",
         "287386",
         "4.789766666666667"
        ],
        [
         "230",
         "Jumpin’ Jack Flash - Live",
         "Bridges To Bremen (Live)",
         "2019-06-21 00:00:00",
         "20",
         "0.14",
         "0.299",
         "0.959",
         "0.122",
         "0.935",
         "-3.51",
         "0.119",
         "126374.0",
         "0.338",
         "16",
         "431573",
         "7.1928833333333335"
        ],
        [
         "231",
         "You Can't Always Get What You Want - Live",
         "Bridges To Bremen (Live)",
         "2019-06-21 00:00:00",
         "21",
         "0.438",
         "0.242",
         "0.865",
         "0.00409",
         "0.976",
         "-4.04",
         "0.0744",
         "78828.0",
         "0.369",
         "18",
         "345413",
         "5.756883333333334"
        ],
        [
         "232",
         "Brown Sugar - Live",
         "Bridges To Bremen (Live)",
         "2019-06-21 00:00:00",
         "22",
         "0.198",
         "0.362",
         "0.965",
         "0.0",
         "0.76",
         "-2958.0",
         "0.0744",
         "131353.0",
         "0.322",
         "14",
         "449746",
         "7.4957666666666665"
        ],
        [
         "233",
         "Living In A Ghost Town",
         "Honk (Deluxe)",
         "2019-04-19 00:00:00",
         "1",
         "0.0148",
         "0.679",
         "0.697",
         "0.0119",
         "0.124",
         "-5369.0",
         "0.0454",
         "110558.0",
         "0.776",
         "41",
         "247010",
         "4.116833333333333"
        ],
        [
         "234",
         "Start Me Up",
         "Honk (Deluxe)",
         "2019-04-19 00:00:00",
         "2",
         "0.0434",
         "0.632",
         "0.918",
         "0.112",
         "0.0812",
         "-4717.0",
         "0.037",
         "122412.0",
         "0.971",
         "42",
         "213006",
         "3.5501"
        ],
        [
         "235",
         "Doom And Gloom",
         "Honk (Deluxe)",
         "2019-04-19 00:00:00",
         "3",
         "0.000596",
         "0.611",
         "0.837",
         "0.0169",
         "0.173",
         "-4558.0",
         "0.0328",
         "131599.0",
         "0.783",
         "49",
         "238546",
         "3.9757666666666664"
        ],
        [
         "236",
         "Brown Sugar - 2009 Remaster",
         "Honk (Deluxe)",
         "2019-04-19 00:00:00",
         "4",
         "0.234",
         "0.633",
         "0.933",
         "0.000161",
         "0.072",
         "-3572.0",
         "0.0349",
         "128588.0",
         "0.965",
         "26",
         "230246",
         "3.8374333333333333"
        ],
        [
         "237",
         "Beast Of Burden",
         "Honk (Deluxe)",
         "2019-04-19 00:00:00",
         "5",
         "0.454",
         "0.781",
         "0.844",
         "0.00368",
         "0.0518",
         "-4754.0",
         "0.0305",
         "100709.0",
         "0.902",
         "42",
         "265498",
         "4.424966666666666"
        ],
        [
         "238",
         "Wild Horses - 2009 Mix",
         "Honk (Deluxe)",
         "2019-04-19 00:00:00",
         "6",
         "0.707",
         "0.435",
         "0.392",
         "0.00906",
         "0.069",
         "-6501.0",
         "0.0256",
         "136884.0",
         "0.169",
         "32",
         "342813",
         "5.71355"
        ]
       ],
       "shape": {
        "columns": 16,
        "rows": 419
       }
      },
      "text/html": [
       "<div>\n",
       "<style scoped>\n",
       "    .dataframe tbody tr th:only-of-type {\n",
       "        vertical-align: middle;\n",
       "    }\n",
       "\n",
       "    .dataframe tbody tr th {\n",
       "        vertical-align: top;\n",
       "    }\n",
       "\n",
       "    .dataframe thead th {\n",
       "        text-align: right;\n",
       "    }\n",
       "</style>\n",
       "<table border=\"1\" class=\"dataframe\">\n",
       "  <thead>\n",
       "    <tr style=\"text-align: right;\">\n",
       "      <th></th>\n",
       "      <th>name</th>\n",
       "      <th>album</th>\n",
       "      <th>release_date</th>\n",
       "      <th>track_number</th>\n",
       "      <th>acousticness</th>\n",
       "      <th>danceability</th>\n",
       "      <th>energy</th>\n",
       "      <th>instrumentalness</th>\n",
       "      <th>liveness</th>\n",
       "      <th>loudness</th>\n",
       "      <th>speechiness</th>\n",
       "      <th>tempo</th>\n",
       "      <th>valence</th>\n",
       "      <th>popularity</th>\n",
       "      <th>duration_ms</th>\n",
       "      <th>duracao_em_min</th>\n",
       "    </tr>\n",
       "  </thead>\n",
       "  <tbody>\n",
       "    <tr>\n",
       "      <th>189</th>\n",
       "      <td>(I Can't Get No) Satisfaction - Live</td>\n",
       "      <td>Bridges To Buenos Aires (Live)</td>\n",
       "      <td>2019-11-08</td>\n",
       "      <td>1</td>\n",
       "      <td>0.021500</td>\n",
       "      <td>0.294</td>\n",
       "      <td>0.986</td>\n",
       "      <td>0.050300</td>\n",
       "      <td>0.588</td>\n",
       "      <td>-5094.0</td>\n",
       "      <td>0.2060</td>\n",
       "      <td>142591.00</td>\n",
       "      <td>0.0918</td>\n",
       "      <td>24</td>\n",
       "      <td>320440</td>\n",
       "      <td>5.340667</td>\n",
       "    </tr>\n",
       "    <tr>\n",
       "      <th>190</th>\n",
       "      <td>Let's Spend The Night Together - Live</td>\n",
       "      <td>Bridges To Buenos Aires (Live)</td>\n",
       "      <td>2019-11-08</td>\n",
       "      <td>2</td>\n",
       "      <td>0.108000</td>\n",
       "      <td>0.487</td>\n",
       "      <td>0.983</td>\n",
       "      <td>0.000030</td>\n",
       "      <td>0.944</td>\n",
       "      <td>-4454.0</td>\n",
       "      <td>0.2510</td>\n",
       "      <td>143.53</td>\n",
       "      <td>0.2870</td>\n",
       "      <td>24</td>\n",
       "      <td>245493</td>\n",
       "      <td>4.091550</td>\n",
       "    </tr>\n",
       "    <tr>\n",
       "      <th>191</th>\n",
       "      <td>Flip The Switch - Live</td>\n",
       "      <td>Bridges To Buenos Aires (Live)</td>\n",
       "      <td>2019-11-08</td>\n",
       "      <td>3</td>\n",
       "      <td>0.082700</td>\n",
       "      <td>0.335</td>\n",
       "      <td>0.972</td>\n",
       "      <td>0.003720</td>\n",
       "      <td>0.931</td>\n",
       "      <td>-4931.0</td>\n",
       "      <td>0.2080</td>\n",
       "      <td>152321.00</td>\n",
       "      <td>0.3370</td>\n",
       "      <td>19</td>\n",
       "      <td>243906</td>\n",
       "      <td>4.065100</td>\n",
       "    </tr>\n",
       "    <tr>\n",
       "      <th>192</th>\n",
       "      <td>Gimme Shelter - Live</td>\n",
       "      <td>Bridges To Buenos Aires (Live)</td>\n",
       "      <td>2019-11-08</td>\n",
       "      <td>4</td>\n",
       "      <td>0.099700</td>\n",
       "      <td>0.438</td>\n",
       "      <td>0.957</td>\n",
       "      <td>0.005540</td>\n",
       "      <td>0.774</td>\n",
       "      <td>-5064.0</td>\n",
       "      <td>0.1350</td>\n",
       "      <td>119245.00</td>\n",
       "      <td>0.2720</td>\n",
       "      <td>25</td>\n",
       "      <td>397386</td>\n",
       "      <td>6.623100</td>\n",
       "    </tr>\n",
       "    <tr>\n",
       "      <th>193</th>\n",
       "      <td>Sister Morphine - Live</td>\n",
       "      <td>Bridges To Buenos Aires (Live)</td>\n",
       "      <td>2019-11-08</td>\n",
       "      <td>5</td>\n",
       "      <td>0.105000</td>\n",
       "      <td>0.246</td>\n",
       "      <td>0.913</td>\n",
       "      <td>0.000478</td>\n",
       "      <td>0.969</td>\n",
       "      <td>-5153.0</td>\n",
       "      <td>0.0921</td>\n",
       "      <td>80371.00</td>\n",
       "      <td>0.3320</td>\n",
       "      <td>19</td>\n",
       "      <td>379800</td>\n",
       "      <td>6.330000</td>\n",
       "    </tr>\n",
       "    <tr>\n",
       "      <th>...</th>\n",
       "      <td>...</td>\n",
       "      <td>...</td>\n",
       "      <td>...</td>\n",
       "      <td>...</td>\n",
       "      <td>...</td>\n",
       "      <td>...</td>\n",
       "      <td>...</td>\n",
       "      <td>...</td>\n",
       "      <td>...</td>\n",
       "      <td>...</td>\n",
       "      <td>...</td>\n",
       "      <td>...</td>\n",
       "      <td>...</td>\n",
       "      <td>...</td>\n",
       "      <td>...</td>\n",
       "      <td>...</td>\n",
       "    </tr>\n",
       "    <tr>\n",
       "      <th>603</th>\n",
       "      <td>Tumbling Dice - Live</td>\n",
       "      <td>Some Girls: Live In Texas '78</td>\n",
       "      <td>2011-11-21</td>\n",
       "      <td>13</td>\n",
       "      <td>0.007690</td>\n",
       "      <td>0.384</td>\n",
       "      <td>0.980</td>\n",
       "      <td>0.075100</td>\n",
       "      <td>0.853</td>\n",
       "      <td>-5591.0</td>\n",
       "      <td>0.0897</td>\n",
       "      <td>119366.00</td>\n",
       "      <td>0.5550</td>\n",
       "      <td>19</td>\n",
       "      <td>278893</td>\n",
       "      <td>4.648217</td>\n",
       "    </tr>\n",
       "    <tr>\n",
       "      <th>604</th>\n",
       "      <td>Happy - Live</td>\n",
       "      <td>Some Girls: Live In Texas '78</td>\n",
       "      <td>2011-11-21</td>\n",
       "      <td>14</td>\n",
       "      <td>0.006860</td>\n",
       "      <td>0.171</td>\n",
       "      <td>0.989</td>\n",
       "      <td>0.000475</td>\n",
       "      <td>0.904</td>\n",
       "      <td>-4568.0</td>\n",
       "      <td>0.1640</td>\n",
       "      <td>157806.00</td>\n",
       "      <td>0.3820</td>\n",
       "      <td>18</td>\n",
       "      <td>192746</td>\n",
       "      <td>3.212433</td>\n",
       "    </tr>\n",
       "    <tr>\n",
       "      <th>605</th>\n",
       "      <td>Sweet Little Sixteen - Live</td>\n",
       "      <td>Some Girls: Live In Texas '78</td>\n",
       "      <td>2011-11-21</td>\n",
       "      <td>15</td>\n",
       "      <td>0.001990</td>\n",
       "      <td>0.272</td>\n",
       "      <td>0.948</td>\n",
       "      <td>0.004040</td>\n",
       "      <td>0.920</td>\n",
       "      <td>-4756.0</td>\n",
       "      <td>0.1020</td>\n",
       "      <td>171815.00</td>\n",
       "      <td>0.8190</td>\n",
       "      <td>20</td>\n",
       "      <td>191493</td>\n",
       "      <td>3.191550</td>\n",
       "    </tr>\n",
       "    <tr>\n",
       "      <th>606</th>\n",
       "      <td>Brown Sugar - Live</td>\n",
       "      <td>Some Girls: Live In Texas '78</td>\n",
       "      <td>2011-11-21</td>\n",
       "      <td>16</td>\n",
       "      <td>0.000497</td>\n",
       "      <td>0.184</td>\n",
       "      <td>0.973</td>\n",
       "      <td>0.275000</td>\n",
       "      <td>0.954</td>\n",
       "      <td>-4176.0</td>\n",
       "      <td>0.0656</td>\n",
       "      <td>156605.00</td>\n",
       "      <td>0.6000</td>\n",
       "      <td>17</td>\n",
       "      <td>194453</td>\n",
       "      <td>3.240883</td>\n",
       "    </tr>\n",
       "    <tr>\n",
       "      <th>607</th>\n",
       "      <td>Jumpin' Jack Flash - Live</td>\n",
       "      <td>Some Girls: Live In Texas '78</td>\n",
       "      <td>2011-11-21</td>\n",
       "      <td>17</td>\n",
       "      <td>0.000024</td>\n",
       "      <td>0.122</td>\n",
       "      <td>0.989</td>\n",
       "      <td>0.673000</td>\n",
       "      <td>0.942</td>\n",
       "      <td>-4603.0</td>\n",
       "      <td>0.1060</td>\n",
       "      <td>159883.00</td>\n",
       "      <td>0.2890</td>\n",
       "      <td>18</td>\n",
       "      <td>375240</td>\n",
       "      <td>6.254000</td>\n",
       "    </tr>\n",
       "  </tbody>\n",
       "</table>\n",
       "<p>419 rows × 16 columns</p>\n",
       "</div>"
      ],
      "text/plain": [
       "                                      name                           album  \\\n",
       "189   (I Can't Get No) Satisfaction - Live  Bridges To Buenos Aires (Live)   \n",
       "190  Let's Spend The Night Together - Live  Bridges To Buenos Aires (Live)   \n",
       "191                 Flip The Switch - Live  Bridges To Buenos Aires (Live)   \n",
       "192                   Gimme Shelter - Live  Bridges To Buenos Aires (Live)   \n",
       "193                 Sister Morphine - Live  Bridges To Buenos Aires (Live)   \n",
       "..                                     ...                             ...   \n",
       "603                   Tumbling Dice - Live   Some Girls: Live In Texas '78   \n",
       "604                           Happy - Live   Some Girls: Live In Texas '78   \n",
       "605            Sweet Little Sixteen - Live   Some Girls: Live In Texas '78   \n",
       "606                     Brown Sugar - Live   Some Girls: Live In Texas '78   \n",
       "607              Jumpin' Jack Flash - Live   Some Girls: Live In Texas '78   \n",
       "\n",
       "    release_date  track_number  acousticness  danceability  energy  \\\n",
       "189   2019-11-08             1      0.021500         0.294   0.986   \n",
       "190   2019-11-08             2      0.108000         0.487   0.983   \n",
       "191   2019-11-08             3      0.082700         0.335   0.972   \n",
       "192   2019-11-08             4      0.099700         0.438   0.957   \n",
       "193   2019-11-08             5      0.105000         0.246   0.913   \n",
       "..           ...           ...           ...           ...     ...   \n",
       "603   2011-11-21            13      0.007690         0.384   0.980   \n",
       "604   2011-11-21            14      0.006860         0.171   0.989   \n",
       "605   2011-11-21            15      0.001990         0.272   0.948   \n",
       "606   2011-11-21            16      0.000497         0.184   0.973   \n",
       "607   2011-11-21            17      0.000024         0.122   0.989   \n",
       "\n",
       "     instrumentalness  liveness  loudness  speechiness      tempo  valence  \\\n",
       "189          0.050300     0.588   -5094.0       0.2060  142591.00   0.0918   \n",
       "190          0.000030     0.944   -4454.0       0.2510     143.53   0.2870   \n",
       "191          0.003720     0.931   -4931.0       0.2080  152321.00   0.3370   \n",
       "192          0.005540     0.774   -5064.0       0.1350  119245.00   0.2720   \n",
       "193          0.000478     0.969   -5153.0       0.0921   80371.00   0.3320   \n",
       "..                ...       ...       ...          ...        ...      ...   \n",
       "603          0.075100     0.853   -5591.0       0.0897  119366.00   0.5550   \n",
       "604          0.000475     0.904   -4568.0       0.1640  157806.00   0.3820   \n",
       "605          0.004040     0.920   -4756.0       0.1020  171815.00   0.8190   \n",
       "606          0.275000     0.954   -4176.0       0.0656  156605.00   0.6000   \n",
       "607          0.673000     0.942   -4603.0       0.1060  159883.00   0.2890   \n",
       "\n",
       "     popularity  duration_ms  duracao_em_min  \n",
       "189          24       320440        5.340667  \n",
       "190          24       245493        4.091550  \n",
       "191          19       243906        4.065100  \n",
       "192          25       397386        6.623100  \n",
       "193          19       379800        6.330000  \n",
       "..          ...          ...             ...  \n",
       "603          19       278893        4.648217  \n",
       "604          18       192746        3.212433  \n",
       "605          20       191493        3.191550  \n",
       "606          17       194453        3.240883  \n",
       "607          18       375240        6.254000  \n",
       "\n",
       "[419 rows x 16 columns]"
      ]
     },
     "execution_count": 21,
     "metadata": {},
     "output_type": "execute_result"
    }
   ],
   "source": [
    "df_ultima_decada = df[df[\"release_date\"].between(pd.to_datetime(\"2011\"), pd.to_datetime(\"2020\"))]\n",
    "df_ultima_decada"
   ]
  },
  {
   "cell_type": "code",
   "execution_count": 22,
   "id": "a1dcac62",
   "metadata": {},
   "outputs": [
    {
     "data": {
      "image/png": "[encoded data removed]",
      "text/plain": [
       "<Figure size 1800x600 with 1 Axes>"
      ]
     },
     "metadata": {},
     "output_type": "display_data"
    }
   ],
   "source": [
    "df_por_album = df_ultima_decada.groupby(\"album\")[\"popularity\"].sum().sort_values(ascending=False).head(10)\n",
    "\n",
    "total_popularidade = df_por_album.sum()\n",
    "\n",
    "df_porcentagem = (df_por_album/total_popularidade) * 100\n",
    "\n",
    "labels = df_porcentagem.index.tolist()\n",
    "sizes = df_porcentagem.values.tolist()\n",
    "\n",
    "figura, grafico = plt.subplots(figsize=(18,6))\n",
    "grafico.pie(sizes, autopct=\"%1.1f%%\")\n",
    "grafico.axis('equal')\n",
    "plt.title(\"Porcentagem de popularidade dos álbuns na última década\")\n",
    "plt.legend(labels, loc=\"best\")\n",
    "plt.tight_layout\n",
    "plt.show()"
   ]
  },
  {
   "cell_type": "code",
   "execution_count": 23,
   "id": "7ffb33a7",
   "metadata": {},
   "outputs": [
    {
     "data": {
      "text/plain": [
       "Text(0.5, 1.0, 'Boxplot')"
      ]
     },
     "execution_count": 23,
     "metadata": {},
     "output_type": "execute_result"
    },
    {
     "data": {
      "image/png": "[encoded data removed]",
      "text/plain": [
       "<Figure size 1200x600 with 1 Axes>"
      ]
     },
     "metadata": {},
     "output_type": "display_data"
    }
   ],
   "source": [
    "sns.set(style=\"whitegrid\")\n",
    "fig, axis = plt.subplots(figsize=(12,6))\n",
    "sns.boxplot(x=\"duracao_em_min\", data=df)\n",
    "axis.set_title(\"Boxplot\")"
   ]
  },
  {
   "cell_type": "code",
   "execution_count": 24,
   "id": "df81d9d1",
   "metadata": {},
   "outputs": [
    {
     "data": {
      "image/png": "[encoded data removed]",
      "text/plain": [
       "<Figure size 1200x600 with 1 Axes>"
      ]
     },
     "metadata": {},
     "output_type": "display_data"
    }
   ],
   "source": [
    "fig, axis = plt.subplots(figsize=(12,6))\n",
    "sns.violinplot(x=\"duracao_em_min\", data=df, color=\"gray\")\n",
    "axis.set_title(\"Gráfico de Violino\")\n",
    "plt.show()"
   ]
  },
  {
   "cell_type": "code",
   "execution_count": 25,
   "id": "c924b1ed",
   "metadata": {},
   "outputs": [
    {
     "data": {
      "image/png": "[encoded data removed]",
      "text/plain": [
       "<Figure size 800x600 with 1 Axes>"
      ]
     },
     "metadata": {},
     "output_type": "display_data"
    }
   ],
   "source": [
    "fig, ax = plt.subplots(figsize=(8,6))\n",
    "\n",
    "sns.boxplot(x=\"duracao_em_min\", data=df, ax=ax, whis=1.5, color=\"darkblue\")\n",
    "sns.violinplot(x=\"duracao_em_min\", data=df, ax=ax, color=\"lightgray\")\n",
    "\n",
    "ax.set_title(\"Visualizações Violino e Boxplot\")\n",
    "\n",
    "plt.show()"
   ]
  },
  {
   "cell_type": "code",
   "execution_count": 26,
   "id": "00b6b2a4",
   "metadata": {},
   "outputs": [],
   "source": [
    "def classifica_musica_ao_vivo(df):\n",
    "  if df[\"liveness\"] >= 0.8:\n",
    "    return True\n",
    "  else:\n",
    "    return False"
   ]
  },
  {
   "cell_type": "code",
   "execution_count": 27,
   "id": "9e091f13",
   "metadata": {},
   "outputs": [
    {
     "data": {
      "application/vnd.microsoft.datawrangler.viewer.v0+json": {
       "columns": [
        {
         "name": "index",
         "rawType": "int64",
         "type": "integer"
        },
        {
         "name": "name",
         "rawType": "object",
         "type": "string"
        },
        {
         "name": "album",
         "rawType": "object",
         "type": "string"
        },
        {
         "name": "release_date",
         "rawType": "datetime64[ns]",
         "type": "datetime"
        },
        {
         "name": "track_number",
         "rawType": "int64",
         "type": "integer"
        },
        {
         "name": "acousticness",
         "rawType": "float64",
         "type": "float"
        },
        {
         "name": "danceability",
         "rawType": "float64",
         "type": "float"
        },
        {
         "name": "energy",
         "rawType": "float64",
         "type": "float"
        },
        {
         "name": "instrumentalness",
         "rawType": "float64",
         "type": "float"
        },
        {
         "name": "liveness",
         "rawType": "float64",
         "type": "float"
        },
        {
         "name": "loudness",
         "rawType": "float64",
         "type": "float"
        },
        {
         "name": "speechiness",
         "rawType": "float64",
         "type": "float"
        },
        {
         "name": "tempo",
         "rawType": "float64",
         "type": "float"
        },
        {
         "name": "valence",
         "rawType": "float64",
         "type": "float"
        },
        {
         "name": "popularity",
         "rawType": "int64",
         "type": "integer"
        },
        {
         "name": "duration_ms",
         "rawType": "int64",
         "type": "integer"
        },
        {
         "name": "duracao_em_min",
         "rawType": "float64",
         "type": "float"
        },
        {
         "name": "ao_vivo",
         "rawType": "bool",
         "type": "boolean"
        }
       ],
       "ref": "e59acc49-0192-4593-9ec3-189f9d3b0831",
       "rows": [
        [
         "0",
         "Concert Intro Music - Live",
         "Licked Live In NYC",
         "2022-06-10 00:00:00",
         "1",
         "0.0824",
         "0.463",
         "0.993",
         "0.996",
         "0.932",
         "-12913.0",
         "0.11",
         "118001.0",
         "0.0302",
         "33",
         "48640",
         "0.8106666666666666",
         "True"
        ],
        [
         "1",
         "Street Fighting Man - Live",
         "Licked Live In NYC",
         "2022-06-10 00:00:00",
         "2",
         "0.437",
         "0.326",
         "0.965",
         "0.233",
         "0.961",
         "-4803.0",
         "0.0759",
         "131455.0",
         "0.318",
         "34",
         "253173",
         "4.21955",
         "True"
        ],
        [
         "2",
         "Start Me Up - Live",
         "Licked Live In NYC",
         "2022-06-10 00:00:00",
         "3",
         "0.416",
         "0.386",
         "0.969",
         "0.4",
         "0.956",
         "-4936.0",
         "0.115",
         "130066.0",
         "0.313",
         "34",
         "263160",
         "4.386",
         "True"
        ],
        [
         "3",
         "If You Can't Rock Me - Live",
         "Licked Live In NYC",
         "2022-06-10 00:00:00",
         "4",
         "0.567",
         "0.369",
         "0.985",
         "0.000107",
         "0.895",
         "-5535.0",
         "0.193",
         "132994.0",
         "0.147",
         "32",
         "305880",
         "5.098",
         "True"
        ],
        [
         "4",
         "Don’t Stop - Live",
         "Licked Live In NYC",
         "2022-06-10 00:00:00",
         "5",
         "0.4",
         "0.303",
         "0.969",
         "0.0559",
         "0.966",
         "-5098.0",
         "0.093",
         "130533.0",
         "0.206",
         "32",
         "305106",
         "5.0851",
         "True"
        ],
        [
         "5",
         "Monkey Man - Live",
         "Licked Live In NYC",
         "2022-06-10 00:00:00",
         "6",
         "0.275",
         "0.34",
         "0.956",
         "0.125",
         "0.741",
         "-5539.0",
         "0.0915",
         "101628.0",
         "0.125",
         "31",
         "244293",
         "4.07155",
         "False"
        ],
        [
         "6",
         "Angie - Live",
         "Licked Live In NYC",
         "2022-06-10 00:00:00",
         "7",
         "0.561",
         "0.262",
         "0.81",
         "2.76e-06",
         "0.972",
         "-6851.0",
         "0.0969",
         "77.52",
         "0.394",
         "31",
         "245506",
         "4.0917666666666666",
         "True"
        ],
        [
         "7",
         "Let It Bleed - Live",
         "Licked Live In NYC",
         "2022-06-10 00:00:00",
         "8",
         "0.317",
         "0.413",
         "0.971",
         "0.000267",
         "0.993",
         "-5509.0",
         "0.0873",
         "128958.0",
         "0.484",
         "30",
         "313586",
         "5.2264333333333335",
         "True"
        ],
        [
         "8",
         "Midnight Rambler - Live",
         "Licked Live In NYC",
         "2022-06-10 00:00:00",
         "9",
         "0.416",
         "0.268",
         "0.942",
         "0.0408",
         "0.959",
         "-6018.0",
         "0.119",
         "139452.0",
         "0.285",
         "30",
         "781173",
         "13.01955",
         "True"
        ],
        [
         "9",
         "Tumbling Dice - Live",
         "Licked Live In NYC",
         "2022-06-10 00:00:00",
         "10",
         "0.401",
         "0.31",
         "0.944",
         "0.0752",
         "0.974",
         "-5074.0",
         "0.128",
         "119782.0",
         "0.188",
         "29",
         "333413",
         "5.556883333333333",
         "True"
        ]
       ],
       "shape": {
        "columns": 17,
        "rows": 10
       }
      },
      "text/html": [
       "<div>\n",
       "<style scoped>\n",
       "    .dataframe tbody tr th:only-of-type {\n",
       "        vertical-align: middle;\n",
       "    }\n",
       "\n",
       "    .dataframe tbody tr th {\n",
       "        vertical-align: top;\n",
       "    }\n",
       "\n",
       "    .dataframe thead th {\n",
       "        text-align: right;\n",
       "    }\n",
       "</style>\n",
       "<table border=\"1\" class=\"dataframe\">\n",
       "  <thead>\n",
       "    <tr style=\"text-align: right;\">\n",
       "      <th></th>\n",
       "      <th>name</th>\n",
       "      <th>album</th>\n",
       "      <th>release_date</th>\n",
       "      <th>track_number</th>\n",
       "      <th>acousticness</th>\n",
       "      <th>danceability</th>\n",
       "      <th>energy</th>\n",
       "      <th>instrumentalness</th>\n",
       "      <th>liveness</th>\n",
       "      <th>loudness</th>\n",
       "      <th>speechiness</th>\n",
       "      <th>tempo</th>\n",
       "      <th>valence</th>\n",
       "      <th>popularity</th>\n",
       "      <th>duration_ms</th>\n",
       "      <th>duracao_em_min</th>\n",
       "      <th>ao_vivo</th>\n",
       "    </tr>\n",
       "  </thead>\n",
       "  <tbody>\n",
       "    <tr>\n",
       "      <th>0</th>\n",
       "      <td>Concert Intro Music - Live</td>\n",
       "      <td>Licked Live In NYC</td>\n",
       "      <td>2022-06-10</td>\n",
       "      <td>1</td>\n",
       "      <td>0.0824</td>\n",
       "      <td>0.463</td>\n",
       "      <td>0.993</td>\n",
       "      <td>0.996000</td>\n",
       "      <td>0.932</td>\n",
       "      <td>-12913.0</td>\n",
       "      <td>0.1100</td>\n",
       "      <td>118001.00</td>\n",
       "      <td>0.0302</td>\n",
       "      <td>33</td>\n",
       "      <td>48640</td>\n",
       "      <td>0.810667</td>\n",
       "      <td>True</td>\n",
       "    </tr>\n",
       "    <tr>\n",
       "      <th>1</th>\n",
       "      <td>Street Fighting Man - Live</td>\n",
       "      <td>Licked Live In NYC</td>\n",
       "      <td>2022-06-10</td>\n",
       "      <td>2</td>\n",
       "      <td>0.4370</td>\n",
       "      <td>0.326</td>\n",
       "      <td>0.965</td>\n",
       "      <td>0.233000</td>\n",
       "      <td>0.961</td>\n",
       "      <td>-4803.0</td>\n",
       "      <td>0.0759</td>\n",
       "      <td>131455.00</td>\n",
       "      <td>0.3180</td>\n",
       "      <td>34</td>\n",
       "      <td>253173</td>\n",
       "      <td>4.219550</td>\n",
       "      <td>True</td>\n",
       "    </tr>\n",
       "    <tr>\n",
       "      <th>2</th>\n",
       "      <td>Start Me Up - Live</td>\n",
       "      <td>Licked Live In NYC</td>\n",
       "      <td>2022-06-10</td>\n",
       "      <td>3</td>\n",
       "      <td>0.4160</td>\n",
       "      <td>0.386</td>\n",
       "      <td>0.969</td>\n",
       "      <td>0.400000</td>\n",
       "      <td>0.956</td>\n",
       "      <td>-4936.0</td>\n",
       "      <td>0.1150</td>\n",
       "      <td>130066.00</td>\n",
       "      <td>0.3130</td>\n",
       "      <td>34</td>\n",
       "      <td>263160</td>\n",
       "      <td>4.386000</td>\n",
       "      <td>True</td>\n",
       "    </tr>\n",
       "    <tr>\n",
       "      <th>3</th>\n",
       "      <td>If You Can't Rock Me - Live</td>\n",
       "      <td>Licked Live In NYC</td>\n",
       "      <td>2022-06-10</td>\n",
       "      <td>4</td>\n",
       "      <td>0.5670</td>\n",
       "      <td>0.369</td>\n",
       "      <td>0.985</td>\n",
       "      <td>0.000107</td>\n",
       "      <td>0.895</td>\n",
       "      <td>-5535.0</td>\n",
       "      <td>0.1930</td>\n",
       "      <td>132994.00</td>\n",
       "      <td>0.1470</td>\n",
       "      <td>32</td>\n",
       "      <td>305880</td>\n",
       "      <td>5.098000</td>\n",
       "      <td>True</td>\n",
       "    </tr>\n",
       "    <tr>\n",
       "      <th>4</th>\n",
       "      <td>Don’t Stop - Live</td>\n",
       "      <td>Licked Live In NYC</td>\n",
       "      <td>2022-06-10</td>\n",
       "      <td>5</td>\n",
       "      <td>0.4000</td>\n",
       "      <td>0.303</td>\n",
       "      <td>0.969</td>\n",
       "      <td>0.055900</td>\n",
       "      <td>0.966</td>\n",
       "      <td>-5098.0</td>\n",
       "      <td>0.0930</td>\n",
       "      <td>130533.00</td>\n",
       "      <td>0.2060</td>\n",
       "      <td>32</td>\n",
       "      <td>305106</td>\n",
       "      <td>5.085100</td>\n",
       "      <td>True</td>\n",
       "    </tr>\n",
       "    <tr>\n",
       "      <th>5</th>\n",
       "      <td>Monkey Man - Live</td>\n",
       "      <td>Licked Live In NYC</td>\n",
       "      <td>2022-06-10</td>\n",
       "      <td>6</td>\n",
       "      <td>0.2750</td>\n",
       "      <td>0.340</td>\n",
       "      <td>0.956</td>\n",
       "      <td>0.125000</td>\n",
       "      <td>0.741</td>\n",
       "      <td>-5539.0</td>\n",
       "      <td>0.0915</td>\n",
       "      <td>101628.00</td>\n",
       "      <td>0.1250</td>\n",
       "      <td>31</td>\n",
       "      <td>244293</td>\n",
       "      <td>4.071550</td>\n",
       "      <td>False</td>\n",
       "    </tr>\n",
       "    <tr>\n",
       "      <th>6</th>\n",
       "      <td>Angie - Live</td>\n",
       "      <td>Licked Live In NYC</td>\n",
       "      <td>2022-06-10</td>\n",
       "      <td>7</td>\n",
       "      <td>0.5610</td>\n",
       "      <td>0.262</td>\n",
       "      <td>0.810</td>\n",
       "      <td>0.000003</td>\n",
       "      <td>0.972</td>\n",
       "      <td>-6851.0</td>\n",
       "      <td>0.0969</td>\n",
       "      <td>77.52</td>\n",
       "      <td>0.3940</td>\n",
       "      <td>31</td>\n",
       "      <td>245506</td>\n",
       "      <td>4.091767</td>\n",
       "      <td>True</td>\n",
       "    </tr>\n",
       "    <tr>\n",
       "      <th>7</th>\n",
       "      <td>Let It Bleed - Live</td>\n",
       "      <td>Licked Live In NYC</td>\n",
       "      <td>2022-06-10</td>\n",
       "      <td>8</td>\n",
       "      <td>0.3170</td>\n",
       "      <td>0.413</td>\n",
       "      <td>0.971</td>\n",
       "      <td>0.000267</td>\n",
       "      <td>0.993</td>\n",
       "      <td>-5509.0</td>\n",
       "      <td>0.0873</td>\n",
       "      <td>128958.00</td>\n",
       "      <td>0.4840</td>\n",
       "      <td>30</td>\n",
       "      <td>313586</td>\n",
       "      <td>5.226433</td>\n",
       "      <td>True</td>\n",
       "    </tr>\n",
       "    <tr>\n",
       "      <th>8</th>\n",
       "      <td>Midnight Rambler - Live</td>\n",
       "      <td>Licked Live In NYC</td>\n",
       "      <td>2022-06-10</td>\n",
       "      <td>9</td>\n",
       "      <td>0.4160</td>\n",
       "      <td>0.268</td>\n",
       "      <td>0.942</td>\n",
       "      <td>0.040800</td>\n",
       "      <td>0.959</td>\n",
       "      <td>-6018.0</td>\n",
       "      <td>0.1190</td>\n",
       "      <td>139452.00</td>\n",
       "      <td>0.2850</td>\n",
       "      <td>30</td>\n",
       "      <td>781173</td>\n",
       "      <td>13.019550</td>\n",
       "      <td>True</td>\n",
       "    </tr>\n",
       "    <tr>\n",
       "      <th>9</th>\n",
       "      <td>Tumbling Dice - Live</td>\n",
       "      <td>Licked Live In NYC</td>\n",
       "      <td>2022-06-10</td>\n",
       "      <td>10</td>\n",
       "      <td>0.4010</td>\n",
       "      <td>0.310</td>\n",
       "      <td>0.944</td>\n",
       "      <td>0.075200</td>\n",
       "      <td>0.974</td>\n",
       "      <td>-5074.0</td>\n",
       "      <td>0.1280</td>\n",
       "      <td>119782.00</td>\n",
       "      <td>0.1880</td>\n",
       "      <td>29</td>\n",
       "      <td>333413</td>\n",
       "      <td>5.556883</td>\n",
       "      <td>True</td>\n",
       "    </tr>\n",
       "  </tbody>\n",
       "</table>\n",
       "</div>"
      ],
      "text/plain": [
       "                          name               album release_date  track_number  \\\n",
       "0   Concert Intro Music - Live  Licked Live In NYC   2022-06-10             1   \n",
       "1   Street Fighting Man - Live  Licked Live In NYC   2022-06-10             2   \n",
       "2           Start Me Up - Live  Licked Live In NYC   2022-06-10             3   \n",
       "3  If You Can't Rock Me - Live  Licked Live In NYC   2022-06-10             4   \n",
       "4            Don’t Stop - Live  Licked Live In NYC   2022-06-10             5   \n",
       "5            Monkey Man - Live  Licked Live In NYC   2022-06-10             6   \n",
       "6                 Angie - Live  Licked Live In NYC   2022-06-10             7   \n",
       "7          Let It Bleed - Live  Licked Live In NYC   2022-06-10             8   \n",
       "8      Midnight Rambler - Live  Licked Live In NYC   2022-06-10             9   \n",
       "9         Tumbling Dice - Live  Licked Live In NYC   2022-06-10            10   \n",
       "\n",
       "   acousticness  danceability  energy  instrumentalness  liveness  loudness  \\\n",
       "0        0.0824         0.463   0.993          0.996000     0.932  -12913.0   \n",
       "1        0.4370         0.326   0.965          0.233000     0.961   -4803.0   \n",
       "2        0.4160         0.386   0.969          0.400000     0.956   -4936.0   \n",
       "3        0.5670         0.369   0.985          0.000107     0.895   -5535.0   \n",
       "4        0.4000         0.303   0.969          0.055900     0.966   -5098.0   \n",
       "5        0.2750         0.340   0.956          0.125000     0.741   -5539.0   \n",
       "6        0.5610         0.262   0.810          0.000003     0.972   -6851.0   \n",
       "7        0.3170         0.413   0.971          0.000267     0.993   -5509.0   \n",
       "8        0.4160         0.268   0.942          0.040800     0.959   -6018.0   \n",
       "9        0.4010         0.310   0.944          0.075200     0.974   -5074.0   \n",
       "\n",
       "   speechiness      tempo  valence  popularity  duration_ms  duracao_em_min  \\\n",
       "0       0.1100  118001.00   0.0302          33        48640        0.810667   \n",
       "1       0.0759  131455.00   0.3180          34       253173        4.219550   \n",
       "2       0.1150  130066.00   0.3130          34       263160        4.386000   \n",
       "3       0.1930  132994.00   0.1470          32       305880        5.098000   \n",
       "4       0.0930  130533.00   0.2060          32       305106        5.085100   \n",
       "5       0.0915  101628.00   0.1250          31       244293        4.071550   \n",
       "6       0.0969      77.52   0.3940          31       245506        4.091767   \n",
       "7       0.0873  128958.00   0.4840          30       313586        5.226433   \n",
       "8       0.1190  139452.00   0.2850          30       781173       13.019550   \n",
       "9       0.1280  119782.00   0.1880          29       333413        5.556883   \n",
       "\n",
       "   ao_vivo  \n",
       "0     True  \n",
       "1     True  \n",
       "2     True  \n",
       "3     True  \n",
       "4     True  \n",
       "5    False  \n",
       "6     True  \n",
       "7     True  \n",
       "8     True  \n",
       "9     True  "
      ]
     },
     "execution_count": 27,
     "metadata": {},
     "output_type": "execute_result"
    }
   ],
   "source": [
    "df[\"ao_vivo\"] = df.apply(classifica_musica_ao_vivo, axis=1)\n",
    "df.head(10)"
   ]
  },
  {
   "cell_type": "code",
   "execution_count": 28,
   "id": "06d75210",
   "metadata": {},
   "outputs": [
    {
     "data": {
      "application/vnd.microsoft.datawrangler.viewer.v0+json": {
       "columns": [
        {
         "name": "ao_vivo",
         "rawType": "bool",
         "type": "boolean"
        },
        {
         "name": "ao_vivo",
         "rawType": "int64",
         "type": "integer"
        }
       ],
       "ref": "578a55a5-b419-4743-b6e0-d153e38d59a0",
       "rows": [
        [
         "False",
         "1112"
        ],
        [
         "True",
         "498"
        ]
       ],
       "shape": {
        "columns": 1,
        "rows": 2
       }
      },
      "text/plain": [
       "ao_vivo\n",
       "False    1112\n",
       "True      498\n",
       "Name: ao_vivo, dtype: int64"
      ]
     },
     "execution_count": 28,
     "metadata": {},
     "output_type": "execute_result"
    }
   ],
   "source": [
    "df.groupby(df[\"ao_vivo\"])[\"ao_vivo\"].count()"
   ]
  },
  {
   "cell_type": "code",
   "execution_count": 29,
   "id": "d724f1f1",
   "metadata": {},
   "outputs": [],
   "source": [
    "df_gravado_em_estudio = df[df[\"ao_vivo\"] == False]\n",
    "df_show_ao_vivo = df[df[\"ao_vivo\"] == True]"
   ]
  },
  {
   "cell_type": "code",
   "execution_count": 30,
   "id": "f5363b00",
   "metadata": {},
   "outputs": [
    {
     "data": {
      "text/plain": [
       "array([ True])"
      ]
     },
     "execution_count": 30,
     "metadata": {},
     "output_type": "execute_result"
    }
   ],
   "source": [
    "df_show_ao_vivo[\"ao_vivo\"].unique()"
   ]
  },
  {
   "cell_type": "code",
   "execution_count": 31,
   "id": "fa8088ce",
   "metadata": {},
   "outputs": [
    {
     "data": {
      "text/plain": [
       "array([False])"
      ]
     },
     "execution_count": 31,
     "metadata": {},
     "output_type": "execute_result"
    }
   ],
   "source": [
    "df_gravado_em_estudio[\"ao_vivo\"].unique()"
   ]
  },
  {
   "cell_type": "code",
   "execution_count": 32,
   "id": "c9fdfdfb",
   "metadata": {},
   "outputs": [
    {
     "name": "stdout",
     "output_type": "stream",
     "text": [
      "Média das músicas ao vivo: 5.088648962516734\n"
     ]
    }
   ],
   "source": [
    "print(f\"Média das músicas ao vivo: {df_show_ao_vivo['duracao_em_min'].mean()}\")"
   ]
  },
  {
   "cell_type": "code",
   "execution_count": 33,
   "id": "5d8621b0",
   "metadata": {},
   "outputs": [
    {
     "name": "stdout",
     "output_type": "stream",
     "text": [
      "Média das músicas em estúdio: 3.940451363908873\n"
     ]
    }
   ],
   "source": [
    "print(f\"Média das músicas em estúdio: {df_gravado_em_estudio['duracao_em_min'].mean()}\")"
   ]
  },
  {
   "cell_type": "code",
   "execution_count": 34,
   "id": "6e141db7",
   "metadata": {},
   "outputs": [
    {
     "data": {
      "image/png": "[encoded data removed]",
      "text/plain": [
       "<Figure size 1500x400 with 2 Axes>"
      ]
     },
     "metadata": {},
     "output_type": "display_data"
    }
   ],
   "source": [
    "df_estudio = df_gravado_em_estudio.groupby(\"album\")[\"loudness\"].sum()\n",
    "df_ao_vivo = df_show_ao_vivo.groupby(\"album\")[\"loudness\"].sum()\n",
    "\n",
    "fig, axis = plt.subplots(1, 2, figsize=(15,4))\n",
    "\n",
    "sns.histplot(data=df_estudio, bins=20, ax=axis[0])\n",
    "axis[0].set_title(\"Soma do barulho dos albuns em estudio\")\n",
    "axis[0].set_xlabel(\"Barulho\")\n",
    "axis[0].set_ylabel(\"Frequencia\")\n",
    "sns.histplot(data=df_ao_vivo, bins=20, ax=axis[1])\n",
    "axis[1].set_title(\"Soma do barulho dos albuns ao vivo\")\n",
    "axis[1].set_xlabel(\"Barulho\")\n",
    "axis[1].set_ylabel(\"Frequencia\")\n",
    "\n",
    "fig.tight_layout()\n",
    "\n",
    "plt.show()"
   ]
  },
  {
   "cell_type": "code",
   "execution_count": 35,
   "id": "f9983db7",
   "metadata": {},
   "outputs": [
    {
     "data": {
      "image/png": "[encoded data removed]",
      "text/plain": [
       "<Figure size 1000x500 with 1 Axes>"
      ]
     },
     "metadata": {},
     "output_type": "display_data"
    }
   ],
   "source": [
    "plt.figure(figsize=(10, 5))\n",
    "\n",
    "sns.kdeplot(data=df_estudio, label=\"Albuns de estudio\", fill=True)\n",
    "sns.kdeplot(data=df_ao_vivo, label=\"Albuns ao vivo\", fill=True)\n",
    "\n",
    "plt.title(\"Distruibuição do barulho dos álbuns\")\n",
    "plt.xlabel(\"Barulho\")\n",
    "plt.ylabel(\"Densidade\")\n",
    "plt.legend()\n",
    "\n",
    "plt.show()"
   ]
  },
  {
   "cell_type": "code",
   "execution_count": 36,
   "id": "8621d0f6",
   "metadata": {},
   "outputs": [
    {
     "name": "stdout",
     "output_type": "stream",
     "text": [
      "Soma do barulho do álbuns de estudio: \n",
      "Estatistica de teste: 0.8958, valor p: 3.2961810837730903e-06\n",
      "A hipótese de normalidade é rejeitada\n"
     ]
    }
   ],
   "source": [
    "stats, p = shapiro(df_estudio)\n",
    "print(f\"Soma do barulho do álbuns de estudio: \")\n",
    "print(f\"Estatistica de teste: {stats:.4f}, valor p: {p}\")\n",
    "\n",
    "if p > 0.05:\n",
    "  print(\"Não há evidência suficiente para rejeitar a hipótese de normalidade\")\n",
    "else:\n",
    "  print(\"A hipótese de normalidade é rejeitada\")\n"
   ]
  },
  {
   "cell_type": "code",
   "execution_count": 37,
   "id": "4fc8153f",
   "metadata": {},
   "outputs": [
    {
     "name": "stdout",
     "output_type": "stream",
     "text": [
      "Soma do barulho do álbuns ao vivo: \n",
      "Estatistica de teste: 0.7913, valor p: 2.35060091497093e-06\n",
      "A hipótese de normalidade é rejeitada\n"
     ]
    }
   ],
   "source": [
    "stats, p = shapiro(df_ao_vivo)\n",
    "print(f\"Soma do barulho do álbuns ao vivo: \")\n",
    "print(f\"Estatistica de teste: {stats:.4f}, valor p: {p}\")\n",
    "\n",
    "if p > 0.05:\n",
    "  print(\"Não há evidência suficiente para rejeitar a hipótese de normalidade\")\n",
    "else:\n",
    "  print(\"A hipótese de normalidade é rejeitada\")\n"
   ]
  },
  {
   "cell_type": "code",
   "execution_count": 38,
   "id": "125f26cf",
   "metadata": {},
   "outputs": [
    {
     "name": "stdout",
     "output_type": "stream",
     "text": [
      "Estatística de teste U: 1367.0\n",
      "Valor p: 0.0050727361177996585\n",
      "Diferença estatisticamente significante\n"
     ]
    }
   ],
   "source": [
    "stat, p = mannwhitneyu(df_estudio.sample(len(df_estudio)), df_ao_vivo.sample(len(df_ao_vivo)), alternative=\"less\")\n",
    "\n",
    "print(f\"Estatística de teste U: {stat}\")\n",
    "print(f\"Valor p: {p}\")\n",
    "\n",
    "alpha = 0.05\n",
    "\n",
    "if p < alpha:\n",
    "  print(\"Diferença estatisticamente significante\")\n",
    "else:\n",
    "  print(\"Não há diferença estatisticamente significante\")"
   ]
  },
  {
   "cell_type": "code",
   "execution_count": 39,
   "id": "1daa6c98",
   "metadata": {},
   "outputs": [
    {
     "data": {
      "application/vnd.microsoft.datawrangler.viewer.v0+json": {
       "columns": [
        {
         "name": "sentimento",
         "rawType": "object",
         "type": "string"
        },
        {
         "name": "sentimento",
         "rawType": "int64",
         "type": "integer"
        }
       ],
       "ref": "8973f8ce-1da3-4bac-bbe6-19c848f47dfb",
       "rows": [
        [
         "negativo",
         "38"
        ],
        [
         "positivo",
         "52"
        ]
       ],
       "shape": {
        "columns": 1,
        "rows": 2
       }
      },
      "text/plain": [
       "sentimento\n",
       "negativo    38\n",
       "positivo    52\n",
       "Name: sentimento, dtype: int64"
      ]
     },
     "execution_count": 39,
     "metadata": {},
     "output_type": "execute_result"
    }
   ],
   "source": [
    "media_por_album = df.groupby(\"album\")[\"valence\"].mean().reset_index()\n",
    "\n",
    "media_por_album = media_por_album.rename(columns={\"valence\": \"media_valence\"})\n",
    "\n",
    "media_por_album[\"sentimento\"] = [\"positivo\" if v > 0.6 else \"negativo\" for v in media_por_album[\"media_valence\"]]\n",
    "\n",
    "media_por_album.groupby(\"sentimento\")[\"sentimento\"].count()"
   ]
  },
  {
   "cell_type": "code",
   "execution_count": 40,
   "id": "541bdf2f",
   "metadata": {},
   "outputs": [
    {
     "data": {
      "application/vnd.microsoft.datawrangler.viewer.v0+json": {
       "columns": [
        {
         "name": "index",
         "rawType": "int64",
         "type": "integer"
        },
        {
         "name": "name",
         "rawType": "object",
         "type": "string"
        },
        {
         "name": "album",
         "rawType": "object",
         "type": "string"
        },
        {
         "name": "release_date",
         "rawType": "datetime64[ns]",
         "type": "datetime"
        },
        {
         "name": "track_number",
         "rawType": "int64",
         "type": "integer"
        },
        {
         "name": "acousticness",
         "rawType": "float64",
         "type": "float"
        },
        {
         "name": "danceability",
         "rawType": "float64",
         "type": "float"
        },
        {
         "name": "energy",
         "rawType": "float64",
         "type": "float"
        },
        {
         "name": "instrumentalness",
         "rawType": "float64",
         "type": "float"
        },
        {
         "name": "liveness",
         "rawType": "float64",
         "type": "float"
        },
        {
         "name": "loudness",
         "rawType": "float64",
         "type": "float"
        },
        {
         "name": "speechiness",
         "rawType": "float64",
         "type": "float"
        },
        {
         "name": "tempo",
         "rawType": "float64",
         "type": "float"
        },
        {
         "name": "valence",
         "rawType": "float64",
         "type": "float"
        },
        {
         "name": "popularity",
         "rawType": "int64",
         "type": "integer"
        },
        {
         "name": "duration_ms",
         "rawType": "int64",
         "type": "integer"
        },
        {
         "name": "duracao_em_min",
         "rawType": "float64",
         "type": "float"
        },
        {
         "name": "ao_vivo",
         "rawType": "bool",
         "type": "boolean"
        },
        {
         "name": "media_valence",
         "rawType": "float64",
         "type": "float"
        },
        {
         "name": "sentimento",
         "rawType": "object",
         "type": "string"
        }
       ],
       "ref": "283cb6c2-0dc0-460b-abf0-5b61e0cbeef7",
       "rows": [
        [
         "0",
         "Concert Intro Music - Live",
         "Licked Live In NYC",
         "2022-06-10 00:00:00",
         "1",
         "0.0824",
         "0.463",
         "0.993",
         "0.996",
         "0.932",
         "-12913.0",
         "0.11",
         "118001.0",
         "0.0302",
         "33",
         "48640",
         "0.8106666666666666",
         "True",
         "0.27116956521739133",
         "negativo"
        ],
        [
         "1",
         "Street Fighting Man - Live",
         "Licked Live In NYC",
         "2022-06-10 00:00:00",
         "2",
         "0.437",
         "0.326",
         "0.965",
         "0.233",
         "0.961",
         "-4803.0",
         "0.0759",
         "131455.0",
         "0.318",
         "34",
         "253173",
         "4.21955",
         "True",
         "0.27116956521739133",
         "negativo"
        ],
        [
         "2",
         "Start Me Up - Live",
         "Licked Live In NYC",
         "2022-06-10 00:00:00",
         "3",
         "0.416",
         "0.386",
         "0.969",
         "0.4",
         "0.956",
         "-4936.0",
         "0.115",
         "130066.0",
         "0.313",
         "34",
         "263160",
         "4.386",
         "True",
         "0.27116956521739133",
         "negativo"
        ],
        [
         "3",
         "If You Can't Rock Me - Live",
         "Licked Live In NYC",
         "2022-06-10 00:00:00",
         "4",
         "0.567",
         "0.369",
         "0.985",
         "0.000107",
         "0.895",
         "-5535.0",
         "0.193",
         "132994.0",
         "0.147",
         "32",
         "305880",
         "5.098",
         "True",
         "0.27116956521739133",
         "negativo"
        ],
        [
         "4",
         "Don’t Stop - Live",
         "Licked Live In NYC",
         "2022-06-10 00:00:00",
         "5",
         "0.4",
         "0.303",
         "0.969",
         "0.0559",
         "0.966",
         "-5098.0",
         "0.093",
         "130533.0",
         "0.206",
         "32",
         "305106",
         "5.0851",
         "True",
         "0.27116956521739133",
         "negativo"
        ],
        [
         "5",
         "Monkey Man - Live",
         "Licked Live In NYC",
         "2022-06-10 00:00:00",
         "6",
         "0.275",
         "0.34",
         "0.956",
         "0.125",
         "0.741",
         "-5539.0",
         "0.0915",
         "101628.0",
         "0.125",
         "31",
         "244293",
         "4.07155",
         "False",
         "0.27116956521739133",
         "negativo"
        ],
        [
         "6",
         "Angie - Live",
         "Licked Live In NYC",
         "2022-06-10 00:00:00",
         "7",
         "0.561",
         "0.262",
         "0.81",
         "2.76e-06",
         "0.972",
         "-6851.0",
         "0.0969",
         "77.52",
         "0.394",
         "31",
         "245506",
         "4.0917666666666666",
         "True",
         "0.27116956521739133",
         "negativo"
        ],
        [
         "7",
         "Let It Bleed - Live",
         "Licked Live In NYC",
         "2022-06-10 00:00:00",
         "8",
         "0.317",
         "0.413",
         "0.971",
         "0.000267",
         "0.993",
         "-5509.0",
         "0.0873",
         "128958.0",
         "0.484",
         "30",
         "313586",
         "5.2264333333333335",
         "True",
         "0.27116956521739133",
         "negativo"
        ],
        [
         "8",
         "Midnight Rambler - Live",
         "Licked Live In NYC",
         "2022-06-10 00:00:00",
         "9",
         "0.416",
         "0.268",
         "0.942",
         "0.0408",
         "0.959",
         "-6018.0",
         "0.119",
         "139452.0",
         "0.285",
         "30",
         "781173",
         "13.01955",
         "True",
         "0.27116956521739133",
         "negativo"
        ],
        [
         "9",
         "Tumbling Dice - Live",
         "Licked Live In NYC",
         "2022-06-10 00:00:00",
         "10",
         "0.401",
         "0.31",
         "0.944",
         "0.0752",
         "0.974",
         "-5074.0",
         "0.128",
         "119782.0",
         "0.188",
         "29",
         "333413",
         "5.556883333333333",
         "True",
         "0.27116956521739133",
         "negativo"
        ],
        [
         "10",
         "Band Introductions - Live",
         "Licked Live In NYC",
         "2022-06-10 00:00:00",
         "11",
         "0.732",
         "0.262",
         "0.939",
         "0.00952",
         "0.936",
         "-9269.0",
         "0.222",
         "79.42",
         "0.0317",
         "27",
         "284426",
         "4.740433333333334",
         "True",
         "0.27116956521739133",
         "negativo"
        ],
        [
         "11",
         "Thru And Thru - Live",
         "Licked Live In NYC",
         "2022-06-10 00:00:00",
         "12",
         "0.672",
         "0.278",
         "0.651",
         "0.000425",
         "0.893",
         "-7024.0",
         "0.0553",
         "95853.0",
         "0.334",
         "27",
         "432360",
         "7.206",
         "True",
         "0.27116956521739133",
         "negativo"
        ],
        [
         "12",
         "Happy - Live",
         "Licked Live In NYC",
         "2022-06-10 00:00:00",
         "13",
         "0.473",
         "0.322",
         "0.947",
         "0.163",
         "0.955",
         "-4.12",
         "0.0602",
         "136149.0",
         "0.498",
         "27",
         "222560",
         "3.7093333333333334",
         "True",
         "0.27116956521739133",
         "negativo"
        ],
        [
         "13",
         "Gimme Shelter - Live",
         "Licked Live In NYC",
         "2022-06-10 00:00:00",
         "14",
         "0.423",
         "0.36",
         "0.98",
         "0.00219",
         "0.98",
         "-5104.0",
         "0.104",
         "119779.0",
         "0.136",
         "28",
         "430426",
         "7.173766666666666",
         "True",
         "0.27116956521739133",
         "negativo"
        ],
        [
         "14",
         "You Got Me Rocking - Live",
         "Licked Live In NYC",
         "2022-06-10 00:00:00",
         "15",
         "0.32",
         "0.388",
         "0.974",
         "0.0955",
         "0.966",
         "-4982.0",
         "0.0974",
         "128486.0",
         "0.166",
         "26",
         "227546",
         "3.7924333333333333",
         "True",
         "0.27116956521739133",
         "negativo"
        ],
        [
         "15",
         "Can't You Hear Me Knocking - Live",
         "Licked Live In NYC",
         "2022-06-10 00:00:00",
         "16",
         "0.435",
         "0.401",
         "0.921",
         "0.0366",
         "0.976",
         "-5664.0",
         "0.0517",
         "144848.0",
         "0.734",
         "27",
         "667986",
         "11.1331",
         "True",
         "0.27116956521739133",
         "negativo"
        ],
        [
         "16",
         "Honky Tonk Women - Live",
         "Licked Live In NYC",
         "2022-06-10 00:00:00",
         "17",
         "0.536",
         "0.401",
         "0.94",
         "0.00183",
         "0.937",
         "-4858.0",
         "0.0928",
         "112304.0",
         "0.342",
         "27",
         "301106",
         "5.018433333333333",
         "True",
         "0.27116956521739133",
         "negativo"
        ],
        [
         "17",
         "Satisfaction - Live",
         "Licked Live In NYC",
         "2022-06-10 00:00:00",
         "18",
         "0.5",
         "0.256",
         "0.979",
         "0.309",
         "0.969",
         "-4472.0",
         "0.0906",
         "142464.0",
         "0.24",
         "28",
         "371133",
         "6.18555",
         "True",
         "0.27116956521739133",
         "negativo"
        ],
        [
         "18",
         "It's Only Rock 'N' Roll - Live",
         "Licked Live In NYC",
         "2022-06-10 00:00:00",
         "19",
         "0.675",
         "0.378",
         "0.986",
         "0.621",
         "0.971",
         "-5232.0",
         "0.0833",
         "140253.0",
         "0.436",
         "25",
         "303960",
         "5.066",
         "True",
         "0.27116956521739133",
         "negativo"
        ],
        [
         "19",
         "When The Whip Comes Down - Live",
         "Licked Live In NYC",
         "2022-06-10 00:00:00",
         "20",
         "0.336",
         "0.292",
         "0.986",
         "0.282",
         "0.975",
         "-5827.0",
         "0.131",
         "149383.0",
         "0.179",
         "24",
         "291093",
         "4.85155",
         "True",
         "0.27116956521739133",
         "negativo"
        ],
        [
         "20",
         "Brown Sugar - Live",
         "Licked Live In NYC",
         "2022-06-10 00:00:00",
         "21",
         "0.439",
         "0.34",
         "0.989",
         "0.722",
         "0.982",
         "-4734.0",
         "0.108",
         "139361.0",
         "0.164",
         "25",
         "337600",
         "5.626666666666667",
         "True",
         "0.27116956521739133",
         "negativo"
        ],
        [
         "21",
         "Sympathy For The Devil - Live",
         "Licked Live In NYC",
         "2022-06-10 00:00:00",
         "22",
         "0.424",
         "0.447",
         "0.979",
         "2.17e-05",
         "0.953",
         "-4942.0",
         "0.114",
         "109191.0",
         "0.295",
         "26",
         "409466",
         "6.824433333333333",
         "True",
         "0.27116956521739133",
         "negativo"
        ],
        [
         "22",
         "Jumpin Jack Flash - Live",
         "Licked Live In NYC",
         "2022-06-10 00:00:00",
         "23",
         "0.313",
         "0.192",
         "0.964",
         "0.538",
         "0.968",
         "-4264.0",
         "0.0609",
         "138005.0",
         "0.191",
         "25",
         "370733",
         "6.178883333333333",
         "True",
         "0.27116956521739133",
         "negativo"
        ],
        [
         "23",
         "Honky Tonk Women - Live At The El Mocambo 1977",
         "Live At The El Mocambo",
         "2022-05-13 00:00:00",
         "1",
         "0.162",
         "0.43",
         "0.901",
         "0.011",
         "0.694",
         "-6215.0",
         "0.045",
         "112077.0",
         "0.89",
         "32",
         "216546",
         "3.6091",
         "False",
         "0.7348260869565217",
         "positivo"
        ],
        [
         "24",
         "All Down The Line - Live At The El Mocambo 1977",
         "Live At The El Mocambo",
         "2022-05-13 00:00:00",
         "2",
         "0.107",
         "0.245",
         "0.965",
         "0.0547",
         "0.95",
         "-5153.0",
         "0.0828",
         "157346.0",
         "0.697",
         "29",
         "252640",
         "4.210666666666667",
         "True",
         "0.7348260869565217",
         "positivo"
        ],
        [
         "25",
         "Hand Of Fate - Live At The El Mocambo 1977",
         "Live At The El Mocambo",
         "2022-05-13 00:00:00",
         "3",
         "0.0654",
         "0.477",
         "0.899",
         "0.0376",
         "0.727",
         "-6189.0",
         "0.0425",
         "129991.0",
         "0.805",
         "29",
         "267866",
         "4.464433333333333",
         "False",
         "0.7348260869565217",
         "positivo"
        ],
        [
         "26",
         "Route 66 - Live At The El Mocambo 1977",
         "Live At The El Mocambo",
         "2022-05-13 00:00:00",
         "4",
         "0.0975",
         "0.473",
         "0.923",
         "0.00157",
         "0.722",
         "-6204.0",
         "0.0791",
         "144625.0",
         "0.792",
         "30",
         "193653",
         "3.22755",
         "False",
         "0.7348260869565217",
         "positivo"
        ],
        [
         "27",
         "Fool To Cry - Live At The El Mocambo 1977",
         "Live At The El Mocambo",
         "2022-05-13 00:00:00",
         "5",
         "0.434",
         "0.331",
         "0.692",
         "0.0143",
         "0.889",
         "-7105.0",
         "0.045",
         "76.21",
         "0.512",
         "29",
         "297386",
         "4.956433333333333",
         "True",
         "0.7348260869565217",
         "positivo"
        ],
        [
         "28",
         "Crazy Mama - Live At The El Mocambo 1977",
         "Live At The El Mocambo",
         "2022-05-13 00:00:00",
         "6",
         "0.0288",
         "0.447",
         "0.883",
         "0.00554",
         "0.726",
         "-6266.0",
         "0.0371",
         "117604.0",
         "0.556",
         "29",
         "299213",
         "4.986883333333333",
         "False",
         "0.7348260869565217",
         "positivo"
        ],
        [
         "29",
         "Mannish Boy - Live At The El Mocambo 1977",
         "Live At The El Mocambo",
         "2022-05-13 00:00:00",
         "7",
         "0.28",
         "0.272",
         "0.76",
         "0.00087",
         "0.962",
         "-7508.0",
         "0.0526",
         "201585.0",
         "0.782",
         "27",
         "362866",
         "6.047766666666667",
         "True",
         "0.7348260869565217",
         "positivo"
        ],
        [
         "30",
         "Crackin’ Up - Live At The El Mocambo 1977",
         "Live At The El Mocambo",
         "2022-05-13 00:00:00",
         "8",
         "0.308",
         "0.594",
         "0.801",
         "0.103",
         "0.699",
         "-7448.0",
         "0.0277",
         "105572.0",
         "0.925",
         "27",
         "254506",
         "4.241766666666667",
         "False",
         "0.7348260869565217",
         "positivo"
        ],
        [
         "31",
         "Dance Little Sister - Live At The El Mocambo 1977",
         "Live At The El Mocambo",
         "2022-05-13 00:00:00",
         "9",
         "0.0647",
         "0.311",
         "0.912",
         "0.0426",
         "0.851",
         "-6316.0",
         "0.103",
         "154192.0",
         "0.713",
         "27",
         "292533",
         "4.87555",
         "True",
         "0.7348260869565217",
         "positivo"
        ],
        [
         "32",
         "Around And Around - Live At The El Mocambo 1977",
         "Live At The El Mocambo",
         "2022-05-13 00:00:00",
         "10",
         "0.0645",
         "0.429",
         "0.869",
         "0.00543",
         "0.848",
         "-7467.0",
         "0.042",
         "97223.0",
         "0.79",
         "27",
         "233200",
         "3.8866666666666667",
         "True",
         "0.7348260869565217",
         "positivo"
        ],
        [
         "33",
         "Tumbling Dice - Live At The El Mocambo 1977",
         "Live At The El Mocambo",
         "2022-05-13 00:00:00",
         "11",
         "0.133",
         "0.45",
         "0.842",
         "0.0358",
         "0.758",
         "-7254.0",
         "0.0343",
         "107825.0",
         "0.768",
         "32",
         "296226",
         "4.9371",
         "False",
         "0.7348260869565217",
         "positivo"
        ],
        [
         "34",
         "Hot Stuff - Live At The El Mocambo 1977",
         "Live At The El Mocambo",
         "2022-05-13 00:00:00",
         "12",
         "0.0372",
         "0.497",
         "0.914",
         "0.181",
         "0.753",
         "-6.82",
         "0.0487",
         "110005.0",
         "0.791",
         "27",
         "328613",
         "5.476883333333333",
         "False",
         "0.7348260869565217",
         "positivo"
        ],
        [
         "35",
         "Star Star - Live At The El Mocambo 1977",
         "Live At The El Mocambo",
         "2022-05-13 00:00:00",
         "13",
         "0.0252",
         "0.251",
         "0.926",
         "0.0661",
         "0.901",
         "-6013.0",
         "0.0997",
         "155776.0",
         "0.767",
         "26",
         "264493",
         "4.408216666666666",
         "True",
         "0.7348260869565217",
         "positivo"
        ],
        [
         "36",
         "Let's Spend The Night Together - Live At The El Mocambo 1977",
         "Live At The El Mocambo",
         "2022-05-13 00:00:00",
         "14",
         "0.122",
         "0.37",
         "0.89",
         "0.000808",
         "0.7",
         "-6004.0",
         "0.0408",
         "78472.0",
         "0.723",
         "26",
         "228253",
         "3.8042166666666666",
         "False",
         "0.7348260869565217",
         "positivo"
        ],
        [
         "37",
         "Worried Life Blues - Live At The El Mocambo 1977",
         "Live At The El Mocambo",
         "2022-05-13 00:00:00",
         "15",
         "0.239",
         "0.417",
         "0.677",
         "0.00296",
         "0.759",
         "-8309.0",
         "0.0461",
         "111718.0",
         "0.589",
         "26",
         "326706",
         "5.4451",
         "False",
         "0.7348260869565217",
         "positivo"
        ],
        [
         "38",
         "Little Red Rooster - Live At The El Mocambo 1977",
         "Live At The El Mocambo",
         "2022-05-13 00:00:00",
         "16",
         "0.194",
         "0.292",
         "0.608",
         "0.00879",
         "0.746",
         "-8809.0",
         "0.0341",
         "98803.0",
         "0.43",
         "25",
         "290960",
         "4.849333333333333",
         "False",
         "0.7348260869565217",
         "positivo"
        ],
        [
         "39",
         "It’s Only Rock ’N’ Roll (But I Like It) - Live At The El Mocambo 1977",
         "Live At The El Mocambo",
         "2022-05-13 00:00:00",
         "17",
         "0.119",
         "0.327",
         "0.919",
         "0.00432",
         "0.94",
         "-5885.0",
         "0.0379",
         "141465.0",
         "0.901",
         "29",
         "295373",
         "4.922883333333333",
         "True",
         "0.7348260869565217",
         "positivo"
        ],
        [
         "40",
         "Rip This Joint - Live At The El Mocambo 1977",
         "Live At The El Mocambo",
         "2022-05-13 00:00:00",
         "18",
         "0.0293",
         "0.437",
         "0.948",
         "0.756",
         "0.976",
         "-5321.0",
         "0.0943",
         "116343.0",
         "0.727",
         "25",
         "131133",
         "2.18555",
         "True",
         "0.7348260869565217",
         "positivo"
        ],
        [
         "41",
         "Brown Sugar - Live At The El Mocambo 1977",
         "Live At The El Mocambo",
         "2022-05-13 00:00:00",
         "19",
         "0.0482",
         "0.347",
         "0.916",
         "0.0499",
         "0.973",
         "-5455.0",
         "0.081",
         "150435.0",
         "0.795",
         "25",
         "204706",
         "3.411766666666667",
         "True",
         "0.7348260869565217",
         "positivo"
        ],
        [
         "42",
         "Jumpin’ Jack Flash - Live At The El Mocambo 1977",
         "Live At The El Mocambo",
         "2022-05-13 00:00:00",
         "20",
         "0.007",
         "0.219",
         "0.915",
         "0.652",
         "0.975",
         "-6613.0",
         "0.104",
         "151344.0",
         "0.64",
         "27",
         "326386",
         "5.439766666666666",
         "True",
         "0.7348260869565217",
         "positivo"
        ],
        [
         "43",
         "Melody - Live At The El Mocambo 1977",
         "Live At The El Mocambo",
         "2022-05-13 00:00:00",
         "21",
         "0.497",
         "0.494",
         "0.727",
         "0.0",
         "0.894",
         "-7673.0",
         "0.0418",
         "126323.0",
         "0.729",
         "24",
         "282413",
         "4.706883333333334",
         "True",
         "0.7348260869565217",
         "positivo"
        ],
        [
         "44",
         "Luxury - Live At The El Mocambo 1977",
         "Live At The El Mocambo",
         "2022-05-13 00:00:00",
         "22",
         "0.126",
         "0.568",
         "0.789",
         "0.0515",
         "0.728",
         "-6731.0",
         "0.0284",
         "127512.0",
         "0.946",
         "24",
         "311760",
         "5.196",
         "False",
         "0.7348260869565217",
         "positivo"
        ],
        [
         "45",
         "Worried About You - Live At The El Mocambo 1977",
         "Live At The El Mocambo",
         "2022-05-13 00:00:00",
         "23",
         "0.511",
         "0.389",
         "0.717",
         "0.00627",
         "0.714",
         "-6576.0",
         "0.0263",
         "82795.0",
         "0.633",
         "25",
         "491053",
         "8.184216666666666",
         "False",
         "0.7348260869565217",
         "positivo"
        ],
        [
         "46",
         "Start Me Up - Remastered 2021",
         "Tattoo You (Super Deluxe)",
         "2021-10-22 00:00:00",
         "1",
         "0.0302",
         "0.555",
         "0.956",
         "0.367",
         "0.0753",
         "-2147.0",
         "0.0577",
         "121752.0",
         "0.933",
         "39",
         "214173",
         "3.56955",
         "False",
         "0.5800347826086957",
         "negativo"
        ],
        [
         "47",
         "Hang Fire - Remastered 2021",
         "Tattoo You (Super Deluxe)",
         "2021-10-22 00:00:00",
         "2",
         "0.0136",
         "0.421",
         "0.927",
         "0.0797",
         "0.264",
         "-1734.0",
         "0.0345",
         "151096.0",
         "0.922",
         "29",
         "141626",
         "2.3604333333333334",
         "False",
         "0.5800347826086957",
         "negativo"
        ],
        [
         "48",
         "Slave - Remastered 2021",
         "Tattoo You (Super Deluxe)",
         "2021-10-22 00:00:00",
         "3",
         "0.13",
         "0.558",
         "0.898",
         "0.306",
         "0.0562",
         "-4314.0",
         "0.0515",
         "133338.0",
         "0.853",
         "29",
         "392426",
         "6.5404333333333335",
         "False",
         "0.5800347826086957",
         "negativo"
        ],
        [
         "49",
         "Little T&A - Remastered 2021",
         "Tattoo You (Super Deluxe)",
         "2021-10-22 00:00:00",
         "4",
         "0.156",
         "0.497",
         "0.953",
         "0.0429",
         "0.667",
         "-1978.0",
         "0.0328",
         "135453.0",
         "0.801",
         "28",
         "204440",
         "3.4073333333333333",
         "False",
         "0.5800347826086957",
         "negativo"
        ]
       ],
       "shape": {
        "columns": 19,
        "rows": 1610
       }
      },
      "text/html": [
       "<div>\n",
       "<style scoped>\n",
       "    .dataframe tbody tr th:only-of-type {\n",
       "        vertical-align: middle;\n",
       "    }\n",
       "\n",
       "    .dataframe tbody tr th {\n",
       "        vertical-align: top;\n",
       "    }\n",
       "\n",
       "    .dataframe thead th {\n",
       "        text-align: right;\n",
       "    }\n",
       "</style>\n",
       "<table border=\"1\" class=\"dataframe\">\n",
       "  <thead>\n",
       "    <tr style=\"text-align: right;\">\n",
       "      <th></th>\n",
       "      <th>name</th>\n",
       "      <th>album</th>\n",
       "      <th>release_date</th>\n",
       "      <th>track_number</th>\n",
       "      <th>acousticness</th>\n",
       "      <th>danceability</th>\n",
       "      <th>energy</th>\n",
       "      <th>instrumentalness</th>\n",
       "      <th>liveness</th>\n",
       "      <th>loudness</th>\n",
       "      <th>speechiness</th>\n",
       "      <th>tempo</th>\n",
       "      <th>valence</th>\n",
       "      <th>popularity</th>\n",
       "      <th>duration_ms</th>\n",
       "      <th>duracao_em_min</th>\n",
       "      <th>ao_vivo</th>\n",
       "      <th>media_valence</th>\n",
       "      <th>sentimento</th>\n",
       "    </tr>\n",
       "  </thead>\n",
       "  <tbody>\n",
       "    <tr>\n",
       "      <th>0</th>\n",
       "      <td>Concert Intro Music - Live</td>\n",
       "      <td>Licked Live In NYC</td>\n",
       "      <td>2022-06-10</td>\n",
       "      <td>1</td>\n",
       "      <td>0.0824</td>\n",
       "      <td>0.463</td>\n",
       "      <td>0.993</td>\n",
       "      <td>0.996000</td>\n",
       "      <td>0.9320</td>\n",
       "      <td>-12913.0</td>\n",
       "      <td>0.1100</td>\n",
       "      <td>118001.00</td>\n",
       "      <td>0.0302</td>\n",
       "      <td>33</td>\n",
       "      <td>48640</td>\n",
       "      <td>0.810667</td>\n",
       "      <td>True</td>\n",
       "      <td>0.271170</td>\n",
       "      <td>negativo</td>\n",
       "    </tr>\n",
       "    <tr>\n",
       "      <th>1</th>\n",
       "      <td>Street Fighting Man - Live</td>\n",
       "      <td>Licked Live In NYC</td>\n",
       "      <td>2022-06-10</td>\n",
       "      <td>2</td>\n",
       "      <td>0.4370</td>\n",
       "      <td>0.326</td>\n",
       "      <td>0.965</td>\n",
       "      <td>0.233000</td>\n",
       "      <td>0.9610</td>\n",
       "      <td>-4803.0</td>\n",
       "      <td>0.0759</td>\n",
       "      <td>131455.00</td>\n",
       "      <td>0.3180</td>\n",
       "      <td>34</td>\n",
       "      <td>253173</td>\n",
       "      <td>4.219550</td>\n",
       "      <td>True</td>\n",
       "      <td>0.271170</td>\n",
       "      <td>negativo</td>\n",
       "    </tr>\n",
       "    <tr>\n",
       "      <th>2</th>\n",
       "      <td>Start Me Up - Live</td>\n",
       "      <td>Licked Live In NYC</td>\n",
       "      <td>2022-06-10</td>\n",
       "      <td>3</td>\n",
       "      <td>0.4160</td>\n",
       "      <td>0.386</td>\n",
       "      <td>0.969</td>\n",
       "      <td>0.400000</td>\n",
       "      <td>0.9560</td>\n",
       "      <td>-4936.0</td>\n",
       "      <td>0.1150</td>\n",
       "      <td>130066.00</td>\n",
       "      <td>0.3130</td>\n",
       "      <td>34</td>\n",
       "      <td>263160</td>\n",
       "      <td>4.386000</td>\n",
       "      <td>True</td>\n",
       "      <td>0.271170</td>\n",
       "      <td>negativo</td>\n",
       "    </tr>\n",
       "    <tr>\n",
       "      <th>3</th>\n",
       "      <td>If You Can't Rock Me - Live</td>\n",
       "      <td>Licked Live In NYC</td>\n",
       "      <td>2022-06-10</td>\n",
       "      <td>4</td>\n",
       "      <td>0.5670</td>\n",
       "      <td>0.369</td>\n",
       "      <td>0.985</td>\n",
       "      <td>0.000107</td>\n",
       "      <td>0.8950</td>\n",
       "      <td>-5535.0</td>\n",
       "      <td>0.1930</td>\n",
       "      <td>132994.00</td>\n",
       "      <td>0.1470</td>\n",
       "      <td>32</td>\n",
       "      <td>305880</td>\n",
       "      <td>5.098000</td>\n",
       "      <td>True</td>\n",
       "      <td>0.271170</td>\n",
       "      <td>negativo</td>\n",
       "    </tr>\n",
       "    <tr>\n",
       "      <th>4</th>\n",
       "      <td>Don’t Stop - Live</td>\n",
       "      <td>Licked Live In NYC</td>\n",
       "      <td>2022-06-10</td>\n",
       "      <td>5</td>\n",
       "      <td>0.4000</td>\n",
       "      <td>0.303</td>\n",
       "      <td>0.969</td>\n",
       "      <td>0.055900</td>\n",
       "      <td>0.9660</td>\n",
       "      <td>-5098.0</td>\n",
       "      <td>0.0930</td>\n",
       "      <td>130533.00</td>\n",
       "      <td>0.2060</td>\n",
       "      <td>32</td>\n",
       "      <td>305106</td>\n",
       "      <td>5.085100</td>\n",
       "      <td>True</td>\n",
       "      <td>0.271170</td>\n",
       "      <td>negativo</td>\n",
       "    </tr>\n",
       "    <tr>\n",
       "      <th>...</th>\n",
       "      <td>...</td>\n",
       "      <td>...</td>\n",
       "      <td>...</td>\n",
       "      <td>...</td>\n",
       "      <td>...</td>\n",
       "      <td>...</td>\n",
       "      <td>...</td>\n",
       "      <td>...</td>\n",
       "      <td>...</td>\n",
       "      <td>...</td>\n",
       "      <td>...</td>\n",
       "      <td>...</td>\n",
       "      <td>...</td>\n",
       "      <td>...</td>\n",
       "      <td>...</td>\n",
       "      <td>...</td>\n",
       "      <td>...</td>\n",
       "      <td>...</td>\n",
       "      <td>...</td>\n",
       "    </tr>\n",
       "    <tr>\n",
       "      <th>1605</th>\n",
       "      <td>Carol</td>\n",
       "      <td>The Rolling Stones</td>\n",
       "      <td>1964-04-16</td>\n",
       "      <td>8</td>\n",
       "      <td>0.1570</td>\n",
       "      <td>0.466</td>\n",
       "      <td>0.932</td>\n",
       "      <td>0.006170</td>\n",
       "      <td>0.3240</td>\n",
       "      <td>-9214.0</td>\n",
       "      <td>0.0429</td>\n",
       "      <td>177.34</td>\n",
       "      <td>0.9670</td>\n",
       "      <td>39</td>\n",
       "      <td>154080</td>\n",
       "      <td>2.568000</td>\n",
       "      <td>False</td>\n",
       "      <td>0.745583</td>\n",
       "      <td>positivo</td>\n",
       "    </tr>\n",
       "    <tr>\n",
       "      <th>1606</th>\n",
       "      <td>Tell Me</td>\n",
       "      <td>The Rolling Stones</td>\n",
       "      <td>1964-04-16</td>\n",
       "      <td>9</td>\n",
       "      <td>0.0576</td>\n",
       "      <td>0.509</td>\n",
       "      <td>0.706</td>\n",
       "      <td>0.000002</td>\n",
       "      <td>0.5160</td>\n",
       "      <td>-9427.0</td>\n",
       "      <td>0.0843</td>\n",
       "      <td>122015.00</td>\n",
       "      <td>0.4460</td>\n",
       "      <td>36</td>\n",
       "      <td>245266</td>\n",
       "      <td>4.087767</td>\n",
       "      <td>False</td>\n",
       "      <td>0.745583</td>\n",
       "      <td>positivo</td>\n",
       "    </tr>\n",
       "    <tr>\n",
       "      <th>1607</th>\n",
       "      <td>Can I Get A Witness</td>\n",
       "      <td>The Rolling Stones</td>\n",
       "      <td>1964-04-16</td>\n",
       "      <td>10</td>\n",
       "      <td>0.3710</td>\n",
       "      <td>0.790</td>\n",
       "      <td>0.774</td>\n",
       "      <td>0.000000</td>\n",
       "      <td>0.0669</td>\n",
       "      <td>-7961.0</td>\n",
       "      <td>0.0720</td>\n",
       "      <td>97035.00</td>\n",
       "      <td>0.8350</td>\n",
       "      <td>30</td>\n",
       "      <td>176080</td>\n",
       "      <td>2.934667</td>\n",
       "      <td>False</td>\n",
       "      <td>0.745583</td>\n",
       "      <td>positivo</td>\n",
       "    </tr>\n",
       "    <tr>\n",
       "      <th>1608</th>\n",
       "      <td>You Can Make It If You Try</td>\n",
       "      <td>The Rolling Stones</td>\n",
       "      <td>1964-04-16</td>\n",
       "      <td>11</td>\n",
       "      <td>0.2170</td>\n",
       "      <td>0.700</td>\n",
       "      <td>0.546</td>\n",
       "      <td>0.000070</td>\n",
       "      <td>0.1660</td>\n",
       "      <td>-9567.0</td>\n",
       "      <td>0.0622</td>\n",
       "      <td>102634.00</td>\n",
       "      <td>0.5320</td>\n",
       "      <td>27</td>\n",
       "      <td>121680</td>\n",
       "      <td>2.028000</td>\n",
       "      <td>False</td>\n",
       "      <td>0.745583</td>\n",
       "      <td>positivo</td>\n",
       "    </tr>\n",
       "    <tr>\n",
       "      <th>1609</th>\n",
       "      <td>Walking The Dog</td>\n",
       "      <td>The Rolling Stones</td>\n",
       "      <td>1964-04-16</td>\n",
       "      <td>12</td>\n",
       "      <td>0.3830</td>\n",
       "      <td>0.727</td>\n",
       "      <td>0.934</td>\n",
       "      <td>0.068500</td>\n",
       "      <td>0.0965</td>\n",
       "      <td>-8373.0</td>\n",
       "      <td>0.0359</td>\n",
       "      <td>125275.00</td>\n",
       "      <td>0.9690</td>\n",
       "      <td>35</td>\n",
       "      <td>189186</td>\n",
       "      <td>3.153100</td>\n",
       "      <td>False</td>\n",
       "      <td>0.745583</td>\n",
       "      <td>positivo</td>\n",
       "    </tr>\n",
       "  </tbody>\n",
       "</table>\n",
       "<p>1610 rows × 19 columns</p>\n",
       "</div>"
      ],
      "text/plain": [
       "                             name               album release_date  \\\n",
       "0      Concert Intro Music - Live  Licked Live In NYC   2022-06-10   \n",
       "1      Street Fighting Man - Live  Licked Live In NYC   2022-06-10   \n",
       "2              Start Me Up - Live  Licked Live In NYC   2022-06-10   \n",
       "3     If You Can't Rock Me - Live  Licked Live In NYC   2022-06-10   \n",
       "4               Don’t Stop - Live  Licked Live In NYC   2022-06-10   \n",
       "...                           ...                 ...          ...   \n",
       "1605                        Carol  The Rolling Stones   1964-04-16   \n",
       "1606                      Tell Me  The Rolling Stones   1964-04-16   \n",
       "1607          Can I Get A Witness  The Rolling Stones   1964-04-16   \n",
       "1608   You Can Make It If You Try  The Rolling Stones   1964-04-16   \n",
       "1609              Walking The Dog  The Rolling Stones   1964-04-16   \n",
       "\n",
       "      track_number  acousticness  danceability  energy  instrumentalness  \\\n",
       "0                1        0.0824         0.463   0.993          0.996000   \n",
       "1                2        0.4370         0.326   0.965          0.233000   \n",
       "2                3        0.4160         0.386   0.969          0.400000   \n",
       "3                4        0.5670         0.369   0.985          0.000107   \n",
       "4                5        0.4000         0.303   0.969          0.055900   \n",
       "...            ...           ...           ...     ...               ...   \n",
       "1605             8        0.1570         0.466   0.932          0.006170   \n",
       "1606             9        0.0576         0.509   0.706          0.000002   \n",
       "1607            10        0.3710         0.790   0.774          0.000000   \n",
       "1608            11        0.2170         0.700   0.546          0.000070   \n",
       "1609            12        0.3830         0.727   0.934          0.068500   \n",
       "\n",
       "      liveness  loudness  speechiness      tempo  valence  popularity  \\\n",
       "0       0.9320  -12913.0       0.1100  118001.00   0.0302          33   \n",
       "1       0.9610   -4803.0       0.0759  131455.00   0.3180          34   \n",
       "2       0.9560   -4936.0       0.1150  130066.00   0.3130          34   \n",
       "3       0.8950   -5535.0       0.1930  132994.00   0.1470          32   \n",
       "4       0.9660   -5098.0       0.0930  130533.00   0.2060          32   \n",
       "...        ...       ...          ...        ...      ...         ...   \n",
       "1605    0.3240   -9214.0       0.0429     177.34   0.9670          39   \n",
       "1606    0.5160   -9427.0       0.0843  122015.00   0.4460          36   \n",
       "1607    0.0669   -7961.0       0.0720   97035.00   0.8350          30   \n",
       "1608    0.1660   -9567.0       0.0622  102634.00   0.5320          27   \n",
       "1609    0.0965   -8373.0       0.0359  125275.00   0.9690          35   \n",
       "\n",
       "      duration_ms  duracao_em_min  ao_vivo  media_valence sentimento  \n",
       "0           48640        0.810667     True       0.271170   negativo  \n",
       "1          253173        4.219550     True       0.271170   negativo  \n",
       "2          263160        4.386000     True       0.271170   negativo  \n",
       "3          305880        5.098000     True       0.271170   negativo  \n",
       "4          305106        5.085100     True       0.271170   negativo  \n",
       "...           ...             ...      ...            ...        ...  \n",
       "1605       154080        2.568000    False       0.745583   positivo  \n",
       "1606       245266        4.087767    False       0.745583   positivo  \n",
       "1607       176080        2.934667    False       0.745583   positivo  \n",
       "1608       121680        2.028000    False       0.745583   positivo  \n",
       "1609       189186        3.153100    False       0.745583   positivo  \n",
       "\n",
       "[1610 rows x 19 columns]"
      ]
     },
     "execution_count": 40,
     "metadata": {},
     "output_type": "execute_result"
    }
   ],
   "source": [
    "df_resultado_final = pd.merge(df, media_por_album, on = \"album\")\n",
    "df_resultado_final"
   ]
  },
  {
   "cell_type": "code",
   "execution_count": 43,
   "id": "e6b40bcb",
   "metadata": {},
   "outputs": [
    {
     "data": {
      "application/vnd.microsoft.datawrangler.viewer.v0+json": {
       "columns": [
        {
         "name": "index",
         "rawType": "object",
         "type": "string"
        },
        {
         "name": "media_valence",
         "rawType": "float64",
         "type": "float"
        }
       ],
       "ref": "4bd8cb1e-926b-43e1-af7c-7d02c1d366d0",
       "rows": [
        [
         "track_number",
         "-0.11500735034380179"
        ],
        [
         "acousticness",
         "0.01549094305724355"
        ],
        [
         "danceability",
         "0.4929449332932974"
        ],
        [
         "energy",
         "-0.3474467380984534"
        ],
        [
         "instrumentalness",
         "0.1337412042978672"
        ],
        [
         "liveness",
         "-0.5717492293772848"
        ],
        [
         "loudness",
         "-0.22954270687758693"
        ],
        [
         "speechiness",
         "-0.41600509717340267"
        ],
        [
         "tempo",
         "-0.02888688538607477"
        ],
        [
         "valence",
         "0.6032584266689831"
        ],
        [
         "popularity",
         "0.10050920768007005"
        ],
        [
         "duration_ms",
         "-0.3094990049445254"
        ],
        [
         "duracao_em_min",
         "-0.30949900494452565"
        ],
        [
         "ao_vivo",
         "-0.549735704617135"
        ],
        [
         "media_valence",
         "1.0"
        ]
       ],
       "shape": {
        "columns": 1,
        "rows": 15
       }
      },
      "text/plain": [
       "track_number       -0.115007\n",
       "acousticness        0.015491\n",
       "danceability        0.492945\n",
       "energy             -0.347447\n",
       "instrumentalness    0.133741\n",
       "liveness           -0.571749\n",
       "loudness           -0.229543\n",
       "speechiness        -0.416005\n",
       "tempo              -0.028887\n",
       "valence             0.603258\n",
       "popularity          0.100509\n",
       "duration_ms        -0.309499\n",
       "duracao_em_min     -0.309499\n",
       "ao_vivo            -0.549736\n",
       "media_valence       1.000000\n",
       "Name: media_valence, dtype: float64"
      ]
     },
     "metadata": {},
     "output_type": "display_data"
    }
   ],
   "source": [
    "matriz_correlacao = df_resultado_final.corr(numeric_only=True)\n",
    "\n",
    "correlacao_sentimento = matriz_correlacao[\"media_valence\"]\n",
    "\n",
    "display(correlacao_sentimento)"
   ]
  },
  {
   "cell_type": "code",
   "execution_count": 47,
   "id": "5bf1a698",
   "metadata": {},
   "outputs": [
    {
     "data": {
      "image/png": "[encoded data removed]",
      "text/plain": [
       "<Figure size 640x480 with 2 Axes>"
      ]
     },
     "metadata": {},
     "output_type": "display_data"
    }
   ],
   "source": [
    "sns.heatmap(correlacao_sentimento.to_frame(), annot=True, cmap = \"coolwarm\")\n",
    "plt.show()"
   ]
  },
  {
   "cell_type": "code",
   "execution_count": 53,
   "id": "421ff244",
   "metadata": {},
   "outputs": [
    {
     "data": {
      "image/png": "[encoded data removed]",
      "text/plain": [
       "<Figure size 640x480 with 1 Axes>"
      ]
     },
     "metadata": {},
     "output_type": "display_data"
    }
   ],
   "source": [
    "sns.scatterplot(x=\"media_valence\", y=\"danceability\", hue=\"sentimento\", data=df_resultado_final, palette = \"coolwarm\")\n",
    "plt.xlabel(\"Média Valence\")\n",
    "plt.ylabel(\"Danceability\")\n",
    "plt.title(\"Relação entre a valence e a capacidade de danceability das músicas\")\n",
    "plt.show()"
   ]
  },
  {
   "cell_type": "code",
   "execution_count": 56,
   "id": "f1d8168e",
   "metadata": {},
   "outputs": [
    {
     "data": {
      "text/plain": [
       "[]"
      ]
     },
     "execution_count": 56,
     "metadata": {},
     "output_type": "execute_result"
    },
    {
     "data": {
      "image/png": "[encoded data removed]",
      "text/plain": [
       "<Figure size 640x480 with 1 Axes>"
      ]
     },
     "metadata": {},
     "output_type": "display_data"
    }
   ],
   "source": [
    "sns.scatterplot(x=\"media_valence\", y=\"liveness\", hue=\"sentimento\", data=df_resultado_final, palette=\"coolwarm\")\n",
    "plt.xlabel(\"Média Valence\")\n",
    "plt.ylabel(\"Liveness\")\n",
    "plt.title(\"Relação entre a valence e músicas ao vivo\")\n",
    "plt.plot()"
   ]
  }
 ],
 "metadata": {
  "kernelspec": {
   "display_name": "Python 3",
   "language": "python",
   "name": "python3"
  },
  "language_info": {
   "codemirror_mode": {
    "name": "ipython",
    "version": 3
   },
   "file_extension": ".py",
   "mimetype": "text/x-python",
   "name": "python",
   "nbconvert_exporter": "python",
   "pygments_lexer": "ipython3",
   "version": "3.10.11"
  }
 },
 "nbformat": 4,
 "nbformat_minor": 5
}
