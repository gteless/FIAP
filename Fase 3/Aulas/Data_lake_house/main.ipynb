{
 "cells": [
  {
   "cell_type": "code",
   "execution_count": 1,
   "id": "03817546",
   "metadata": {},
   "outputs": [],
   "source": [
    "# importando libs\n",
    "import pandas as pd\n",
    "from sqlalchemy import create_engine, text\n",
    "import psycopg2\n",
    "import boto3\n",
    "from io import StringIO\n",
    "from botocore.exceptions import ClientError\n",
    "import datetime\n",
    "import numpy as np"
   ]
  },
  {
   "cell_type": "code",
   "execution_count": null,
   "id": "5d202ea7",
   "metadata": {},
   "outputs": [],
   "source": [
    "usuario = \"postgres\"\n",
    "senha = \"\"\n",
    "host = \"bd-relacional.cjeco8miq291.us-east-1.rds.amazonaws.com\"\n",
    "porta = 5432\n",
    "banco = \"postgres\"\n",
    "\n",
    "# Cria a engine de conexão\n",
    "engine = create_engine(f\"postgresql+psycopg2://{usuario}:{senha}@{host}:{porta}/{banco}\")"
   ]
  },
  {
   "cell_type": "code",
   "execution_count": 3,
   "id": "b7ae917b",
   "metadata": {},
   "outputs": [],
   "source": [
    "def test_connection(engine):\n",
    "    try:\n",
    "        with engine.connect() as connection:\n",
    "            # Testa a versão do PostgreSQL\n",
    "            result = connection.execute(text(\"SELECT version();\"))\n",
    "            versao = result.fetchone()\n",
    "            print(\"✅ Conectado com sucesso:\", versao[0])\n",
    "\n",
    "            # Lista as tabelas no schema público\n",
    "            result = connection.execute(text(\"\"\"\n",
    "                SELECT table_name\n",
    "                FROM information_schema.tables\n",
    "                WHERE table_schema = 'public';\n",
    "            \"\"\"))\n",
    "            tabelas = result.fetchall()\n",
    "            print(\"📄 Tabelas no banco:\")\n",
    "            for tabela in tabelas:\n",
    "                print(\"  -\", tabela[0])\n",
    "\n",
    "    except Exception as e:\n",
    "        print(\"❌ Erro ao executar comandos:\", e)"
   ]
  },
  {
   "cell_type": "code",
   "execution_count": 4,
   "id": "0dd95148",
   "metadata": {},
   "outputs": [
    {
     "name": "stdout",
     "output_type": "stream",
     "text": [
      "✅ Conectado com sucesso: PostgreSQL 17.4 on x86_64-pc-linux-gnu, compiled by gcc (GCC) 12.4.0, 64-bit\n",
      "📄 Tabelas no banco:\n",
      "  - dim_cliente\n",
      "  - fato_pedidos\n",
      "  - dim_produto\n"
     ]
    }
   ],
   "source": [
    "test_connection(engine)"
   ]
  },
  {
   "cell_type": "markdown",
   "id": "bf2f6051",
   "metadata": {},
   "source": [
    "### Insert dos dados"
   ]
  },
  {
   "cell_type": "code",
   "execution_count": 5,
   "id": "12abd65a",
   "metadata": {},
   "outputs": [
    {
     "name": "stdout",
     "output_type": "stream",
     "text": [
      "Tabelas criadas!\n"
     ]
    }
   ],
   "source": [
    "ddl_dim_fato = [\"\"\"\n",
    "\n",
    "--Criação das tabelas do modelo dimensional\n",
    "                CREATE TABLE IF NOT EXISTS dim_cliente (\n",
    "                id_cliente INT PRIMARY KEY,\n",
    "                nome VARCHAR(100),\n",
    "                idade INT,\n",
    "                cidade VARCHAR(100)\n",
    "                );\n",
    "                \n",
    "                CREATE TABLE IF NOT EXISTS dim_produto (\n",
    "                id_produto INT PRIMARY KEY,\n",
    "                nome_produto VARCHAR(100),\n",
    "                categoria VARCHAR(50),\n",
    "                preco DECIMAL(10,2)\n",
    "                );\n",
    "\n",
    "                CREATE TABLE IF NOT EXISTS fato_pedidos (\n",
    "                id_pedido INT PRIMARY KEY,\n",
    "                id_cliente INT REFERENCES dim_cliente(id_cliente),\n",
    "                id_produto INT REFERENCES dim_produto(id_produto),\n",
    "                data_pedido DATE,\n",
    "                quantidade INT,\n",
    "                valor_total DECIMAL(10,2)\n",
    "                )\n",
    "\"\"\"]\n",
    "\n",
    "# Executar a criação das tabelas\n",
    "with engine.begin() as conn:\n",
    "  for cmd in ddl_dim_fato:\n",
    "    conn.execute(text(cmd))\n",
    "  print(\"Tabelas criadas!\")\n",
    "  "
   ]
  },
  {
   "cell_type": "code",
   "execution_count": 6,
   "id": "66c7c5ad",
   "metadata": {},
   "outputs": [
    {
     "ename": "IntegrityError",
     "evalue": "(psycopg2.errors.UniqueViolation) duplicate key value violates unique constraint \"dim_cliente_pkey\"\nDETAIL:  Key (id_cliente)=(1) already exists.\n\n[SQL: \n\nINSERT INTO dim_cliente (id_cliente, nome, idade, cidade) VALUES (1, 'Daniela da Cunha', 58, 'Dias');\nINSERT INTO dim_cliente (id_cliente, nome, idade, cidade) VALUES (2, 'Marcos Vinicius da Mota', 25, 'Costela');\nINSERT INTO dim_cliente (id_cliente, nome, idade, cidade) VALUES (3, 'Vitor Nascimento', 19, 'da Paz');\nINSERT INTO dim_cliente (id_cliente, nome, idade, cidade) VALUES (4, 'Dra. Caroline Nascimento', 65, 'Mendes da Prata');\nINSERT INTO dim_cliente (id_cliente, nome, idade, cidade) VALUES (5, 'Igor Rezende', 35, 'Nunes');\nINSERT INTO dim_cliente (id_cliente, nome, idade, cidade) VALUES (6, 'Caroline Caldeira', 33, 'Fogaça');\nINSERT INTO dim_cliente (id_cliente, nome, idade, cidade) VALUES (7, 'Heloísa da Mata', 32, 'Lima');\nINSERT INTO dim_cliente (id_cliente, nome, idade, cidade) VALUES (8, 'Sofia da Luz', 26, 'Cardoso');\nINSERT INTO dim_cliente (id_cliente, nome, idade, cidade) VALUES (9, 'Thales Castro', 65, 'Nascimento de Minas');\nINSERT INTO dim_cliente (id_cliente, nome, idade, cidade) VALUES (10, 'Dra. Maria Teixeira', 24, 'Sales');\nINSERT INTO dim_cliente (id_cliente, nome, idade, cidade) VALUES (11, 'Srta. Luna Costa', 61, 'Moreira');\nINSERT INTO dim_cliente (id_cliente, nome, idade, cidade) VALUES (12, 'Antônio da Rosa', 65, 'Novaes');\nINSERT INTO dim_cliente (id_cliente, nome, idade, cidade) VALUES (13, 'Ana Laura Rodrigues', 52, 'Nunes');\nINSERT INTO dim_cliente (id_cliente, nome, idade, cidade) VALUES (14, 'Sr. Thiago Freitas', 23, 'Moura do Campo');\nINSERT INTO dim_cliente (id_cliente, nome, idade, cidade) VALUES (15, 'Vitor Gabriel Melo', 55, 'das Neves Verde');\nINSERT INTO dim_cliente (id_cliente, nome, idade, cidade) VALUES (16, 'Luiz Gustavo da Conceição', 45, 'da Rocha');\nINSERT INTO dim_cliente (id_cliente, nome, idade, cidade) VALUES (17, 'Srta. Ana Carolina Ferreira', 20, 'das Neves');\nINSERT INTO dim_cliente (id_cliente, nome, idade, cidade) VALUES (18, 'Luiz Gustavo Souza', 19, 'Monteiro');\nINSERT INTO dim_cliente (id_cliente, nome, idade, cidade) VALUES (19, 'Bárbara Sales', 23, 'Duarte');\nINSERT INTO dim_cliente (id_cliente, nome, idade, cidade) VALUES (20, 'Agatha Martins', 31, 'Souza');\nINSERT INTO dim_cliente (id_cliente, nome, idade, cidade) VALUES (21, 'Davi Lucas Ferreira', 32, 'da Mata');\nINSERT INTO dim_cliente (id_cliente, nome, idade, cidade) VALUES (22, 'Luna Ribeiro', 50, 'Novaes');\nINSERT INTO dim_cliente (id_cliente, nome, idade, cidade) VALUES (23, 'João Miguel Fernandes', 56, 'Moura de Silva');\nINSERT INTO dim_cliente (id_cliente, nome, idade, cidade) VALUES (24, 'Guilherme Farias', 19, 'Castro');\nINSERT INTO dim_cliente (id_cliente, nome, idade, cidade) VALUES (25, 'Vitor Hugo Azevedo', 53, 'da Cunha');\nINSERT INTO dim_cliente (id_cliente, nome, idade, cidade) VALUES (26, 'Lucas Nascimento', 30, 'Nunes de Mendes');\nINSERT INTO dim_cliente (id_cliente, nome, idade, cidade) VALUES (27, 'Nina da Cruz', 63, 'Silveira Verde');\nINSERT INTO dim_cliente (id_cliente, nome, idade, cidade) VALUES (28, 'Bianca Oliveira', 59, 'da Luz de Cardoso');\nINSERT INTO dim_cliente (id_cliente, nome, idade, cidade) VALUES (29, 'Bernardo Fernandes', 62, 'Farias de Viana');\nINSERT INTO dim_cliente (id_cliente, nome, idade, cidade) VALUES (30, 'Juan da Conceição', 52, 'Sales Grande');\nINSERT INTO dim_cliente (id_cliente, nome, idade, cidade) VALUES (31, 'Dra. Manuela da Conceição', 44, 'Teixeira da Mata');\nINSERT INTO dim_cliente (id_cliente, nome, idade, cidade) VALUES (32, 'Felipe Lopes', 32, 'Ferreira Verde');\nINSERT INTO dim_cliente (id_cliente, nome, idade, cidade) VALUES (33, 'Erick Farias', 46, 'Azevedo Grande');\nINSERT INTO dim_cliente (id_cliente, nome, idade, cidade) VALUES (34, 'Ana Laura Moura', 55, 'Nascimento');\nINSERT INTO dim_cliente (id_cliente, nome, idade, cidade) VALUES (35, 'Bárbara Farias', 35, 'Oliveira do Oeste');\nINSERT INTO dim_cliente (id_cliente, nome, idade, cidade) VALUES (36, 'Thomas das Neves', 69, 'Silva');\nINSERT INTO dim_cliente (id_cliente, nome, idade, cidade) VALUES (37, 'Sr. Bryan Vieira', 18, 'da Cunha de Ribeiro');\nINSERT INTO dim_cliente (id_cliente, nome, idade, cidade) VALUES (38, 'Sr. João Gabriel Santos', 66, 'da Mata');\nINSERT INTO dim_cliente (id_cliente, nome, idade, cidade) VALUES (39, 'Mariana Lima', 69, 'Barros do Galho');\nINSERT INTO dim_cliente (id_cliente, nome, idade, cidade) VALUES (40, 'Dr. Rodrigo Alves', 28, 'Ribeiro do Norte');\nINSERT INTO dim_cliente (id_cliente, nome, idade, cidade) VALUES (41, 'Juan Novaes', 62, 'Viana');\nINSERT INTO dim_cliente (id_cliente, nome, idade, cidade) VALUES (42, 'João Guilherme da Paz', 45, 'Cardoso das Pedras');\nINSERT INTO dim_cliente (id_cliente, nome, idade, cidade) VALUES (43, 'Lorena Aragão', 39, 'Carvalho da Prata');\nINSERT INTO dim_cliente (id_cliente, nome, idade, cidade) VALUES (44, 'Júlia Viana', 35, 'Mendes');\nINSERT INTO dim_cliente (id_cliente, nome, idade, cidade) VALUES (45, 'João Miguel Novaes', 27, 'Campos');\nINSERT INTO dim_cliente (id_cliente, nome, idade, cidade) VALUES (46, 'Caroline das Neves', 31, 'Silveira Verde');\nINSERT INTO dim_cliente (id_cliente, nome, idade, cidade) VALUES (47, 'Breno Martins', 66, 'Silva da Praia');\nINSERT INTO dim_cliente (id_cliente, nome, idade, cidade) VALUES (48, 'Benjamin Jesus', 39, 'Silveira');\nINSERT INTO dim_cliente (id_cliente, nome, idade, cidade) VALUES (49, 'Isis Monteiro', 24, 'Araújo');\nINSERT INTO dim_cliente (id_cliente, nome, idade, cidade) VALUES (50, 'Felipe Cardoso', 23, 'Fogaça da Serra');\nINSERT INTO dim_cliente (id_cliente, nome, idade, cidade) VALUES (51, 'Ana Clara Nascimento', 42, 'Moreira de Caldeira');\nINSERT INTO dim_cliente (id_cliente, nome, idade, cidade) VALUES (52, 'Maria Barbosa', 24, 'Martins de Dias');\nINSERT INTO dim_cliente (id_cliente, nome, idade, cidade) VALUES (53, 'Vicente Silveira', 40, 'Dias de Ramos');\nINSERT INTO dim_cliente (id_cliente, nome, idade, cidade) VALUES (54, 'Nicolas Barros', 40, 'Silva');\nINSERT INTO dim_cliente (id_cliente, nome, idade, cidade) VALUES (55, 'Raquel Santos', 56, 'da Costa');\nINSERT INTO dim_cliente (id_cliente, nome, idade, cidade) VALUES (56, 'Lucas Gabriel Teixeira', 34, 'Ferreira do Galho');\nINSERT INTO dim_cliente (id_cliente, nome, idade, cidade) VALUES (57, 'Luiza das Neves', 69, 'Melo Paulista');\nINSERT INTO dim_cliente (id_cliente, nome, idade, cidade) VALUES (58, 'Calebe Vieira', 20, 'Rocha');\nINSERT INTO dim_cliente (id_cliente, nome, idade, cidade) VALUES (59, 'Luiza Duarte', 64, 'Teixeira');\nINSERT INTO dim_cliente (id_cliente, nome, idade, cidade) VALUES (60, 'Ana Sophia Nascimento', 47, 'da Rocha');\nINSERT INTO dim_cliente (id_cliente, nome, idade, cidade) VALUES (61, 'Júlia Farias', 52, 'Teixeira');\nINSERT INTO dim_cliente (id_cliente, nome, idade, cidade) VALUES (62, 'Dr. Noah Cunha', 25, 'das Neves');\nINSERT INTO dim_cliente (id_cliente, nome, idade, cidade) VALUES (63, 'Gabrielly Rocha', 42, 'Porto');\nINSERT INTO dim_cliente (id_cliente, nome, idade, cidade) VALUES (64, 'Luana Barbosa', 23, 'Barros Verde');\nINSERT INTO dim_cliente (id_cliente, nome, idade, cidade) VALUES (65, 'Srta. Amanda Ramos', 53, 'Freitas');\nINSERT INTO dim_cliente (id_cliente, nome, idade, cidade) VALUES (66, 'Evelyn da Mota', 36, 'Jesus');\nINSERT INTO dim_cliente (id_cliente, nome, idade, cidade) VALUES (67, 'Lorena Porto', 58, 'Martins da Praia');\nINSERT INTO dim_cliente (id_cliente, nome, idade, cidade) VALUES (68, 'Valentina Carvalho', 57, 'Viana');\nINSERT INTO dim_cliente (id_cliente, nome, idade, cidade) VALUES (69, 'Maysa Pereira', 41, 'Costela do Campo');\nINSERT INTO dim_cliente (id_cliente, nome, idade, cidade) VALUES (70, 'Sr. Anthony Campos', 54, 'Martins de Novaes');\nINSERT INTO dim_cliente (id_cliente, nome, idade, cidade) VALUES (71, 'Srta. Ana Carolina Nogueira', 30, 'Monteiro');\nINSERT INTO dim_cliente (id_cliente, nome, idade, cidade) VALUES (72, 'Thales Moreira', 63, 'Nogueira Alegre');\nINSERT INTO dim_cliente (id_cliente, nome, idade, cidade) VALUES (73, 'Luigi Porto', 22, 'Sales de da Rosa');\nINSERT INTO dim_cliente (id_cliente, nome, idade, cidade) VALUES (74, 'Arthur Rezende', 20, 'Porto');\nINSERT INTO dim_cliente (id_cliente, nome, idade, cidade) VALUES (75, 'Sophia Campos', 60, 'Silva');\nINSERT INTO dim_cliente (id_cliente, nome, idade, cidade) VALUES (76, 'Srta. Kamilly Sales', 32, 'da Luz');\nINSERT INTO dim_cliente (id_cliente, nome, idade, cidade) VALUES (77, 'Maria da Rosa', 67, 'das Neves do Amparo');\nINSERT INTO dim_cliente (id_cliente, nome, idade, cidade) VALUES (78, 'Ana Beatriz Melo', 36, 'da Paz');\nINSERT INTO dim_cliente (id_cliente, nome, idade, cidade) VALUES (79, 'Emilly Gonçalves', 23, 'Nascimento do Norte');\nINSERT INTO dim_cliente (id_cliente, nome, idade, cidade) VALUES (80, 'João Aragão', 32, 'Almeida');\nINSERT INTO dim_cliente (id_cliente, nome, idade, cidade) VALUES (81, 'Stella Caldeira', 24, 'Ribeiro do Sul');\nINSERT INTO dim_cliente (id_cliente, nome, idade, cidade) VALUES (82, 'Ana Lívia Peixoto', 42, 'Lopes');\nINSERT INTO dim_cliente (id_cliente, nome, idade, cidade) VALUES (83, 'Francisco Cunha', 35, 'da Costa');\nINSERT INTO dim_cliente (id_cliente, nome, idade, cidade) VALUES (84, 'Francisco Rezende', 47, 'da Costa');\nINSERT INTO dim_cliente (id_cliente, nome, idade, cidade) VALUES (85, 'Sr. Fernando Santos', 58, 'Barros');\nINSERT INTO dim_cliente (id_cliente, nome, idade, cidade) VALUES (86, 'Ana Júlia Nascimento', 41, 'Araújo');\nINSERT INTO dim_cliente (id_cliente, nome, idade, cidade) VALUES (87, 'Sr. Davi Luiz Moraes', 28, 'Nunes');\nINSERT INTO dim_cliente (id_cliente, nome, idade, cidade) VALUES (88, 'Juan Nunes', 41, 'Almeida Grande');\nINSERT INTO dim_cliente (id_cliente, nome, idade, cidade) VALUES (89, 'Ana Clara Rocha', 40, 'Fernandes');\nINSERT INTO dim_cliente (id_cliente, nome, idade, cidade) VALUES (90, 'Maria Alice Nascimento', 31, 'da Rocha');\nINSERT INTO dim_cliente (id_cliente, nome, idade, cidade) VALUES (91, 'Juan Moraes', 60, 'Rodrigues Verde');\nINSERT INTO dim_cliente (id_cliente, nome, idade, cidade) VALUES (92, 'Isis da Mata', 35, 'Teixeira das Pedras');\nINSERT INTO dim_cliente (id_cliente, nome, idade, cidade) VALUES (93, 'Sra. Emilly Nunes', 62, 'da Luz do Norte');\nINSERT INTO dim_cliente (id_cliente, nome, idade, cidade) VALUES (94, 'Thiago Duarte', 61, 'Nascimento');\nINSERT INTO dim_cliente (id_cliente, nome, idade, cidade) VALUES (95, 'Emanuella Fogaça', 59, 'Lopes do Norte');\nINSERT INTO dim_cliente (id_cliente, nome, idade, cidade) VALUES (96, 'Lavínia Lima', 22, 'Dias');\nINSERT INTO dim_cliente (id_cliente, nome, idade, cidade) VALUES (97, 'Bianca Fernandes', 56, 'Rodrigues de Ribeiro');\nINSERT INTO dim_cliente (id_cliente, nome, idade, cidade) VALUES (98, 'Pedro Moreira', 58, 'Vieira Paulista');\nINSERT INTO dim_cliente (id_cliente, nome, idade, cidade) VALUES (99, 'Raul Azevedo', 28, 'da Mata');\nINSERT INTO dim_cliente (id_cliente, nome, idade, cidade) VALUES (100, 'Dr. Pedro Miguel Porto', 52, 'Barbosa');\n]\n(Background on this error at: https://sqlalche.me/e/20/gkpj)",
     "output_type": "error",
     "traceback": [
      "\u001b[1;31m---------------------------------------------------------------------------\u001b[0m",
      "\u001b[1;31mUniqueViolation\u001b[0m                           Traceback (most recent call last)",
      "File \u001b[1;32mc:\\Users\\gabri\\AppData\\Local\\Programs\\Python\\Python310\\lib\\site-packages\\sqlalchemy\\engine\\base.py:1967\u001b[0m, in \u001b[0;36mConnection._exec_single_context\u001b[1;34m(self, dialect, context, statement, parameters)\u001b[0m\n\u001b[0;32m   1966\u001b[0m     \u001b[38;5;28;01mif\u001b[39;00m \u001b[38;5;129;01mnot\u001b[39;00m evt_handled:\n\u001b[1;32m-> 1967\u001b[0m         \u001b[38;5;28;43mself\u001b[39;49m\u001b[38;5;241;43m.\u001b[39;49m\u001b[43mdialect\u001b[49m\u001b[38;5;241;43m.\u001b[39;49m\u001b[43mdo_execute\u001b[49m\u001b[43m(\u001b[49m\n\u001b[0;32m   1968\u001b[0m \u001b[43m            \u001b[49m\u001b[43mcursor\u001b[49m\u001b[43m,\u001b[49m\u001b[43m \u001b[49m\u001b[43mstr_statement\u001b[49m\u001b[43m,\u001b[49m\u001b[43m \u001b[49m\u001b[43meffective_parameters\u001b[49m\u001b[43m,\u001b[49m\u001b[43m \u001b[49m\u001b[43mcontext\u001b[49m\n\u001b[0;32m   1969\u001b[0m \u001b[43m        \u001b[49m\u001b[43m)\u001b[49m\n\u001b[0;32m   1971\u001b[0m \u001b[38;5;28;01mif\u001b[39;00m \u001b[38;5;28mself\u001b[39m\u001b[38;5;241m.\u001b[39m_has_events \u001b[38;5;129;01mor\u001b[39;00m \u001b[38;5;28mself\u001b[39m\u001b[38;5;241m.\u001b[39mengine\u001b[38;5;241m.\u001b[39m_has_events:\n",
      "File \u001b[1;32mc:\\Users\\gabri\\AppData\\Local\\Programs\\Python\\Python310\\lib\\site-packages\\sqlalchemy\\engine\\default.py:951\u001b[0m, in \u001b[0;36mDefaultDialect.do_execute\u001b[1;34m(self, cursor, statement, parameters, context)\u001b[0m\n\u001b[0;32m    950\u001b[0m \u001b[38;5;28;01mdef\u001b[39;00m \u001b[38;5;21mdo_execute\u001b[39m(\u001b[38;5;28mself\u001b[39m, cursor, statement, parameters, context\u001b[38;5;241m=\u001b[39m\u001b[38;5;28;01mNone\u001b[39;00m):\n\u001b[1;32m--> 951\u001b[0m     \u001b[43mcursor\u001b[49m\u001b[38;5;241;43m.\u001b[39;49m\u001b[43mexecute\u001b[49m\u001b[43m(\u001b[49m\u001b[43mstatement\u001b[49m\u001b[43m,\u001b[49m\u001b[43m \u001b[49m\u001b[43mparameters\u001b[49m\u001b[43m)\u001b[49m\n",
      "\u001b[1;31mUniqueViolation\u001b[0m: duplicate key value violates unique constraint \"dim_cliente_pkey\"\nDETAIL:  Key (id_cliente)=(1) already exists.\n",
      "\nThe above exception was the direct cause of the following exception:\n",
      "\u001b[1;31mIntegrityError\u001b[0m                            Traceback (most recent call last)",
      "Cell \u001b[1;32mIn[6], line 108\u001b[0m\n\u001b[0;32m    106\u001b[0m \u001b[38;5;28;01mwith\u001b[39;00m engine\u001b[38;5;241m.\u001b[39mbegin() \u001b[38;5;28;01mas\u001b[39;00m conn:\n\u001b[0;32m    107\u001b[0m   \u001b[38;5;28;01mfor\u001b[39;00m cmd \u001b[38;5;129;01min\u001b[39;00m ddl_dim_fato:\n\u001b[1;32m--> 108\u001b[0m     \u001b[43mconn\u001b[49m\u001b[38;5;241;43m.\u001b[39;49m\u001b[43mexecute\u001b[49m\u001b[43m(\u001b[49m\u001b[43mtext\u001b[49m\u001b[43m(\u001b[49m\u001b[43mcmd\u001b[49m\u001b[43m)\u001b[49m\u001b[43m)\u001b[49m\n\u001b[0;32m    109\u001b[0m   \u001b[38;5;28mprint\u001b[39m(\u001b[38;5;124m\"\u001b[39m\u001b[38;5;124mDados inseridos!\u001b[39m\u001b[38;5;124m\"\u001b[39m)\n",
      "File \u001b[1;32mc:\\Users\\gabri\\AppData\\Local\\Programs\\Python\\Python310\\lib\\site-packages\\sqlalchemy\\engine\\base.py:1419\u001b[0m, in \u001b[0;36mConnection.execute\u001b[1;34m(self, statement, parameters, execution_options)\u001b[0m\n\u001b[0;32m   1417\u001b[0m     \u001b[38;5;28;01mraise\u001b[39;00m exc\u001b[38;5;241m.\u001b[39mObjectNotExecutableError(statement) \u001b[38;5;28;01mfrom\u001b[39;00m \u001b[38;5;21;01merr\u001b[39;00m\n\u001b[0;32m   1418\u001b[0m \u001b[38;5;28;01melse\u001b[39;00m:\n\u001b[1;32m-> 1419\u001b[0m     \u001b[38;5;28;01mreturn\u001b[39;00m \u001b[43mmeth\u001b[49m\u001b[43m(\u001b[49m\n\u001b[0;32m   1420\u001b[0m \u001b[43m        \u001b[49m\u001b[38;5;28;43mself\u001b[39;49m\u001b[43m,\u001b[49m\n\u001b[0;32m   1421\u001b[0m \u001b[43m        \u001b[49m\u001b[43mdistilled_parameters\u001b[49m\u001b[43m,\u001b[49m\n\u001b[0;32m   1422\u001b[0m \u001b[43m        \u001b[49m\u001b[43mexecution_options\u001b[49m\u001b[43m \u001b[49m\u001b[38;5;129;43;01mor\u001b[39;49;00m\u001b[43m \u001b[49m\u001b[43mNO_OPTIONS\u001b[49m\u001b[43m,\u001b[49m\n\u001b[0;32m   1423\u001b[0m \u001b[43m    \u001b[49m\u001b[43m)\u001b[49m\n",
      "File \u001b[1;32mc:\\Users\\gabri\\AppData\\Local\\Programs\\Python\\Python310\\lib\\site-packages\\sqlalchemy\\sql\\elements.py:526\u001b[0m, in \u001b[0;36mClauseElement._execute_on_connection\u001b[1;34m(self, connection, distilled_params, execution_options)\u001b[0m\n\u001b[0;32m    524\u001b[0m     \u001b[38;5;28;01mif\u001b[39;00m TYPE_CHECKING:\n\u001b[0;32m    525\u001b[0m         \u001b[38;5;28;01massert\u001b[39;00m \u001b[38;5;28misinstance\u001b[39m(\u001b[38;5;28mself\u001b[39m, Executable)\n\u001b[1;32m--> 526\u001b[0m     \u001b[38;5;28;01mreturn\u001b[39;00m \u001b[43mconnection\u001b[49m\u001b[38;5;241;43m.\u001b[39;49m\u001b[43m_execute_clauseelement\u001b[49m\u001b[43m(\u001b[49m\n\u001b[0;32m    527\u001b[0m \u001b[43m        \u001b[49m\u001b[38;5;28;43mself\u001b[39;49m\u001b[43m,\u001b[49m\u001b[43m \u001b[49m\u001b[43mdistilled_params\u001b[49m\u001b[43m,\u001b[49m\u001b[43m \u001b[49m\u001b[43mexecution_options\u001b[49m\n\u001b[0;32m    528\u001b[0m \u001b[43m    \u001b[49m\u001b[43m)\u001b[49m\n\u001b[0;32m    529\u001b[0m \u001b[38;5;28;01melse\u001b[39;00m:\n\u001b[0;32m    530\u001b[0m     \u001b[38;5;28;01mraise\u001b[39;00m exc\u001b[38;5;241m.\u001b[39mObjectNotExecutableError(\u001b[38;5;28mself\u001b[39m)\n",
      "File \u001b[1;32mc:\\Users\\gabri\\AppData\\Local\\Programs\\Python\\Python310\\lib\\site-packages\\sqlalchemy\\engine\\base.py:1641\u001b[0m, in \u001b[0;36mConnection._execute_clauseelement\u001b[1;34m(self, elem, distilled_parameters, execution_options)\u001b[0m\n\u001b[0;32m   1629\u001b[0m compiled_cache: Optional[CompiledCacheType] \u001b[38;5;241m=\u001b[39m execution_options\u001b[38;5;241m.\u001b[39mget(\n\u001b[0;32m   1630\u001b[0m     \u001b[38;5;124m\"\u001b[39m\u001b[38;5;124mcompiled_cache\u001b[39m\u001b[38;5;124m\"\u001b[39m, \u001b[38;5;28mself\u001b[39m\u001b[38;5;241m.\u001b[39mengine\u001b[38;5;241m.\u001b[39m_compiled_cache\n\u001b[0;32m   1631\u001b[0m )\n\u001b[0;32m   1633\u001b[0m compiled_sql, extracted_params, cache_hit \u001b[38;5;241m=\u001b[39m elem\u001b[38;5;241m.\u001b[39m_compile_w_cache(\n\u001b[0;32m   1634\u001b[0m     dialect\u001b[38;5;241m=\u001b[39mdialect,\n\u001b[0;32m   1635\u001b[0m     compiled_cache\u001b[38;5;241m=\u001b[39mcompiled_cache,\n\u001b[1;32m   (...)\u001b[0m\n\u001b[0;32m   1639\u001b[0m     linting\u001b[38;5;241m=\u001b[39m\u001b[38;5;28mself\u001b[39m\u001b[38;5;241m.\u001b[39mdialect\u001b[38;5;241m.\u001b[39mcompiler_linting \u001b[38;5;241m|\u001b[39m compiler\u001b[38;5;241m.\u001b[39mWARN_LINTING,\n\u001b[0;32m   1640\u001b[0m )\n\u001b[1;32m-> 1641\u001b[0m ret \u001b[38;5;241m=\u001b[39m \u001b[38;5;28;43mself\u001b[39;49m\u001b[38;5;241;43m.\u001b[39;49m\u001b[43m_execute_context\u001b[49m\u001b[43m(\u001b[49m\n\u001b[0;32m   1642\u001b[0m \u001b[43m    \u001b[49m\u001b[43mdialect\u001b[49m\u001b[43m,\u001b[49m\n\u001b[0;32m   1643\u001b[0m \u001b[43m    \u001b[49m\u001b[43mdialect\u001b[49m\u001b[38;5;241;43m.\u001b[39;49m\u001b[43mexecution_ctx_cls\u001b[49m\u001b[38;5;241;43m.\u001b[39;49m\u001b[43m_init_compiled\u001b[49m\u001b[43m,\u001b[49m\n\u001b[0;32m   1644\u001b[0m \u001b[43m    \u001b[49m\u001b[43mcompiled_sql\u001b[49m\u001b[43m,\u001b[49m\n\u001b[0;32m   1645\u001b[0m \u001b[43m    \u001b[49m\u001b[43mdistilled_parameters\u001b[49m\u001b[43m,\u001b[49m\n\u001b[0;32m   1646\u001b[0m \u001b[43m    \u001b[49m\u001b[43mexecution_options\u001b[49m\u001b[43m,\u001b[49m\n\u001b[0;32m   1647\u001b[0m \u001b[43m    \u001b[49m\u001b[43mcompiled_sql\u001b[49m\u001b[43m,\u001b[49m\n\u001b[0;32m   1648\u001b[0m \u001b[43m    \u001b[49m\u001b[43mdistilled_parameters\u001b[49m\u001b[43m,\u001b[49m\n\u001b[0;32m   1649\u001b[0m \u001b[43m    \u001b[49m\u001b[43melem\u001b[49m\u001b[43m,\u001b[49m\n\u001b[0;32m   1650\u001b[0m \u001b[43m    \u001b[49m\u001b[43mextracted_params\u001b[49m\u001b[43m,\u001b[49m\n\u001b[0;32m   1651\u001b[0m \u001b[43m    \u001b[49m\u001b[43mcache_hit\u001b[49m\u001b[38;5;241;43m=\u001b[39;49m\u001b[43mcache_hit\u001b[49m\u001b[43m,\u001b[49m\n\u001b[0;32m   1652\u001b[0m \u001b[43m\u001b[49m\u001b[43m)\u001b[49m\n\u001b[0;32m   1653\u001b[0m \u001b[38;5;28;01mif\u001b[39;00m has_events:\n\u001b[0;32m   1654\u001b[0m     \u001b[38;5;28mself\u001b[39m\u001b[38;5;241m.\u001b[39mdispatch\u001b[38;5;241m.\u001b[39mafter_execute(\n\u001b[0;32m   1655\u001b[0m         \u001b[38;5;28mself\u001b[39m,\n\u001b[0;32m   1656\u001b[0m         elem,\n\u001b[1;32m   (...)\u001b[0m\n\u001b[0;32m   1660\u001b[0m         ret,\n\u001b[0;32m   1661\u001b[0m     )\n",
      "File \u001b[1;32mc:\\Users\\gabri\\AppData\\Local\\Programs\\Python\\Python310\\lib\\site-packages\\sqlalchemy\\engine\\base.py:1846\u001b[0m, in \u001b[0;36mConnection._execute_context\u001b[1;34m(self, dialect, constructor, statement, parameters, execution_options, *args, **kw)\u001b[0m\n\u001b[0;32m   1844\u001b[0m     \u001b[38;5;28;01mreturn\u001b[39;00m \u001b[38;5;28mself\u001b[39m\u001b[38;5;241m.\u001b[39m_exec_insertmany_context(dialect, context)\n\u001b[0;32m   1845\u001b[0m \u001b[38;5;28;01melse\u001b[39;00m:\n\u001b[1;32m-> 1846\u001b[0m     \u001b[38;5;28;01mreturn\u001b[39;00m \u001b[38;5;28;43mself\u001b[39;49m\u001b[38;5;241;43m.\u001b[39;49m\u001b[43m_exec_single_context\u001b[49m\u001b[43m(\u001b[49m\n\u001b[0;32m   1847\u001b[0m \u001b[43m        \u001b[49m\u001b[43mdialect\u001b[49m\u001b[43m,\u001b[49m\u001b[43m \u001b[49m\u001b[43mcontext\u001b[49m\u001b[43m,\u001b[49m\u001b[43m \u001b[49m\u001b[43mstatement\u001b[49m\u001b[43m,\u001b[49m\u001b[43m \u001b[49m\u001b[43mparameters\u001b[49m\n\u001b[0;32m   1848\u001b[0m \u001b[43m    \u001b[49m\u001b[43m)\u001b[49m\n",
      "File \u001b[1;32mc:\\Users\\gabri\\AppData\\Local\\Programs\\Python\\Python310\\lib\\site-packages\\sqlalchemy\\engine\\base.py:1986\u001b[0m, in \u001b[0;36mConnection._exec_single_context\u001b[1;34m(self, dialect, context, statement, parameters)\u001b[0m\n\u001b[0;32m   1983\u001b[0m     result \u001b[38;5;241m=\u001b[39m context\u001b[38;5;241m.\u001b[39m_setup_result_proxy()\n\u001b[0;32m   1985\u001b[0m \u001b[38;5;28;01mexcept\u001b[39;00m \u001b[38;5;167;01mBaseException\u001b[39;00m \u001b[38;5;28;01mas\u001b[39;00m e:\n\u001b[1;32m-> 1986\u001b[0m     \u001b[38;5;28;43mself\u001b[39;49m\u001b[38;5;241;43m.\u001b[39;49m\u001b[43m_handle_dbapi_exception\u001b[49m\u001b[43m(\u001b[49m\n\u001b[0;32m   1987\u001b[0m \u001b[43m        \u001b[49m\u001b[43me\u001b[49m\u001b[43m,\u001b[49m\u001b[43m \u001b[49m\u001b[43mstr_statement\u001b[49m\u001b[43m,\u001b[49m\u001b[43m \u001b[49m\u001b[43meffective_parameters\u001b[49m\u001b[43m,\u001b[49m\u001b[43m \u001b[49m\u001b[43mcursor\u001b[49m\u001b[43m,\u001b[49m\u001b[43m \u001b[49m\u001b[43mcontext\u001b[49m\n\u001b[0;32m   1988\u001b[0m \u001b[43m    \u001b[49m\u001b[43m)\u001b[49m\n\u001b[0;32m   1990\u001b[0m \u001b[38;5;28;01mreturn\u001b[39;00m result\n",
      "File \u001b[1;32mc:\\Users\\gabri\\AppData\\Local\\Programs\\Python\\Python310\\lib\\site-packages\\sqlalchemy\\engine\\base.py:2355\u001b[0m, in \u001b[0;36mConnection._handle_dbapi_exception\u001b[1;34m(self, e, statement, parameters, cursor, context, is_sub_exec)\u001b[0m\n\u001b[0;32m   2353\u001b[0m \u001b[38;5;28;01melif\u001b[39;00m should_wrap:\n\u001b[0;32m   2354\u001b[0m     \u001b[38;5;28;01massert\u001b[39;00m sqlalchemy_exception \u001b[38;5;129;01mis\u001b[39;00m \u001b[38;5;129;01mnot\u001b[39;00m \u001b[38;5;28;01mNone\u001b[39;00m\n\u001b[1;32m-> 2355\u001b[0m     \u001b[38;5;28;01mraise\u001b[39;00m sqlalchemy_exception\u001b[38;5;241m.\u001b[39mwith_traceback(exc_info[\u001b[38;5;241m2\u001b[39m]) \u001b[38;5;28;01mfrom\u001b[39;00m \u001b[38;5;21;01me\u001b[39;00m\n\u001b[0;32m   2356\u001b[0m \u001b[38;5;28;01melse\u001b[39;00m:\n\u001b[0;32m   2357\u001b[0m     \u001b[38;5;28;01massert\u001b[39;00m exc_info[\u001b[38;5;241m1\u001b[39m] \u001b[38;5;129;01mis\u001b[39;00m \u001b[38;5;129;01mnot\u001b[39;00m \u001b[38;5;28;01mNone\u001b[39;00m\n",
      "File \u001b[1;32mc:\\Users\\gabri\\AppData\\Local\\Programs\\Python\\Python310\\lib\\site-packages\\sqlalchemy\\engine\\base.py:1967\u001b[0m, in \u001b[0;36mConnection._exec_single_context\u001b[1;34m(self, dialect, context, statement, parameters)\u001b[0m\n\u001b[0;32m   1965\u001b[0m                 \u001b[38;5;28;01mbreak\u001b[39;00m\n\u001b[0;32m   1966\u001b[0m     \u001b[38;5;28;01mif\u001b[39;00m \u001b[38;5;129;01mnot\u001b[39;00m evt_handled:\n\u001b[1;32m-> 1967\u001b[0m         \u001b[38;5;28;43mself\u001b[39;49m\u001b[38;5;241;43m.\u001b[39;49m\u001b[43mdialect\u001b[49m\u001b[38;5;241;43m.\u001b[39;49m\u001b[43mdo_execute\u001b[49m\u001b[43m(\u001b[49m\n\u001b[0;32m   1968\u001b[0m \u001b[43m            \u001b[49m\u001b[43mcursor\u001b[49m\u001b[43m,\u001b[49m\u001b[43m \u001b[49m\u001b[43mstr_statement\u001b[49m\u001b[43m,\u001b[49m\u001b[43m \u001b[49m\u001b[43meffective_parameters\u001b[49m\u001b[43m,\u001b[49m\u001b[43m \u001b[49m\u001b[43mcontext\u001b[49m\n\u001b[0;32m   1969\u001b[0m \u001b[43m        \u001b[49m\u001b[43m)\u001b[49m\n\u001b[0;32m   1971\u001b[0m \u001b[38;5;28;01mif\u001b[39;00m \u001b[38;5;28mself\u001b[39m\u001b[38;5;241m.\u001b[39m_has_events \u001b[38;5;129;01mor\u001b[39;00m \u001b[38;5;28mself\u001b[39m\u001b[38;5;241m.\u001b[39mengine\u001b[38;5;241m.\u001b[39m_has_events:\n\u001b[0;32m   1972\u001b[0m     \u001b[38;5;28mself\u001b[39m\u001b[38;5;241m.\u001b[39mdispatch\u001b[38;5;241m.\u001b[39mafter_cursor_execute(\n\u001b[0;32m   1973\u001b[0m         \u001b[38;5;28mself\u001b[39m,\n\u001b[0;32m   1974\u001b[0m         cursor,\n\u001b[1;32m   (...)\u001b[0m\n\u001b[0;32m   1978\u001b[0m         context\u001b[38;5;241m.\u001b[39mexecutemany,\n\u001b[0;32m   1979\u001b[0m     )\n",
      "File \u001b[1;32mc:\\Users\\gabri\\AppData\\Local\\Programs\\Python\\Python310\\lib\\site-packages\\sqlalchemy\\engine\\default.py:951\u001b[0m, in \u001b[0;36mDefaultDialect.do_execute\u001b[1;34m(self, cursor, statement, parameters, context)\u001b[0m\n\u001b[0;32m    950\u001b[0m \u001b[38;5;28;01mdef\u001b[39;00m \u001b[38;5;21mdo_execute\u001b[39m(\u001b[38;5;28mself\u001b[39m, cursor, statement, parameters, context\u001b[38;5;241m=\u001b[39m\u001b[38;5;28;01mNone\u001b[39;00m):\n\u001b[1;32m--> 951\u001b[0m     \u001b[43mcursor\u001b[49m\u001b[38;5;241;43m.\u001b[39;49m\u001b[43mexecute\u001b[49m\u001b[43m(\u001b[49m\u001b[43mstatement\u001b[49m\u001b[43m,\u001b[49m\u001b[43m \u001b[49m\u001b[43mparameters\u001b[49m\u001b[43m)\u001b[49m\n",
      "\u001b[1;31mIntegrityError\u001b[0m: (psycopg2.errors.UniqueViolation) duplicate key value violates unique constraint \"dim_cliente_pkey\"\nDETAIL:  Key (id_cliente)=(1) already exists.\n\n[SQL: \n\nINSERT INTO dim_cliente (id_cliente, nome, idade, cidade) VALUES (1, 'Daniela da Cunha', 58, 'Dias');\nINSERT INTO dim_cliente (id_cliente, nome, idade, cidade) VALUES (2, 'Marcos Vinicius da Mota', 25, 'Costela');\nINSERT INTO dim_cliente (id_cliente, nome, idade, cidade) VALUES (3, 'Vitor Nascimento', 19, 'da Paz');\nINSERT INTO dim_cliente (id_cliente, nome, idade, cidade) VALUES (4, 'Dra. Caroline Nascimento', 65, 'Mendes da Prata');\nINSERT INTO dim_cliente (id_cliente, nome, idade, cidade) VALUES (5, 'Igor Rezende', 35, 'Nunes');\nINSERT INTO dim_cliente (id_cliente, nome, idade, cidade) VALUES (6, 'Caroline Caldeira', 33, 'Fogaça');\nINSERT INTO dim_cliente (id_cliente, nome, idade, cidade) VALUES (7, 'Heloísa da Mata', 32, 'Lima');\nINSERT INTO dim_cliente (id_cliente, nome, idade, cidade) VALUES (8, 'Sofia da Luz', 26, 'Cardoso');\nINSERT INTO dim_cliente (id_cliente, nome, idade, cidade) VALUES (9, 'Thales Castro', 65, 'Nascimento de Minas');\nINSERT INTO dim_cliente (id_cliente, nome, idade, cidade) VALUES (10, 'Dra. Maria Teixeira', 24, 'Sales');\nINSERT INTO dim_cliente (id_cliente, nome, idade, cidade) VALUES (11, 'Srta. Luna Costa', 61, 'Moreira');\nINSERT INTO dim_cliente (id_cliente, nome, idade, cidade) VALUES (12, 'Antônio da Rosa', 65, 'Novaes');\nINSERT INTO dim_cliente (id_cliente, nome, idade, cidade) VALUES (13, 'Ana Laura Rodrigues', 52, 'Nunes');\nINSERT INTO dim_cliente (id_cliente, nome, idade, cidade) VALUES (14, 'Sr. Thiago Freitas', 23, 'Moura do Campo');\nINSERT INTO dim_cliente (id_cliente, nome, idade, cidade) VALUES (15, 'Vitor Gabriel Melo', 55, 'das Neves Verde');\nINSERT INTO dim_cliente (id_cliente, nome, idade, cidade) VALUES (16, 'Luiz Gustavo da Conceição', 45, 'da Rocha');\nINSERT INTO dim_cliente (id_cliente, nome, idade, cidade) VALUES (17, 'Srta. Ana Carolina Ferreira', 20, 'das Neves');\nINSERT INTO dim_cliente (id_cliente, nome, idade, cidade) VALUES (18, 'Luiz Gustavo Souza', 19, 'Monteiro');\nINSERT INTO dim_cliente (id_cliente, nome, idade, cidade) VALUES (19, 'Bárbara Sales', 23, 'Duarte');\nINSERT INTO dim_cliente (id_cliente, nome, idade, cidade) VALUES (20, 'Agatha Martins', 31, 'Souza');\nINSERT INTO dim_cliente (id_cliente, nome, idade, cidade) VALUES (21, 'Davi Lucas Ferreira', 32, 'da Mata');\nINSERT INTO dim_cliente (id_cliente, nome, idade, cidade) VALUES (22, 'Luna Ribeiro', 50, 'Novaes');\nINSERT INTO dim_cliente (id_cliente, nome, idade, cidade) VALUES (23, 'João Miguel Fernandes', 56, 'Moura de Silva');\nINSERT INTO dim_cliente (id_cliente, nome, idade, cidade) VALUES (24, 'Guilherme Farias', 19, 'Castro');\nINSERT INTO dim_cliente (id_cliente, nome, idade, cidade) VALUES (25, 'Vitor Hugo Azevedo', 53, 'da Cunha');\nINSERT INTO dim_cliente (id_cliente, nome, idade, cidade) VALUES (26, 'Lucas Nascimento', 30, 'Nunes de Mendes');\nINSERT INTO dim_cliente (id_cliente, nome, idade, cidade) VALUES (27, 'Nina da Cruz', 63, 'Silveira Verde');\nINSERT INTO dim_cliente (id_cliente, nome, idade, cidade) VALUES (28, 'Bianca Oliveira', 59, 'da Luz de Cardoso');\nINSERT INTO dim_cliente (id_cliente, nome, idade, cidade) VALUES (29, 'Bernardo Fernandes', 62, 'Farias de Viana');\nINSERT INTO dim_cliente (id_cliente, nome, idade, cidade) VALUES (30, 'Juan da Conceição', 52, 'Sales Grande');\nINSERT INTO dim_cliente (id_cliente, nome, idade, cidade) VALUES (31, 'Dra. Manuela da Conceição', 44, 'Teixeira da Mata');\nINSERT INTO dim_cliente (id_cliente, nome, idade, cidade) VALUES (32, 'Felipe Lopes', 32, 'Ferreira Verde');\nINSERT INTO dim_cliente (id_cliente, nome, idade, cidade) VALUES (33, 'Erick Farias', 46, 'Azevedo Grande');\nINSERT INTO dim_cliente (id_cliente, nome, idade, cidade) VALUES (34, 'Ana Laura Moura', 55, 'Nascimento');\nINSERT INTO dim_cliente (id_cliente, nome, idade, cidade) VALUES (35, 'Bárbara Farias', 35, 'Oliveira do Oeste');\nINSERT INTO dim_cliente (id_cliente, nome, idade, cidade) VALUES (36, 'Thomas das Neves', 69, 'Silva');\nINSERT INTO dim_cliente (id_cliente, nome, idade, cidade) VALUES (37, 'Sr. Bryan Vieira', 18, 'da Cunha de Ribeiro');\nINSERT INTO dim_cliente (id_cliente, nome, idade, cidade) VALUES (38, 'Sr. João Gabriel Santos', 66, 'da Mata');\nINSERT INTO dim_cliente (id_cliente, nome, idade, cidade) VALUES (39, 'Mariana Lima', 69, 'Barros do Galho');\nINSERT INTO dim_cliente (id_cliente, nome, idade, cidade) VALUES (40, 'Dr. Rodrigo Alves', 28, 'Ribeiro do Norte');\nINSERT INTO dim_cliente (id_cliente, nome, idade, cidade) VALUES (41, 'Juan Novaes', 62, 'Viana');\nINSERT INTO dim_cliente (id_cliente, nome, idade, cidade) VALUES (42, 'João Guilherme da Paz', 45, 'Cardoso das Pedras');\nINSERT INTO dim_cliente (id_cliente, nome, idade, cidade) VALUES (43, 'Lorena Aragão', 39, 'Carvalho da Prata');\nINSERT INTO dim_cliente (id_cliente, nome, idade, cidade) VALUES (44, 'Júlia Viana', 35, 'Mendes');\nINSERT INTO dim_cliente (id_cliente, nome, idade, cidade) VALUES (45, 'João Miguel Novaes', 27, 'Campos');\nINSERT INTO dim_cliente (id_cliente, nome, idade, cidade) VALUES (46, 'Caroline das Neves', 31, 'Silveira Verde');\nINSERT INTO dim_cliente (id_cliente, nome, idade, cidade) VALUES (47, 'Breno Martins', 66, 'Silva da Praia');\nINSERT INTO dim_cliente (id_cliente, nome, idade, cidade) VALUES (48, 'Benjamin Jesus', 39, 'Silveira');\nINSERT INTO dim_cliente (id_cliente, nome, idade, cidade) VALUES (49, 'Isis Monteiro', 24, 'Araújo');\nINSERT INTO dim_cliente (id_cliente, nome, idade, cidade) VALUES (50, 'Felipe Cardoso', 23, 'Fogaça da Serra');\nINSERT INTO dim_cliente (id_cliente, nome, idade, cidade) VALUES (51, 'Ana Clara Nascimento', 42, 'Moreira de Caldeira');\nINSERT INTO dim_cliente (id_cliente, nome, idade, cidade) VALUES (52, 'Maria Barbosa', 24, 'Martins de Dias');\nINSERT INTO dim_cliente (id_cliente, nome, idade, cidade) VALUES (53, 'Vicente Silveira', 40, 'Dias de Ramos');\nINSERT INTO dim_cliente (id_cliente, nome, idade, cidade) VALUES (54, 'Nicolas Barros', 40, 'Silva');\nINSERT INTO dim_cliente (id_cliente, nome, idade, cidade) VALUES (55, 'Raquel Santos', 56, 'da Costa');\nINSERT INTO dim_cliente (id_cliente, nome, idade, cidade) VALUES (56, 'Lucas Gabriel Teixeira', 34, 'Ferreira do Galho');\nINSERT INTO dim_cliente (id_cliente, nome, idade, cidade) VALUES (57, 'Luiza das Neves', 69, 'Melo Paulista');\nINSERT INTO dim_cliente (id_cliente, nome, idade, cidade) VALUES (58, 'Calebe Vieira', 20, 'Rocha');\nINSERT INTO dim_cliente (id_cliente, nome, idade, cidade) VALUES (59, 'Luiza Duarte', 64, 'Teixeira');\nINSERT INTO dim_cliente (id_cliente, nome, idade, cidade) VALUES (60, 'Ana Sophia Nascimento', 47, 'da Rocha');\nINSERT INTO dim_cliente (id_cliente, nome, idade, cidade) VALUES (61, 'Júlia Farias', 52, 'Teixeira');\nINSERT INTO dim_cliente (id_cliente, nome, idade, cidade) VALUES (62, 'Dr. Noah Cunha', 25, 'das Neves');\nINSERT INTO dim_cliente (id_cliente, nome, idade, cidade) VALUES (63, 'Gabrielly Rocha', 42, 'Porto');\nINSERT INTO dim_cliente (id_cliente, nome, idade, cidade) VALUES (64, 'Luana Barbosa', 23, 'Barros Verde');\nINSERT INTO dim_cliente (id_cliente, nome, idade, cidade) VALUES (65, 'Srta. Amanda Ramos', 53, 'Freitas');\nINSERT INTO dim_cliente (id_cliente, nome, idade, cidade) VALUES (66, 'Evelyn da Mota', 36, 'Jesus');\nINSERT INTO dim_cliente (id_cliente, nome, idade, cidade) VALUES (67, 'Lorena Porto', 58, 'Martins da Praia');\nINSERT INTO dim_cliente (id_cliente, nome, idade, cidade) VALUES (68, 'Valentina Carvalho', 57, 'Viana');\nINSERT INTO dim_cliente (id_cliente, nome, idade, cidade) VALUES (69, 'Maysa Pereira', 41, 'Costela do Campo');\nINSERT INTO dim_cliente (id_cliente, nome, idade, cidade) VALUES (70, 'Sr. Anthony Campos', 54, 'Martins de Novaes');\nINSERT INTO dim_cliente (id_cliente, nome, idade, cidade) VALUES (71, 'Srta. Ana Carolina Nogueira', 30, 'Monteiro');\nINSERT INTO dim_cliente (id_cliente, nome, idade, cidade) VALUES (72, 'Thales Moreira', 63, 'Nogueira Alegre');\nINSERT INTO dim_cliente (id_cliente, nome, idade, cidade) VALUES (73, 'Luigi Porto', 22, 'Sales de da Rosa');\nINSERT INTO dim_cliente (id_cliente, nome, idade, cidade) VALUES (74, 'Arthur Rezende', 20, 'Porto');\nINSERT INTO dim_cliente (id_cliente, nome, idade, cidade) VALUES (75, 'Sophia Campos', 60, 'Silva');\nINSERT INTO dim_cliente (id_cliente, nome, idade, cidade) VALUES (76, 'Srta. Kamilly Sales', 32, 'da Luz');\nINSERT INTO dim_cliente (id_cliente, nome, idade, cidade) VALUES (77, 'Maria da Rosa', 67, 'das Neves do Amparo');\nINSERT INTO dim_cliente (id_cliente, nome, idade, cidade) VALUES (78, 'Ana Beatriz Melo', 36, 'da Paz');\nINSERT INTO dim_cliente (id_cliente, nome, idade, cidade) VALUES (79, 'Emilly Gonçalves', 23, 'Nascimento do Norte');\nINSERT INTO dim_cliente (id_cliente, nome, idade, cidade) VALUES (80, 'João Aragão', 32, 'Almeida');\nINSERT INTO dim_cliente (id_cliente, nome, idade, cidade) VALUES (81, 'Stella Caldeira', 24, 'Ribeiro do Sul');\nINSERT INTO dim_cliente (id_cliente, nome, idade, cidade) VALUES (82, 'Ana Lívia Peixoto', 42, 'Lopes');\nINSERT INTO dim_cliente (id_cliente, nome, idade, cidade) VALUES (83, 'Francisco Cunha', 35, 'da Costa');\nINSERT INTO dim_cliente (id_cliente, nome, idade, cidade) VALUES (84, 'Francisco Rezende', 47, 'da Costa');\nINSERT INTO dim_cliente (id_cliente, nome, idade, cidade) VALUES (85, 'Sr. Fernando Santos', 58, 'Barros');\nINSERT INTO dim_cliente (id_cliente, nome, idade, cidade) VALUES (86, 'Ana Júlia Nascimento', 41, 'Araújo');\nINSERT INTO dim_cliente (id_cliente, nome, idade, cidade) VALUES (87, 'Sr. Davi Luiz Moraes', 28, 'Nunes');\nINSERT INTO dim_cliente (id_cliente, nome, idade, cidade) VALUES (88, 'Juan Nunes', 41, 'Almeida Grande');\nINSERT INTO dim_cliente (id_cliente, nome, idade, cidade) VALUES (89, 'Ana Clara Rocha', 40, 'Fernandes');\nINSERT INTO dim_cliente (id_cliente, nome, idade, cidade) VALUES (90, 'Maria Alice Nascimento', 31, 'da Rocha');\nINSERT INTO dim_cliente (id_cliente, nome, idade, cidade) VALUES (91, 'Juan Moraes', 60, 'Rodrigues Verde');\nINSERT INTO dim_cliente (id_cliente, nome, idade, cidade) VALUES (92, 'Isis da Mata', 35, 'Teixeira das Pedras');\nINSERT INTO dim_cliente (id_cliente, nome, idade, cidade) VALUES (93, 'Sra. Emilly Nunes', 62, 'da Luz do Norte');\nINSERT INTO dim_cliente (id_cliente, nome, idade, cidade) VALUES (94, 'Thiago Duarte', 61, 'Nascimento');\nINSERT INTO dim_cliente (id_cliente, nome, idade, cidade) VALUES (95, 'Emanuella Fogaça', 59, 'Lopes do Norte');\nINSERT INTO dim_cliente (id_cliente, nome, idade, cidade) VALUES (96, 'Lavínia Lima', 22, 'Dias');\nINSERT INTO dim_cliente (id_cliente, nome, idade, cidade) VALUES (97, 'Bianca Fernandes', 56, 'Rodrigues de Ribeiro');\nINSERT INTO dim_cliente (id_cliente, nome, idade, cidade) VALUES (98, 'Pedro Moreira', 58, 'Vieira Paulista');\nINSERT INTO dim_cliente (id_cliente, nome, idade, cidade) VALUES (99, 'Raul Azevedo', 28, 'da Mata');\nINSERT INTO dim_cliente (id_cliente, nome, idade, cidade) VALUES (100, 'Dr. Pedro Miguel Porto', 52, 'Barbosa');\n]\n(Background on this error at: https://sqlalche.me/e/20/gkpj)"
     ]
    }
   ],
   "source": [
    "ddl_dim_fato = [\"\"\"\n",
    "\n",
    "INSERT INTO dim_cliente (id_cliente, nome, idade, cidade) VALUES (1, 'Daniela da Cunha', 58, 'Dias');\n",
    "INSERT INTO dim_cliente (id_cliente, nome, idade, cidade) VALUES (2, 'Marcos Vinicius da Mota', 25, 'Costela');\n",
    "INSERT INTO dim_cliente (id_cliente, nome, idade, cidade) VALUES (3, 'Vitor Nascimento', 19, 'da Paz');\n",
    "INSERT INTO dim_cliente (id_cliente, nome, idade, cidade) VALUES (4, 'Dra. Caroline Nascimento', 65, 'Mendes da Prata');\n",
    "INSERT INTO dim_cliente (id_cliente, nome, idade, cidade) VALUES (5, 'Igor Rezende', 35, 'Nunes');\n",
    "INSERT INTO dim_cliente (id_cliente, nome, idade, cidade) VALUES (6, 'Caroline Caldeira', 33, 'Fogaça');\n",
    "INSERT INTO dim_cliente (id_cliente, nome, idade, cidade) VALUES (7, 'Heloísa da Mata', 32, 'Lima');\n",
    "INSERT INTO dim_cliente (id_cliente, nome, idade, cidade) VALUES (8, 'Sofia da Luz', 26, 'Cardoso');\n",
    "INSERT INTO dim_cliente (id_cliente, nome, idade, cidade) VALUES (9, 'Thales Castro', 65, 'Nascimento de Minas');\n",
    "INSERT INTO dim_cliente (id_cliente, nome, idade, cidade) VALUES (10, 'Dra. Maria Teixeira', 24, 'Sales');\n",
    "INSERT INTO dim_cliente (id_cliente, nome, idade, cidade) VALUES (11, 'Srta. Luna Costa', 61, 'Moreira');\n",
    "INSERT INTO dim_cliente (id_cliente, nome, idade, cidade) VALUES (12, 'Antônio da Rosa', 65, 'Novaes');\n",
    "INSERT INTO dim_cliente (id_cliente, nome, idade, cidade) VALUES (13, 'Ana Laura Rodrigues', 52, 'Nunes');\n",
    "INSERT INTO dim_cliente (id_cliente, nome, idade, cidade) VALUES (14, 'Sr. Thiago Freitas', 23, 'Moura do Campo');\n",
    "INSERT INTO dim_cliente (id_cliente, nome, idade, cidade) VALUES (15, 'Vitor Gabriel Melo', 55, 'das Neves Verde');\n",
    "INSERT INTO dim_cliente (id_cliente, nome, idade, cidade) VALUES (16, 'Luiz Gustavo da Conceição', 45, 'da Rocha');\n",
    "INSERT INTO dim_cliente (id_cliente, nome, idade, cidade) VALUES (17, 'Srta. Ana Carolina Ferreira', 20, 'das Neves');\n",
    "INSERT INTO dim_cliente (id_cliente, nome, idade, cidade) VALUES (18, 'Luiz Gustavo Souza', 19, 'Monteiro');\n",
    "INSERT INTO dim_cliente (id_cliente, nome, idade, cidade) VALUES (19, 'Bárbara Sales', 23, 'Duarte');\n",
    "INSERT INTO dim_cliente (id_cliente, nome, idade, cidade) VALUES (20, 'Agatha Martins', 31, 'Souza');\n",
    "INSERT INTO dim_cliente (id_cliente, nome, idade, cidade) VALUES (21, 'Davi Lucas Ferreira', 32, 'da Mata');\n",
    "INSERT INTO dim_cliente (id_cliente, nome, idade, cidade) VALUES (22, 'Luna Ribeiro', 50, 'Novaes');\n",
    "INSERT INTO dim_cliente (id_cliente, nome, idade, cidade) VALUES (23, 'João Miguel Fernandes', 56, 'Moura de Silva');\n",
    "INSERT INTO dim_cliente (id_cliente, nome, idade, cidade) VALUES (24, 'Guilherme Farias', 19, 'Castro');\n",
    "INSERT INTO dim_cliente (id_cliente, nome, idade, cidade) VALUES (25, 'Vitor Hugo Azevedo', 53, 'da Cunha');\n",
    "INSERT INTO dim_cliente (id_cliente, nome, idade, cidade) VALUES (26, 'Lucas Nascimento', 30, 'Nunes de Mendes');\n",
    "INSERT INTO dim_cliente (id_cliente, nome, idade, cidade) VALUES (27, 'Nina da Cruz', 63, 'Silveira Verde');\n",
    "INSERT INTO dim_cliente (id_cliente, nome, idade, cidade) VALUES (28, 'Bianca Oliveira', 59, 'da Luz de Cardoso');\n",
    "INSERT INTO dim_cliente (id_cliente, nome, idade, cidade) VALUES (29, 'Bernardo Fernandes', 62, 'Farias de Viana');\n",
    "INSERT INTO dim_cliente (id_cliente, nome, idade, cidade) VALUES (30, 'Juan da Conceição', 52, 'Sales Grande');\n",
    "INSERT INTO dim_cliente (id_cliente, nome, idade, cidade) VALUES (31, 'Dra. Manuela da Conceição', 44, 'Teixeira da Mata');\n",
    "INSERT INTO dim_cliente (id_cliente, nome, idade, cidade) VALUES (32, 'Felipe Lopes', 32, 'Ferreira Verde');\n",
    "INSERT INTO dim_cliente (id_cliente, nome, idade, cidade) VALUES (33, 'Erick Farias', 46, 'Azevedo Grande');\n",
    "INSERT INTO dim_cliente (id_cliente, nome, idade, cidade) VALUES (34, 'Ana Laura Moura', 55, 'Nascimento');\n",
    "INSERT INTO dim_cliente (id_cliente, nome, idade, cidade) VALUES (35, 'Bárbara Farias', 35, 'Oliveira do Oeste');\n",
    "INSERT INTO dim_cliente (id_cliente, nome, idade, cidade) VALUES (36, 'Thomas das Neves', 69, 'Silva');\n",
    "INSERT INTO dim_cliente (id_cliente, nome, idade, cidade) VALUES (37, 'Sr. Bryan Vieira', 18, 'da Cunha de Ribeiro');\n",
    "INSERT INTO dim_cliente (id_cliente, nome, idade, cidade) VALUES (38, 'Sr. João Gabriel Santos', 66, 'da Mata');\n",
    "INSERT INTO dim_cliente (id_cliente, nome, idade, cidade) VALUES (39, 'Mariana Lima', 69, 'Barros do Galho');\n",
    "INSERT INTO dim_cliente (id_cliente, nome, idade, cidade) VALUES (40, 'Dr. Rodrigo Alves', 28, 'Ribeiro do Norte');\n",
    "INSERT INTO dim_cliente (id_cliente, nome, idade, cidade) VALUES (41, 'Juan Novaes', 62, 'Viana');\n",
    "INSERT INTO dim_cliente (id_cliente, nome, idade, cidade) VALUES (42, 'João Guilherme da Paz', 45, 'Cardoso das Pedras');\n",
    "INSERT INTO dim_cliente (id_cliente, nome, idade, cidade) VALUES (43, 'Lorena Aragão', 39, 'Carvalho da Prata');\n",
    "INSERT INTO dim_cliente (id_cliente, nome, idade, cidade) VALUES (44, 'Júlia Viana', 35, 'Mendes');\n",
    "INSERT INTO dim_cliente (id_cliente, nome, idade, cidade) VALUES (45, 'João Miguel Novaes', 27, 'Campos');\n",
    "INSERT INTO dim_cliente (id_cliente, nome, idade, cidade) VALUES (46, 'Caroline das Neves', 31, 'Silveira Verde');\n",
    "INSERT INTO dim_cliente (id_cliente, nome, idade, cidade) VALUES (47, 'Breno Martins', 66, 'Silva da Praia');\n",
    "INSERT INTO dim_cliente (id_cliente, nome, idade, cidade) VALUES (48, 'Benjamin Jesus', 39, 'Silveira');\n",
    "INSERT INTO dim_cliente (id_cliente, nome, idade, cidade) VALUES (49, 'Isis Monteiro', 24, 'Araújo');\n",
    "INSERT INTO dim_cliente (id_cliente, nome, idade, cidade) VALUES (50, 'Felipe Cardoso', 23, 'Fogaça da Serra');\n",
    "INSERT INTO dim_cliente (id_cliente, nome, idade, cidade) VALUES (51, 'Ana Clara Nascimento', 42, 'Moreira de Caldeira');\n",
    "INSERT INTO dim_cliente (id_cliente, nome, idade, cidade) VALUES (52, 'Maria Barbosa', 24, 'Martins de Dias');\n",
    "INSERT INTO dim_cliente (id_cliente, nome, idade, cidade) VALUES (53, 'Vicente Silveira', 40, 'Dias de Ramos');\n",
    "INSERT INTO dim_cliente (id_cliente, nome, idade, cidade) VALUES (54, 'Nicolas Barros', 40, 'Silva');\n",
    "INSERT INTO dim_cliente (id_cliente, nome, idade, cidade) VALUES (55, 'Raquel Santos', 56, 'da Costa');\n",
    "INSERT INTO dim_cliente (id_cliente, nome, idade, cidade) VALUES (56, 'Lucas Gabriel Teixeira', 34, 'Ferreira do Galho');\n",
    "INSERT INTO dim_cliente (id_cliente, nome, idade, cidade) VALUES (57, 'Luiza das Neves', 69, 'Melo Paulista');\n",
    "INSERT INTO dim_cliente (id_cliente, nome, idade, cidade) VALUES (58, 'Calebe Vieira', 20, 'Rocha');\n",
    "INSERT INTO dim_cliente (id_cliente, nome, idade, cidade) VALUES (59, 'Luiza Duarte', 64, 'Teixeira');\n",
    "INSERT INTO dim_cliente (id_cliente, nome, idade, cidade) VALUES (60, 'Ana Sophia Nascimento', 47, 'da Rocha');\n",
    "INSERT INTO dim_cliente (id_cliente, nome, idade, cidade) VALUES (61, 'Júlia Farias', 52, 'Teixeira');\n",
    "INSERT INTO dim_cliente (id_cliente, nome, idade, cidade) VALUES (62, 'Dr. Noah Cunha', 25, 'das Neves');\n",
    "INSERT INTO dim_cliente (id_cliente, nome, idade, cidade) VALUES (63, 'Gabrielly Rocha', 42, 'Porto');\n",
    "INSERT INTO dim_cliente (id_cliente, nome, idade, cidade) VALUES (64, 'Luana Barbosa', 23, 'Barros Verde');\n",
    "INSERT INTO dim_cliente (id_cliente, nome, idade, cidade) VALUES (65, 'Srta. Amanda Ramos', 53, 'Freitas');\n",
    "INSERT INTO dim_cliente (id_cliente, nome, idade, cidade) VALUES (66, 'Evelyn da Mota', 36, 'Jesus');\n",
    "INSERT INTO dim_cliente (id_cliente, nome, idade, cidade) VALUES (67, 'Lorena Porto', 58, 'Martins da Praia');\n",
    "INSERT INTO dim_cliente (id_cliente, nome, idade, cidade) VALUES (68, 'Valentina Carvalho', 57, 'Viana');\n",
    "INSERT INTO dim_cliente (id_cliente, nome, idade, cidade) VALUES (69, 'Maysa Pereira', 41, 'Costela do Campo');\n",
    "INSERT INTO dim_cliente (id_cliente, nome, idade, cidade) VALUES (70, 'Sr. Anthony Campos', 54, 'Martins de Novaes');\n",
    "INSERT INTO dim_cliente (id_cliente, nome, idade, cidade) VALUES (71, 'Srta. Ana Carolina Nogueira', 30, 'Monteiro');\n",
    "INSERT INTO dim_cliente (id_cliente, nome, idade, cidade) VALUES (72, 'Thales Moreira', 63, 'Nogueira Alegre');\n",
    "INSERT INTO dim_cliente (id_cliente, nome, idade, cidade) VALUES (73, 'Luigi Porto', 22, 'Sales de da Rosa');\n",
    "INSERT INTO dim_cliente (id_cliente, nome, idade, cidade) VALUES (74, 'Arthur Rezende', 20, 'Porto');\n",
    "INSERT INTO dim_cliente (id_cliente, nome, idade, cidade) VALUES (75, 'Sophia Campos', 60, 'Silva');\n",
    "INSERT INTO dim_cliente (id_cliente, nome, idade, cidade) VALUES (76, 'Srta. Kamilly Sales', 32, 'da Luz');\n",
    "INSERT INTO dim_cliente (id_cliente, nome, idade, cidade) VALUES (77, 'Maria da Rosa', 67, 'das Neves do Amparo');\n",
    "INSERT INTO dim_cliente (id_cliente, nome, idade, cidade) VALUES (78, 'Ana Beatriz Melo', 36, 'da Paz');\n",
    "INSERT INTO dim_cliente (id_cliente, nome, idade, cidade) VALUES (79, 'Emilly Gonçalves', 23, 'Nascimento do Norte');\n",
    "INSERT INTO dim_cliente (id_cliente, nome, idade, cidade) VALUES (80, 'João Aragão', 32, 'Almeida');\n",
    "INSERT INTO dim_cliente (id_cliente, nome, idade, cidade) VALUES (81, 'Stella Caldeira', 24, 'Ribeiro do Sul');\n",
    "INSERT INTO dim_cliente (id_cliente, nome, idade, cidade) VALUES (82, 'Ana Lívia Peixoto', 42, 'Lopes');\n",
    "INSERT INTO dim_cliente (id_cliente, nome, idade, cidade) VALUES (83, 'Francisco Cunha', 35, 'da Costa');\n",
    "INSERT INTO dim_cliente (id_cliente, nome, idade, cidade) VALUES (84, 'Francisco Rezende', 47, 'da Costa');\n",
    "INSERT INTO dim_cliente (id_cliente, nome, idade, cidade) VALUES (85, 'Sr. Fernando Santos', 58, 'Barros');\n",
    "INSERT INTO dim_cliente (id_cliente, nome, idade, cidade) VALUES (86, 'Ana Júlia Nascimento', 41, 'Araújo');\n",
    "INSERT INTO dim_cliente (id_cliente, nome, idade, cidade) VALUES (87, 'Sr. Davi Luiz Moraes', 28, 'Nunes');\n",
    "INSERT INTO dim_cliente (id_cliente, nome, idade, cidade) VALUES (88, 'Juan Nunes', 41, 'Almeida Grande');\n",
    "INSERT INTO dim_cliente (id_cliente, nome, idade, cidade) VALUES (89, 'Ana Clara Rocha', 40, 'Fernandes');\n",
    "INSERT INTO dim_cliente (id_cliente, nome, idade, cidade) VALUES (90, 'Maria Alice Nascimento', 31, 'da Rocha');\n",
    "INSERT INTO dim_cliente (id_cliente, nome, idade, cidade) VALUES (91, 'Juan Moraes', 60, 'Rodrigues Verde');\n",
    "INSERT INTO dim_cliente (id_cliente, nome, idade, cidade) VALUES (92, 'Isis da Mata', 35, 'Teixeira das Pedras');\n",
    "INSERT INTO dim_cliente (id_cliente, nome, idade, cidade) VALUES (93, 'Sra. Emilly Nunes', 62, 'da Luz do Norte');\n",
    "INSERT INTO dim_cliente (id_cliente, nome, idade, cidade) VALUES (94, 'Thiago Duarte', 61, 'Nascimento');\n",
    "INSERT INTO dim_cliente (id_cliente, nome, idade, cidade) VALUES (95, 'Emanuella Fogaça', 59, 'Lopes do Norte');\n",
    "INSERT INTO dim_cliente (id_cliente, nome, idade, cidade) VALUES (96, 'Lavínia Lima', 22, 'Dias');\n",
    "INSERT INTO dim_cliente (id_cliente, nome, idade, cidade) VALUES (97, 'Bianca Fernandes', 56, 'Rodrigues de Ribeiro');\n",
    "INSERT INTO dim_cliente (id_cliente, nome, idade, cidade) VALUES (98, 'Pedro Moreira', 58, 'Vieira Paulista');\n",
    "INSERT INTO dim_cliente (id_cliente, nome, idade, cidade) VALUES (99, 'Raul Azevedo', 28, 'da Mata');\n",
    "INSERT INTO dim_cliente (id_cliente, nome, idade, cidade) VALUES (100, 'Dr. Pedro Miguel Porto', 52, 'Barbosa');\n",
    "\"\"\"]\n",
    "\n",
    "# Executar a criação das tabelas\n",
    "with engine.begin() as conn:\n",
    "  for cmd in ddl_dim_fato:\n",
    "    conn.execute(text(cmd))\n",
    "  print(\"Dados inseridos!\")\n",
    "  "
   ]
  },
  {
   "cell_type": "code",
   "execution_count": null,
   "id": "d22d28b2",
   "metadata": {},
   "outputs": [
    {
     "name": "stdout",
     "output_type": "stream",
     "text": [
      "Dados inseridos!\n"
     ]
    }
   ],
   "source": [
    "ddl_dim_fato = [\"\"\"\n",
    "\n",
    "INSERT INTO dim_produto (id_produto, nome_produto, categoria, preco) VALUES (1, 'Iste Illum', 'Alimentos', 171.77);\n",
    "INSERT INTO dim_produto (id_produto, nome_produto, categoria, preco) VALUES (2, 'Libero Enim', 'Roupas', 277.25);\n",
    "INSERT INTO dim_produto (id_produto, nome_produto, categoria, preco) VALUES (3, 'Quis At', 'Livros', 227.42);\n",
    "INSERT INTO dim_produto (id_produto, nome_produto, categoria, preco) VALUES (4, 'Soluta At', 'Bebidas', 844.42);\n",
    "INSERT INTO dim_produto (id_produto, nome_produto, categoria, preco) VALUES (5, 'Cupiditate Nostrum', 'Eletrônicos', 236.76);\n",
    "INSERT INTO dim_produto (id_produto, nome_produto, categoria, preco) VALUES (6, 'Sunt Voluptas', 'Eletrônicos', 807.0);\n",
    "INSERT INTO dim_produto (id_produto, nome_produto, categoria, preco) VALUES (7, 'Rerum Explicabo', 'Roupas', 275.06);\n",
    "INSERT INTO dim_produto (id_produto, nome_produto, categoria, preco) VALUES (8, 'Iste Ipsum', 'Alimentos', 914.0);\n",
    "INSERT INTO dim_produto (id_produto, nome_produto, categoria, preco) VALUES (9, 'Sed Reprehenderit', 'Livros', 877.6);\n",
    "INSERT INTO dim_produto (id_produto, nome_produto, categoria, preco) VALUES (10, 'Quo Culpa', 'Bebidas', 220.5);\n",
    "INSERT INTO dim_produto (id_produto, nome_produto, categoria, preco) VALUES (11, 'Similique Facilis', 'Roupas', 401.68);\n",
    "INSERT INTO dim_produto (id_produto, nome_produto, categoria, preco) VALUES (12, 'Quo Facere', 'Roupas', 151.44);\n",
    "INSERT INTO dim_produto (id_produto, nome_produto, categoria, preco) VALUES (13, 'Ipsam Eum', 'Alimentos', 254.16);\n",
    "INSERT INTO dim_produto (id_produto, nome_produto, categoria, preco) VALUES (14, 'Soluta Atque', 'Livros', 543.59);\n",
    "INSERT INTO dim_produto (id_produto, nome_produto, categoria, preco) VALUES (15, 'Ducimus Molestias', 'Livros', 434.15);\n",
    "INSERT INTO dim_produto (id_produto, nome_produto, categoria, preco) VALUES (16, 'Reiciendis Cumque', 'Livros', 405.41);\n",
    "INSERT INTO dim_produto (id_produto, nome_produto, categoria, preco) VALUES (17, 'Doloribus Culpa', 'Alimentos', 997.35);\n",
    "INSERT INTO dim_produto (id_produto, nome_produto, categoria, preco) VALUES (18, 'Maiores Quaerat', 'Alimentos', 514.43);\n",
    "INSERT INTO dim_produto (id_produto, nome_produto, categoria, preco) VALUES (19, 'Vel Esse', 'Eletrônicos', 758.22);\n",
    "INSERT INTO dim_produto (id_produto, nome_produto, categoria, preco) VALUES (20, 'Earum Nostrum', 'Eletrônicos', 161.31);\n",
    "INSERT INTO dim_produto (id_produto, nome_produto, categoria, preco) VALUES (21, 'Suscipit Dolorum', 'Alimentos', 794.16);\n",
    "INSERT INTO dim_produto (id_produto, nome_produto, categoria, preco) VALUES (22, 'Atque Labore', 'Roupas', 600.44);\n",
    "INSERT INTO dim_produto (id_produto, nome_produto, categoria, preco) VALUES (23, 'Aut Eaque', 'Roupas', 387.8);\n",
    "INSERT INTO dim_produto (id_produto, nome_produto, categoria, preco) VALUES (24, 'Delectus Illum', 'Roupas', 533.82);\n",
    "INSERT INTO dim_produto (id_produto, nome_produto, categoria, preco) VALUES (25, 'Maiores Dicta', 'Livros', 862.17);\n",
    "INSERT INTO dim_produto (id_produto, nome_produto, categoria, preco) VALUES (26, 'Officiis Sint', 'Eletrônicos', 683.48);\n",
    "INSERT INTO dim_produto (id_produto, nome_produto, categoria, preco) VALUES (27, 'Voluptas Ipsam', 'Eletrônicos', 684.89);\n",
    "INSERT INTO dim_produto (id_produto, nome_produto, categoria, preco) VALUES (28, 'Sequi Aliquid', 'Livros', 753.37);\n",
    "INSERT INTO dim_produto (id_produto, nome_produto, categoria, preco) VALUES (29, 'Maiores Sunt', 'Bebidas', 120.44);\n",
    "INSERT INTO dim_produto (id_produto, nome_produto, categoria, preco) VALUES (30, 'Ipsum Rem', 'Roupas', 166.58);\n",
    "INSERT INTO dim_produto (id_produto, nome_produto, categoria, preco) VALUES (31, 'Maiores Aut', 'Eletrônicos', 954.28);\n",
    "INSERT INTO dim_produto (id_produto, nome_produto, categoria, preco) VALUES (32, 'Ratione Ad', 'Bebidas', 972.17);\n",
    "INSERT INTO dim_produto (id_produto, nome_produto, categoria, preco) VALUES (33, 'Quo Dolorem', 'Alimentos', 512.6);\n",
    "INSERT INTO dim_produto (id_produto, nome_produto, categoria, preco) VALUES (34, 'Quae Eveniet', 'Eletrônicos', 871.81);\n",
    "INSERT INTO dim_produto (id_produto, nome_produto, categoria, preco) VALUES (35, 'Voluptatum Iste', 'Bebidas', 843.25);\n",
    "INSERT INTO dim_produto (id_produto, nome_produto, categoria, preco) VALUES (36, 'Hic Corporis', 'Livros', 612.88);\n",
    "INSERT INTO dim_produto (id_produto, nome_produto, categoria, preco) VALUES (37, 'In Vero', 'Alimentos', 380.17);\n",
    "INSERT INTO dim_produto (id_produto, nome_produto, categoria, preco) VALUES (38, 'Id Sapiente', 'Alimentos', 543.99);\n",
    "INSERT INTO dim_produto (id_produto, nome_produto, categoria, preco) VALUES (39, 'Minus Distinctio', 'Livros', 919.31);\n",
    "INSERT INTO dim_produto (id_produto, nome_produto, categoria, preco) VALUES (40, 'Sed Quibusdam', 'Livros', 330.91);\n",
    "INSERT INTO dim_produto (id_produto, nome_produto, categoria, preco) VALUES (41, 'Rem Dolores', 'Eletrônicos', 120.75);\n",
    "INSERT INTO dim_produto (id_produto, nome_produto, categoria, preco) VALUES (42, 'Soluta Fugit', 'Bebidas', 879.93);\n",
    "INSERT INTO dim_produto (id_produto, nome_produto, categoria, preco) VALUES (43, 'Velit Nulla', 'Bebidas', 247.06);\n",
    "INSERT INTO dim_produto (id_produto, nome_produto, categoria, preco) VALUES (44, 'Harum Error', 'Alimentos', 879.23);\n",
    "INSERT INTO dim_produto (id_produto, nome_produto, categoria, preco) VALUES (45, 'Deserunt Explicabo', 'Eletrônicos', 94.8);\n",
    "INSERT INTO dim_produto (id_produto, nome_produto, categoria, preco) VALUES (46, 'Sequi Omnis', 'Roupas', 817.86);\n",
    "INSERT INTO dim_produto (id_produto, nome_produto, categoria, preco) VALUES (47, 'Aut Quos', 'Livros', 768.18);\n",
    "INSERT INTO dim_produto (id_produto, nome_produto, categoria, preco) VALUES (48, 'Eveniet Tempora', 'Alimentos', 663.15);\n",
    "INSERT INTO dim_produto (id_produto, nome_produto, categoria, preco) VALUES (49, 'Esse Molestias', 'Livros', 173.48);\n",
    "INSERT INTO dim_produto (id_produto, nome_produto, categoria, preco) VALUES (50, 'Modi Earum', 'Livros', 873.71);\n",
    "INSERT INTO dim_produto (id_produto, nome_produto, categoria, preco) VALUES (51, 'Sunt Natus', 'Roupas', 964.72);\n",
    "INSERT INTO dim_produto (id_produto, nome_produto, categoria, preco) VALUES (52, 'Amet Ducimus', 'Livros', 757.71);\n",
    "INSERT INTO dim_produto (id_produto, nome_produto, categoria, preco) VALUES (53, 'Sed Vero', 'Alimentos', 715.82);\n",
    "INSERT INTO dim_produto (id_produto, nome_produto, categoria, preco) VALUES (54, 'Nesciunt Sunt', 'Roupas', 995.2);\n",
    "INSERT INTO dim_produto (id_produto, nome_produto, categoria, preco) VALUES (55, 'Vero Molestias', 'Bebidas', 443.72);\n",
    "INSERT INTO dim_produto (id_produto, nome_produto, categoria, preco) VALUES (56, 'Eius Quod', 'Livros', 456.97);\n",
    "INSERT INTO dim_produto (id_produto, nome_produto, categoria, preco) VALUES (57, 'Repellendus Placeat', 'Alimentos', 232.45);\n",
    "INSERT INTO dim_produto (id_produto, nome_produto, categoria, preco) VALUES (58, 'Recusandae Voluptas', 'Bebidas', 30.82);\n",
    "INSERT INTO dim_produto (id_produto, nome_produto, categoria, preco) VALUES (59, 'Eum Voluptate', 'Livros', 237.81);\n",
    "INSERT INTO dim_produto (id_produto, nome_produto, categoria, preco) VALUES (60, 'Nulla Sit', 'Alimentos', 17.12);\n",
    "INSERT INTO dim_produto (id_produto, nome_produto, categoria, preco) VALUES (61, 'Fugiat Omnis', 'Eletrônicos', 236.65);\n",
    "INSERT INTO dim_produto (id_produto, nome_produto, categoria, preco) VALUES (62, 'Ipsum Commodi', 'Eletrônicos', 861.04);\n",
    "INSERT INTO dim_produto (id_produto, nome_produto, categoria, preco) VALUES (63, 'Consequatur At', 'Eletrônicos', 519.01);\n",
    "INSERT INTO dim_produto (id_produto, nome_produto, categoria, preco) VALUES (64, 'Eaque Illum', 'Bebidas', 672.29);\n",
    "INSERT INTO dim_produto (id_produto, nome_produto, categoria, preco) VALUES (65, 'Assumenda Totam', 'Alimentos', 543.84);\n",
    "INSERT INTO dim_produto (id_produto, nome_produto, categoria, preco) VALUES (66, 'Tempore Vero', 'Livros', 580.45);\n",
    "INSERT INTO dim_produto (id_produto, nome_produto, categoria, preco) VALUES (67, 'Delectus Vel', 'Alimentos', 786.77);\n",
    "INSERT INTO dim_produto (id_produto, nome_produto, categoria, preco) VALUES (68, 'Facere Sit', 'Roupas', 198.51);\n",
    "INSERT INTO dim_produto (id_produto, nome_produto, categoria, preco) VALUES (69, 'Laboriosam Harum', 'Eletrônicos', 662.39);\n",
    "INSERT INTO dim_produto (id_produto, nome_produto, categoria, preco) VALUES (70, 'Fugit Magnam', 'Bebidas', 429.34);\n",
    "INSERT INTO dim_produto (id_produto, nome_produto, categoria, preco) VALUES (71, 'Ex Quae', 'Roupas', 865.2);\n",
    "INSERT INTO dim_produto (id_produto, nome_produto, categoria, preco) VALUES (72, 'Ab Nulla', 'Eletrônicos', 676.63);\n",
    "INSERT INTO dim_produto (id_produto, nome_produto, categoria, preco) VALUES (73, 'Incidunt Quaerat', 'Eletrônicos', 70.01);\n",
    "INSERT INTO dim_produto (id_produto, nome_produto, categoria, preco) VALUES (74, 'Ullam Assumenda', 'Bebidas', 802.59);\n",
    "INSERT INTO dim_produto (id_produto, nome_produto, categoria, preco) VALUES (75, 'Deleniti Aperiam', 'Eletrônicos', 256.17);\n",
    "INSERT INTO dim_produto (id_produto, nome_produto, categoria, preco) VALUES (76, 'Inventore Quae', 'Alimentos', 540.92);\n",
    "INSERT INTO dim_produto (id_produto, nome_produto, categoria, preco) VALUES (77, 'Illum Laborum', 'Alimentos', 427.66);\n",
    "INSERT INTO dim_produto (id_produto, nome_produto, categoria, preco) VALUES (78, 'Ducimus Ipsum', 'Bebidas', 468.0);\n",
    "INSERT INTO dim_produto (id_produto, nome_produto, categoria, preco) VALUES (79, 'Maiores Cum', 'Eletrônicos', 448.7);\n",
    "INSERT INTO dim_produto (id_produto, nome_produto, categoria, preco) VALUES (80, 'Quos Cumque', 'Livros', 106.93);\n",
    "INSERT INTO dim_produto (id_produto, nome_produto, categoria, preco) VALUES (81, 'Optio Exercitationem', 'Livros', 837.67);\n",
    "INSERT INTO dim_produto (id_produto, nome_produto, categoria, preco) VALUES (82, 'Distinctio Vel', 'Eletrônicos', 927.1);\n",
    "INSERT INTO dim_produto (id_produto, nome_produto, categoria, preco) VALUES (83, 'Dolore Repellendus', 'Alimentos', 174.65);\n",
    "INSERT INTO dim_produto (id_produto, nome_produto, categoria, preco) VALUES (84, 'Commodi Quisquam', 'Roupas', 486.54);\n",
    "INSERT INTO dim_produto (id_produto, nome_produto, categoria, preco) VALUES (85, 'Beatae Iste', 'Roupas', 903.42);\n",
    "INSERT INTO dim_produto (id_produto, nome_produto, categoria, preco) VALUES (86, 'Aliquid Magnam', 'Alimentos', 385.18);\n",
    "INSERT INTO dim_produto (id_produto, nome_produto, categoria, preco) VALUES (87, 'Reiciendis Commodi', 'Roupas', 272.55);\n",
    "INSERT INTO dim_produto (id_produto, nome_produto, categoria, preco) VALUES (88, 'Possimus Doloremque', 'Roupas', 292.4);\n",
    "INSERT INTO dim_produto (id_produto, nome_produto, categoria, preco) VALUES (89, 'Molestiae Ad', 'Livros', 665.25);\n",
    "INSERT INTO dim_produto (id_produto, nome_produto, categoria, preco) VALUES (90, 'Dolorum Earum', 'Roupas', 163.25);\n",
    "INSERT INTO dim_produto (id_produto, nome_produto, categoria, preco) VALUES (91, 'Saepe Voluptatum', 'Bebidas', 225.52);\n",
    "INSERT INTO dim_produto (id_produto, nome_produto, categoria, preco) VALUES (92, 'Voluptatum Magni', 'Eletrônicos', 583.39);\n",
    "INSERT INTO dim_produto (id_produto, nome_produto, categoria, preco) VALUES (93, 'Sapiente Et', 'Livros', 70.35);\n",
    "INSERT INTO dim_produto (id_produto, nome_produto, categoria, preco) VALUES (94, 'Quibusdam Quo', 'Bebidas', 66.59);\n",
    "INSERT INTO dim_produto (id_produto, nome_produto, categoria, preco) VALUES (95, 'Qui Accusamus', 'Livros', 482.02);\n",
    "INSERT INTO dim_produto (id_produto, nome_produto, categoria, preco) VALUES (96, 'Eaque Adipisci', 'Livros', 165.86);\n",
    "INSERT INTO dim_produto (id_produto, nome_produto, categoria, preco) VALUES (97, 'Repellendus Iste', 'Livros', 89.31);\n",
    "INSERT INTO dim_produto (id_produto, nome_produto, categoria, preco) VALUES (98, 'Nisi Iste', 'Alimentos', 77.84);\n",
    "INSERT INTO dim_produto (id_produto, nome_produto, categoria, preco) VALUES (99, 'Eum Quisquam', 'Eletrônicos', 678.46);\n",
    "INSERT INTO dim_produto (id_produto, nome_produto, categoria, preco) VALUES (100, 'Amet Occaecati', 'Alimentos', 409.74);\n",
    "                \n",
    "                \n",
    "\"\"\"]\n",
    "\n",
    "# Executar a criação das tabelas\n",
    "with engine.begin() as conn:\n",
    "  for cmd in ddl_dim_fato:\n",
    "    conn.execute(text(cmd))\n",
    "  print(\"Dados inseridos!\")\n",
    "  "
   ]
  },
  {
   "cell_type": "code",
   "execution_count": null,
   "id": "4be95b23",
   "metadata": {},
   "outputs": [
    {
     "name": "stdout",
     "output_type": "stream",
     "text": [
      "Dados inseridos!\n"
     ]
    }
   ],
   "source": [
    "ddl_dim_fato = [\"\"\"\n",
    "\n",
    "INSERT INTO fato_pedidos (id_pedido, id_cliente, id_produto, data_pedido, quantidade, valor_total) VALUES (1, 73, 32, '2024-12-02', 5, 2992.85);\n",
    "INSERT INTO fato_pedidos (id_pedido, id_cliente, id_produto, data_pedido, quantidade, valor_total) VALUES (2, 80, 11, '2024-08-15', 4, 2643.2);\n",
    "INSERT INTO fato_pedidos (id_pedido, id_cliente, id_produto, data_pedido, quantidade, valor_total) VALUES (3, 73, 67, '2025-01-27', 3, 2806.08);\n",
    "INSERT INTO fato_pedidos (id_pedido, id_cliente, id_produto, data_pedido, quantidade, valor_total) VALUES (4, 27, 86, '2025-01-20', 3, 738.9);\n",
    "INSERT INTO fato_pedidos (id_pedido, id_cliente, id_produto, data_pedido, quantidade, valor_total) VALUES (5, 51, 17, '2024-07-20', 3, 1387.95);\n",
    "INSERT INTO fato_pedidos (id_pedido, id_cliente, id_produto, data_pedido, quantidade, valor_total) VALUES (6, 97, 10, '2025-03-02', 1, 463.7);\n",
    "INSERT INTO fato_pedidos (id_pedido, id_cliente, id_produto, data_pedido, quantidade, valor_total) VALUES (7, 73, 13, '2024-08-21', 1, 542.26);\n",
    "INSERT INTO fato_pedidos (id_pedido, id_cliente, id_produto, data_pedido, quantidade, valor_total) VALUES (8, 65, 34, '2025-02-25', 2, 1867.86);\n",
    "INSERT INTO fato_pedidos (id_pedido, id_cliente, id_produto, data_pedido, quantidade, valor_total) VALUES (9, 9, 32, '2024-10-17', 3, 876.42);\n",
    "INSERT INTO fato_pedidos (id_pedido, id_cliente, id_produto, data_pedido, quantidade, valor_total) VALUES (10, 57, 70, '2024-06-10', 3, 1846.68);\n",
    "INSERT INTO fato_pedidos (id_pedido, id_cliente, id_produto, data_pedido, quantidade, valor_total) VALUES (11, 84, 68, '2025-01-06', 1, 671.18);\n",
    "INSERT INTO fato_pedidos (id_pedido, id_cliente, id_produto, data_pedido, quantidade, valor_total) VALUES (12, 71, 39, '2024-10-21', 1, 939.54);\n",
    "INSERT INTO fato_pedidos (id_pedido, id_cliente, id_produto, data_pedido, quantidade, valor_total) VALUES (13, 18, 34, '2025-04-02', 1, 890.82);\n",
    "INSERT INTO fato_pedidos (id_pedido, id_cliente, id_produto, data_pedido, quantidade, valor_total) VALUES (14, 96, 71, '2025-01-17', 2, 559.24);\n",
    "INSERT INTO fato_pedidos (id_pedido, id_cliente, id_produto, data_pedido, quantidade, valor_total) VALUES (15, 78, 27, '2025-02-21', 3, 634.68);\n",
    "INSERT INTO fato_pedidos (id_pedido, id_cliente, id_produto, data_pedido, quantidade, valor_total) VALUES (16, 82, 34, '2024-10-18', 5, 2468.25);\n",
    "INSERT INTO fato_pedidos (id_pedido, id_cliente, id_produto, data_pedido, quantidade, valor_total) VALUES (17, 7, 12, '2024-09-01', 4, 3324.2);\n",
    "INSERT INTO fato_pedidos (id_pedido, id_cliente, id_produto, data_pedido, quantidade, valor_total) VALUES (18, 6, 1, '2024-06-18', 3, 2320.23);\n",
    "INSERT INTO fato_pedidos (id_pedido, id_cliente, id_produto, data_pedido, quantidade, valor_total) VALUES (19, 82, 34, '2024-09-25', 2, 1487.64);\n",
    "INSERT INTO fato_pedidos (id_pedido, id_cliente, id_produto, data_pedido, quantidade, valor_total) VALUES (20, 71, 91, '2024-11-15', 4, 2261.2);\n",
    "INSERT INTO fato_pedidos (id_pedido, id_cliente, id_produto, data_pedido, quantidade, valor_total) VALUES (21, 15, 10, '2024-08-23', 2, 1100.26);\n",
    "INSERT INTO fato_pedidos (id_pedido, id_cliente, id_produto, data_pedido, quantidade, valor_total) VALUES (22, 48, 75, '2025-02-21', 5, 783.05);\n",
    "INSERT INTO fato_pedidos (id_pedido, id_cliente, id_produto, data_pedido, quantidade, valor_total) VALUES (23, 17, 6, '2024-11-30', 3, 1113.03);\n",
    "INSERT INTO fato_pedidos (id_pedido, id_cliente, id_produto, data_pedido, quantidade, valor_total) VALUES (24, 6, 46, '2025-05-13', 2, 1370.5);\n",
    "INSERT INTO fato_pedidos (id_pedido, id_cliente, id_produto, data_pedido, quantidade, valor_total) VALUES (25, 86, 14, '2025-01-26', 3, 2346.96);\n",
    "INSERT INTO fato_pedidos (id_pedido, id_cliente, id_produto, data_pedido, quantidade, valor_total) VALUES (26, 53, 80, '2025-01-12', 2, 1853.02);\n",
    "INSERT INTO fato_pedidos (id_pedido, id_cliente, id_produto, data_pedido, quantidade, valor_total) VALUES (27, 31, 21, '2025-02-11', 2, 1765.2);\n",
    "INSERT INTO fato_pedidos (id_pedido, id_cliente, id_produto, data_pedido, quantidade, valor_total) VALUES (28, 4, 23, '2025-06-09', 3, 2353.68);\n",
    "INSERT INTO fato_pedidos (id_pedido, id_cliente, id_produto, data_pedido, quantidade, valor_total) VALUES (29, 53, 86, '2025-06-09', 2, 548.28);\n",
    "INSERT INTO fato_pedidos (id_pedido, id_cliente, id_produto, data_pedido, quantidade, valor_total) VALUES (30, 90, 14, '2024-07-04', 4, 3493.8);\n",
    "INSERT INTO fato_pedidos (id_pedido, id_cliente, id_produto, data_pedido, quantidade, valor_total) VALUES (31, 61, 29, '2025-03-05', 2, 1636.84);\n",
    "INSERT INTO fato_pedidos (id_pedido, id_cliente, id_produto, data_pedido, quantidade, valor_total) VALUES (32, 59, 45, '2025-01-02', 3, 2466.99);\n",
    "INSERT INTO fato_pedidos (id_pedido, id_cliente, id_produto, data_pedido, quantidade, valor_total) VALUES (33, 30, 29, '2024-06-16', 1, 663.43);\n",
    "INSERT INTO fato_pedidos (id_pedido, id_cliente, id_produto, data_pedido, quantidade, valor_total) VALUES (34, 52, 43, '2025-04-14', 3, 2597.13);\n",
    "INSERT INTO fato_pedidos (id_pedido, id_cliente, id_produto, data_pedido, quantidade, valor_total) VALUES (35, 99, 36, '2024-12-01', 3, 1935.21);\n",
    "INSERT INTO fato_pedidos (id_pedido, id_cliente, id_produto, data_pedido, quantidade, valor_total) VALUES (36, 52, 87, '2025-01-17', 5, 1689.2);\n",
    "INSERT INTO fato_pedidos (id_pedido, id_cliente, id_produto, data_pedido, quantidade, valor_total) VALUES (37, 4, 15, '2024-06-23', 3, 560.34);\n",
    "INSERT INTO fato_pedidos (id_pedido, id_cliente, id_produto, data_pedido, quantidade, valor_total) VALUES (38, 34, 5, '2025-01-31', 1, 600.61);\n",
    "INSERT INTO fato_pedidos (id_pedido, id_cliente, id_produto, data_pedido, quantidade, valor_total) VALUES (39, 45, 94, '2025-02-01', 3, 1326.09);\n",
    "INSERT INTO fato_pedidos (id_pedido, id_cliente, id_produto, data_pedido, quantidade, valor_total) VALUES (40, 66, 15, '2024-11-02', 4, 3602.04);\n",
    "INSERT INTO fato_pedidos (id_pedido, id_cliente, id_produto, data_pedido, quantidade, valor_total) VALUES (41, 25, 33, '2024-11-23', 1, 711.7);\n",
    "INSERT INTO fato_pedidos (id_pedido, id_cliente, id_produto, data_pedido, quantidade, valor_total) VALUES (42, 1, 67, '2024-12-09', 5, 3449.95);\n",
    "INSERT INTO fato_pedidos (id_pedido, id_cliente, id_produto, data_pedido, quantidade, valor_total) VALUES (43, 95, 95, '2024-11-09', 2, 741.16);\n",
    "INSERT INTO fato_pedidos (id_pedido, id_cliente, id_produto, data_pedido, quantidade, valor_total) VALUES (44, 9, 86, '2024-09-25', 3, 1880.76);\n",
    "INSERT INTO fato_pedidos (id_pedido, id_cliente, id_produto, data_pedido, quantidade, valor_total) VALUES (45, 85, 16, '2024-10-09', 3, 1536.15);\n",
    "INSERT INTO fato_pedidos (id_pedido, id_cliente, id_produto, data_pedido, quantidade, valor_total) VALUES (46, 86, 53, '2024-09-17', 3, 1225.14);\n",
    "INSERT INTO fato_pedidos (id_pedido, id_cliente, id_produto, data_pedido, quantidade, valor_total) VALUES (47, 38, 71, '2025-05-23', 2, 399.84);\n",
    "INSERT INTO fato_pedidos (id_pedido, id_cliente, id_produto, data_pedido, quantidade, valor_total) VALUES (48, 86, 49, '2025-01-31', 2, 1238.72);\n",
    "INSERT INTO fato_pedidos (id_pedido, id_cliente, id_produto, data_pedido, quantidade, valor_total) VALUES (49, 39, 52, '2024-08-24', 5, 4176.95);\n",
    "INSERT INTO fato_pedidos (id_pedido, id_cliente, id_produto, data_pedido, quantidade, valor_total) VALUES (50, 39, 37, '2025-01-15', 2, 871.18);\n",
    "INSERT INTO fato_pedidos (id_pedido, id_cliente, id_produto, data_pedido, quantidade, valor_total) VALUES (51, 75, 78, '2025-03-28', 3, 1411.02);\n",
    "INSERT INTO fato_pedidos (id_pedido, id_cliente, id_produto, data_pedido, quantidade, valor_total) VALUES (52, 57, 87, '2024-12-15', 2, 1032.12);\n",
    "INSERT INTO fato_pedidos (id_pedido, id_cliente, id_produto, data_pedido, quantidade, valor_total) VALUES (53, 95, 22, '2024-09-03', 1, 290.95);\n",
    "INSERT INTO fato_pedidos (id_pedido, id_cliente, id_produto, data_pedido, quantidade, valor_total) VALUES (54, 85, 82, '2025-04-24', 5, 1709.2);\n",
    "INSERT INTO fato_pedidos (id_pedido, id_cliente, id_produto, data_pedido, quantidade, valor_total) VALUES (55, 97, 31, '2024-09-08', 3, 697.17);\n",
    "INSERT INTO fato_pedidos (id_pedido, id_cliente, id_produto, data_pedido, quantidade, valor_total) VALUES (56, 26, 19, '2024-09-12', 1, 55.75);\n",
    "INSERT INTO fato_pedidos (id_pedido, id_cliente, id_produto, data_pedido, quantidade, valor_total) VALUES (57, 61, 79, '2025-03-23', 1, 460.86);\n",
    "INSERT INTO fato_pedidos (id_pedido, id_cliente, id_produto, data_pedido, quantidade, valor_total) VALUES (58, 81, 74, '2025-01-18', 2, 1442.32);\n",
    "INSERT INTO fato_pedidos (id_pedido, id_cliente, id_produto, data_pedido, quantidade, valor_total) VALUES (59, 50, 64, '2025-04-01', 4, 1006.16);\n",
    "INSERT INTO fato_pedidos (id_pedido, id_cliente, id_produto, data_pedido, quantidade, valor_total) VALUES (60, 84, 89, '2024-12-28', 1, 893.73);\n",
    "INSERT INTO fato_pedidos (id_pedido, id_cliente, id_produto, data_pedido, quantidade, valor_total) VALUES (61, 99, 14, '2024-11-28', 4, 906.6);\n",
    "INSERT INTO fato_pedidos (id_pedido, id_cliente, id_produto, data_pedido, quantidade, valor_total) VALUES (62, 90, 67, '2024-10-14', 4, 238.88);\n",
    "INSERT INTO fato_pedidos (id_pedido, id_cliente, id_produto, data_pedido, quantidade, valor_total) VALUES (63, 32, 16, '2024-09-10', 4, 568.04);\n",
    "INSERT INTO fato_pedidos (id_pedido, id_cliente, id_produto, data_pedido, quantidade, valor_total) VALUES (64, 60, 86, '2025-04-20', 5, 4940.05);\n",
    "INSERT INTO fato_pedidos (id_pedido, id_cliente, id_produto, data_pedido, quantidade, valor_total) VALUES (65, 77, 41, '2024-08-07', 4, 2466.12);\n",
    "INSERT INTO fato_pedidos (id_pedido, id_cliente, id_produto, data_pedido, quantidade, valor_total) VALUES (66, 93, 65, '2024-07-27', 4, 3329.04);\n",
    "INSERT INTO fato_pedidos (id_pedido, id_cliente, id_produto, data_pedido, quantidade, valor_total) VALUES (67, 71, 58, '2024-08-08', 2, 1492.44);\n",
    "INSERT INTO fato_pedidos (id_pedido, id_cliente, id_produto, data_pedido, quantidade, valor_total) VALUES (68, 61, 58, '2024-10-15', 3, 2262.78);\n",
    "INSERT INTO fato_pedidos (id_pedido, id_cliente, id_produto, data_pedido, quantidade, valor_total) VALUES (69, 82, 36, '2025-03-25', 5, 2448.75);\n",
    "INSERT INTO fato_pedidos (id_pedido, id_cliente, id_produto, data_pedido, quantidade, valor_total) VALUES (70, 31, 36, '2024-10-12', 4, 346.84);\n",
    "INSERT INTO fato_pedidos (id_pedido, id_cliente, id_produto, data_pedido, quantidade, valor_total) VALUES (71, 37, 31, '2025-03-06', 3, 1027.47);\n",
    "INSERT INTO fato_pedidos (id_pedido, id_cliente, id_produto, data_pedido, quantidade, valor_total) VALUES (72, 70, 11, '2024-10-06', 2, 318.64);\n",
    "INSERT INTO fato_pedidos (id_pedido, id_cliente, id_produto, data_pedido, quantidade, valor_total) VALUES (73, 50, 89, '2025-04-14', 2, 1418.7);\n",
    "INSERT INTO fato_pedidos (id_pedido, id_cliente, id_produto, data_pedido, quantidade, valor_total) VALUES (74, 9, 54, '2025-05-31', 4, 1350.28);\n",
    "INSERT INTO fato_pedidos (id_pedido, id_cliente, id_produto, data_pedido, quantidade, valor_total) VALUES (75, 60, 54, '2024-10-09', 1, 214.77);\n",
    "INSERT INTO fato_pedidos (id_pedido, id_cliente, id_produto, data_pedido, quantidade, valor_total) VALUES (76, 54, 50, '2024-10-14', 5, 4733.0);\n",
    "INSERT INTO fato_pedidos (id_pedido, id_cliente, id_produto, data_pedido, quantidade, valor_total) VALUES (77, 3, 98, '2024-12-20', 5, 1932.9);\n",
    "INSERT INTO fato_pedidos (id_pedido, id_cliente, id_produto, data_pedido, quantidade, valor_total) VALUES (78, 1, 46, '2024-09-14', 3, 2267.82);\n",
    "INSERT INTO fato_pedidos (id_pedido, id_cliente, id_produto, data_pedido, quantidade, valor_total) VALUES (79, 54, 69, '2024-12-16', 5, 4009.35);\n",
    "INSERT INTO fato_pedidos (id_pedido, id_cliente, id_produto, data_pedido, quantidade, valor_total) VALUES (80, 29, 63, '2024-09-24', 2, 560.42);\n",
    "INSERT INTO fato_pedidos (id_pedido, id_cliente, id_produto, data_pedido, quantidade, valor_total) VALUES (81, 63, 4, '2024-09-08', 4, 1371.08);\n",
    "INSERT INTO fato_pedidos (id_pedido, id_cliente, id_produto, data_pedido, quantidade, valor_total) VALUES (82, 87, 52, '2024-08-18', 2, 1684.2);\n",
    "INSERT INTO fato_pedidos (id_pedido, id_cliente, id_produto, data_pedido, quantidade, valor_total) VALUES (83, 17, 80, '2024-11-13', 5, 183.5);\n",
    "INSERT INTO fato_pedidos (id_pedido, id_cliente, id_produto, data_pedido, quantidade, valor_total) VALUES (84, 51, 76, '2025-05-25', 5, 3331.85);\n",
    "INSERT INTO fato_pedidos (id_pedido, id_cliente, id_produto, data_pedido, quantidade, valor_total) VALUES (85, 11, 83, '2024-10-08', 4, 577.36);\n",
    "INSERT INTO fato_pedidos (id_pedido, id_cliente, id_produto, data_pedido, quantidade, valor_total) VALUES (86, 60, 24, '2025-04-12', 1, 267.55);\n",
    "INSERT INTO fato_pedidos (id_pedido, id_cliente, id_produto, data_pedido, quantidade, valor_total) VALUES (87, 42, 28, '2024-10-21', 4, 1334.32);\n",
    "INSERT INTO fato_pedidos (id_pedido, id_cliente, id_produto, data_pedido, quantidade, valor_total) VALUES (88, 98, 49, '2024-10-18', 3, 2263.47);\n",
    "INSERT INTO fato_pedidos (id_pedido, id_cliente, id_produto, data_pedido, quantidade, valor_total) VALUES (89, 54, 33, '2025-02-27', 1, 475.6);\n",
    "INSERT INTO fato_pedidos (id_pedido, id_cliente, id_produto, data_pedido, quantidade, valor_total) VALUES (90, 96, 70, '2025-03-30', 1, 999.91);\n",
    "INSERT INTO fato_pedidos (id_pedido, id_cliente, id_produto, data_pedido, quantidade, valor_total) VALUES (91, 45, 29, '2024-12-17', 1, 783.42);\n",
    "INSERT INTO fato_pedidos (id_pedido, id_cliente, id_produto, data_pedido, quantidade, valor_total) VALUES (92, 84, 6, '2025-04-24', 1, 950.12);\n",
    "INSERT INTO fato_pedidos (id_pedido, id_cliente, id_produto, data_pedido, quantidade, valor_total) VALUES (93, 26, 3, '2025-02-05', 5, 804.3);\n",
    "INSERT INTO fato_pedidos (id_pedido, id_cliente, id_produto, data_pedido, quantidade, valor_total) VALUES (94, 17, 61, '2024-11-15', 1, 568.33);\n",
    "INSERT INTO fato_pedidos (id_pedido, id_cliente, id_produto, data_pedido, quantidade, valor_total) VALUES (95, 28, 60, '2024-09-15', 3, 2307.69);\n",
    "INSERT INTO fato_pedidos (id_pedido, id_cliente, id_produto, data_pedido, quantidade, valor_total) VALUES (96, 22, 78, '2024-11-12', 5, 4820.5);\n",
    "INSERT INTO fato_pedidos (id_pedido, id_cliente, id_produto, data_pedido, quantidade, valor_total) VALUES (97, 92, 15, '2025-03-15', 2, 1930.14);\n",
    "INSERT INTO fato_pedidos (id_pedido, id_cliente, id_produto, data_pedido, quantidade, valor_total) VALUES (98, 14, 75, '2024-07-07', 1, 929.6);\n",
    "INSERT INTO fato_pedidos (id_pedido, id_cliente, id_produto, data_pedido, quantidade, valor_total) VALUES (99, 74, 87, '2024-07-20', 4, 1610.76);\n",
    "INSERT INTO fato_pedidos (id_pedido, id_cliente, id_produto, data_pedido, quantidade, valor_total) VALUES (100, 92, 26, '2025-02-07', 1, 596.18); \n",
    "                \n",
    "\"\"\"]\n",
    "\n",
    "# Executar a criação das tabelas\n",
    "with engine.begin() as conn:\n",
    "  for cmd in ddl_dim_fato:\n",
    "    conn.execute(text(cmd))\n",
    "  print(\"Dados inseridos!\")\n",
    "  "
   ]
  },
  {
   "cell_type": "markdown",
   "id": "91d678ec",
   "metadata": {},
   "source": [
    "### Processamento"
   ]
  },
  {
   "cell_type": "markdown",
   "id": "7daa4fe6",
   "metadata": {},
   "source": [
    "Configurações"
   ]
  },
  {
   "cell_type": "code",
   "execution_count": null,
   "id": "62935379",
   "metadata": {},
   "outputs": [],
   "source": [
    "# postgreSQL\n",
    "pg_config = {\n",
    "  \"host\": \"bd-relacional.cjeco8miq291.us-east-1.rds.amazonaws.com\",\n",
    "  \"database\":\"postgres\",\n",
    "  \"user\":\"postgres\",\n",
    "  \"password\":\"\",\n",
    "  \"port\":5432\n",
    "}\n",
    "\n",
    "\n",
    "# AWS S3\n",
    "bucket_name = \"323317787666\"\n",
    "s3_prefix = \"raw/\"\n",
    "\n",
    "# nome das tabelas\n",
    "tabelas = ['dim_cliente', 'dim_produto', 'fato_pedidos']"
   ]
  },
  {
   "cell_type": "code",
   "execution_count": 3,
   "id": "2f84eb64",
   "metadata": {},
   "outputs": [],
   "source": [
    "# conexão com o postgress\n",
    "conn = psycopg2.connect(**pg_config)"
   ]
  },
  {
   "cell_type": "code",
   "execution_count": 4,
   "id": "d6e35af4",
   "metadata": {},
   "outputs": [],
   "source": [
    "# AWS S3\n",
    "bucket_name = \"323317787666\"\n",
    "s3_prefix = \"raw/\""
   ]
  },
  {
   "cell_type": "code",
   "execution_count": 5,
   "id": "46d617b9",
   "metadata": {},
   "outputs": [],
   "source": [
    "# conexão com S3\n",
    "s3 = boto3.client('s3')\n",
    "region = s3.meta.region_name or \"us-east-1\""
   ]
  },
  {
   "cell_type": "code",
   "execution_count": 6,
   "id": "7d3d340d",
   "metadata": {},
   "outputs": [
    {
     "name": "stdout",
     "output_type": "stream",
     "text": [
      "Bucket 323317787666 já existe\n"
     ]
    }
   ],
   "source": [
    "# verifica se já existe o bucket criado, se não, realiza a criação\n",
    "try:\n",
    "  s3.head_bucket(Bucket=bucket_name)\n",
    "  print(f\"Bucket {bucket_name} já existe\")\n",
    "except ClientError as e:\n",
    "  error_code = int(e.response['Error']['Code'])\n",
    "  if error_code == 404:\n",
    "    print(f\"Bucket {bucket_name} não existe, criando...\")\n",
    "    if region == \"us-east-1\":\n",
    "      s3.create_bucket(Bucket=bucket_name)\n",
    "    else:\n",
    "      s3.create_bucket(\n",
    "        Bucket=bucket_name,\n",
    "        CreateBucketConfiguration={'LocationConstraint': region}\n",
    "      )\n",
    "    print(f\"Bucket {bucket_name} criado com sucesso\")\n",
    "  else:\n",
    "    raise\n"
   ]
  },
  {
   "cell_type": "code",
   "execution_count": 7,
   "id": "f2fd2e5c",
   "metadata": {},
   "outputs": [
    {
     "name": "stdout",
     "output_type": "stream",
     "text": [
      "Exportando tabela: dim_cliente\n"
     ]
    },
    {
     "name": "stderr",
     "output_type": "stream",
     "text": [
      "C:\\Users\\gabri\\AppData\\Local\\Temp\\ipykernel_2656\\1993591939.py:4: UserWarning: pandas only supports SQLAlchemy connectable (engine/connection) or database string URI or sqlite3 DBAPI2 connection. Other DBAPI2 objects are not tested. Please consider using SQLAlchemy.\n",
      "  df = pd.read_sql(f\"SELECT * FROM {tabela};\", conn)\n"
     ]
    },
    {
     "name": "stdout",
     "output_type": "stream",
     "text": [
      "dim_cliente salva no S3 em: s3://323317787666/raw/dim_cliente.csv\n",
      "Exportando tabela: dim_produto\n",
      "dim_produto salva no S3 em: s3://323317787666/raw/dim_produto.csv\n",
      "Exportando tabela: fato_pedidos\n",
      "fato_pedidos salva no S3 em: s3://323317787666/raw/fato_pedidos.csv\n",
      "Exportação finalizada\n"
     ]
    }
   ],
   "source": [
    "# exportação das tabelas\n",
    "for tabela in tabelas:\n",
    "  print(f\"Exportando tabela: {tabela}\")\n",
    "  df = pd.read_sql(f\"SELECT * FROM {tabela};\", conn)\n",
    "\n",
    "  # salvar como csv em memória\n",
    "  csv_buffer = StringIO()\n",
    "  df.to_csv(csv_buffer, index=False)\n",
    "\n",
    "  # Enviar para S3\n",
    "  s3_key = f\"{s3_prefix}{tabela}.csv\"\n",
    "  s3.put_object(Bucket=bucket_name, Key=s3_key, Body=csv_buffer.getvalue())\n",
    "  print(f\"{tabela} salva no S3 em: s3://{bucket_name}/{s3_key}\")\n",
    "\n",
    "# fecha conexão \n",
    "conn.close\n",
    "print(\"Exportação finalizada\")"
   ]
  },
  {
   "cell_type": "code",
   "execution_count": 24,
   "id": "01fb57af",
   "metadata": {},
   "outputs": [],
   "source": [
    "RAW_PREFIX = f's3://{bucket_name}/raw/'\n",
    "SILVER_PREFIX = f's3://{bucket_name}/silver/' \n",
    "GOLD_PREFIX = f's3://{bucket_name}/gold' "
   ]
  },
  {
   "cell_type": "code",
   "execution_count": 17,
   "id": "35340373",
   "metadata": {},
   "outputs": [
    {
     "data": {
      "text/plain": [
       "['dim_cliente', 'dim_produto', 'fato_pedidos']"
      ]
     },
     "execution_count": 17,
     "metadata": {},
     "output_type": "execute_result"
    }
   ],
   "source": [
    "tabelas"
   ]
  },
  {
   "cell_type": "code",
   "execution_count": 25,
   "id": "3ce2ee4e",
   "metadata": {},
   "outputs": [],
   "source": [
    "# Camada Silver\n",
    "clientes = pd.read_csv(RAW_PREFIX + 'dim_cliente.csv')\n",
    "produto = pd.read_csv(RAW_PREFIX + 'dim_produto.csv')\n",
    "pedidos = pd.read_csv(RAW_PREFIX + 'fato_pedidos.csv')"
   ]
  },
  {
   "cell_type": "code",
   "execution_count": 26,
   "id": "6bcd0f11",
   "metadata": {},
   "outputs": [],
   "source": [
    "# padronizar colunas para lower case\n",
    "for df in [clientes, produto, pedidos]:\n",
    "  df.columns = [col.lower() for col in df.columns]"
   ]
  },
  {
   "cell_type": "code",
   "execution_count": 27,
   "id": "d0451165",
   "metadata": {},
   "outputs": [],
   "source": [
    "# limpeza básica\n",
    "clientes = clientes.drop_duplicates().dropna(subset=['id_cliente'])\n",
    "produto = produto.drop_duplicates().dropna(subset=['id_produto'])\n",
    "pedidos = pedidos.drop_duplicates().dropna(subset=['id_cliente', 'id_produto'])"
   ]
  },
  {
   "cell_type": "code",
   "execution_count": 36,
   "id": "1c0e6d40",
   "metadata": {},
   "outputs": [
    {
     "data": {
      "application/vnd.microsoft.datawrangler.viewer.v0+json": {
       "columns": [
        {
         "name": "index",
         "rawType": "int64",
         "type": "integer"
        },
        {
         "name": "id_pedido",
         "rawType": "int64",
         "type": "integer"
        },
        {
         "name": "id_cliente",
         "rawType": "int64",
         "type": "integer"
        },
        {
         "name": "id_produto",
         "rawType": "int64",
         "type": "integer"
        },
        {
         "name": "data_pedido",
         "rawType": "datetime64[ns]",
         "type": "datetime"
        },
        {
         "name": "quantidade",
         "rawType": "int64",
         "type": "integer"
        },
        {
         "name": "valor_total",
         "rawType": "float64",
         "type": "float"
        }
       ],
       "ref": "36b49812-79f3-4629-8cf5-0ce93e60f0da",
       "rows": [
        [
         "0",
         "1",
         "73",
         "32",
         "2024-12-02 00:00:00",
         "5",
         "2992.85"
        ],
        [
         "1",
         "2",
         "80",
         "11",
         "2024-08-15 00:00:00",
         "4",
         "2643.2"
        ],
        [
         "2",
         "3",
         "73",
         "67",
         "2025-01-27 00:00:00",
         "3",
         "2806.08"
        ],
        [
         "3",
         "4",
         "27",
         "86",
         "2025-01-20 00:00:00",
         "3",
         "738.9"
        ],
        [
         "4",
         "5",
         "51",
         "17",
         "2024-07-20 00:00:00",
         "3",
         "1387.95"
        ],
        [
         "5",
         "6",
         "97",
         "10",
         "2025-03-02 00:00:00",
         "1",
         "463.7"
        ],
        [
         "6",
         "7",
         "73",
         "13",
         "2024-08-21 00:00:00",
         "1",
         "542.26"
        ],
        [
         "7",
         "8",
         "65",
         "34",
         "2025-02-25 00:00:00",
         "2",
         "1867.86"
        ],
        [
         "8",
         "9",
         "9",
         "32",
         "2024-10-17 00:00:00",
         "3",
         "876.42"
        ],
        [
         "9",
         "10",
         "57",
         "70",
         "2024-06-10 00:00:00",
         "3",
         "1846.68"
        ]
       ],
       "shape": {
        "columns": 6,
        "rows": 10
       }
      },
      "text/html": [
       "<div>\n",
       "<style scoped>\n",
       "    .dataframe tbody tr th:only-of-type {\n",
       "        vertical-align: middle;\n",
       "    }\n",
       "\n",
       "    .dataframe tbody tr th {\n",
       "        vertical-align: top;\n",
       "    }\n",
       "\n",
       "    .dataframe thead th {\n",
       "        text-align: right;\n",
       "    }\n",
       "</style>\n",
       "<table border=\"1\" class=\"dataframe\">\n",
       "  <thead>\n",
       "    <tr style=\"text-align: right;\">\n",
       "      <th></th>\n",
       "      <th>id_pedido</th>\n",
       "      <th>id_cliente</th>\n",
       "      <th>id_produto</th>\n",
       "      <th>data_pedido</th>\n",
       "      <th>quantidade</th>\n",
       "      <th>valor_total</th>\n",
       "    </tr>\n",
       "  </thead>\n",
       "  <tbody>\n",
       "    <tr>\n",
       "      <th>0</th>\n",
       "      <td>1</td>\n",
       "      <td>73</td>\n",
       "      <td>32</td>\n",
       "      <td>2024-12-02</td>\n",
       "      <td>5</td>\n",
       "      <td>2992.85</td>\n",
       "    </tr>\n",
       "    <tr>\n",
       "      <th>1</th>\n",
       "      <td>2</td>\n",
       "      <td>80</td>\n",
       "      <td>11</td>\n",
       "      <td>2024-08-15</td>\n",
       "      <td>4</td>\n",
       "      <td>2643.20</td>\n",
       "    </tr>\n",
       "    <tr>\n",
       "      <th>2</th>\n",
       "      <td>3</td>\n",
       "      <td>73</td>\n",
       "      <td>67</td>\n",
       "      <td>2025-01-27</td>\n",
       "      <td>3</td>\n",
       "      <td>2806.08</td>\n",
       "    </tr>\n",
       "    <tr>\n",
       "      <th>3</th>\n",
       "      <td>4</td>\n",
       "      <td>27</td>\n",
       "      <td>86</td>\n",
       "      <td>2025-01-20</td>\n",
       "      <td>3</td>\n",
       "      <td>738.90</td>\n",
       "    </tr>\n",
       "    <tr>\n",
       "      <th>4</th>\n",
       "      <td>5</td>\n",
       "      <td>51</td>\n",
       "      <td>17</td>\n",
       "      <td>2024-07-20</td>\n",
       "      <td>3</td>\n",
       "      <td>1387.95</td>\n",
       "    </tr>\n",
       "    <tr>\n",
       "      <th>5</th>\n",
       "      <td>6</td>\n",
       "      <td>97</td>\n",
       "      <td>10</td>\n",
       "      <td>2025-03-02</td>\n",
       "      <td>1</td>\n",
       "      <td>463.70</td>\n",
       "    </tr>\n",
       "    <tr>\n",
       "      <th>6</th>\n",
       "      <td>7</td>\n",
       "      <td>73</td>\n",
       "      <td>13</td>\n",
       "      <td>2024-08-21</td>\n",
       "      <td>1</td>\n",
       "      <td>542.26</td>\n",
       "    </tr>\n",
       "    <tr>\n",
       "      <th>7</th>\n",
       "      <td>8</td>\n",
       "      <td>65</td>\n",
       "      <td>34</td>\n",
       "      <td>2025-02-25</td>\n",
       "      <td>2</td>\n",
       "      <td>1867.86</td>\n",
       "    </tr>\n",
       "    <tr>\n",
       "      <th>8</th>\n",
       "      <td>9</td>\n",
       "      <td>9</td>\n",
       "      <td>32</td>\n",
       "      <td>2024-10-17</td>\n",
       "      <td>3</td>\n",
       "      <td>876.42</td>\n",
       "    </tr>\n",
       "    <tr>\n",
       "      <th>9</th>\n",
       "      <td>10</td>\n",
       "      <td>57</td>\n",
       "      <td>70</td>\n",
       "      <td>2024-06-10</td>\n",
       "      <td>3</td>\n",
       "      <td>1846.68</td>\n",
       "    </tr>\n",
       "  </tbody>\n",
       "</table>\n",
       "</div>"
      ],
      "text/plain": [
       "   id_pedido  id_cliente  id_produto data_pedido  quantidade  valor_total\n",
       "0          1          73          32  2024-12-02           5      2992.85\n",
       "1          2          80          11  2024-08-15           4      2643.20\n",
       "2          3          73          67  2025-01-27           3      2806.08\n",
       "3          4          27          86  2025-01-20           3       738.90\n",
       "4          5          51          17  2024-07-20           3      1387.95\n",
       "5          6          97          10  2025-03-02           1       463.70\n",
       "6          7          73          13  2024-08-21           1       542.26\n",
       "7          8          65          34  2025-02-25           2      1867.86\n",
       "8          9           9          32  2024-10-17           3       876.42\n",
       "9         10          57          70  2024-06-10           3      1846.68"
      ]
     },
     "execution_count": 36,
     "metadata": {},
     "output_type": "execute_result"
    }
   ],
   "source": [
    "pedidos.head(10)"
   ]
  },
  {
   "cell_type": "code",
   "execution_count": 37,
   "id": "8108fd0e",
   "metadata": {},
   "outputs": [
    {
     "data": {
      "application/vnd.microsoft.datawrangler.viewer.v0+json": {
       "columns": [
        {
         "name": "index",
         "rawType": "int64",
         "type": "integer"
        },
        {
         "name": "id_produto",
         "rawType": "int64",
         "type": "integer"
        },
        {
         "name": "nome_produto",
         "rawType": "object",
         "type": "string"
        },
        {
         "name": "categoria",
         "rawType": "object",
         "type": "string"
        },
        {
         "name": "preco",
         "rawType": "float64",
         "type": "float"
        }
       ],
       "ref": "cc45f76e-22a5-42c8-a59d-1b9a114e2ef5",
       "rows": [
        [
         "0",
         "1",
         "Iste Illum",
         "Alimentos",
         "171.77"
        ],
        [
         "1",
         "2",
         "Libero Enim",
         "Roupas",
         "277.25"
        ],
        [
         "2",
         "3",
         "Quis At",
         "Livros",
         "227.42"
        ],
        [
         "3",
         "4",
         "Soluta At",
         "Bebidas",
         "844.42"
        ],
        [
         "4",
         "5",
         "Cupiditate Nostrum",
         "Eletrônicos",
         "236.76"
        ],
        [
         "5",
         "6",
         "Sunt Voluptas",
         "Eletrônicos",
         "807.0"
        ],
        [
         "6",
         "7",
         "Rerum Explicabo",
         "Roupas",
         "275.06"
        ],
        [
         "7",
         "8",
         "Iste Ipsum",
         "Alimentos",
         "914.0"
        ],
        [
         "8",
         "9",
         "Sed Reprehenderit",
         "Livros",
         "877.6"
        ],
        [
         "9",
         "10",
         "Quo Culpa",
         "Bebidas",
         "220.5"
        ],
        [
         "10",
         "11",
         "Similique Facilis",
         "Roupas",
         "401.68"
        ],
        [
         "11",
         "12",
         "Quo Facere",
         "Roupas",
         "151.44"
        ],
        [
         "12",
         "13",
         "Ipsam Eum",
         "Alimentos",
         "254.16"
        ],
        [
         "13",
         "14",
         "Soluta Atque",
         "Livros",
         "543.59"
        ],
        [
         "14",
         "15",
         "Ducimus Molestias",
         "Livros",
         "434.15"
        ],
        [
         "15",
         "16",
         "Reiciendis Cumque",
         "Livros",
         "405.41"
        ],
        [
         "16",
         "17",
         "Doloribus Culpa",
         "Alimentos",
         "997.35"
        ],
        [
         "17",
         "18",
         "Maiores Quaerat",
         "Alimentos",
         "514.43"
        ],
        [
         "18",
         "19",
         "Vel Esse",
         "Eletrônicos",
         "758.22"
        ],
        [
         "19",
         "20",
         "Earum Nostrum",
         "Eletrônicos",
         "161.31"
        ]
       ],
       "shape": {
        "columns": 4,
        "rows": 20
       }
      },
      "text/html": [
       "<div>\n",
       "<style scoped>\n",
       "    .dataframe tbody tr th:only-of-type {\n",
       "        vertical-align: middle;\n",
       "    }\n",
       "\n",
       "    .dataframe tbody tr th {\n",
       "        vertical-align: top;\n",
       "    }\n",
       "\n",
       "    .dataframe thead th {\n",
       "        text-align: right;\n",
       "    }\n",
       "</style>\n",
       "<table border=\"1\" class=\"dataframe\">\n",
       "  <thead>\n",
       "    <tr style=\"text-align: right;\">\n",
       "      <th></th>\n",
       "      <th>id_produto</th>\n",
       "      <th>nome_produto</th>\n",
       "      <th>categoria</th>\n",
       "      <th>preco</th>\n",
       "    </tr>\n",
       "  </thead>\n",
       "  <tbody>\n",
       "    <tr>\n",
       "      <th>0</th>\n",
       "      <td>1</td>\n",
       "      <td>Iste Illum</td>\n",
       "      <td>Alimentos</td>\n",
       "      <td>171.77</td>\n",
       "    </tr>\n",
       "    <tr>\n",
       "      <th>1</th>\n",
       "      <td>2</td>\n",
       "      <td>Libero Enim</td>\n",
       "      <td>Roupas</td>\n",
       "      <td>277.25</td>\n",
       "    </tr>\n",
       "    <tr>\n",
       "      <th>2</th>\n",
       "      <td>3</td>\n",
       "      <td>Quis At</td>\n",
       "      <td>Livros</td>\n",
       "      <td>227.42</td>\n",
       "    </tr>\n",
       "    <tr>\n",
       "      <th>3</th>\n",
       "      <td>4</td>\n",
       "      <td>Soluta At</td>\n",
       "      <td>Bebidas</td>\n",
       "      <td>844.42</td>\n",
       "    </tr>\n",
       "    <tr>\n",
       "      <th>4</th>\n",
       "      <td>5</td>\n",
       "      <td>Cupiditate Nostrum</td>\n",
       "      <td>Eletrônicos</td>\n",
       "      <td>236.76</td>\n",
       "    </tr>\n",
       "    <tr>\n",
       "      <th>5</th>\n",
       "      <td>6</td>\n",
       "      <td>Sunt Voluptas</td>\n",
       "      <td>Eletrônicos</td>\n",
       "      <td>807.00</td>\n",
       "    </tr>\n",
       "    <tr>\n",
       "      <th>6</th>\n",
       "      <td>7</td>\n",
       "      <td>Rerum Explicabo</td>\n",
       "      <td>Roupas</td>\n",
       "      <td>275.06</td>\n",
       "    </tr>\n",
       "    <tr>\n",
       "      <th>7</th>\n",
       "      <td>8</td>\n",
       "      <td>Iste Ipsum</td>\n",
       "      <td>Alimentos</td>\n",
       "      <td>914.00</td>\n",
       "    </tr>\n",
       "    <tr>\n",
       "      <th>8</th>\n",
       "      <td>9</td>\n",
       "      <td>Sed Reprehenderit</td>\n",
       "      <td>Livros</td>\n",
       "      <td>877.60</td>\n",
       "    </tr>\n",
       "    <tr>\n",
       "      <th>9</th>\n",
       "      <td>10</td>\n",
       "      <td>Quo Culpa</td>\n",
       "      <td>Bebidas</td>\n",
       "      <td>220.50</td>\n",
       "    </tr>\n",
       "    <tr>\n",
       "      <th>10</th>\n",
       "      <td>11</td>\n",
       "      <td>Similique Facilis</td>\n",
       "      <td>Roupas</td>\n",
       "      <td>401.68</td>\n",
       "    </tr>\n",
       "    <tr>\n",
       "      <th>11</th>\n",
       "      <td>12</td>\n",
       "      <td>Quo Facere</td>\n",
       "      <td>Roupas</td>\n",
       "      <td>151.44</td>\n",
       "    </tr>\n",
       "    <tr>\n",
       "      <th>12</th>\n",
       "      <td>13</td>\n",
       "      <td>Ipsam Eum</td>\n",
       "      <td>Alimentos</td>\n",
       "      <td>254.16</td>\n",
       "    </tr>\n",
       "    <tr>\n",
       "      <th>13</th>\n",
       "      <td>14</td>\n",
       "      <td>Soluta Atque</td>\n",
       "      <td>Livros</td>\n",
       "      <td>543.59</td>\n",
       "    </tr>\n",
       "    <tr>\n",
       "      <th>14</th>\n",
       "      <td>15</td>\n",
       "      <td>Ducimus Molestias</td>\n",
       "      <td>Livros</td>\n",
       "      <td>434.15</td>\n",
       "    </tr>\n",
       "    <tr>\n",
       "      <th>15</th>\n",
       "      <td>16</td>\n",
       "      <td>Reiciendis Cumque</td>\n",
       "      <td>Livros</td>\n",
       "      <td>405.41</td>\n",
       "    </tr>\n",
       "    <tr>\n",
       "      <th>16</th>\n",
       "      <td>17</td>\n",
       "      <td>Doloribus Culpa</td>\n",
       "      <td>Alimentos</td>\n",
       "      <td>997.35</td>\n",
       "    </tr>\n",
       "    <tr>\n",
       "      <th>17</th>\n",
       "      <td>18</td>\n",
       "      <td>Maiores Quaerat</td>\n",
       "      <td>Alimentos</td>\n",
       "      <td>514.43</td>\n",
       "    </tr>\n",
       "    <tr>\n",
       "      <th>18</th>\n",
       "      <td>19</td>\n",
       "      <td>Vel Esse</td>\n",
       "      <td>Eletrônicos</td>\n",
       "      <td>758.22</td>\n",
       "    </tr>\n",
       "    <tr>\n",
       "      <th>19</th>\n",
       "      <td>20</td>\n",
       "      <td>Earum Nostrum</td>\n",
       "      <td>Eletrônicos</td>\n",
       "      <td>161.31</td>\n",
       "    </tr>\n",
       "  </tbody>\n",
       "</table>\n",
       "</div>"
      ],
      "text/plain": [
       "    id_produto        nome_produto    categoria   preco\n",
       "0            1          Iste Illum    Alimentos  171.77\n",
       "1            2         Libero Enim       Roupas  277.25\n",
       "2            3             Quis At       Livros  227.42\n",
       "3            4           Soluta At      Bebidas  844.42\n",
       "4            5  Cupiditate Nostrum  Eletrônicos  236.76\n",
       "5            6       Sunt Voluptas  Eletrônicos  807.00\n",
       "6            7     Rerum Explicabo       Roupas  275.06\n",
       "7            8          Iste Ipsum    Alimentos  914.00\n",
       "8            9   Sed Reprehenderit       Livros  877.60\n",
       "9           10           Quo Culpa      Bebidas  220.50\n",
       "10          11   Similique Facilis       Roupas  401.68\n",
       "11          12          Quo Facere       Roupas  151.44\n",
       "12          13           Ipsam Eum    Alimentos  254.16\n",
       "13          14        Soluta Atque       Livros  543.59\n",
       "14          15   Ducimus Molestias       Livros  434.15\n",
       "15          16   Reiciendis Cumque       Livros  405.41\n",
       "16          17     Doloribus Culpa    Alimentos  997.35\n",
       "17          18     Maiores Quaerat    Alimentos  514.43\n",
       "18          19            Vel Esse  Eletrônicos  758.22\n",
       "19          20       Earum Nostrum  Eletrônicos  161.31"
      ]
     },
     "execution_count": 37,
     "metadata": {},
     "output_type": "execute_result"
    }
   ],
   "source": [
    "produto.head(20)"
   ]
  },
  {
   "cell_type": "code",
   "execution_count": 31,
   "id": "ad129065",
   "metadata": {},
   "outputs": [
    {
     "data": {
      "application/vnd.microsoft.datawrangler.viewer.v0+json": {
       "columns": [
        {
         "name": "index",
         "rawType": "int64",
         "type": "integer"
        },
        {
         "name": "id_cliente",
         "rawType": "int64",
         "type": "integer"
        },
        {
         "name": "nome",
         "rawType": "object",
         "type": "string"
        },
        {
         "name": "idade",
         "rawType": "int64",
         "type": "integer"
        },
        {
         "name": "cidade",
         "rawType": "object",
         "type": "string"
        }
       ],
       "ref": "af118210-2264-4fdc-b497-e687aa46cba6",
       "rows": [
        [
         "0",
         "1",
         "Daniela da Cunha",
         "58",
         "Dias"
        ],
        [
         "1",
         "2",
         "Marcos Vinicius da Mota",
         "25",
         "Costela"
        ],
        [
         "2",
         "3",
         "Vitor Nascimento",
         "19",
         "da Paz"
        ],
        [
         "3",
         "4",
         "Dra. Caroline Nascimento",
         "65",
         "Mendes da Prata"
        ],
        [
         "4",
         "5",
         "Igor Rezende",
         "35",
         "Nunes"
        ]
       ],
       "shape": {
        "columns": 4,
        "rows": 5
       }
      },
      "text/html": [
       "<div>\n",
       "<style scoped>\n",
       "    .dataframe tbody tr th:only-of-type {\n",
       "        vertical-align: middle;\n",
       "    }\n",
       "\n",
       "    .dataframe tbody tr th {\n",
       "        vertical-align: top;\n",
       "    }\n",
       "\n",
       "    .dataframe thead th {\n",
       "        text-align: right;\n",
       "    }\n",
       "</style>\n",
       "<table border=\"1\" class=\"dataframe\">\n",
       "  <thead>\n",
       "    <tr style=\"text-align: right;\">\n",
       "      <th></th>\n",
       "      <th>id_cliente</th>\n",
       "      <th>nome</th>\n",
       "      <th>idade</th>\n",
       "      <th>cidade</th>\n",
       "    </tr>\n",
       "  </thead>\n",
       "  <tbody>\n",
       "    <tr>\n",
       "      <th>0</th>\n",
       "      <td>1</td>\n",
       "      <td>Daniela da Cunha</td>\n",
       "      <td>58</td>\n",
       "      <td>Dias</td>\n",
       "    </tr>\n",
       "    <tr>\n",
       "      <th>1</th>\n",
       "      <td>2</td>\n",
       "      <td>Marcos Vinicius da Mota</td>\n",
       "      <td>25</td>\n",
       "      <td>Costela</td>\n",
       "    </tr>\n",
       "    <tr>\n",
       "      <th>2</th>\n",
       "      <td>3</td>\n",
       "      <td>Vitor Nascimento</td>\n",
       "      <td>19</td>\n",
       "      <td>da Paz</td>\n",
       "    </tr>\n",
       "    <tr>\n",
       "      <th>3</th>\n",
       "      <td>4</td>\n",
       "      <td>Dra. Caroline Nascimento</td>\n",
       "      <td>65</td>\n",
       "      <td>Mendes da Prata</td>\n",
       "    </tr>\n",
       "    <tr>\n",
       "      <th>4</th>\n",
       "      <td>5</td>\n",
       "      <td>Igor Rezende</td>\n",
       "      <td>35</td>\n",
       "      <td>Nunes</td>\n",
       "    </tr>\n",
       "  </tbody>\n",
       "</table>\n",
       "</div>"
      ],
      "text/plain": [
       "   id_cliente                      nome  idade           cidade\n",
       "0           1          Daniela da Cunha     58             Dias\n",
       "1           2   Marcos Vinicius da Mota     25          Costela\n",
       "2           3          Vitor Nascimento     19           da Paz\n",
       "3           4  Dra. Caroline Nascimento     65  Mendes da Prata\n",
       "4           5              Igor Rezende     35            Nunes"
      ]
     },
     "execution_count": 31,
     "metadata": {},
     "output_type": "execute_result"
    }
   ],
   "source": [
    "clientes.head()"
   ]
  },
  {
   "cell_type": "code",
   "execution_count": 29,
   "id": "376b740d",
   "metadata": {},
   "outputs": [],
   "source": [
    "# padronização das colunas datas\n",
    "if 'data_pedido' in pedidos.columns:\n",
    "  pedidos['data_pedido'] = pd.to_datetime(pedidos['data_pedido'], errors='coerce')"
   ]
  },
  {
   "cell_type": "code",
   "execution_count": 34,
   "id": "23de31a9",
   "metadata": {},
   "outputs": [],
   "source": [
    "# salvar camada silver em parquet no S3\n",
    "clientes.to_parquet(SILVER_PREFIX + 'clientes/', index=False)\n",
    "produto.to_parquet(SILVER_PREFIX + 'produto/', index=False)\n",
    "pedidos.to_parquet(SILVER_PREFIX + 'pedidos/', index=False)"
   ]
  },
  {
   "cell_type": "code",
   "execution_count": 35,
   "id": "3192cedd",
   "metadata": {},
   "outputs": [
    {
     "data": {
      "application/vnd.microsoft.datawrangler.viewer.v0+json": {
       "columns": [
        {
         "name": "index",
         "rawType": "int64",
         "type": "integer"
        },
        {
         "name": "id_pedido",
         "rawType": "int64",
         "type": "integer"
        },
        {
         "name": "id_cliente",
         "rawType": "int64",
         "type": "integer"
        },
        {
         "name": "id_produto",
         "rawType": "int64",
         "type": "integer"
        },
        {
         "name": "data_pedido",
         "rawType": "datetime64[ns]",
         "type": "datetime"
        },
        {
         "name": "quantidade",
         "rawType": "int64",
         "type": "integer"
        },
        {
         "name": "valor_total",
         "rawType": "float64",
         "type": "float"
        }
       ],
       "ref": "4046e902-cd15-4785-bee2-c0a18f01c58a",
       "rows": [
        [
         "0",
         "1",
         "73",
         "32",
         "2024-12-02 00:00:00",
         "5",
         "2992.85"
        ],
        [
         "1",
         "2",
         "80",
         "11",
         "2024-08-15 00:00:00",
         "4",
         "2643.2"
        ],
        [
         "2",
         "3",
         "73",
         "67",
         "2025-01-27 00:00:00",
         "3",
         "2806.08"
        ],
        [
         "3",
         "4",
         "27",
         "86",
         "2025-01-20 00:00:00",
         "3",
         "738.9"
        ],
        [
         "4",
         "5",
         "51",
         "17",
         "2024-07-20 00:00:00",
         "3",
         "1387.95"
        ]
       ],
       "shape": {
        "columns": 6,
        "rows": 5
       }
      },
      "text/html": [
       "<div>\n",
       "<style scoped>\n",
       "    .dataframe tbody tr th:only-of-type {\n",
       "        vertical-align: middle;\n",
       "    }\n",
       "\n",
       "    .dataframe tbody tr th {\n",
       "        vertical-align: top;\n",
       "    }\n",
       "\n",
       "    .dataframe thead th {\n",
       "        text-align: right;\n",
       "    }\n",
       "</style>\n",
       "<table border=\"1\" class=\"dataframe\">\n",
       "  <thead>\n",
       "    <tr style=\"text-align: right;\">\n",
       "      <th></th>\n",
       "      <th>id_pedido</th>\n",
       "      <th>id_cliente</th>\n",
       "      <th>id_produto</th>\n",
       "      <th>data_pedido</th>\n",
       "      <th>quantidade</th>\n",
       "      <th>valor_total</th>\n",
       "    </tr>\n",
       "  </thead>\n",
       "  <tbody>\n",
       "    <tr>\n",
       "      <th>0</th>\n",
       "      <td>1</td>\n",
       "      <td>73</td>\n",
       "      <td>32</td>\n",
       "      <td>2024-12-02</td>\n",
       "      <td>5</td>\n",
       "      <td>2992.85</td>\n",
       "    </tr>\n",
       "    <tr>\n",
       "      <th>1</th>\n",
       "      <td>2</td>\n",
       "      <td>80</td>\n",
       "      <td>11</td>\n",
       "      <td>2024-08-15</td>\n",
       "      <td>4</td>\n",
       "      <td>2643.20</td>\n",
       "    </tr>\n",
       "    <tr>\n",
       "      <th>2</th>\n",
       "      <td>3</td>\n",
       "      <td>73</td>\n",
       "      <td>67</td>\n",
       "      <td>2025-01-27</td>\n",
       "      <td>3</td>\n",
       "      <td>2806.08</td>\n",
       "    </tr>\n",
       "    <tr>\n",
       "      <th>3</th>\n",
       "      <td>4</td>\n",
       "      <td>27</td>\n",
       "      <td>86</td>\n",
       "      <td>2025-01-20</td>\n",
       "      <td>3</td>\n",
       "      <td>738.90</td>\n",
       "    </tr>\n",
       "    <tr>\n",
       "      <th>4</th>\n",
       "      <td>5</td>\n",
       "      <td>51</td>\n",
       "      <td>17</td>\n",
       "      <td>2024-07-20</td>\n",
       "      <td>3</td>\n",
       "      <td>1387.95</td>\n",
       "    </tr>\n",
       "  </tbody>\n",
       "</table>\n",
       "</div>"
      ],
      "text/plain": [
       "   id_pedido  id_cliente  id_produto data_pedido  quantidade  valor_total\n",
       "0          1          73          32  2024-12-02           5      2992.85\n",
       "1          2          80          11  2024-08-15           4      2643.20\n",
       "2          3          73          67  2025-01-27           3      2806.08\n",
       "3          4          27          86  2025-01-20           3       738.90\n",
       "4          5          51          17  2024-07-20           3      1387.95"
      ]
     },
     "execution_count": 35,
     "metadata": {},
     "output_type": "execute_result"
    }
   ],
   "source": [
    "pedidos.head()"
   ]
  },
  {
   "cell_type": "code",
   "execution_count": null,
   "id": "a3ce6c87",
   "metadata": {},
   "outputs": [],
   "source": [
    "# gold layer\n",
    "gold_vendas = pedido.merge()"
   ]
  }
 ],
 "metadata": {
  "kernelspec": {
   "display_name": "Python 3",
   "language": "python",
   "name": "python3"
  },
  "language_info": {
   "codemirror_mode": {
    "name": "ipython",
    "version": 3
   },
   "file_extension": ".py",
   "mimetype": "text/x-python",
   "name": "python",
   "nbconvert_exporter": "python",
   "pygments_lexer": "ipython3",
   "version": "3.10.11"
  }
 },
 "nbformat": 4,
 "nbformat_minor": 5
}
