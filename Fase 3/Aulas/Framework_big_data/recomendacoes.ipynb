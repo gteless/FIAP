{
 "cells": [
  {
   "cell_type": "code",
   "execution_count": 1,
   "id": "5ca5cf7d",
   "metadata": {},
   "outputs": [],
   "source": [
    "import scipy\n",
    "from scipy import stats\n",
    "import numpy as np"
   ]
  },
  {
   "cell_type": "code",
   "execution_count": 5,
   "id": "9af2b77b",
   "metadata": {},
   "outputs": [
    {
     "name": "stdout",
     "output_type": "stream",
     "text": [
      "[[ 8  0  3  4  6]\n",
      " [ 5  6  1  8  9]\n",
      " [ 8  0  0  5 10]]\n"
     ]
    }
   ],
   "source": [
    "# criação dos dados que serão utilizados\n",
    "matriz = np.array([[8,0,3,4,6], [5,6,1,8,9], [8,0,0,5,10]])\n",
    "novoUser = [8,0,2,3,0]\n",
    "nao_assistidos = [0,1,0,0,1]\n",
    "print(matriz)\n",
    "\n",
    "nomeFilmes = ['Round 6', 'A Invocação do Mal', '9 Desconhecidos', 'You', 'La Casa de Papel']"
   ]
  },
  {
   "cell_type": "code",
   "execution_count": 6,
   "id": "a8d22f27",
   "metadata": {},
   "outputs": [
    {
     "name": "stdout",
     "output_type": "stream",
     "text": [
      "8\n",
      "5\n",
      "[5 6 1 8 9]\n",
      "0 [8 0 3 4 6]\n",
      "user:  0\n",
      "[8, 3, 4] [8, 2, 3]\n",
      "1 [5 6 1 8 9]\n",
      "user:  1\n",
      "[5, 1, 8] [8, 2, 3]\n",
      "2 [ 8  0  0  5 10]\n",
      "user:  2\n",
      "[8, 0, 5] [8, 2, 3]\n",
      "\n",
      "[0.9994237971287664, 0.23621543814299711, 0.8723686098443353]\n"
     ]
    }
   ],
   "source": [
    "#criando um vetor com 3 posições e preenchendo com zero (vamos colocar os valores da similaridade entre o novoUser e cada outro)\n",
    "\n",
    "similarity = [0] * 3\n",
    "print(matriz[0][0])\n",
    "print(matriz[1][0])\n",
    "print(matriz[1, :])\n",
    "\n",
    "# para cada usuário no sistema...\n",
    "for i in range (0, 3):\n",
    "  # vamos pegar os dados do usuário\n",
    "  temp = matriz[i,:]\n",
    "\n",
    "  print(i, temp)\n",
    "  # queremos apenas comparar os dados que o novo user assistiu (ou seja, que o novo user seja != 0)\n",
    "  tempUser = [t for n, t in zip(novoUser, temp) if n != 0]\n",
    "  tempNovoUser = [n for n in novoUser if n != 0]\n",
    "  \n",
    "  # para verificar o processo\n",
    "  print ('user: ', i)\n",
    "  print(tempUser, tempNovoUser)\n",
    "\n",
    "  #vamos usar a biblioteca scipy.stats que já calcula o pearson\n",
    "  similarity[i] = scipy.stats.pearsonr(tempUser, tempNovoUser)[0]\n",
    "  \n",
    "print()\n",
    "print(similarity)"
   ]
  },
  {
   "cell_type": "code",
   "execution_count": null,
   "id": "2b58452b",
   "metadata": {},
   "outputs": [],
   "source": []
  }
 ],
 "metadata": {
  "kernelspec": {
   "display_name": "Python 3",
   "language": "python",
   "name": "python3"
  },
  "language_info": {
   "codemirror_mode": {
    "name": "ipython",
    "version": 3
   },
   "file_extension": ".py",
   "mimetype": "text/x-python",
   "name": "python",
   "nbconvert_exporter": "python",
   "pygments_lexer": "ipython3",
   "version": "3.10.11"
  }
 },
 "nbformat": 4,
 "nbformat_minor": 5
}
