{
  "cells": [
    {
      "cell_type": "code",
      "execution_count": 1,
      "id": "WqObNyyBeQgr",
      "metadata": {
        "colab": {
          "base_uri": "https://localhost:8080/"
        },
        "id": "WqObNyyBeQgr",
        "outputId": "7e193edb-930e-4089-b885-110a8dcebcb1"
      },
      "outputs": [],
      "source": [
        "#!pip install pyspark\n",
        "#!pip install findspark"
      ]
    },
    {
      "cell_type": "code",
      "execution_count": 2,
      "id": "2c6547dc",
      "metadata": {
        "id": "2c6547dc"
      },
      "outputs": [
        {
          "ename": "KeyboardInterrupt",
          "evalue": "",
          "output_type": "error",
          "traceback": [
            "\u001b[1;31m---------------------------------------------------------------------------\u001b[0m",
            "\u001b[1;31mKeyboardInterrupt\u001b[0m                         Traceback (most recent call last)",
            "Cell \u001b[1;32mIn[2], line 4\u001b[0m\n\u001b[0;32m      2\u001b[0m findspark\u001b[38;5;241m.\u001b[39minit()\n\u001b[0;32m      3\u001b[0m \u001b[38;5;28;01mfrom\u001b[39;00m \u001b[38;5;21;01mpyspark\u001b[39;00m\u001b[38;5;21;01m.\u001b[39;00m\u001b[38;5;21;01msql\u001b[39;00m \u001b[38;5;28;01mimport\u001b[39;00m SparkSession\n\u001b[1;32m----> 4\u001b[0m spark \u001b[38;5;241m=\u001b[39m \u001b[43mSparkSession\u001b[49m\u001b[38;5;241;43m.\u001b[39;49m\u001b[43mbuilder\u001b[49m\u001b[38;5;241;43m.\u001b[39;49m\u001b[43mmaster\u001b[49m\u001b[43m(\u001b[49m\u001b[38;5;124;43m\"\u001b[39;49m\u001b[38;5;124;43mlocal[*]\u001b[39;49m\u001b[38;5;124;43m\"\u001b[39;49m\u001b[43m)\u001b[49m\u001b[38;5;241;43m.\u001b[39;49m\u001b[43mgetOrCreate\u001b[49m\u001b[43m(\u001b[49m\u001b[43m)\u001b[49m\n",
            "File \u001b[1;32mc:\\Users\\gabri\\AppData\\Local\\Programs\\Python\\Python310\\lib\\site-packages\\pyspark\\sql\\session.py:556\u001b[0m, in \u001b[0;36mSparkSession.Builder.getOrCreate\u001b[1;34m(self)\u001b[0m\n\u001b[0;32m    554\u001b[0m     sparkConf\u001b[38;5;241m.\u001b[39mset(key, value)\n\u001b[0;32m    555\u001b[0m \u001b[38;5;66;03m# This SparkContext may be an existing one.\u001b[39;00m\n\u001b[1;32m--> 556\u001b[0m sc \u001b[38;5;241m=\u001b[39m \u001b[43mSparkContext\u001b[49m\u001b[38;5;241;43m.\u001b[39;49m\u001b[43mgetOrCreate\u001b[49m\u001b[43m(\u001b[49m\u001b[43msparkConf\u001b[49m\u001b[43m)\u001b[49m\n\u001b[0;32m    557\u001b[0m \u001b[38;5;66;03m# Do not update `SparkConf` for existing `SparkContext`, as it's shared\u001b[39;00m\n\u001b[0;32m    558\u001b[0m \u001b[38;5;66;03m# by all sessions.\u001b[39;00m\n\u001b[0;32m    559\u001b[0m session \u001b[38;5;241m=\u001b[39m SparkSession(sc, options\u001b[38;5;241m=\u001b[39m\u001b[38;5;28mself\u001b[39m\u001b[38;5;241m.\u001b[39m_options)\n",
            "File \u001b[1;32mc:\\Users\\gabri\\AppData\\Local\\Programs\\Python\\Python310\\lib\\site-packages\\pyspark\\core\\context.py:523\u001b[0m, in \u001b[0;36mSparkContext.getOrCreate\u001b[1;34m(cls, conf)\u001b[0m\n\u001b[0;32m    521\u001b[0m \u001b[38;5;28;01mwith\u001b[39;00m SparkContext\u001b[38;5;241m.\u001b[39m_lock:\n\u001b[0;32m    522\u001b[0m     \u001b[38;5;28;01mif\u001b[39;00m SparkContext\u001b[38;5;241m.\u001b[39m_active_spark_context \u001b[38;5;129;01mis\u001b[39;00m \u001b[38;5;28;01mNone\u001b[39;00m:\n\u001b[1;32m--> 523\u001b[0m         \u001b[43mSparkContext\u001b[49m\u001b[43m(\u001b[49m\u001b[43mconf\u001b[49m\u001b[38;5;241;43m=\u001b[39;49m\u001b[43mconf\u001b[49m\u001b[43m \u001b[49m\u001b[38;5;129;43;01mor\u001b[39;49;00m\u001b[43m \u001b[49m\u001b[43mSparkConf\u001b[49m\u001b[43m(\u001b[49m\u001b[43m)\u001b[49m\u001b[43m)\u001b[49m\n\u001b[0;32m    524\u001b[0m     \u001b[38;5;28;01massert\u001b[39;00m SparkContext\u001b[38;5;241m.\u001b[39m_active_spark_context \u001b[38;5;129;01mis\u001b[39;00m \u001b[38;5;129;01mnot\u001b[39;00m \u001b[38;5;28;01mNone\u001b[39;00m\n\u001b[0;32m    525\u001b[0m     \u001b[38;5;28;01mreturn\u001b[39;00m SparkContext\u001b[38;5;241m.\u001b[39m_active_spark_context\n",
            "File \u001b[1;32mc:\\Users\\gabri\\AppData\\Local\\Programs\\Python\\Python310\\lib\\site-packages\\pyspark\\core\\context.py:205\u001b[0m, in \u001b[0;36mSparkContext.__init__\u001b[1;34m(self, master, appName, sparkHome, pyFiles, environment, batchSize, serializer, conf, gateway, jsc, profiler_cls, udf_profiler_cls, memory_profiler_cls)\u001b[0m\n\u001b[0;32m    199\u001b[0m \u001b[38;5;28;01mif\u001b[39;00m gateway \u001b[38;5;129;01mis\u001b[39;00m \u001b[38;5;129;01mnot\u001b[39;00m \u001b[38;5;28;01mNone\u001b[39;00m \u001b[38;5;129;01mand\u001b[39;00m gateway\u001b[38;5;241m.\u001b[39mgateway_parameters\u001b[38;5;241m.\u001b[39mauth_token \u001b[38;5;129;01mis\u001b[39;00m \u001b[38;5;28;01mNone\u001b[39;00m:\n\u001b[0;32m    200\u001b[0m     \u001b[38;5;28;01mraise\u001b[39;00m \u001b[38;5;167;01mValueError\u001b[39;00m(\n\u001b[0;32m    201\u001b[0m         \u001b[38;5;124m\"\u001b[39m\u001b[38;5;124mYou are trying to pass an insecure Py4j gateway to Spark. This\u001b[39m\u001b[38;5;124m\"\u001b[39m\n\u001b[0;32m    202\u001b[0m         \u001b[38;5;124m\"\u001b[39m\u001b[38;5;124m is not allowed as it is a security risk.\u001b[39m\u001b[38;5;124m\"\u001b[39m\n\u001b[0;32m    203\u001b[0m     )\n\u001b[1;32m--> 205\u001b[0m \u001b[43mSparkContext\u001b[49m\u001b[38;5;241;43m.\u001b[39;49m\u001b[43m_ensure_initialized\u001b[49m\u001b[43m(\u001b[49m\u001b[38;5;28;43mself\u001b[39;49m\u001b[43m,\u001b[49m\u001b[43m \u001b[49m\u001b[43mgateway\u001b[49m\u001b[38;5;241;43m=\u001b[39;49m\u001b[43mgateway\u001b[49m\u001b[43m,\u001b[49m\u001b[43m \u001b[49m\u001b[43mconf\u001b[49m\u001b[38;5;241;43m=\u001b[39;49m\u001b[43mconf\u001b[49m\u001b[43m)\u001b[49m\n\u001b[0;32m    206\u001b[0m \u001b[38;5;28;01mtry\u001b[39;00m:\n\u001b[0;32m    207\u001b[0m     \u001b[38;5;28mself\u001b[39m\u001b[38;5;241m.\u001b[39m_do_init(\n\u001b[0;32m    208\u001b[0m         master,\n\u001b[0;32m    209\u001b[0m         appName,\n\u001b[1;32m   (...)\u001b[0m\n\u001b[0;32m    219\u001b[0m         memory_profiler_cls,\n\u001b[0;32m    220\u001b[0m     )\n",
            "File \u001b[1;32mc:\\Users\\gabri\\AppData\\Local\\Programs\\Python\\Python310\\lib\\site-packages\\pyspark\\core\\context.py:444\u001b[0m, in \u001b[0;36mSparkContext._ensure_initialized\u001b[1;34m(cls, instance, gateway, conf)\u001b[0m\n\u001b[0;32m    442\u001b[0m \u001b[38;5;28;01mwith\u001b[39;00m SparkContext\u001b[38;5;241m.\u001b[39m_lock:\n\u001b[0;32m    443\u001b[0m     \u001b[38;5;28;01mif\u001b[39;00m \u001b[38;5;129;01mnot\u001b[39;00m SparkContext\u001b[38;5;241m.\u001b[39m_gateway:\n\u001b[1;32m--> 444\u001b[0m         SparkContext\u001b[38;5;241m.\u001b[39m_gateway \u001b[38;5;241m=\u001b[39m gateway \u001b[38;5;129;01mor\u001b[39;00m \u001b[43mlaunch_gateway\u001b[49m\u001b[43m(\u001b[49m\u001b[43mconf\u001b[49m\u001b[43m)\u001b[49m\n\u001b[0;32m    445\u001b[0m         SparkContext\u001b[38;5;241m.\u001b[39m_jvm \u001b[38;5;241m=\u001b[39m SparkContext\u001b[38;5;241m.\u001b[39m_gateway\u001b[38;5;241m.\u001b[39mjvm\n\u001b[0;32m    447\u001b[0m     \u001b[38;5;28;01mif\u001b[39;00m instance:\n",
            "File \u001b[1;32mc:\\Users\\gabri\\AppData\\Local\\Programs\\Python\\Python310\\lib\\site-packages\\pyspark\\java_gateway.py:108\u001b[0m, in \u001b[0;36mlaunch_gateway\u001b[1;34m(conf, popen_kwargs)\u001b[0m\n\u001b[0;32m    106\u001b[0m \u001b[38;5;66;03m# Wait for the file to appear, or for the process to exit, whichever happens first.\u001b[39;00m\n\u001b[0;32m    107\u001b[0m \u001b[38;5;28;01mwhile\u001b[39;00m \u001b[38;5;129;01mnot\u001b[39;00m proc\u001b[38;5;241m.\u001b[39mpoll() \u001b[38;5;129;01mand\u001b[39;00m \u001b[38;5;129;01mnot\u001b[39;00m os\u001b[38;5;241m.\u001b[39mpath\u001b[38;5;241m.\u001b[39misfile(conn_info_file):\n\u001b[1;32m--> 108\u001b[0m     \u001b[43mtime\u001b[49m\u001b[38;5;241;43m.\u001b[39;49m\u001b[43msleep\u001b[49m\u001b[43m(\u001b[49m\u001b[38;5;241;43m0.1\u001b[39;49m\u001b[43m)\u001b[49m\n\u001b[0;32m    110\u001b[0m \u001b[38;5;28;01mif\u001b[39;00m \u001b[38;5;129;01mnot\u001b[39;00m os\u001b[38;5;241m.\u001b[39mpath\u001b[38;5;241m.\u001b[39misfile(conn_info_file):\n\u001b[0;32m    111\u001b[0m     \u001b[38;5;28;01mraise\u001b[39;00m PySparkRuntimeError(\n\u001b[0;32m    112\u001b[0m         errorClass\u001b[38;5;241m=\u001b[39m\u001b[38;5;124m\"\u001b[39m\u001b[38;5;124mJAVA_GATEWAY_EXITED\u001b[39m\u001b[38;5;124m\"\u001b[39m,\n\u001b[0;32m    113\u001b[0m         messageParameters\u001b[38;5;241m=\u001b[39m{},\n\u001b[0;32m    114\u001b[0m     )\n",
            "\u001b[1;31mKeyboardInterrupt\u001b[0m: "
          ]
        }
      ],
      "source": [
        "import findspark\n",
        "findspark.init()\n",
        "from pyspark.sql import SparkSession\n",
        "spark = SparkSession.builder.master(\"local[*]\").getOrCreate()"
      ]
    },
    {
      "cell_type": "code",
      "execution_count": null,
      "id": "7593517b",
      "metadata": {
        "colab": {
          "base_uri": "https://localhost:8080/"
        },
        "id": "7593517b",
        "outputId": "c4e34abb-eadb-4a90-be7a-cbb378239543"
      },
      "outputs": [
        {
          "name": "stdout",
          "output_type": "stream",
          "text": [
            "+--------------------+\n",
            "|               hello|\n",
            "+--------------------+\n",
            "|Sucesso total, es...|\n",
            "+--------------------+\n",
            "\n"
          ]
        }
      ],
      "source": [
        "df = spark.sql('''select 'Sucesso total, estamos online!' as hello''')\n",
        "df.show()"
      ]
    },
    {
      "cell_type": "code",
      "execution_count": null,
      "id": "eaf308ff",
      "metadata": {
        "id": "eaf308ff"
      },
      "outputs": [],
      "source": [
        "from pyspark.sql import Row, DataFrame\n",
        "from pyspark.sql.types import StringType, StructType, StructField, IntegerType\n",
        "from pyspark.sql.functions import col, expr, lit, substring, concat, concat_ws, when, coalesce\n",
        "from pyspark.sql import functions as F\n",
        "from functools import reduce"
      ]
    },
    {
      "cell_type": "markdown",
      "id": "rM_eCG3igmJj",
      "metadata": {
        "id": "rM_eCG3igmJj"
      },
      "source": [
        "### Data Manipulation using Spark"
      ]
    },
    {
      "cell_type": "code",
      "execution_count": null,
      "id": "329532d9",
      "metadata": {
        "colab": {
          "base_uri": "https://localhost:8080/"
        },
        "id": "329532d9",
        "outputId": "7cf70e26-1fa7-4dba-f302-5bb0a1cf8871"
      },
      "outputs": [
        {
          "name": "stdout",
          "output_type": "stream",
          "text": [
            "df.count  : 553\n",
            "df.col ct : 7\n",
            "df.columns  : ['Bank Name', 'City', 'ST', 'CERT', 'Acquiring Institution', 'Closing Date', 'Updated Date']\n"
          ]
        }
      ],
      "source": [
        "df = spark.read.csv('banklist.csv', sep= ',', inferSchema = True, header = True)\n",
        "\n",
        "print('df.count  :', df.count())\n",
        "print('df.col ct :', len(df.columns))\n",
        "print('df.columns  :', df.columns)"
      ]
    },
    {
      "cell_type": "code",
      "execution_count": null,
      "id": "MSnDci-nin-O",
      "metadata": {
        "colab": {
          "base_uri": "https://localhost:8080/"
        },
        "id": "MSnDci-nin-O",
        "outputId": "eb45a43a-0f7a-4bda-d428-da09f4e19376"
      },
      "outputs": [
        {
          "name": "stdout",
          "output_type": "stream",
          "text": [
            "+------------------------------------------------------+------------------+------------+\n",
            "|Bank Name                                             |City              |Closing Date|\n",
            "+------------------------------------------------------+------------------+------------+\n",
            "|Fayette County Bank                                   |Saint Elmo        |26-May-17   |\n",
            "|Guaranty Bank, (d/b/a BestBank in Georgia & Michigan) |Milwaukee         |5-May-17    |\n",
            "|First NBC Bank                                        |New Orleans       |28-Apr-17   |\n",
            "|Proficio Bank                                         |Cottonwood Heights|3-Mar-17    |\n",
            "+------------------------------------------------------+------------------+------------+\n",
            "only showing top 4 rows\n",
            "\n"
          ]
        }
      ],
      "source": [
        "df.createOrReplaceTempView(\"banklist\")\n",
        "\n",
        "df_check = spark.sql('''select `Bank Name`, City, `Closing Date` from banklist''')\n",
        "df_check.show(4, truncate=False)"
      ]
    },
    {
      "cell_type": "markdown",
      "id": "LjwLUijkjNwd",
      "metadata": {
        "id": "LjwLUijkjNwd"
      },
      "source": [
        "# DataFrame Basic Operations"
      ]
    },
    {
      "cell_type": "code",
      "execution_count": null,
      "id": "A3GNyDnXin7i",
      "metadata": {
        "colab": {
          "base_uri": "https://localhost:8080/"
        },
        "id": "A3GNyDnXin7i",
        "outputId": "0e99434c-f1cf-4fdd-8020-8a227b64f709"
      },
      "outputs": [
        {
          "name": "stdout",
          "output_type": "stream",
          "text": [
            "+-------+--------------------+-------+----+-----------------+---------------------+------------+------------+\n",
            "|summary|           Bank Name|   City|  ST|             CERT|Acquiring Institution|Closing Date|Updated Date|\n",
            "+-------+--------------------+-------+----+-----------------+---------------------+------------+------------+\n",
            "|  count|                 553|    553| 553|              553|                  553|         553|         553|\n",
            "|   mean|                NULL|   NULL|NULL|31729.65280289331|                 NULL|        NULL|        NULL|\n",
            "| stddev|                NULL|   NULL|NULL|16420.59489355429|                 NULL|        NULL|        NULL|\n",
            "|    min|1st American Stat...|Acworth|  AL|               91|      1st United Bank|    1-Aug-08|    1-Aug-13|\n",
            "|    max|               ebank|Wyoming|  WY|            58701|  Your Community Bank|    9-Sep-11|    9-Sep-12|\n",
            "+-------+--------------------+-------+----+-----------------+---------------------+------------+------------+\n",
            "\n"
          ]
        }
      ],
      "source": [
        "df.describe().show()"
      ]
    },
    {
      "cell_type": "code",
      "execution_count": null,
      "id": "LKUvKbnqin45",
      "metadata": {
        "colab": {
          "base_uri": "https://localhost:8080/"
        },
        "id": "LKUvKbnqin45",
        "outputId": "8d681136-e205-405a-e2f4-b5ba3617f0c2"
      },
      "outputs": [
        {
          "name": "stdout",
          "output_type": "stream",
          "text": [
            "+-------+-------+----+\n",
            "|summary|   City|  ST|\n",
            "+-------+-------+----+\n",
            "|  count|    553| 553|\n",
            "|   mean|   NULL|NULL|\n",
            "| stddev|   NULL|NULL|\n",
            "|    min|Acworth|  AL|\n",
            "|    max|Wyoming|  WY|\n",
            "+-------+-------+----+\n",
            "\n"
          ]
        }
      ],
      "source": [
        "df.describe('City', 'ST').show()"
      ]
    },
    {
      "cell_type": "markdown",
      "id": "bxPyk2gDjlS2",
      "metadata": {
        "id": "bxPyk2gDjlS2"
      },
      "source": [
        "### Count, Columns and Schema"
      ]
    },
    {
      "cell_type": "code",
      "execution_count": null,
      "id": "LHdGgfJnjkr-",
      "metadata": {
        "colab": {
          "base_uri": "https://localhost:8080/"
        },
        "id": "LHdGgfJnjkr-",
        "outputId": "025d7ed8-6be7-4e05-c704-e8956e1aa130"
      },
      "outputs": [
        {
          "name": "stdout",
          "output_type": "stream",
          "text": [
            "Total de linhas : 553\n",
            "Total de colunas : 7\n",
            "Colunas : ['Bank Name', 'City', 'ST', 'CERT', 'Acquiring Institution', 'Closing Date', 'Updated Date']\n",
            "Tipo de dados : [('Bank Name', 'string'), ('City', 'string'), ('ST', 'string'), ('CERT', 'int'), ('Acquiring Institution', 'string'), ('Closing Date', 'string'), ('Updated Date', 'string')]\n",
            "Schema : StructType([StructField('Bank Name', StringType(), True), StructField('City', StringType(), True), StructField('ST', StringType(), True), StructField('CERT', IntegerType(), True), StructField('Acquiring Institution', StringType(), True), StructField('Closing Date', StringType(), True), StructField('Updated Date', StringType(), True)])\n"
          ]
        }
      ],
      "source": [
        "print('Total de linhas :', df.count())\n",
        "print('Total de colunas :', len(df.columns))\n",
        "print('Colunas :', df.columns)\n",
        "print('Tipo de dados :', df.dtypes)\n",
        "print('Schema :', df.schema)\n"
      ]
    },
    {
      "cell_type": "code",
      "execution_count": null,
      "id": "jcSTfKn_jko0",
      "metadata": {
        "colab": {
          "base_uri": "https://localhost:8080/",
          "height": 187
        },
        "id": "jcSTfKn_jko0",
        "outputId": "c779d83d-bcbd-4b0d-8c49-7f6f903a32f1"
      },
      "outputs": [
        {
          "data": {
            "text/html": [
              "<div style=\"max-width:800px; border: 1px solid var(--colab-border-color);\"><style>\n",
              "      pre.function-repr-contents {\n",
              "        overflow-x: auto;\n",
              "        padding: 8px 12px;\n",
              "        max-height: 500px;\n",
              "      }\n",
              "\n",
              "      pre.function-repr-contents.function-repr-contents-collapsed {\n",
              "        cursor: pointer;\n",
              "        max-height: 100px;\n",
              "      }\n",
              "    </style>\n",
              "    <pre style=\"white-space: initial; background:\n",
              "         var(--colab-secondary-surface-color); padding: 8px 12px;\n",
              "         border-bottom: 1px solid var(--colab-border-color);\"><b>pyspark.sql.dataframe.DataFrame.printSchema</b><br/>def printSchema(level: Optional[int]=None) -&gt; None</pre><pre class=\"function-repr-contents function-repr-contents-collapsed\" style=\"\"><a class=\"filepath\" style=\"display:none\" href=\"#\">/usr/local/lib/python3.11/dist-packages/pyspark/sql/dataframe.py</a>Prints out the schema in the tree format.\n",
              "Optionally allows to specify how many levels to print if schema is nested.\n",
              "\n",
              ".. versionadded:: 1.3.0\n",
              "\n",
              ".. versionchanged:: 3.4.0\n",
              "    Supports Spark Connect.\n",
              "\n",
              "Parameters\n",
              "----------\n",
              "level : int, optional, default None\n",
              "    How many levels to print for nested schemas.\n",
              "\n",
              "    .. versionchanged:: 3.5.0\n",
              "        Added Level parameter.\n",
              "\n",
              "Examples\n",
              "--------\n",
              "&gt;&gt;&gt; df = spark.createDataFrame(\n",
              "...     [(14, &quot;Tom&quot;), (23, &quot;Alice&quot;), (16, &quot;Bob&quot;)], [&quot;age&quot;, &quot;name&quot;])\n",
              "&gt;&gt;&gt; df.printSchema()\n",
              "root\n",
              " |-- age: long (nullable = true)\n",
              " |-- name: string (nullable = true)\n",
              "\n",
              "&gt;&gt;&gt; df = spark.createDataFrame([(1, (2,2))], [&quot;a&quot;, &quot;b&quot;])\n",
              "&gt;&gt;&gt; df.printSchema(1)\n",
              "root\n",
              " |-- a: long (nullable = true)\n",
              " |-- b: struct (nullable = true)\n",
              "\n",
              "&gt;&gt;&gt; df.printSchema(2)\n",
              "root\n",
              " |-- a: long (nullable = true)\n",
              " |-- b: struct (nullable = true)\n",
              " |    |-- _1: long (nullable = true)\n",
              " |    |-- _2: long (nullable = true)</pre>\n",
              "      <script>\n",
              "      if (google.colab.kernel.accessAllowed && google.colab.files && google.colab.files.view) {\n",
              "        for (const element of document.querySelectorAll('.filepath')) {\n",
              "          element.style.display = 'block'\n",
              "          element.onclick = (event) => {\n",
              "            event.preventDefault();\n",
              "            event.stopPropagation();\n",
              "            google.colab.files.view(element.textContent, 581);\n",
              "          };\n",
              "        }\n",
              "      }\n",
              "      for (const element of document.querySelectorAll('.function-repr-contents')) {\n",
              "        element.onclick = (event) => {\n",
              "          event.preventDefault();\n",
              "          event.stopPropagation();\n",
              "          element.classList.toggle('function-repr-contents-collapsed');\n",
              "        };\n",
              "      }\n",
              "      </script>\n",
              "      </div>"
            ],
            "text/plain": [
              "<bound method DataFrame.printSchema of DataFrame[Bank Name: string, City: string, ST: string, CERT: int, Acquiring Institution: string, Closing Date: string, Updated Date: string]>"
            ]
          },
          "execution_count": 45,
          "metadata": {},
          "output_type": "execute_result"
        }
      ],
      "source": [
        "df.printSchema"
      ]
    },
    {
      "cell_type": "markdown",
      "id": "yoFYPZuHkU6e",
      "metadata": {
        "id": "yoFYPZuHkU6e"
      },
      "source": [
        "# Remove Duplicates"
      ]
    },
    {
      "cell_type": "code",
      "execution_count": null,
      "id": "QlbSsVW0jkmD",
      "metadata": {
        "colab": {
          "base_uri": "https://localhost:8080/"
        },
        "id": "QlbSsVW0jkmD",
        "outputId": "ce2095fc-7c70-4ad3-c825-b7a9a09f5e95"
      },
      "outputs": [
        {
          "name": "stdout",
          "output_type": "stream",
          "text": [
            "Total de linhas : 553\n",
            "Total de colunas : ['Bank Name', 'City', 'ST', 'CERT', 'Acquiring Institution', 'Closing Date', 'Updated Date']\n"
          ]
        }
      ],
      "source": [
        "df = df.dropDuplicates()\n",
        "\n",
        "print('Total de linhas :', df.count())\n",
        "print('Total de colunas :', df.columns)\n"
      ]
    },
    {
      "cell_type": "markdown",
      "id": "MKuaSAzwkzEN",
      "metadata": {
        "id": "MKuaSAzwkzEN"
      },
      "source": [
        "# Select Specific Columns"
      ]
    },
    {
      "cell_type": "code",
      "execution_count": null,
      "id": "s6JGHA8qjki6",
      "metadata": {
        "colab": {
          "base_uri": "https://localhost:8080/"
        },
        "id": "s6JGHA8qjki6",
        "outputId": "f89e8369-57df-4875-c91f-16236d91f7b8"
      },
      "outputs": [
        {
          "name": "stdout",
          "output_type": "stream",
          "text": [
            "+-------------+----------+\n",
            "|    Bank Name|      City|\n",
            "+-------------+----------+\n",
            "|       InBank|Oak Forest|\n",
            "|Bank of Alamo|     Alamo|\n",
            "+-------------+----------+\n",
            "only showing top 2 rows\n",
            "\n"
          ]
        }
      ],
      "source": [
        "df2 = df.select(*['Bank Name', 'City'])\n",
        "df2.show(2)"
      ]
    },
    {
      "cell_type": "markdown",
      "id": "Agow3-BwlAHl",
      "metadata": {
        "id": "Agow3-BwlAHl"
      },
      "source": [
        "# Select Multiple Columns"
      ]
    },
    {
      "cell_type": "code",
      "execution_count": null,
      "id": "oC6P1vSgjkgI",
      "metadata": {
        "colab": {
          "base_uri": "https://localhost:8080/"
        },
        "id": "oC6P1vSgjkgI",
        "outputId": "b218b5d3-69df-4460-9639-7944e942c34d"
      },
      "outputs": [
        {
          "name": "stdout",
          "output_type": "stream",
          "text": [
            "+------------+---------------+------------+--------------------+---------------------+\n",
            "|Closing Date|           City|Updated Date|           Bank Name|Acquiring Institution|\n",
            "+------------+---------------+------------+--------------------+---------------------+\n",
            "|    4-Sep-09|     Oak Forest|   17-Oct-15|              InBank| MB Financial Bank...|\n",
            "|    8-Nov-02|          Alamo|   18-Mar-05|       Bank of Alamo|          No Acquirer|\n",
            "|    2-Aug-13|     Fort Myers|    9-Feb-17|First Community B...|              C1 Bank|\n",
            "|   24-Oct-14|        Chicago|    6-Jan-16|The National Repu...|  State Bank of Texas|\n",
            "|   26-Oct-12|         Berwyn|   24-Jan-13|           NOVA Bank|          No Acquirer|\n",
            "|   20-Jul-12|      Woodstock|    6-Jun-16|First Cherokee St...| Community & South...|\n",
            "|    1-Mar-02|     Boca Raton|    9-Apr-08|Net 1st National ...|       Bank Leumi USA|\n",
            "|    8-Jun-12|     Whiteville|   21-Mar-14|       Waccamaw Bank| First Community Bank|\n",
            "|   16-Jul-10|      Clewiston|   11-Jul-16|Olde Cypress Comm...| CenterState Bank ...|\n",
            "|   28-May-10|Fort Lauderdale|    8-Aug-16|Bank of Florida -...|             EverBank|\n",
            "|    2-Jul-09|       Danville|   20-Aug-12|First National Ba...| First Financial B...|\n",
            "|    7-Oct-11|        Wyoming|    7-Nov-12|       The RiverBank|         Central Bank|\n",
            "|    1-Oct-10|      Shoreline|   20-Aug-12|      Shoreline Bank| GBC International...|\n",
            "|   17-Dec-10|    McCaysville|   21-Mar-14|Appalachian Commu...| Peoples Bank of E...|\n",
            "|   10-Jul-15|         Denver|   17-Aug-16|        Premier Bank| United Fidelity B...|\n",
            "|    2-Sep-11|        Cumming|   28-Jun-17|Patriot Bank of G...| Georgia Commerce ...|\n",
            "|    5-Mar-10|         Normal|   23-Aug-12|    Bank of Illinois| Heartland Bank an...|\n",
            "|   17-Dec-10|   Coral Gables|   21-Mar-14|The Bank of Miami...|      1st United Bank|\n",
            "|   12-Nov-10|     Scottsdale|   20-Aug-12|    Copper Star Bank|   Stearns Bank, N.A.|\n",
            "|   10-Oct-08|         Eldred|   31-May-12|       Meridian Bank|        National Bank|\n",
            "+------------+---------------+------------+--------------------+---------------------+\n",
            "only showing top 20 rows\n",
            "\n"
          ]
        }
      ],
      "source": [
        "col_1 = list(set(df.columns) - {'CERT', 'ST'})\n",
        "df2 = df.select(*col_1)\n",
        "df2.show()"
      ]
    },
    {
      "cell_type": "markdown",
      "id": "WMcoWNuxlgMJ",
      "metadata": {
        "id": "WMcoWNuxlgMJ"
      },
      "source": [
        "# Rename Columns"
      ]
    },
    {
      "cell_type": "code",
      "execution_count": null,
      "id": "GF3Mmc0sjkdc",
      "metadata": {
        "colab": {
          "base_uri": "https://localhost:8080/"
        },
        "id": "GF3Mmc0sjkdc",
        "outputId": "7233d19c-e20f-4523-e126-f116bcf634f6"
      },
      "outputs": [
        {
          "name": "stdout",
          "output_type": "stream",
          "text": [
            "+-------------+----------+-----+-----+--------------------+------------+------------+\n",
            "|    bank_name|      City|state| cert|     acq_institution|closing_date|Updated Date|\n",
            "+-------------+----------+-----+-----+--------------------+------------+------------+\n",
            "|       InBank|Oak Forest|   IL|20203|MB Financial Bank...|    4-Sep-09|   17-Oct-15|\n",
            "|Bank of Alamo|     Alamo|   TN| 9961|         No Acquirer|    8-Nov-02|   18-Mar-05|\n",
            "+-------------+----------+-----+-----+--------------------+------------+------------+\n",
            "only showing top 2 rows\n",
            "\n"
          ]
        }
      ],
      "source": [
        "df2 = df \\\n",
        "  .withColumnRenamed('Bank Name', 'bank_name') \\\n",
        "  .withColumnRenamed('Acquiring Institution', 'acq_institution') \\\n",
        "  .withColumnRenamed('Closing Date', 'closing_date') \\\n",
        "  .withColumnRenamed('ST', 'state') \\\n",
        "  .withColumnRenamed('CERT', 'cert') #\\\n",
        "\n",
        "df2.show(2)"
      ]
    },
    {
      "cell_type": "markdown",
      "id": "PNDbBfNvmaun",
      "metadata": {
        "id": "PNDbBfNvmaun"
      },
      "source": [
        "# Add Columns"
      ]
    },
    {
      "cell_type": "code",
      "execution_count": null,
      "id": "K0ItjPrMjka1",
      "metadata": {
        "colab": {
          "base_uri": "https://localhost:8080/"
        },
        "id": "K0ItjPrMjka1",
        "outputId": "d88e4a3f-15d7-488a-edc7-c0462bf48504"
      },
      "outputs": [
        {
          "name": "stdout",
          "output_type": "stream",
          "text": [
            "+-------------+----------+---+-----+---------------------+------------+------------+-----+\n",
            "|    Bank Name|      City| ST| CERT|Acquiring Institution|Closing Date|Updated Date|state|\n",
            "+-------------+----------+---+-----+---------------------+------------+------------+-----+\n",
            "|       InBank|Oak Forest| IL|20203| MB Financial Bank...|    4-Sep-09|   17-Oct-15|   IL|\n",
            "|Bank of Alamo|     Alamo| TN| 9961|          No Acquirer|    8-Nov-02|   18-Mar-05|   TN|\n",
            "+-------------+----------+---+-----+---------------------+------------+------------+-----+\n",
            "only showing top 2 rows\n",
            "\n"
          ]
        }
      ],
      "source": [
        "df2 = df.withColumn('state', col('ST'))\n",
        "df2.show(2)"
      ]
    },
    {
      "cell_type": "markdown",
      "id": "aliGmaqimo--",
      "metadata": {
        "id": "aliGmaqimo--"
      },
      "source": [
        "# Add constant column"
      ]
    },
    {
      "cell_type": "code",
      "execution_count": null,
      "id": "OyPiBSySjkYU",
      "metadata": {
        "colab": {
          "base_uri": "https://localhost:8080/"
        },
        "id": "OyPiBSySjkYU",
        "outputId": "f56b23ec-ce17-4d4d-c029-e95d409f7105"
      },
      "outputs": [
        {
          "name": "stdout",
          "output_type": "stream",
          "text": [
            "+-------------+----------+---+-----+---------------------+------------+------------+-------+\n",
            "|    Bank Name|      City| ST| CERT|Acquiring Institution|Closing Date|Updated Date|country|\n",
            "+-------------+----------+---+-----+---------------------+------------+------------+-------+\n",
            "|       InBank|Oak Forest| IL|20203| MB Financial Bank...|    4-Sep-09|   17-Oct-15|     US|\n",
            "|Bank of Alamo|     Alamo| TN| 9961|          No Acquirer|    8-Nov-02|   18-Mar-05|     US|\n",
            "+-------------+----------+---+-----+---------------------+------------+------------+-------+\n",
            "only showing top 2 rows\n",
            "\n"
          ]
        }
      ],
      "source": [
        "df2 = df.withColumn('country', lit('US'))\n",
        "df2.show(2)"
      ]
    },
    {
      "cell_type": "markdown",
      "id": "2U3pwVL4m0i7",
      "metadata": {
        "id": "2U3pwVL4m0i7"
      },
      "source": [
        "# Drop columns"
      ]
    },
    {
      "cell_type": "code",
      "execution_count": null,
      "id": "iIOSWlgXm0cJ",
      "metadata": {
        "colab": {
          "base_uri": "https://localhost:8080/"
        },
        "id": "iIOSWlgXm0cJ",
        "outputId": "5c56ab69-a9f9-4788-9578-b4fb17202b51"
      },
      "outputs": [
        {
          "name": "stdout",
          "output_type": "stream",
          "text": [
            "+-------------+----------+---+---------------------+------------+------------+\n",
            "|    Bank Name|      City| ST|Acquiring Institution|Closing Date|Updated Date|\n",
            "+-------------+----------+---+---------------------+------------+------------+\n",
            "|       InBank|Oak Forest| IL| MB Financial Bank...|    4-Sep-09|   17-Oct-15|\n",
            "|Bank of Alamo|     Alamo| TN|          No Acquirer|    8-Nov-02|   18-Mar-05|\n",
            "+-------------+----------+---+---------------------+------------+------------+\n",
            "only showing top 2 rows\n",
            "\n"
          ]
        }
      ],
      "source": [
        "df2 = df.drop('CERT')\n",
        "df2.show(2)"
      ]
    },
    {
      "cell_type": "markdown",
      "id": "Uuw4fG-om76_",
      "metadata": {
        "id": "Uuw4fG-om76_"
      },
      "source": [
        "# Drop multiple columns"
      ]
    },
    {
      "cell_type": "code",
      "execution_count": null,
      "id": "lRTRJ0yDm0Zc",
      "metadata": {
        "colab": {
          "base_uri": "https://localhost:8080/"
        },
        "id": "lRTRJ0yDm0Zc",
        "outputId": "dec145a7-a9cb-43a8-c09f-7bbbb054b0d3"
      },
      "outputs": [
        {
          "name": "stdout",
          "output_type": "stream",
          "text": [
            "+-------------+----------+-----+---------------------+------------+\n",
            "|    Bank Name|      City| CERT|Acquiring Institution|Closing Date|\n",
            "+-------------+----------+-----+---------------------+------------+\n",
            "|       InBank|Oak Forest|20203| MB Financial Bank...|    4-Sep-09|\n",
            "|Bank of Alamo|     Alamo| 9961|          No Acquirer|    8-Nov-02|\n",
            "+-------------+----------+-----+---------------------+------------+\n",
            "only showing top 2 rows\n",
            "\n"
          ]
        }
      ],
      "source": [
        "df2 = df.drop(*'CERT', 'Updated Date', 'ST')\n",
        "df2.show(2)"
      ]
    },
    {
      "cell_type": "code",
      "execution_count": null,
      "id": "0-Jf6LExm0Wt",
      "metadata": {
        "colab": {
          "base_uri": "https://localhost:8080/"
        },
        "id": "0-Jf6LExm0Wt",
        "outputId": "f89eb88f-2c6b-4313-b087-9b3384ddcc0e"
      },
      "outputs": [
        {
          "name": "stdout",
          "output_type": "stream",
          "text": [
            "+-------------+----------+---------------------+------------+------------+\n",
            "|    Bank Name|      City|Acquiring Institution|Closing Date|Updated Date|\n",
            "+-------------+----------+---------------------+------------+------------+\n",
            "|       InBank|Oak Forest| MB Financial Bank...|    4-Sep-09|   17-Oct-15|\n",
            "|Bank of Alamo|     Alamo|          No Acquirer|    8-Nov-02|   18-Mar-05|\n",
            "+-------------+----------+---------------------+------------+------------+\n",
            "only showing top 2 rows\n",
            "\n"
          ]
        }
      ],
      "source": [
        "df2 = reduce(DataFrame.drop, ['CERT', 'ST'], df)\n",
        "df2.show(2)"
      ]
    },
    {
      "cell_type": "markdown",
      "id": "RHazu3IKnRF3",
      "metadata": {
        "id": "RHazu3IKnRF3"
      },
      "source": [
        "# Filter data"
      ]
    },
    {
      "cell_type": "code",
      "execution_count": null,
      "id": "gfmpj5lym0UR",
      "metadata": {
        "colab": {
          "base_uri": "https://localhost:8080/"
        },
        "id": "gfmpj5lym0UR",
        "outputId": "574cf4e0-4b0c-49a5-8049-35032138f81a"
      },
      "outputs": [
        {
          "name": "stdout",
          "output_type": "stream",
          "text": [
            "Total de linhas  : 553\n",
            "Total de linhas df2  : 3\n",
            "Total de linhas df3  : 9\n",
            "Total de linhas df4: 71\n"
          ]
        }
      ],
      "source": [
        "# Equal to values\n",
        "df2 = df.where(df['ST']=='NE')\n",
        "\n",
        "# Between values\n",
        "df3 = df.where(df['CERT'].between('1000', '2000'))\n",
        "\n",
        "# Is inside multiple values\n",
        "df4 = df.where(df['ST'].isin('NE', 'IL'))\n",
        "\n",
        "print('Total de linhas  :', df.count())\n",
        "print('Total de linhas df2  :', df2.count())\n",
        "print('Total de linhas df3  :', df3.count())\n",
        "print('Total de linhas df4:', df4.count())\n"
      ]
    },
    {
      "cell_type": "markdown",
      "id": "lNer5Obxociy",
      "metadata": {
        "id": "lNer5Obxociy"
      },
      "source": [
        "# Filter data using logical operators"
      ]
    },
    {
      "cell_type": "code",
      "execution_count": null,
      "id": "9Oa-_FOVnsI-",
      "metadata": {
        "colab": {
          "base_uri": "https://localhost:8080/"
        },
        "id": "9Oa-_FOVnsI-",
        "outputId": "a877b499-1a05-485a-b647-01ee6824a408"
      },
      "outputs": [
        {
          "name": "stdout",
          "output_type": "stream",
          "text": [
            "+---------+----+---+----+---------------------+------------+------------+\n",
            "|Bank Name|City| ST|CERT|Acquiring Institution|Closing Date|Updated Date|\n",
            "+---------+----+---+----+---------------------+------------+------------+\n",
            "+---------+----+---+----+---------------------+------------+------------+\n",
            "\n"
          ]
        }
      ],
      "source": [
        "df2 = df.where((df['ST'] == 'NE') & (df['City'] == 'Ericson'))\n",
        "df2.show(3)"
      ]
    },
    {
      "cell_type": "markdown",
      "id": "GqemGHhXo7_u",
      "metadata": {
        "id": "GqemGHhXo7_u"
      },
      "source": [
        "# Replace values in DataFrame"
      ]
    },
    {
      "cell_type": "code",
      "execution_count": null,
      "id": "zfhqvhi4m0Ry",
      "metadata": {
        "colab": {
          "base_uri": "https://localhost:8080/"
        },
        "id": "zfhqvhi4m0Ry",
        "outputId": "ffa3478a-0036-405c-dca5-5964f4ee845f"
      },
      "outputs": [
        {
          "name": "stdout",
          "output_type": "stream",
          "text": [
            "+-------------+----------+---+-----+---------------------+------------+------------+\n",
            "|    Bank Name|      City| ST| CERT|Acquiring Institution|Closing Date|Updated Date|\n",
            "+-------------+----------+---+-----+---------------------+------------+------------+\n",
            "|       InBank|Oak Forest| IL|20203| MB Financial Bank...|    4-Sep-09|   17-Oct-15|\n",
            "|Bank of Alamo|     Alamo| TN| 9961|          No Acquirer|    8-Nov-02|   18-Mar-05|\n",
            "+-------------+----------+---+-----+---------------------+------------+------------+\n",
            "only showing top 2 rows\n",
            "\n",
            "Replace 7 in the above dataframe with 17 at all instances\n",
            "+-------------+----------+---+-----+---------------------+------------+------------+\n",
            "|    Bank Name|      City| ST| CERT|Acquiring Institution|Closing Date|Updated Date|\n",
            "+-------------+----------+---+-----+---------------------+------------+------------+\n",
            "|       InBank|Oak Forest| IL|20203| MB Financial Bank...|    4-Sep-09|   17-Oct-15|\n",
            "|Bank of Alamo|     Alamo| TN| 9961|          No Acquirer|    8-Nov-02|   18-Mar-05|\n",
            "+-------------+----------+---+-----+---------------------+------------+------------+\n",
            "only showing top 2 rows\n",
            "\n"
          ]
        }
      ],
      "source": [
        "# Pre replace\n",
        "df.show(2)\n",
        "\n",
        "# Post replace\n",
        "print('Replace 7 in the above dataframe with 17 at all instances')\n",
        "df.na.replace(7,17).show(2)"
      ]
    }
  ],
  "metadata": {
    "colab": {
      "provenance": []
    },
    "kernelspec": {
      "display_name": "Python 3",
      "language": "python",
      "name": "python3"
    },
    "language_info": {
      "codemirror_mode": {
        "name": "ipython",
        "version": 3
      },
      "file_extension": ".py",
      "mimetype": "text/x-python",
      "name": "python",
      "nbconvert_exporter": "python",
      "pygments_lexer": "ipython3",
      "version": "3.10.11"
    }
  },
  "nbformat": 4,
  "nbformat_minor": 5
}
