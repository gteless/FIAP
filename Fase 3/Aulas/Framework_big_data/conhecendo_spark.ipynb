{
  "cells": [
    {
      "cell_type": "code",
      "source": [
        "#!pip install pyspark\n",
        "#!pip install findspark"
      ],
      "metadata": {
        "id": "WqObNyyBeQgr",
        "outputId": "7e193edb-930e-4089-b885-110a8dcebcb1",
        "colab": {
          "base_uri": "https://localhost:8080/"
        }
      },
      "id": "WqObNyyBeQgr",
      "execution_count": 36,
      "outputs": [
        {
          "output_type": "stream",
          "name": "stdout",
          "text": [
            "Requirement already satisfied: pyspark in /usr/local/lib/python3.11/dist-packages (3.5.1)\n",
            "Requirement already satisfied: py4j==0.10.9.7 in /usr/local/lib/python3.11/dist-packages (from pyspark) (0.10.9.7)\n",
            "Requirement already satisfied: findspark in /usr/local/lib/python3.11/dist-packages (2.0.1)\n"
          ]
        }
      ]
    },
    {
      "cell_type": "code",
      "execution_count": 37,
      "id": "2c6547dc",
      "metadata": {
        "id": "2c6547dc"
      },
      "outputs": [],
      "source": [
        "import findspark\n",
        "findspark.init()\n",
        "from pyspark.sql import SparkSession\n",
        "spark = SparkSession.builder.master(\"local[*]\").getOrCreate()"
      ]
    },
    {
      "cell_type": "code",
      "execution_count": 38,
      "id": "7593517b",
      "metadata": {
        "id": "7593517b",
        "outputId": "c4e34abb-eadb-4a90-be7a-cbb378239543",
        "colab": {
          "base_uri": "https://localhost:8080/"
        }
      },
      "outputs": [
        {
          "output_type": "stream",
          "name": "stdout",
          "text": [
            "+--------------------+\n",
            "|               hello|\n",
            "+--------------------+\n",
            "|Sucesso total, es...|\n",
            "+--------------------+\n",
            "\n"
          ]
        }
      ],
      "source": [
        "df = spark.sql('''select 'Sucesso total, estamos online!' as hello''')\n",
        "df.show()"
      ]
    },
    {
      "cell_type": "code",
      "execution_count": 39,
      "id": "eaf308ff",
      "metadata": {
        "id": "eaf308ff"
      },
      "outputs": [],
      "source": [
        "from pyspark.sql import Row, DataFrame\n",
        "from pyspark.sql.types import StringType, StructType, StructField, IntegerType\n",
        "from pyspark.sql.functions import col, expr, lit, substring, concat, concat_ws, when, coalesce\n",
        "from pyspark.sql import functions as F\n",
        "from functools import reduce"
      ]
    },
    {
      "cell_type": "markdown",
      "source": [
        "### Data Manipulation using Spark"
      ],
      "metadata": {
        "id": "rM_eCG3igmJj"
      },
      "id": "rM_eCG3igmJj"
    },
    {
      "cell_type": "code",
      "execution_count": 40,
      "id": "329532d9",
      "metadata": {
        "id": "329532d9",
        "outputId": "7cf70e26-1fa7-4dba-f302-5bb0a1cf8871",
        "colab": {
          "base_uri": "https://localhost:8080/"
        }
      },
      "outputs": [
        {
          "output_type": "stream",
          "name": "stdout",
          "text": [
            "df.count  : 553\n",
            "df.col ct : 7\n",
            "df.columns  : ['Bank Name', 'City', 'ST', 'CERT', 'Acquiring Institution', 'Closing Date', 'Updated Date']\n"
          ]
        }
      ],
      "source": [
        "df = spark.read.csv('banklist.csv', sep= ',', inferSchema = True, header = True)\n",
        "\n",
        "print('df.count  :', df.count())\n",
        "print('df.col ct :', len(df.columns))\n",
        "print('df.columns  :', df.columns)"
      ]
    },
    {
      "cell_type": "code",
      "source": [
        "df.createOrReplaceTempView(\"banklist\")\n",
        "\n",
        "df_check = spark.sql('''select `Bank Name`, City, `Closing Date` from banklist''')\n",
        "df_check.show(4, truncate=False)"
      ],
      "metadata": {
        "id": "MSnDci-nin-O",
        "outputId": "eb45a43a-0f7a-4bda-d428-da09f4e19376",
        "colab": {
          "base_uri": "https://localhost:8080/"
        }
      },
      "id": "MSnDci-nin-O",
      "execution_count": 41,
      "outputs": [
        {
          "output_type": "stream",
          "name": "stdout",
          "text": [
            "+------------------------------------------------------+------------------+------------+\n",
            "|Bank Name                                             |City              |Closing Date|\n",
            "+------------------------------------------------------+------------------+------------+\n",
            "|Fayette County Bank                                   |Saint Elmo        |26-May-17   |\n",
            "|Guaranty Bank, (d/b/a BestBank in Georgia & Michigan) |Milwaukee         |5-May-17    |\n",
            "|First NBC Bank                                        |New Orleans       |28-Apr-17   |\n",
            "|Proficio Bank                                         |Cottonwood Heights|3-Mar-17    |\n",
            "+------------------------------------------------------+------------------+------------+\n",
            "only showing top 4 rows\n",
            "\n"
          ]
        }
      ]
    },
    {
      "cell_type": "markdown",
      "source": [
        "# DataFrame Basic Operations"
      ],
      "metadata": {
        "id": "LjwLUijkjNwd"
      },
      "id": "LjwLUijkjNwd"
    },
    {
      "cell_type": "code",
      "source": [
        "df.describe().show()"
      ],
      "metadata": {
        "id": "A3GNyDnXin7i",
        "outputId": "0e99434c-f1cf-4fdd-8020-8a227b64f709",
        "colab": {
          "base_uri": "https://localhost:8080/"
        }
      },
      "id": "A3GNyDnXin7i",
      "execution_count": 42,
      "outputs": [
        {
          "output_type": "stream",
          "name": "stdout",
          "text": [
            "+-------+--------------------+-------+----+-----------------+---------------------+------------+------------+\n",
            "|summary|           Bank Name|   City|  ST|             CERT|Acquiring Institution|Closing Date|Updated Date|\n",
            "+-------+--------------------+-------+----+-----------------+---------------------+------------+------------+\n",
            "|  count|                 553|    553| 553|              553|                  553|         553|         553|\n",
            "|   mean|                NULL|   NULL|NULL|31729.65280289331|                 NULL|        NULL|        NULL|\n",
            "| stddev|                NULL|   NULL|NULL|16420.59489355429|                 NULL|        NULL|        NULL|\n",
            "|    min|1st American Stat...|Acworth|  AL|               91|      1st United Bank|    1-Aug-08|    1-Aug-13|\n",
            "|    max|               ebank|Wyoming|  WY|            58701|  Your Community Bank|    9-Sep-11|    9-Sep-12|\n",
            "+-------+--------------------+-------+----+-----------------+---------------------+------------+------------+\n",
            "\n"
          ]
        }
      ]
    },
    {
      "cell_type": "code",
      "source": [
        "df.describe('City', 'ST').show()"
      ],
      "metadata": {
        "id": "LKUvKbnqin45",
        "outputId": "8d681136-e205-405a-e2f4-b5ba3617f0c2",
        "colab": {
          "base_uri": "https://localhost:8080/"
        }
      },
      "id": "LKUvKbnqin45",
      "execution_count": 43,
      "outputs": [
        {
          "output_type": "stream",
          "name": "stdout",
          "text": [
            "+-------+-------+----+\n",
            "|summary|   City|  ST|\n",
            "+-------+-------+----+\n",
            "|  count|    553| 553|\n",
            "|   mean|   NULL|NULL|\n",
            "| stddev|   NULL|NULL|\n",
            "|    min|Acworth|  AL|\n",
            "|    max|Wyoming|  WY|\n",
            "+-------+-------+----+\n",
            "\n"
          ]
        }
      ]
    },
    {
      "cell_type": "markdown",
      "source": [
        "### Count, Columns and Schema"
      ],
      "metadata": {
        "id": "bxPyk2gDjlS2"
      },
      "id": "bxPyk2gDjlS2"
    },
    {
      "cell_type": "code",
      "source": [
        "print('Total de linhas :', df.count())\n",
        "print('Total de colunas :', len(df.columns))\n",
        "print('Colunas :', df.columns)\n",
        "print('Tipo de dados :', df.dtypes)\n",
        "print('Schema :', df.schema)\n"
      ],
      "metadata": {
        "id": "LHdGgfJnjkr-",
        "outputId": "025d7ed8-6be7-4e05-c704-e8956e1aa130",
        "colab": {
          "base_uri": "https://localhost:8080/"
        }
      },
      "id": "LHdGgfJnjkr-",
      "execution_count": 44,
      "outputs": [
        {
          "output_type": "stream",
          "name": "stdout",
          "text": [
            "Total de linhas : 553\n",
            "Total de colunas : 7\n",
            "Colunas : ['Bank Name', 'City', 'ST', 'CERT', 'Acquiring Institution', 'Closing Date', 'Updated Date']\n",
            "Tipo de dados : [('Bank Name', 'string'), ('City', 'string'), ('ST', 'string'), ('CERT', 'int'), ('Acquiring Institution', 'string'), ('Closing Date', 'string'), ('Updated Date', 'string')]\n",
            "Schema : StructType([StructField('Bank Name', StringType(), True), StructField('City', StringType(), True), StructField('ST', StringType(), True), StructField('CERT', IntegerType(), True), StructField('Acquiring Institution', StringType(), True), StructField('Closing Date', StringType(), True), StructField('Updated Date', StringType(), True)])\n"
          ]
        }
      ]
    },
    {
      "cell_type": "code",
      "source": [
        "df.printSchema"
      ],
      "metadata": {
        "id": "jcSTfKn_jko0",
        "outputId": "c779d83d-bcbd-4b0d-8c49-7f6f903a32f1",
        "colab": {
          "base_uri": "https://localhost:8080/",
          "height": 187
        }
      },
      "id": "jcSTfKn_jko0",
      "execution_count": 45,
      "outputs": [
        {
          "output_type": "execute_result",
          "data": {
            "text/plain": [
              "<bound method DataFrame.printSchema of DataFrame[Bank Name: string, City: string, ST: string, CERT: int, Acquiring Institution: string, Closing Date: string, Updated Date: string]>"
            ],
            "text/html": [
              "<div style=\"max-width:800px; border: 1px solid var(--colab-border-color);\"><style>\n",
              "      pre.function-repr-contents {\n",
              "        overflow-x: auto;\n",
              "        padding: 8px 12px;\n",
              "        max-height: 500px;\n",
              "      }\n",
              "\n",
              "      pre.function-repr-contents.function-repr-contents-collapsed {\n",
              "        cursor: pointer;\n",
              "        max-height: 100px;\n",
              "      }\n",
              "    </style>\n",
              "    <pre style=\"white-space: initial; background:\n",
              "         var(--colab-secondary-surface-color); padding: 8px 12px;\n",
              "         border-bottom: 1px solid var(--colab-border-color);\"><b>pyspark.sql.dataframe.DataFrame.printSchema</b><br/>def printSchema(level: Optional[int]=None) -&gt; None</pre><pre class=\"function-repr-contents function-repr-contents-collapsed\" style=\"\"><a class=\"filepath\" style=\"display:none\" href=\"#\">/usr/local/lib/python3.11/dist-packages/pyspark/sql/dataframe.py</a>Prints out the schema in the tree format.\n",
              "Optionally allows to specify how many levels to print if schema is nested.\n",
              "\n",
              ".. versionadded:: 1.3.0\n",
              "\n",
              ".. versionchanged:: 3.4.0\n",
              "    Supports Spark Connect.\n",
              "\n",
              "Parameters\n",
              "----------\n",
              "level : int, optional, default None\n",
              "    How many levels to print for nested schemas.\n",
              "\n",
              "    .. versionchanged:: 3.5.0\n",
              "        Added Level parameter.\n",
              "\n",
              "Examples\n",
              "--------\n",
              "&gt;&gt;&gt; df = spark.createDataFrame(\n",
              "...     [(14, &quot;Tom&quot;), (23, &quot;Alice&quot;), (16, &quot;Bob&quot;)], [&quot;age&quot;, &quot;name&quot;])\n",
              "&gt;&gt;&gt; df.printSchema()\n",
              "root\n",
              " |-- age: long (nullable = true)\n",
              " |-- name: string (nullable = true)\n",
              "\n",
              "&gt;&gt;&gt; df = spark.createDataFrame([(1, (2,2))], [&quot;a&quot;, &quot;b&quot;])\n",
              "&gt;&gt;&gt; df.printSchema(1)\n",
              "root\n",
              " |-- a: long (nullable = true)\n",
              " |-- b: struct (nullable = true)\n",
              "\n",
              "&gt;&gt;&gt; df.printSchema(2)\n",
              "root\n",
              " |-- a: long (nullable = true)\n",
              " |-- b: struct (nullable = true)\n",
              " |    |-- _1: long (nullable = true)\n",
              " |    |-- _2: long (nullable = true)</pre>\n",
              "      <script>\n",
              "      if (google.colab.kernel.accessAllowed && google.colab.files && google.colab.files.view) {\n",
              "        for (const element of document.querySelectorAll('.filepath')) {\n",
              "          element.style.display = 'block'\n",
              "          element.onclick = (event) => {\n",
              "            event.preventDefault();\n",
              "            event.stopPropagation();\n",
              "            google.colab.files.view(element.textContent, 581);\n",
              "          };\n",
              "        }\n",
              "      }\n",
              "      for (const element of document.querySelectorAll('.function-repr-contents')) {\n",
              "        element.onclick = (event) => {\n",
              "          event.preventDefault();\n",
              "          event.stopPropagation();\n",
              "          element.classList.toggle('function-repr-contents-collapsed');\n",
              "        };\n",
              "      }\n",
              "      </script>\n",
              "      </div>"
            ]
          },
          "metadata": {},
          "execution_count": 45
        }
      ]
    },
    {
      "cell_type": "markdown",
      "source": [
        "# Remove Duplicates"
      ],
      "metadata": {
        "id": "yoFYPZuHkU6e"
      },
      "id": "yoFYPZuHkU6e"
    },
    {
      "cell_type": "code",
      "source": [
        "df = df.dropDuplicates()\n",
        "\n",
        "print('Total de linhas :', df.count())\n",
        "print('Total de colunas :', df.columns)\n"
      ],
      "metadata": {
        "id": "QlbSsVW0jkmD",
        "outputId": "ce2095fc-7c70-4ad3-c825-b7a9a09f5e95",
        "colab": {
          "base_uri": "https://localhost:8080/"
        }
      },
      "id": "QlbSsVW0jkmD",
      "execution_count": 46,
      "outputs": [
        {
          "output_type": "stream",
          "name": "stdout",
          "text": [
            "Total de linhas : 553\n",
            "Total de colunas : ['Bank Name', 'City', 'ST', 'CERT', 'Acquiring Institution', 'Closing Date', 'Updated Date']\n"
          ]
        }
      ]
    },
    {
      "cell_type": "markdown",
      "source": [
        "# Select Specific Columns"
      ],
      "metadata": {
        "id": "MKuaSAzwkzEN"
      },
      "id": "MKuaSAzwkzEN"
    },
    {
      "cell_type": "code",
      "source": [
        "df2 = df.select(*['Bank Name', 'City'])\n",
        "df2.show(2)"
      ],
      "metadata": {
        "id": "s6JGHA8qjki6",
        "outputId": "f89e8369-57df-4875-c91f-16236d91f7b8",
        "colab": {
          "base_uri": "https://localhost:8080/"
        }
      },
      "id": "s6JGHA8qjki6",
      "execution_count": 48,
      "outputs": [
        {
          "output_type": "stream",
          "name": "stdout",
          "text": [
            "+-------------+----------+\n",
            "|    Bank Name|      City|\n",
            "+-------------+----------+\n",
            "|       InBank|Oak Forest|\n",
            "|Bank of Alamo|     Alamo|\n",
            "+-------------+----------+\n",
            "only showing top 2 rows\n",
            "\n"
          ]
        }
      ]
    },
    {
      "cell_type": "markdown",
      "source": [
        "# Select Multiple Columns"
      ],
      "metadata": {
        "id": "Agow3-BwlAHl"
      },
      "id": "Agow3-BwlAHl"
    },
    {
      "cell_type": "code",
      "source": [
        "col_1 = list(set(df.columns) - {'CERT', 'ST'})\n",
        "df2 = df.select(*col_1)\n",
        "df2.show()"
      ],
      "metadata": {
        "id": "oC6P1vSgjkgI",
        "outputId": "b218b5d3-69df-4460-9639-7944e942c34d",
        "colab": {
          "base_uri": "https://localhost:8080/"
        }
      },
      "id": "oC6P1vSgjkgI",
      "execution_count": 49,
      "outputs": [
        {
          "output_type": "stream",
          "name": "stdout",
          "text": [
            "+------------+---------------+------------+--------------------+---------------------+\n",
            "|Closing Date|           City|Updated Date|           Bank Name|Acquiring Institution|\n",
            "+------------+---------------+------------+--------------------+---------------------+\n",
            "|    4-Sep-09|     Oak Forest|   17-Oct-15|              InBank| MB Financial Bank...|\n",
            "|    8-Nov-02|          Alamo|   18-Mar-05|       Bank of Alamo|          No Acquirer|\n",
            "|    2-Aug-13|     Fort Myers|    9-Feb-17|First Community B...|              C1 Bank|\n",
            "|   24-Oct-14|        Chicago|    6-Jan-16|The National Repu...|  State Bank of Texas|\n",
            "|   26-Oct-12|         Berwyn|   24-Jan-13|           NOVA Bank|          No Acquirer|\n",
            "|   20-Jul-12|      Woodstock|    6-Jun-16|First Cherokee St...| Community & South...|\n",
            "|    1-Mar-02|     Boca Raton|    9-Apr-08|Net 1st National ...|       Bank Leumi USA|\n",
            "|    8-Jun-12|     Whiteville|   21-Mar-14|       Waccamaw Bank| First Community Bank|\n",
            "|   16-Jul-10|      Clewiston|   11-Jul-16|Olde Cypress Comm...| CenterState Bank ...|\n",
            "|   28-May-10|Fort Lauderdale|    8-Aug-16|Bank of Florida -...|             EverBank|\n",
            "|    2-Jul-09|       Danville|   20-Aug-12|First National Ba...| First Financial B...|\n",
            "|    7-Oct-11|        Wyoming|    7-Nov-12|       The RiverBank|         Central Bank|\n",
            "|    1-Oct-10|      Shoreline|   20-Aug-12|      Shoreline Bank| GBC International...|\n",
            "|   17-Dec-10|    McCaysville|   21-Mar-14|Appalachian Commu...| Peoples Bank of E...|\n",
            "|   10-Jul-15|         Denver|   17-Aug-16|        Premier Bank| United Fidelity B...|\n",
            "|    2-Sep-11|        Cumming|   28-Jun-17|Patriot Bank of G...| Georgia Commerce ...|\n",
            "|    5-Mar-10|         Normal|   23-Aug-12|    Bank of Illinois| Heartland Bank an...|\n",
            "|   17-Dec-10|   Coral Gables|   21-Mar-14|The Bank of Miami...|      1st United Bank|\n",
            "|   12-Nov-10|     Scottsdale|   20-Aug-12|    Copper Star Bank|   Stearns Bank, N.A.|\n",
            "|   10-Oct-08|         Eldred|   31-May-12|       Meridian Bank|        National Bank|\n",
            "+------------+---------------+------------+--------------------+---------------------+\n",
            "only showing top 20 rows\n",
            "\n"
          ]
        }
      ]
    },
    {
      "cell_type": "markdown",
      "source": [
        "# Rename Columns"
      ],
      "metadata": {
        "id": "WMcoWNuxlgMJ"
      },
      "id": "WMcoWNuxlgMJ"
    },
    {
      "cell_type": "code",
      "source": [
        "df2 = df \\\n",
        "  .withColumnRenamed('Bank Name', 'bank_name') \\\n",
        "  .withColumnRenamed('Acquiring Institution', 'acq_institution') \\\n",
        "  .withColumnRenamed('Closing Date', 'closing_date') \\\n",
        "  .withColumnRenamed('ST', 'state') \\\n",
        "  .withColumnRenamed('CERT', 'cert') #\\\n",
        "\n",
        "df2.show(2)"
      ],
      "metadata": {
        "id": "GF3Mmc0sjkdc",
        "outputId": "7233d19c-e20f-4523-e126-f116bcf634f6",
        "colab": {
          "base_uri": "https://localhost:8080/"
        }
      },
      "id": "GF3Mmc0sjkdc",
      "execution_count": 50,
      "outputs": [
        {
          "output_type": "stream",
          "name": "stdout",
          "text": [
            "+-------------+----------+-----+-----+--------------------+------------+------------+\n",
            "|    bank_name|      City|state| cert|     acq_institution|closing_date|Updated Date|\n",
            "+-------------+----------+-----+-----+--------------------+------------+------------+\n",
            "|       InBank|Oak Forest|   IL|20203|MB Financial Bank...|    4-Sep-09|   17-Oct-15|\n",
            "|Bank of Alamo|     Alamo|   TN| 9961|         No Acquirer|    8-Nov-02|   18-Mar-05|\n",
            "+-------------+----------+-----+-----+--------------------+------------+------------+\n",
            "only showing top 2 rows\n",
            "\n"
          ]
        }
      ]
    },
    {
      "cell_type": "markdown",
      "source": [
        "# Add Columns"
      ],
      "metadata": {
        "id": "PNDbBfNvmaun"
      },
      "id": "PNDbBfNvmaun"
    },
    {
      "cell_type": "code",
      "source": [
        "df2 = df.withColumn('state', col('ST'))\n",
        "df2.show(2)"
      ],
      "metadata": {
        "id": "K0ItjPrMjka1",
        "outputId": "d88e4a3f-15d7-488a-edc7-c0462bf48504",
        "colab": {
          "base_uri": "https://localhost:8080/"
        }
      },
      "id": "K0ItjPrMjka1",
      "execution_count": 52,
      "outputs": [
        {
          "output_type": "stream",
          "name": "stdout",
          "text": [
            "+-------------+----------+---+-----+---------------------+------------+------------+-----+\n",
            "|    Bank Name|      City| ST| CERT|Acquiring Institution|Closing Date|Updated Date|state|\n",
            "+-------------+----------+---+-----+---------------------+------------+------------+-----+\n",
            "|       InBank|Oak Forest| IL|20203| MB Financial Bank...|    4-Sep-09|   17-Oct-15|   IL|\n",
            "|Bank of Alamo|     Alamo| TN| 9961|          No Acquirer|    8-Nov-02|   18-Mar-05|   TN|\n",
            "+-------------+----------+---+-----+---------------------+------------+------------+-----+\n",
            "only showing top 2 rows\n",
            "\n"
          ]
        }
      ]
    },
    {
      "cell_type": "markdown",
      "source": [
        "# Add constant column"
      ],
      "metadata": {
        "id": "aliGmaqimo--"
      },
      "id": "aliGmaqimo--"
    },
    {
      "cell_type": "code",
      "source": [
        "df2 = df.withColumn('country', lit('US'))\n",
        "df2.show(2)"
      ],
      "metadata": {
        "id": "OyPiBSySjkYU",
        "outputId": "f56b23ec-ce17-4d4d-c029-e95d409f7105",
        "colab": {
          "base_uri": "https://localhost:8080/"
        }
      },
      "id": "OyPiBSySjkYU",
      "execution_count": 53,
      "outputs": [
        {
          "output_type": "stream",
          "name": "stdout",
          "text": [
            "+-------------+----------+---+-----+---------------------+------------+------------+-------+\n",
            "|    Bank Name|      City| ST| CERT|Acquiring Institution|Closing Date|Updated Date|country|\n",
            "+-------------+----------+---+-----+---------------------+------------+------------+-------+\n",
            "|       InBank|Oak Forest| IL|20203| MB Financial Bank...|    4-Sep-09|   17-Oct-15|     US|\n",
            "|Bank of Alamo|     Alamo| TN| 9961|          No Acquirer|    8-Nov-02|   18-Mar-05|     US|\n",
            "+-------------+----------+---+-----+---------------------+------------+------------+-------+\n",
            "only showing top 2 rows\n",
            "\n"
          ]
        }
      ]
    },
    {
      "cell_type": "markdown",
      "source": [
        "# Drop columns"
      ],
      "metadata": {
        "id": "2U3pwVL4m0i7"
      },
      "id": "2U3pwVL4m0i7"
    },
    {
      "cell_type": "code",
      "source": [
        "df2 = df.drop('CERT')\n",
        "df2.show(2)"
      ],
      "metadata": {
        "id": "iIOSWlgXm0cJ",
        "outputId": "5c56ab69-a9f9-4788-9578-b4fb17202b51",
        "colab": {
          "base_uri": "https://localhost:8080/"
        }
      },
      "id": "iIOSWlgXm0cJ",
      "execution_count": 56,
      "outputs": [
        {
          "output_type": "stream",
          "name": "stdout",
          "text": [
            "+-------------+----------+---+---------------------+------------+------------+\n",
            "|    Bank Name|      City| ST|Acquiring Institution|Closing Date|Updated Date|\n",
            "+-------------+----------+---+---------------------+------------+------------+\n",
            "|       InBank|Oak Forest| IL| MB Financial Bank...|    4-Sep-09|   17-Oct-15|\n",
            "|Bank of Alamo|     Alamo| TN|          No Acquirer|    8-Nov-02|   18-Mar-05|\n",
            "+-------------+----------+---+---------------------+------------+------------+\n",
            "only showing top 2 rows\n",
            "\n"
          ]
        }
      ]
    },
    {
      "cell_type": "markdown",
      "source": [
        "# Drop multiple columns"
      ],
      "metadata": {
        "id": "Uuw4fG-om76_"
      },
      "id": "Uuw4fG-om76_"
    },
    {
      "cell_type": "code",
      "source": [
        "df2 = df.drop(*'CERT', 'Updated Date', 'ST')\n",
        "df2.show(2)"
      ],
      "metadata": {
        "id": "lRTRJ0yDm0Zc",
        "outputId": "dec145a7-a9cb-43a8-c09f-7bbbb054b0d3",
        "colab": {
          "base_uri": "https://localhost:8080/"
        }
      },
      "id": "lRTRJ0yDm0Zc",
      "execution_count": 55,
      "outputs": [
        {
          "output_type": "stream",
          "name": "stdout",
          "text": [
            "+-------------+----------+-----+---------------------+------------+\n",
            "|    Bank Name|      City| CERT|Acquiring Institution|Closing Date|\n",
            "+-------------+----------+-----+---------------------+------------+\n",
            "|       InBank|Oak Forest|20203| MB Financial Bank...|    4-Sep-09|\n",
            "|Bank of Alamo|     Alamo| 9961|          No Acquirer|    8-Nov-02|\n",
            "+-------------+----------+-----+---------------------+------------+\n",
            "only showing top 2 rows\n",
            "\n"
          ]
        }
      ]
    },
    {
      "cell_type": "code",
      "source": [
        "df2 = reduce(DataFrame.drop, ['CERT', 'ST'], df)\n",
        "df2.show(2)"
      ],
      "metadata": {
        "id": "0-Jf6LExm0Wt",
        "outputId": "f89eb88f-2c6b-4313-b087-9b3384ddcc0e",
        "colab": {
          "base_uri": "https://localhost:8080/"
        }
      },
      "id": "0-Jf6LExm0Wt",
      "execution_count": 58,
      "outputs": [
        {
          "output_type": "stream",
          "name": "stdout",
          "text": [
            "+-------------+----------+---------------------+------------+------------+\n",
            "|    Bank Name|      City|Acquiring Institution|Closing Date|Updated Date|\n",
            "+-------------+----------+---------------------+------------+------------+\n",
            "|       InBank|Oak Forest| MB Financial Bank...|    4-Sep-09|   17-Oct-15|\n",
            "|Bank of Alamo|     Alamo|          No Acquirer|    8-Nov-02|   18-Mar-05|\n",
            "+-------------+----------+---------------------+------------+------------+\n",
            "only showing top 2 rows\n",
            "\n"
          ]
        }
      ]
    },
    {
      "cell_type": "markdown",
      "source": [
        "# Filter data"
      ],
      "metadata": {
        "id": "RHazu3IKnRF3"
      },
      "id": "RHazu3IKnRF3"
    },
    {
      "cell_type": "code",
      "source": [
        "# Equal to values\n",
        "df2 = df.where(df['ST']=='NE')\n",
        "\n",
        "# Between values\n",
        "df3 = df.where(df['CERT'].between('1000', '2000'))\n",
        "\n",
        "# Is inside multiple values\n",
        "df4 = df.where(df['ST'].isin('NE', 'IL'))\n",
        "\n",
        "print('Total de linhas  :', df.count())\n",
        "print('Total de linhas df2  :', df2.count())\n",
        "print('Total de linhas df3  :', df3.count())\n",
        "print('Total de linhas df4:', df4.count())\n"
      ],
      "metadata": {
        "id": "gfmpj5lym0UR",
        "outputId": "574cf4e0-4b0c-49a5-8049-35032138f81a",
        "colab": {
          "base_uri": "https://localhost:8080/"
        }
      },
      "id": "gfmpj5lym0UR",
      "execution_count": 60,
      "outputs": [
        {
          "output_type": "stream",
          "name": "stdout",
          "text": [
            "Total de linhas  : 553\n",
            "Total de linhas df2  : 3\n",
            "Total de linhas df3  : 9\n",
            "Total de linhas df4: 71\n"
          ]
        }
      ]
    },
    {
      "cell_type": "markdown",
      "source": [
        "# Filter data using logical operators"
      ],
      "metadata": {
        "id": "lNer5Obxociy"
      },
      "id": "lNer5Obxociy"
    },
    {
      "cell_type": "code",
      "source": [
        "df2 = df.where((df['ST'] == 'NE') & (df['City'] == 'Ericson'))\n",
        "df2.show(3)"
      ],
      "metadata": {
        "id": "9Oa-_FOVnsI-",
        "outputId": "a877b499-1a05-485a-b647-01ee6824a408",
        "colab": {
          "base_uri": "https://localhost:8080/"
        }
      },
      "id": "9Oa-_FOVnsI-",
      "execution_count": 61,
      "outputs": [
        {
          "output_type": "stream",
          "name": "stdout",
          "text": [
            "+---------+----+---+----+---------------------+------------+------------+\n",
            "|Bank Name|City| ST|CERT|Acquiring Institution|Closing Date|Updated Date|\n",
            "+---------+----+---+----+---------------------+------------+------------+\n",
            "+---------+----+---+----+---------------------+------------+------------+\n",
            "\n"
          ]
        }
      ]
    },
    {
      "cell_type": "markdown",
      "source": [
        "# Replace values in DataFrame"
      ],
      "metadata": {
        "id": "GqemGHhXo7_u"
      },
      "id": "GqemGHhXo7_u"
    },
    {
      "cell_type": "code",
      "source": [
        "# Pre replace\n",
        "df.show(2)\n",
        "\n",
        "# Post replace\n",
        "print('Replace 7 in the above dataframe with 17 at all instances')\n",
        "df.na.replace(7,17).show(2)"
      ],
      "metadata": {
        "id": "zfhqvhi4m0Ry",
        "outputId": "ffa3478a-0036-405c-dca5-5964f4ee845f",
        "colab": {
          "base_uri": "https://localhost:8080/"
        }
      },
      "id": "zfhqvhi4m0Ry",
      "execution_count": 62,
      "outputs": [
        {
          "output_type": "stream",
          "name": "stdout",
          "text": [
            "+-------------+----------+---+-----+---------------------+------------+------------+\n",
            "|    Bank Name|      City| ST| CERT|Acquiring Institution|Closing Date|Updated Date|\n",
            "+-------------+----------+---+-----+---------------------+------------+------------+\n",
            "|       InBank|Oak Forest| IL|20203| MB Financial Bank...|    4-Sep-09|   17-Oct-15|\n",
            "|Bank of Alamo|     Alamo| TN| 9961|          No Acquirer|    8-Nov-02|   18-Mar-05|\n",
            "+-------------+----------+---+-----+---------------------+------------+------------+\n",
            "only showing top 2 rows\n",
            "\n",
            "Replace 7 in the above dataframe with 17 at all instances\n",
            "+-------------+----------+---+-----+---------------------+------------+------------+\n",
            "|    Bank Name|      City| ST| CERT|Acquiring Institution|Closing Date|Updated Date|\n",
            "+-------------+----------+---+-----+---------------------+------------+------------+\n",
            "|       InBank|Oak Forest| IL|20203| MB Financial Bank...|    4-Sep-09|   17-Oct-15|\n",
            "|Bank of Alamo|     Alamo| TN| 9961|          No Acquirer|    8-Nov-02|   18-Mar-05|\n",
            "+-------------+----------+---+-----+---------------------+------------+------------+\n",
            "only showing top 2 rows\n",
            "\n"
          ]
        }
      ]
    }
  ],
  "metadata": {
    "kernelspec": {
      "display_name": "Python 3",
      "language": "python",
      "name": "python3"
    },
    "language_info": {
      "codemirror_mode": {
        "name": "ipython",
        "version": 3
      },
      "file_extension": ".py",
      "mimetype": "text/x-python",
      "name": "python",
      "nbconvert_exporter": "python",
      "pygments_lexer": "ipython3",
      "version": "3.10.11"
    },
    "colab": {
      "provenance": []
    }
  },
  "nbformat": 4,
  "nbformat_minor": 5
}