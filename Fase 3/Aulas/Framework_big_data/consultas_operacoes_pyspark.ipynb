{
  "nbformat": 4,
  "nbformat_minor": 0,
  "metadata": {
    "colab": {
      "provenance": [],
      "authorship_tag": "ABX9TyM0SWFl+G2p8vObFi0AiUwR",
      "include_colab_link": true
    },
    "kernelspec": {
      "name": "python3",
      "display_name": "Python 3"
    },
    "language_info": {
      "name": "python"
    }
  },
  "cells": [
    {
      "cell_type": "markdown",
      "metadata": {
        "id": "view-in-github",
        "colab_type": "text"
      },
      "source": [
        "<a href=\"https://colab.research.google.com/github/gteless/Aulas_FIAP/blob/main/Fase%203/Aulas/Framework_big_data/consultas_operacoes_pyspark.ipynb\" target=\"_parent\"><img src=\"https://colab.research.google.com/assets/colab-badge.svg\" alt=\"Open In Colab\"/></a>"
      ]
    },
    {
      "cell_type": "markdown",
      "source": [
        "### Configurações da biblioteca"
      ],
      "metadata": {
        "id": "sNUsDu8XaQga"
      }
    },
    {
      "cell_type": "code",
      "execution_count": null,
      "metadata": {
        "colab": {
          "base_uri": "https://localhost:8080/"
        },
        "id": "woU91d6haOJ8",
        "outputId": "40690f6d-d747-40c2-abe0-28d052eff4d0"
      },
      "outputs": [
        {
          "output_type": "stream",
          "name": "stdout",
          "text": [
            "Requirement already satisfied: pyspark in /usr/local/lib/python3.11/dist-packages (3.5.1)\n",
            "Requirement already satisfied: py4j==0.10.9.7 in /usr/local/lib/python3.11/dist-packages (from pyspark) (0.10.9.7)\n"
          ]
        }
      ],
      "source": [
        "!pip install pyspark"
      ]
    },
    {
      "cell_type": "markdown",
      "source": [
        "### Criando a sessão do SparkContext e SparkSession"
      ],
      "metadata": {
        "id": "i0g1Wwt-aUC2"
      }
    },
    {
      "cell_type": "code",
      "source": [
        "from pyspark import SparkContext\n",
        "from pyspark.sql import SparkSession"
      ],
      "metadata": {
        "id": "CfHkUNeyaP_4"
      },
      "execution_count": null,
      "outputs": []
    },
    {
      "cell_type": "code",
      "source": [
        "sc = SparkContext.getOrCreate()"
      ],
      "metadata": {
        "id": "Jfzq0-PYaacu"
      },
      "execution_count": null,
      "outputs": []
    },
    {
      "cell_type": "code",
      "source": [
        "spark = SparkSession.builder.appName('PySpark DataFrame From RDD').getOrCreate()"
      ],
      "metadata": {
        "id": "R3PIhgJhaj0u"
      },
      "execution_count": null,
      "outputs": []
    },
    {
      "cell_type": "markdown",
      "source": [
        "# Create PySpark Dataframe from an Existint RDD"
      ],
      "metadata": {
        "id": "vhz91Ssgapez"
      }
    },
    {
      "cell_type": "code",
      "source": [
        "rdd = sc.parallelize([('C', 85, 76, 87, 91), ('B', 85, 76, 87, 91), (\"A\", 85, 78, 96, 92), (\"A\", 92, 76, 89, 96)], 4)"
      ],
      "metadata": {
        "id": "zTqH9aZ_apA1"
      },
      "execution_count": null,
      "outputs": []
    },
    {
      "cell_type": "code",
      "source": [
        "print(type(rdd))"
      ],
      "metadata": {
        "colab": {
          "base_uri": "https://localhost:8080/"
        },
        "id": "A5I5BVqqa-sR",
        "outputId": "4160dfd0-bb2d-4790-a610-23393bf6aff8"
      },
      "execution_count": null,
      "outputs": [
        {
          "output_type": "stream",
          "name": "stdout",
          "text": [
            "<class 'pyspark.rdd.RDD'>\n"
          ]
        }
      ]
    },
    {
      "cell_type": "code",
      "source": [
        "sub = ['id_person', 'value_1', 'value_2', 'value_3', 'value_4']"
      ],
      "metadata": {
        "id": "8M4abE0UbEuN"
      },
      "execution_count": null,
      "outputs": []
    },
    {
      "cell_type": "code",
      "source": [
        "marks_df = spark.createDataFrame(rdd, schema=sub)"
      ],
      "metadata": {
        "id": "0VlRksziboef"
      },
      "execution_count": null,
      "outputs": []
    },
    {
      "cell_type": "code",
      "source": [
        "print(type(marks_df))"
      ],
      "metadata": {
        "colab": {
          "base_uri": "https://localhost:8080/"
        },
        "id": "558qC1Bwb7Jv",
        "outputId": "c198b72e-91fe-4538-86cf-db19dac4b01f"
      },
      "execution_count": null,
      "outputs": [
        {
          "output_type": "stream",
          "name": "stdout",
          "text": [
            "<class 'pyspark.sql.dataframe.DataFrame'>\n"
          ]
        }
      ]
    },
    {
      "cell_type": "code",
      "source": [
        "marks_df.show()"
      ],
      "metadata": {
        "colab": {
          "base_uri": "https://localhost:8080/"
        },
        "id": "JZkxQbr_bw9F",
        "outputId": "f7095885-a054-4dab-d1ac-1c2d66d53847"
      },
      "execution_count": null,
      "outputs": [
        {
          "output_type": "stream",
          "name": "stdout",
          "text": [
            "+---------+-------+-------+-------+-------+\n",
            "|id_person|value_1|value_2|value_3|value_4|\n",
            "+---------+-------+-------+-------+-------+\n",
            "|        C|     85|     76|     87|     91|\n",
            "|        B|     85|     76|     87|     91|\n",
            "|        A|     85|     78|     96|     92|\n",
            "|        A|     92|     76|     89|     96|\n",
            "+---------+-------+-------+-------+-------+\n",
            "\n"
          ]
        }
      ]
    },
    {
      "cell_type": "code",
      "source": [
        "marks_df.printSchema()"
      ],
      "metadata": {
        "colab": {
          "base_uri": "https://localhost:8080/"
        },
        "id": "3sY6UhoUb0iH",
        "outputId": "3f1e29cd-b8da-481c-ec88-e92e248eba2f"
      },
      "execution_count": null,
      "outputs": [
        {
          "output_type": "stream",
          "name": "stdout",
          "text": [
            "root\n",
            " |-- id_person: string (nullable = true)\n",
            " |-- value_1: long (nullable = true)\n",
            " |-- value_2: long (nullable = true)\n",
            " |-- value_3: long (nullable = true)\n",
            " |-- value_4: long (nullable = true)\n",
            "\n"
          ]
        }
      ]
    },
    {
      "cell_type": "markdown",
      "source": [
        "### Operações básicas com PySpark"
      ],
      "metadata": {
        "id": "hEf8m17hciKl"
      }
    },
    {
      "cell_type": "code",
      "source": [
        "# Caso não tenha instanciado antes, instanciar o pyspark\n",
        "!pip install pyspark\n",
        "import pyspark\n",
        "from pyspark.sql import SparkSession\n",
        "spark=SparkSession.builder.appName(\"pysparkdf\").getOrCreate()"
      ],
      "metadata": {
        "colab": {
          "base_uri": "https://localhost:8080/"
        },
        "id": "tMMW1SdRb1k-",
        "outputId": "477c468d-92ee-488b-f85d-73c98515ed84"
      },
      "execution_count": null,
      "outputs": [
        {
          "output_type": "stream",
          "name": "stdout",
          "text": [
            "Requirement already satisfied: pyspark in /usr/local/lib/python3.11/dist-packages (3.5.1)\n",
            "Requirement already satisfied: py4j==0.10.9.7 in /usr/local/lib/python3.11/dist-packages (from pyspark) (0.10.9.7)\n"
          ]
        }
      ]
    },
    {
      "cell_type": "markdown",
      "source": [
        "# Importing Data"
      ],
      "metadata": {
        "id": "aZkWWZJzdLaa"
      }
    },
    {
      "cell_type": "code",
      "source": [
        "df = spark.read.csv('cereal.csv', sep=',', inferSchema = True, header = True)"
      ],
      "metadata": {
        "id": "n4jBJHSqb1iD"
      },
      "execution_count": null,
      "outputs": []
    },
    {
      "cell_type": "code",
      "source": [
        "df.show()"
      ],
      "metadata": {
        "colab": {
          "base_uri": "https://localhost:8080/"
        },
        "id": "OWJiavD2b1fN",
        "outputId": "1ed6c6fe-9bda-4306-c2eb-c77b4822ee95"
      },
      "execution_count": null,
      "outputs": [
        {
          "output_type": "stream",
          "name": "stdout",
          "text": [
            "+--------------------+--------------+----+--------+-----------+---+------+-------------+-----+------+-------------+---------+---------------------+-------------------+----------------+\n",
            "|         Cereal Name|  Manufacturer|Type|Calories|Protein (g)|Fat|Sodium|Dietary Fiber|Carbs|Sugars|Display Shelf|Potassium|Vitamins and Minerals|Serving Size Weight|Cups per Serving|\n",
            "+--------------------+--------------+----+--------+-----------+---+------+-------------+-----+------+-------------+---------+---------------------+-------------------+----------------+\n",
            "|           100%_Bran|       Nabisco|   C|      70|          4|  1|   130|         10.0|  5.0|     6|            3|      280|                   25|                1.0|            0.33|\n",
            "|   100%_Natural_Bran|   Quaker Oats|   C|     120|          3|  5|    15|          2.0|  8.0|     8|            3|      135|                    0|                1.0|            -1.0|\n",
            "|            All-Bran|      Kelloggs|   C|      70|          4|  1|   260|          9.0|  7.0|     5|            3|      320|                   25|                1.0|            0.33|\n",
            "|All-Bran_with_Ext...|      Kelloggs|   C|      50|          4|  0|   140|         14.0|  8.0|     0|            3|      330|                   25|                1.0|             0.5|\n",
            "|      Almond_Delight|Ralston Purina|   C|     110|          2|  2|   200|          1.0| 14.0|     8|            3|       -1|                   25|                1.0|            0.75|\n",
            "|Apple_Cinnamon_Ch...| General Mills|   C|     110|          2|  2|   180|          1.5| 10.5|    10|            1|       70|                   25|                1.0|            0.75|\n",
            "|         Apple_Jacks|      Kelloggs|   C|     110|          2|  0|   125|          1.0| 11.0|    14|            2|       30|                   25|                1.0|             1.0|\n",
            "|             Basic_4| General Mills|   C|     130|          3|  2|   210|          2.0| 18.0|     8|            3|      100|                   25|               1.33|            0.75|\n",
            "|           Bran_Chex|Ralston Purina|   C|      90|          2|  1|   200|          4.0| 15.0|     6|            1|      125|                   25|                1.0|            0.67|\n",
            "|         Bran_Flakes|          Post|   C|      90|          3|  0|   210|          5.0| 13.0|     5|            3|      190|                   25|                1.0|            0.67|\n",
            "|        Cap'n'Crunch|   Quaker Oats|   C|     120|          1|  2|   220|          0.0| 12.0|    12|            2|       35|                   25|                1.0|            0.75|\n",
            "|            Cheerios| General Mills|   C|     110|          6|  2|   290|          2.0| 17.0|     1|            1|      105|                   25|                1.0|            1.25|\n",
            "|Cinnamon_Toast_Cr...| General Mills|   C|     120|          1|  3|   210|          0.0| 13.0|     9|            2|       45|                   25|                1.0|            0.75|\n",
            "|            Clusters| General Mills|   C|     110|          3|  2|   140|          2.0| 13.0|     7|            3|      105|                   25|                1.0|             0.5|\n",
            "|         Cocoa_Puffs| General Mills|   C|     110|          1|  1|   180|          0.0| 12.0|    13|            2|       55|                   25|                1.0|             1.0|\n",
            "|           Corn_Chex|Ralston Purina|   C|     110|          2|  0|   280|          0.0| 22.0|     3|            1|       25|                   25|                1.0|             1.0|\n",
            "|         Corn_Flakes|      Kelloggs|   C|     100|          2|  0|   290|          1.0| 21.0|     2|            1|       35|                   25|                1.0|             1.0|\n",
            "|           Corn_Pops|      Kelloggs|   C|     110|          1|  0|    90|          1.0| 13.0|    12|            2|       20|                   25|                1.0|             1.0|\n",
            "|       Count_Chocula| General Mills|   C|     110|          1|  1|   180|          0.0| 12.0|    13|            2|       65|                   25|                1.0|             1.0|\n",
            "|  Cracklin'_Oat_Bran|      Kelloggs|   C|     110|          3|  3|   140|          4.0| 10.0|     7|            3|      160|                   25|                1.0|             0.5|\n",
            "+--------------------+--------------+----+--------+-----------+---+------+-------------+-----+------+-------------+---------+---------------------+-------------------+----------------+\n",
            "only showing top 20 rows\n",
            "\n"
          ]
        }
      ]
    },
    {
      "cell_type": "code",
      "source": [
        "df.printSchema()"
      ],
      "metadata": {
        "colab": {
          "base_uri": "https://localhost:8080/"
        },
        "id": "gBTT4uJsb1cV",
        "outputId": "e90dc26a-7824-465b-83a7-03456b4d46fe"
      },
      "execution_count": null,
      "outputs": [
        {
          "output_type": "stream",
          "name": "stdout",
          "text": [
            "root\n",
            " |-- Cereal Name: string (nullable = true)\n",
            " |-- Manufacturer: string (nullable = true)\n",
            " |-- Type: string (nullable = true)\n",
            " |-- Calories: integer (nullable = true)\n",
            " |-- Protein (g): integer (nullable = true)\n",
            " |-- Fat: integer (nullable = true)\n",
            " |-- Sodium: integer (nullable = true)\n",
            " |-- Dietary Fiber: double (nullable = true)\n",
            " |-- Carbs: double (nullable = true)\n",
            " |-- Sugars: integer (nullable = true)\n",
            " |-- Display Shelf: integer (nullable = true)\n",
            " |-- Potassium: integer (nullable = true)\n",
            " |-- Vitamins and Minerals: integer (nullable = true)\n",
            " |-- Serving Size Weight: double (nullable = true)\n",
            " |-- Cups per Serving: double (nullable = true)\n",
            "\n"
          ]
        }
      ]
    },
    {
      "cell_type": "markdown",
      "source": [
        "# Select()"
      ],
      "metadata": {
        "id": "zTq4Od2zf_4p"
      }
    },
    {
      "cell_type": "code",
      "source": [
        "df.select('Cereal Name', 'Manufacturer', 'Calories').show()"
      ],
      "metadata": {
        "colab": {
          "base_uri": "https://localhost:8080/"
        },
        "id": "uL-flFQ7b1Zm",
        "outputId": "4b4af766-b032-4f86-be08-b9f15fc5b916"
      },
      "execution_count": null,
      "outputs": [
        {
          "output_type": "stream",
          "name": "stdout",
          "text": [
            "+--------------------+--------------+--------+\n",
            "|         Cereal Name|  Manufacturer|Calories|\n",
            "+--------------------+--------------+--------+\n",
            "|           100%_Bran|       Nabisco|      70|\n",
            "|   100%_Natural_Bran|   Quaker Oats|     120|\n",
            "|            All-Bran|      Kelloggs|      70|\n",
            "|All-Bran_with_Ext...|      Kelloggs|      50|\n",
            "|      Almond_Delight|Ralston Purina|     110|\n",
            "|Apple_Cinnamon_Ch...| General Mills|     110|\n",
            "|         Apple_Jacks|      Kelloggs|     110|\n",
            "|             Basic_4| General Mills|     130|\n",
            "|           Bran_Chex|Ralston Purina|      90|\n",
            "|         Bran_Flakes|          Post|      90|\n",
            "|        Cap'n'Crunch|   Quaker Oats|     120|\n",
            "|            Cheerios| General Mills|     110|\n",
            "|Cinnamon_Toast_Cr...| General Mills|     120|\n",
            "|            Clusters| General Mills|     110|\n",
            "|         Cocoa_Puffs| General Mills|     110|\n",
            "|           Corn_Chex|Ralston Purina|     110|\n",
            "|         Corn_Flakes|      Kelloggs|     100|\n",
            "|           Corn_Pops|      Kelloggs|     110|\n",
            "|       Count_Chocula| General Mills|     110|\n",
            "|  Cracklin'_Oat_Bran|      Kelloggs|     110|\n",
            "+--------------------+--------------+--------+\n",
            "only showing top 20 rows\n",
            "\n"
          ]
        }
      ]
    },
    {
      "cell_type": "markdown",
      "source": [
        "#withColumn()"
      ],
      "metadata": {
        "id": "FciVQXVdgRel"
      }
    },
    {
      "cell_type": "code",
      "source": [
        "df.withColumn('calories', df['Calories'].cast(\"Integer\")).printSchema()"
      ],
      "metadata": {
        "colab": {
          "base_uri": "https://localhost:8080/"
        },
        "id": "FxBQUJYIb1Ws",
        "outputId": "3e3a8a35-4cac-4a6f-d6e5-ac9b1d5962ee"
      },
      "execution_count": null,
      "outputs": [
        {
          "output_type": "stream",
          "name": "stdout",
          "text": [
            "root\n",
            " |-- Cereal Name: string (nullable = true)\n",
            " |-- Manufacturer: string (nullable = true)\n",
            " |-- Type: string (nullable = true)\n",
            " |-- calories: integer (nullable = true)\n",
            " |-- Protein (g): integer (nullable = true)\n",
            " |-- Fat: integer (nullable = true)\n",
            " |-- Sodium: integer (nullable = true)\n",
            " |-- Dietary Fiber: double (nullable = true)\n",
            " |-- Carbs: double (nullable = true)\n",
            " |-- Sugars: integer (nullable = true)\n",
            " |-- Display Shelf: integer (nullable = true)\n",
            " |-- Potassium: integer (nullable = true)\n",
            " |-- Vitamins and Minerals: integer (nullable = true)\n",
            " |-- Serving Size Weight: double (nullable = true)\n",
            " |-- Cups per Serving: double (nullable = true)\n",
            "\n"
          ]
        }
      ]
    },
    {
      "cell_type": "markdown",
      "source": [
        "#groupBy()"
      ],
      "metadata": {
        "id": "IUYWJLX4gxWl"
      }
    },
    {
      "cell_type": "code",
      "source": [
        "df.groupBy('calories').count().show()"
      ],
      "metadata": {
        "colab": {
          "base_uri": "https://localhost:8080/"
        },
        "id": "ynd4fihIgxL6",
        "outputId": "a0408bd8-9e64-4d7b-9dad-969af6446432"
      },
      "execution_count": null,
      "outputs": [
        {
          "output_type": "stream",
          "name": "stdout",
          "text": [
            "+--------+-----+\n",
            "|calories|count|\n",
            "+--------+-----+\n",
            "|     140|    3|\n",
            "|     120|    9|\n",
            "|     100|   17|\n",
            "|     130|    2|\n",
            "|      50|    3|\n",
            "|      80|    1|\n",
            "|     160|    1|\n",
            "|      70|    2|\n",
            "|      90|    7|\n",
            "|     110|   29|\n",
            "+--------+-----+\n",
            "\n"
          ]
        }
      ]
    },
    {
      "cell_type": "markdown",
      "source": [
        "#orderBy()"
      ],
      "metadata": {
        "id": "CoKSb_0ihXIn"
      }
    },
    {
      "cell_type": "code",
      "source": [
        "df.orderBy('Protein (g)').show()"
      ],
      "metadata": {
        "colab": {
          "base_uri": "https://localhost:8080/"
        },
        "id": "eti983Xtb1Tu",
        "outputId": "b659f8a4-821d-4b74-cf84-e302a52e9e38"
      },
      "execution_count": null,
      "outputs": [
        {
          "output_type": "stream",
          "name": "stdout",
          "text": [
            "+--------------------+--------------+----+--------+-----------+---+------+-------------+-----+------+-------------+---------+---------------------+-------------------+----------------+\n",
            "|         Cereal Name|  Manufacturer|Type|Calories|Protein (g)|Fat|Sodium|Dietary Fiber|Carbs|Sugars|Display Shelf|Potassium|Vitamins and Minerals|Serving Size Weight|Cups per Serving|\n",
            "+--------------------+--------------+----+--------+-----------+---+------+-------------+-----+------+-------------+---------+---------------------+-------------------+----------------+\n",
            "|        Cap'n'Crunch|   Quaker Oats|   C|     120|          1|  2|   220|          0.0| 12.0|    12|            2|       35|                   25|                1.0|            0.75|\n",
            "|Cinnamon_Toast_Cr...| General Mills|   C|     120|          1|  3|   210|          0.0| 13.0|     9|            2|       45|                   25|                1.0|            0.75|\n",
            "|         Cocoa_Puffs| General Mills|   C|     110|          1|  1|   180|          0.0| 12.0|    13|            2|       55|                   25|                1.0|             1.0|\n",
            "|           Corn_Pops|      Kelloggs|   C|     110|          1|  0|    90|          1.0| 13.0|    12|            2|       20|                   25|                1.0|             1.0|\n",
            "|       Count_Chocula| General Mills|   C|     110|          1|  1|   180|          0.0| 12.0|    13|            2|       65|                   25|                1.0|             1.0|\n",
            "|      Frosted_Flakes|      Kelloggs|   C|     110|          1|  0|   200|          1.0| 14.0|    11|            1|       25|                   25|                1.0|            0.75|\n",
            "|      Fruity_Pebbles|          Post|   C|     110|          1|  1|   135|          0.0| 13.0|    12|            2|       25|                   25|                1.0|            0.75|\n",
            "|      Golden_Grahams| General Mills|   C|     110|          1|  1|   280|          0.0| 15.0|     9|            2|       45|                   25|                1.0|            0.75|\n",
            "|    Honey_Graham_Ohs|   Quaker Oats|   C|     120|          1|  2|   220|          1.0| 12.0|    11|            2|       45|                   25|                1.0|             1.0|\n",
            "|          Honey-comb|          Post|   C|     110|          1|  0|   180|          0.0| 14.0|    11|            1|       35|                   25|                1.0|            1.33|\n",
            "|         Puffed_Rice|   Quaker Oats|   C|      50|          1|  0|     0|          0.0| 13.0|     0|            3|       15|                    0|                0.5|             1.0|\n",
            "|           Rice_Chex|Ralston Purina|   C|     110|          1|  0|   240|          0.0| 23.0|     2|            1|       30|                   25|                1.0|            1.13|\n",
            "|                Trix| General Mills|   C|     110|          1|  1|   140|          0.0| 13.0|    12|            2|       25|                   25|                1.0|             1.0|\n",
            "|         Froot_Loops|      Kelloggs|   C|     110|          2|  1|   125|          1.0| 11.0|    13|            2|       30|                   25|                1.0|             1.0|\n",
            "|                 Kix| General Mills|   C|     110|          2|  1|   260|          0.0| 21.0|     3|            2|       40|                   25|                1.0|             1.5|\n",
            "|Apple_Cinnamon_Ch...| General Mills|   C|     110|          2|  2|   180|          1.5| 10.5|    10|            1|       70|                   25|                1.0|            0.75|\n",
            "|           Corn_Chex|Ralston Purina|   C|     110|          2|  0|   280|          0.0| 22.0|     3|            1|       25|                   25|                1.0|             1.0|\n",
            "|         Apple_Jacks|      Kelloggs|   C|     110|          2|  0|   125|          1.0| 11.0|    14|            2|       30|                   25|                1.0|             1.0|\n",
            "|      Almond_Delight|Ralston Purina|   C|     110|          2|  2|   200|          1.0| 14.0|     8|            3|       -1|                   25|                1.0|            0.75|\n",
            "|        Golden_Crisp|          Post|   C|     100|          2|  0|    45|          0.0| 11.0|    15|            1|       40|                   25|                1.0|            0.88|\n",
            "+--------------------+--------------+----+--------+-----------+---+------+-------------+-----+------+-------------+---------+---------------------+-------------------+----------------+\n",
            "only showing top 20 rows\n",
            "\n"
          ]
        }
      ]
    },
    {
      "cell_type": "code",
      "source": [
        "df.orderBy('calories').show(50)"
      ],
      "metadata": {
        "colab": {
          "base_uri": "https://localhost:8080/"
        },
        "id": "HyozE4edhhq8",
        "outputId": "7ea9d7bb-3098-47af-d4f5-119c59075b97"
      },
      "execution_count": null,
      "outputs": [
        {
          "output_type": "stream",
          "name": "stdout",
          "text": [
            "+--------------------+--------------------+----+--------+-----------+---+------+-------------+-----+------+-------------+---------+---------------------+-------------------+----------------+\n",
            "|         Cereal Name|        Manufacturer|Type|Calories|Protein (g)|Fat|Sodium|Dietary Fiber|Carbs|Sugars|Display Shelf|Potassium|Vitamins and Minerals|Serving Size Weight|Cups per Serving|\n",
            "+--------------------+--------------------+----+--------+-----------+---+------+-------------+-----+------+-------------+---------+---------------------+-------------------+----------------+\n",
            "|All-Bran_with_Ext...|            Kelloggs|   C|      50|          4|  0|   140|         14.0|  8.0|     0|            3|      330|                   25|                1.0|             0.5|\n",
            "|         Puffed_Rice|         Quaker Oats|   C|      50|          1|  0|     0|          0.0| 13.0|     0|            3|       15|                    0|                0.5|             1.0|\n",
            "|        Puffed_Wheat|         Quaker Oats|   C|      50|          2|  0|     0|          1.0| 10.0|     0|            3|       50|                    0|                0.5|            -1.0|\n",
            "|           100%_Bran|             Nabisco|   C|      70|          4|  1|   130|         10.0|  5.0|     6|            3|      280|                   25|                1.0|            0.33|\n",
            "|            All-Bran|            Kelloggs|   C|      70|          4|  1|   260|          9.0|  7.0|     5|            3|      320|                   25|                1.0|            0.33|\n",
            "|      Shredded_Wheat|             Nabisco|   C|      80|          2|  0|     0|          3.0| 16.0|     0|            1|       95|                    0|               0.83|            -1.0|\n",
            "|           Bran_Chex|      Ralston Purina|   C|      90|          2|  1|   200|          4.0| 15.0|     6|            1|      125|                   25|                1.0|            0.67|\n",
            "|         Bran_Flakes|                Post|   C|      90|          3|  0|   210|          5.0| 13.0|     5|            3|      190|                   25|                1.0|            0.67|\n",
            "|   Nutri-grain_Wheat|            Kelloggs|   C|      90|          3|  0|   170|          3.0| 18.0|     2|            3|       90|                   25|                1.0|            -1.0|\n",
            "|      Raisin_Squares|            Kelloggs|   C|      90|          2|  0|     0|          2.0| 15.0|     6|            3|      110|                   25|                1.0|             0.5|\n",
            "|Shredded_Wheat_'n...|             Nabisco|   C|      90|          3|  0|     0|          4.0| 19.0|     0|            1|      140|                    0|                1.0|            0.67|\n",
            "|Shredded_Wheat_sp...|             Nabisco|   C|      90|          3|  0|     0|          3.0| 20.0|     0|            1|      120|                    0|                1.0|            0.67|\n",
            "|Strawberry_Fruit_...|             Nabisco|   C|      90|          2|  0|    15|          3.0| 15.0|     5|            2|       90|                   25|                1.0|            -1.0|\n",
            "|         Corn_Flakes|            Kelloggs|   C|     100|          2|  0|   290|          1.0| 21.0|     2|            1|       35|                   25|                1.0|             1.0|\n",
            "|Cream_of_Wheat_(Q...|             Nabisco|   H|     100|          3|  0|    80|          1.0| 21.0|     0|            2|       -1|                    0|                1.0|             1.0|\n",
            "|Crispy_Wheat_&_Ra...|       General Mills|   C|     100|          2|  1|   140|          2.0| 11.0|    10|            3|      120|                   25|                1.0|            0.75|\n",
            "|         Double_Chex|      Ralston Purina|   C|     100|          2|  0|   190|          1.0| 18.0|     5|            3|       80|                   25|                1.0|            0.75|\n",
            "| Frosted_Mini-Wheats|            Kelloggs|   C|     100|          3|  0|     0|          3.0| 14.0|     7|            2|      100|                   25|                1.0|             0.8|\n",
            "|        Golden_Crisp|                Post|   C|     100|          2|  0|    45|          0.0| 11.0|    15|            1|       40|                   25|                1.0|            0.88|\n",
            "|   Grape_Nuts_Flakes|                Post|   C|     100|          3|  1|   140|          3.0| 15.0|     5|            3|       85|                   25|                1.0|            0.88|\n",
            "|                Life|         Quaker Oats|   C|     100|          4|  2|   150|          2.0| 12.0|     6|            2|       95|                   25|                1.0|            0.67|\n",
            "|               Maypo|American Home Foo...|   H|     100|          4|  1|     0|          0.0| 16.0|     3|            2|       95|                   25|                1.0|            -1.0|\n",
            "|Multi-Grain_Cheerios|       General Mills|   C|     100|          2|  1|   220|          2.0| 15.0|     6|            1|       90|                   25|                1.0|             1.0|\n",
            "|          Product_19|            Kelloggs|   C|     100|          3|  0|   320|          1.0| 20.0|     3|            3|       45|                  100|                1.0|             1.0|\n",
            "|  Quaker_Oat_Squares|         Quaker Oats|   C|     100|          4|  1|   135|          2.0| 14.0|     6|            3|      110|                   25|                1.0|             0.5|\n",
            "|      Quaker_Oatmeal|         Quaker Oats|   H|     100|          5|  2|     0|          2.7| -1.0|    -1|            1|      110|                    0|                1.0|            0.67|\n",
            "|     Raisin_Nut_Bran|       General Mills|   C|     100|          3|  2|   140|          2.5| 10.5|     8|            3|      140|                   25|                1.0|             0.5|\n",
            "|   Total_Whole_Grain|       General Mills|   C|     100|          3|  1|   200|          3.0| 16.0|     3|            3|      110|                  100|                1.0|             1.0|\n",
            "|          Wheat_Chex|      Ralston Purina|   C|     100|          3|  1|   230|          3.0| 17.0|     3|            1|      115|                   25|                1.0|            0.67|\n",
            "|            Wheaties|       General Mills|   C|     100|          3|  1|   200|          3.0| 17.0|     3|            1|      110|                   25|                1.0|             1.0|\n",
            "|      Almond_Delight|      Ralston Purina|   C|     110|          2|  2|   200|          1.0| 14.0|     8|            3|       -1|                   25|                1.0|            0.75|\n",
            "|Apple_Cinnamon_Ch...|       General Mills|   C|     110|          2|  2|   180|          1.5| 10.5|    10|            1|       70|                   25|                1.0|            0.75|\n",
            "|         Apple_Jacks|            Kelloggs|   C|     110|          2|  0|   125|          1.0| 11.0|    14|            2|       30|                   25|                1.0|             1.0|\n",
            "|            Cheerios|       General Mills|   C|     110|          6|  2|   290|          2.0| 17.0|     1|            1|      105|                   25|                1.0|            1.25|\n",
            "|            Clusters|       General Mills|   C|     110|          3|  2|   140|          2.0| 13.0|     7|            3|      105|                   25|                1.0|             0.5|\n",
            "|         Cocoa_Puffs|       General Mills|   C|     110|          1|  1|   180|          0.0| 12.0|    13|            2|       55|                   25|                1.0|             1.0|\n",
            "|           Corn_Chex|      Ralston Purina|   C|     110|          2|  0|   280|          0.0| 22.0|     3|            1|       25|                   25|                1.0|             1.0|\n",
            "|           Corn_Pops|            Kelloggs|   C|     110|          1|  0|    90|          1.0| 13.0|    12|            2|       20|                   25|                1.0|             1.0|\n",
            "|       Count_Chocula|       General Mills|   C|     110|          1|  1|   180|          0.0| 12.0|    13|            2|       65|                   25|                1.0|             1.0|\n",
            "|  Cracklin'_Oat_Bran|            Kelloggs|   C|     110|          3|  3|   140|          4.0| 10.0|     7|            3|      160|                   25|                1.0|             0.5|\n",
            "|             Crispix|            Kelloggs|   C|     110|          2|  0|   220|          1.0| 21.0|     3|            3|       30|                   25|                1.0|             1.0|\n",
            "|         Froot_Loops|            Kelloggs|   C|     110|          2|  1|   125|          1.0| 11.0|    13|            2|       30|                   25|                1.0|             1.0|\n",
            "|      Frosted_Flakes|            Kelloggs|   C|     110|          1|  0|   200|          1.0| 14.0|    11|            1|       25|                   25|                1.0|            0.75|\n",
            "|      Fruity_Pebbles|                Post|   C|     110|          1|  1|   135|          0.0| 13.0|    12|            2|       25|                   25|                1.0|            0.75|\n",
            "|      Golden_Grahams|       General Mills|   C|     110|          1|  1|   280|          0.0| 15.0|     9|            2|       45|                   25|                1.0|            0.75|\n",
            "|          Grape-Nuts|                Post|   C|     110|          3|  0|   170|          3.0| 17.0|     3|            3|       90|                   25|                1.0|            0.25|\n",
            "|  Honey_Nut_Cheerios|       General Mills|   C|     110|          3|  1|   250|          1.5| 11.5|    10|            1|       90|                   25|                1.0|            0.75|\n",
            "|          Honey-comb|                Post|   C|     110|          1|  0|   180|          0.0| 14.0|    11|            1|       35|                   25|                1.0|            1.33|\n",
            "|Just_Right_Crunch...|            Kelloggs|   C|     110|          2|  1|   170|          1.0| 17.0|     6|            3|       60|                  100|                1.0|            -1.0|\n",
            "|                 Kix|       General Mills|   C|     110|          2|  1|   260|          0.0| 21.0|     3|            2|       40|                   25|                1.0|             1.5|\n",
            "+--------------------+--------------------+----+--------+-----------+---+------+-------------+-----+------+-------------+---------+---------------------+-------------------+----------------+\n",
            "only showing top 50 rows\n",
            "\n"
          ]
        }
      ]
    },
    {
      "cell_type": "markdown",
      "source": [
        "# Case When"
      ],
      "metadata": {
        "id": "zbR0CK3CkCEW"
      }
    },
    {
      "cell_type": "code",
      "source": [
        "from pyspark.sql.functions import when"
      ],
      "metadata": {
        "id": "ra88SGJUhiLZ"
      },
      "execution_count": null,
      "outputs": []
    },
    {
      "cell_type": "code",
      "source": [
        "df.select(\"Cereal Name\", df['Vitamins and Minerals'], when(df['Vitamins and Minerals'] >= \"25\", \"rich in vitamins\")).show(50)"
      ],
      "metadata": {
        "colab": {
          "base_uri": "https://localhost:8080/"
        },
        "id": "uFXKFPsvhiJG",
        "outputId": "28507b2b-4305-455d-88d3-2ed22074fe85"
      },
      "execution_count": null,
      "outputs": [
        {
          "output_type": "stream",
          "name": "stdout",
          "text": [
            "+--------------------+---------------------+-----------------------------------------------------------------+\n",
            "|         Cereal Name|Vitamins and Minerals|CASE WHEN (Vitamins and Minerals >= 25) THEN rich in vitamins END|\n",
            "+--------------------+---------------------+-----------------------------------------------------------------+\n",
            "|           100%_Bran|                   25|                                                 rich in vitamins|\n",
            "|   100%_Natural_Bran|                    0|                                                             NULL|\n",
            "|            All-Bran|                   25|                                                 rich in vitamins|\n",
            "|All-Bran_with_Ext...|                   25|                                                 rich in vitamins|\n",
            "|      Almond_Delight|                   25|                                                 rich in vitamins|\n",
            "|Apple_Cinnamon_Ch...|                   25|                                                 rich in vitamins|\n",
            "|         Apple_Jacks|                   25|                                                 rich in vitamins|\n",
            "|             Basic_4|                   25|                                                 rich in vitamins|\n",
            "|           Bran_Chex|                   25|                                                 rich in vitamins|\n",
            "|         Bran_Flakes|                   25|                                                 rich in vitamins|\n",
            "|        Cap'n'Crunch|                   25|                                                 rich in vitamins|\n",
            "|            Cheerios|                   25|                                                 rich in vitamins|\n",
            "|Cinnamon_Toast_Cr...|                   25|                                                 rich in vitamins|\n",
            "|            Clusters|                   25|                                                 rich in vitamins|\n",
            "|         Cocoa_Puffs|                   25|                                                 rich in vitamins|\n",
            "|           Corn_Chex|                   25|                                                 rich in vitamins|\n",
            "|         Corn_Flakes|                   25|                                                 rich in vitamins|\n",
            "|           Corn_Pops|                   25|                                                 rich in vitamins|\n",
            "|       Count_Chocula|                   25|                                                 rich in vitamins|\n",
            "|  Cracklin'_Oat_Bran|                   25|                                                 rich in vitamins|\n",
            "|Cream_of_Wheat_(Q...|                    0|                                                             NULL|\n",
            "|             Crispix|                   25|                                                 rich in vitamins|\n",
            "|Crispy_Wheat_&_Ra...|                   25|                                                 rich in vitamins|\n",
            "|         Double_Chex|                   25|                                                 rich in vitamins|\n",
            "|         Froot_Loops|                   25|                                                 rich in vitamins|\n",
            "|      Frosted_Flakes|                   25|                                                 rich in vitamins|\n",
            "| Frosted_Mini-Wheats|                   25|                                                 rich in vitamins|\n",
            "|       Fruitful_Bran|                   25|                                                 rich in vitamins|\n",
            "|      Fruity_Pebbles|                   25|                                                 rich in vitamins|\n",
            "|        Golden_Crisp|                   25|                                                 rich in vitamins|\n",
            "|      Golden_Grahams|                   25|                                                 rich in vitamins|\n",
            "|   Grape_Nuts_Flakes|                   25|                                                 rich in vitamins|\n",
            "|          Grape-Nuts|                   25|                                                 rich in vitamins|\n",
            "|  Great_Grains_Pecan|                   25|                                                 rich in vitamins|\n",
            "|    Honey_Graham_Ohs|                   25|                                                 rich in vitamins|\n",
            "|  Honey_Nut_Cheerios|                   25|                                                 rich in vitamins|\n",
            "|          Honey-comb|                   25|                                                 rich in vitamins|\n",
            "|Just_Right_Crunch...|                  100|                                                 rich in vitamins|\n",
            "|Just_Right_Fruit_...|                  100|                                                 rich in vitamins|\n",
            "|                 Kix|                   25|                                                 rich in vitamins|\n",
            "|                Life|                   25|                                                 rich in vitamins|\n",
            "|        Lucky_Charms|                   25|                                                 rich in vitamins|\n",
            "|               Maypo|                   25|                                                 rich in vitamins|\n",
            "|Mueslix_Crispy_Blend|                   25|                                                 rich in vitamins|\n",
            "|Multi-Grain_Cheerios|                   25|                                                 rich in vitamins|\n",
            "|    Nut&Honey_Crunch|                   25|                                                 rich in vitamins|\n",
            "|Nutri-Grain_Almon...|                   25|                                                 rich in vitamins|\n",
            "|   Nutri-grain_Wheat|                   25|                                                 rich in vitamins|\n",
            "|Oatmeal_Raisin_Crisp|                   25|                                                 rich in vitamins|\n",
            "|Post_Nat._Raisin_...|                   25|                                                 rich in vitamins|\n",
            "+--------------------+---------------------+-----------------------------------------------------------------+\n",
            "only showing top 50 rows\n",
            "\n"
          ]
        }
      ]
    },
    {
      "cell_type": "markdown",
      "source": [
        "#filter()"
      ],
      "metadata": {
        "id": "VIxXRa4ElKVZ"
      }
    },
    {
      "cell_type": "code",
      "source": [
        "df.filter(df.Calories >= \"100\").show(50)"
      ],
      "metadata": {
        "colab": {
          "base_uri": "https://localhost:8080/"
        },
        "id": "a0qhZTzFhiGb",
        "outputId": "44df4d1d-a059-40f5-d51b-56c48cd15544"
      },
      "execution_count": null,
      "outputs": [
        {
          "output_type": "stream",
          "name": "stdout",
          "text": [
            "+--------------------+--------------------+----+--------+-----------+---+------+-------------+-----+------+-------------+---------+---------------------+-------------------+----------------+\n",
            "|         Cereal Name|        Manufacturer|Type|Calories|Protein (g)|Fat|Sodium|Dietary Fiber|Carbs|Sugars|Display Shelf|Potassium|Vitamins and Minerals|Serving Size Weight|Cups per Serving|\n",
            "+--------------------+--------------------+----+--------+-----------+---+------+-------------+-----+------+-------------+---------+---------------------+-------------------+----------------+\n",
            "|   100%_Natural_Bran|         Quaker Oats|   C|     120|          3|  5|    15|          2.0|  8.0|     8|            3|      135|                    0|                1.0|            -1.0|\n",
            "|      Almond_Delight|      Ralston Purina|   C|     110|          2|  2|   200|          1.0| 14.0|     8|            3|       -1|                   25|                1.0|            0.75|\n",
            "|Apple_Cinnamon_Ch...|       General Mills|   C|     110|          2|  2|   180|          1.5| 10.5|    10|            1|       70|                   25|                1.0|            0.75|\n",
            "|         Apple_Jacks|            Kelloggs|   C|     110|          2|  0|   125|          1.0| 11.0|    14|            2|       30|                   25|                1.0|             1.0|\n",
            "|             Basic_4|       General Mills|   C|     130|          3|  2|   210|          2.0| 18.0|     8|            3|      100|                   25|               1.33|            0.75|\n",
            "|        Cap'n'Crunch|         Quaker Oats|   C|     120|          1|  2|   220|          0.0| 12.0|    12|            2|       35|                   25|                1.0|            0.75|\n",
            "|            Cheerios|       General Mills|   C|     110|          6|  2|   290|          2.0| 17.0|     1|            1|      105|                   25|                1.0|            1.25|\n",
            "|Cinnamon_Toast_Cr...|       General Mills|   C|     120|          1|  3|   210|          0.0| 13.0|     9|            2|       45|                   25|                1.0|            0.75|\n",
            "|            Clusters|       General Mills|   C|     110|          3|  2|   140|          2.0| 13.0|     7|            3|      105|                   25|                1.0|             0.5|\n",
            "|         Cocoa_Puffs|       General Mills|   C|     110|          1|  1|   180|          0.0| 12.0|    13|            2|       55|                   25|                1.0|             1.0|\n",
            "|           Corn_Chex|      Ralston Purina|   C|     110|          2|  0|   280|          0.0| 22.0|     3|            1|       25|                   25|                1.0|             1.0|\n",
            "|         Corn_Flakes|            Kelloggs|   C|     100|          2|  0|   290|          1.0| 21.0|     2|            1|       35|                   25|                1.0|             1.0|\n",
            "|           Corn_Pops|            Kelloggs|   C|     110|          1|  0|    90|          1.0| 13.0|    12|            2|       20|                   25|                1.0|             1.0|\n",
            "|       Count_Chocula|       General Mills|   C|     110|          1|  1|   180|          0.0| 12.0|    13|            2|       65|                   25|                1.0|             1.0|\n",
            "|  Cracklin'_Oat_Bran|            Kelloggs|   C|     110|          3|  3|   140|          4.0| 10.0|     7|            3|      160|                   25|                1.0|             0.5|\n",
            "|Cream_of_Wheat_(Q...|             Nabisco|   H|     100|          3|  0|    80|          1.0| 21.0|     0|            2|       -1|                    0|                1.0|             1.0|\n",
            "|             Crispix|            Kelloggs|   C|     110|          2|  0|   220|          1.0| 21.0|     3|            3|       30|                   25|                1.0|             1.0|\n",
            "|Crispy_Wheat_&_Ra...|       General Mills|   C|     100|          2|  1|   140|          2.0| 11.0|    10|            3|      120|                   25|                1.0|            0.75|\n",
            "|         Double_Chex|      Ralston Purina|   C|     100|          2|  0|   190|          1.0| 18.0|     5|            3|       80|                   25|                1.0|            0.75|\n",
            "|         Froot_Loops|            Kelloggs|   C|     110|          2|  1|   125|          1.0| 11.0|    13|            2|       30|                   25|                1.0|             1.0|\n",
            "|      Frosted_Flakes|            Kelloggs|   C|     110|          1|  0|   200|          1.0| 14.0|    11|            1|       25|                   25|                1.0|            0.75|\n",
            "| Frosted_Mini-Wheats|            Kelloggs|   C|     100|          3|  0|     0|          3.0| 14.0|     7|            2|      100|                   25|                1.0|             0.8|\n",
            "|       Fruitful_Bran|            Kelloggs|   C|     120|          3|  0|   240|          5.0| 14.0|    12|            3|      190|                   25|               1.33|            0.67|\n",
            "|      Fruity_Pebbles|                Post|   C|     110|          1|  1|   135|          0.0| 13.0|    12|            2|       25|                   25|                1.0|            0.75|\n",
            "|        Golden_Crisp|                Post|   C|     100|          2|  0|    45|          0.0| 11.0|    15|            1|       40|                   25|                1.0|            0.88|\n",
            "|      Golden_Grahams|       General Mills|   C|     110|          1|  1|   280|          0.0| 15.0|     9|            2|       45|                   25|                1.0|            0.75|\n",
            "|   Grape_Nuts_Flakes|                Post|   C|     100|          3|  1|   140|          3.0| 15.0|     5|            3|       85|                   25|                1.0|            0.88|\n",
            "|          Grape-Nuts|                Post|   C|     110|          3|  0|   170|          3.0| 17.0|     3|            3|       90|                   25|                1.0|            0.25|\n",
            "|  Great_Grains_Pecan|                Post|   C|     120|          3|  3|    75|          3.0| 13.0|     4|            3|      100|                   25|                1.0|            0.33|\n",
            "|    Honey_Graham_Ohs|         Quaker Oats|   C|     120|          1|  2|   220|          1.0| 12.0|    11|            2|       45|                   25|                1.0|             1.0|\n",
            "|  Honey_Nut_Cheerios|       General Mills|   C|     110|          3|  1|   250|          1.5| 11.5|    10|            1|       90|                   25|                1.0|            0.75|\n",
            "|          Honey-comb|                Post|   C|     110|          1|  0|   180|          0.0| 14.0|    11|            1|       35|                   25|                1.0|            1.33|\n",
            "|Just_Right_Crunch...|            Kelloggs|   C|     110|          2|  1|   170|          1.0| 17.0|     6|            3|       60|                  100|                1.0|            -1.0|\n",
            "|Just_Right_Fruit_...|            Kelloggs|   C|     140|          3|  1|   170|          2.0| 20.0|     9|            3|       95|                  100|                1.3|            0.75|\n",
            "|                 Kix|       General Mills|   C|     110|          2|  1|   260|          0.0| 21.0|     3|            2|       40|                   25|                1.0|             1.5|\n",
            "|                Life|         Quaker Oats|   C|     100|          4|  2|   150|          2.0| 12.0|     6|            2|       95|                   25|                1.0|            0.67|\n",
            "|        Lucky_Charms|       General Mills|   C|     110|          2|  1|   180|          0.0| 12.0|    12|            2|       55|                   25|                1.0|             1.0|\n",
            "|               Maypo|American Home Foo...|   H|     100|          4|  1|     0|          0.0| 16.0|     3|            2|       95|                   25|                1.0|            -1.0|\n",
            "|Mueslix_Crispy_Blend|            Kelloggs|   C|     160|          3|  2|   150|          3.0| 17.0|    13|            3|      160|                   25|                1.5|            0.67|\n",
            "|Multi-Grain_Cheerios|       General Mills|   C|     100|          2|  1|   220|          2.0| 15.0|     6|            1|       90|                   25|                1.0|             1.0|\n",
            "|    Nut&Honey_Crunch|            Kelloggs|   C|     120|          2|  1|   190|          0.0| 15.0|     9|            2|       40|                   25|                1.0|            0.67|\n",
            "|Nutri-Grain_Almon...|            Kelloggs|   C|     140|          3|  2|   220|          3.0| 21.0|     7|            3|      130|                   25|               1.33|            0.67|\n",
            "|Oatmeal_Raisin_Crisp|       General Mills|   C|     130|          3|  2|   170|          1.5| 13.5|    10|            3|      120|                   25|               1.25|             0.5|\n",
            "|Post_Nat._Raisin_...|                Post|   C|     120|          3|  1|   200|          6.0| 11.0|    14|            3|      260|                   25|               1.33|            0.67|\n",
            "|          Product_19|            Kelloggs|   C|     100|          3|  0|   320|          1.0| 20.0|     3|            3|       45|                  100|                1.0|             1.0|\n",
            "|  Quaker_Oat_Squares|         Quaker Oats|   C|     100|          4|  1|   135|          2.0| 14.0|     6|            3|      110|                   25|                1.0|             0.5|\n",
            "|      Quaker_Oatmeal|         Quaker Oats|   H|     100|          5|  2|     0|          2.7| -1.0|    -1|            1|      110|                    0|                1.0|            0.67|\n",
            "|         Raisin_Bran|            Kelloggs|   C|     120|          3|  1|   210|          5.0| 14.0|    12|            2|      240|                   25|               1.33|            0.75|\n",
            "|     Raisin_Nut_Bran|       General Mills|   C|     100|          3|  2|   140|          2.5| 10.5|     8|            3|      140|                   25|                1.0|             0.5|\n",
            "|           Rice_Chex|      Ralston Purina|   C|     110|          1|  0|   240|          0.0| 23.0|     2|            1|       30|                   25|                1.0|            1.13|\n",
            "+--------------------+--------------------+----+--------+-----------+---+------+-------------+-----+------+-------------+---------+---------------------+-------------------+----------------+\n",
            "only showing top 50 rows\n",
            "\n"
          ]
        }
      ]
    },
    {
      "cell_type": "markdown",
      "source": [
        "#isnull() / isnotnull()"
      ],
      "metadata": {
        "id": "h613heevlbgO"
      }
    },
    {
      "cell_type": "code",
      "source": [
        "from pyspark.sql.functions import *"
      ],
      "metadata": {
        "id": "TNDc5jFZhiDU"
      },
      "execution_count": null,
      "outputs": []
    },
    {
      "cell_type": "code",
      "source": [
        "df.filter(df['Cereal Name'].isNull()).show()"
      ],
      "metadata": {
        "colab": {
          "base_uri": "https://localhost:8080/"
        },
        "id": "adyU1Xe1hiA2",
        "outputId": "e2209cae-ff2e-42c0-b872-9e4aaf6a7844"
      },
      "execution_count": null,
      "outputs": [
        {
          "output_type": "stream",
          "name": "stdout",
          "text": [
            "+-----------+------------+----+--------+-----------+---+------+-------------+-----+------+-------------+---------+---------------------+-------------------+----------------+\n",
            "|Cereal Name|Manufacturer|Type|Calories|Protein (g)|Fat|Sodium|Dietary Fiber|Carbs|Sugars|Display Shelf|Potassium|Vitamins and Minerals|Serving Size Weight|Cups per Serving|\n",
            "+-----------+------------+----+--------+-----------+---+------+-------------+-----+------+-------------+---------+---------------------+-------------------+----------------+\n",
            "+-----------+------------+----+--------+-----------+---+------+-------------+-----+------+-------------+---------+---------------------+-------------------+----------------+\n",
            "\n"
          ]
        }
      ]
    },
    {
      "cell_type": "markdown",
      "source": [
        "### Select distinct no SparkSQL"
      ],
      "metadata": {
        "id": "RoVtLSQs5u6b"
      }
    },
    {
      "cell_type": "code",
      "source": [
        "df.describe()"
      ],
      "metadata": {
        "id": "xhS--occ6DiS",
        "outputId": "8939683c-d76a-464a-8611-f42e39f38b90",
        "colab": {
          "base_uri": "https://localhost:8080/"
        }
      },
      "execution_count": null,
      "outputs": [
        {
          "output_type": "execute_result",
          "data": {
            "text/plain": [
              "DataFrame[summary: string, Cereal Name: string, Manufacturer: string, Type: string, Calories: string, Protein (g): string, Fat: string, Sodium: string, Dietary Fiber: string, Carbs: string, Sugars: string, Display Shelf: string, Potassium: string, Vitamins and Minerals: string, Serving Size Weight: string, Cups per Serving: string]"
            ]
          },
          "metadata": {},
          "execution_count": 27
        }
      ]
    },
    {
      "cell_type": "code",
      "source": [
        "df.printSchema()"
      ],
      "metadata": {
        "id": "Fq36bDKg6xc0",
        "outputId": "08896410-01fb-4b08-f428-bef99e7cf36a",
        "colab": {
          "base_uri": "https://localhost:8080/"
        }
      },
      "execution_count": null,
      "outputs": [
        {
          "output_type": "stream",
          "name": "stdout",
          "text": [
            "root\n",
            " |-- Cereal Name: string (nullable = true)\n",
            " |-- Manufacturer: string (nullable = true)\n",
            " |-- Type: string (nullable = true)\n",
            " |-- Calories: integer (nullable = true)\n",
            " |-- Protein (g): integer (nullable = true)\n",
            " |-- Fat: integer (nullable = true)\n",
            " |-- Sodium: integer (nullable = true)\n",
            " |-- Dietary Fiber: double (nullable = true)\n",
            " |-- Carbs: double (nullable = true)\n",
            " |-- Sugars: integer (nullable = true)\n",
            " |-- Display Shelf: integer (nullable = true)\n",
            " |-- Potassium: integer (nullable = true)\n",
            " |-- Vitamins and Minerals: integer (nullable = true)\n",
            " |-- Serving Size Weight: double (nullable = true)\n",
            " |-- Cups per Serving: double (nullable = true)\n",
            "\n"
          ]
        }
      ]
    },
    {
      "cell_type": "code",
      "source": [
        "df.createOrReplaceTempView(\"cereal\")"
      ],
      "metadata": {
        "id": "hvW4EoGB6-e7"
      },
      "execution_count": null,
      "outputs": []
    },
    {
      "cell_type": "code",
      "source": [
        "cereal = spark.sql(''' SELECT DISTINCT `Cereal Name`, Type, Manufacturer from cereal ''')\n",
        "cereal.show()"
      ],
      "metadata": {
        "id": "n4ig7PCT5uut",
        "outputId": "4647e860-c4e3-4d3a-afde-5b60ed4da571",
        "colab": {
          "base_uri": "https://localhost:8080/"
        }
      },
      "execution_count": null,
      "outputs": [
        {
          "output_type": "stream",
          "name": "stdout",
          "text": [
            "+--------------------+----+--------------+\n",
            "|         Cereal Name|Type|  Manufacturer|\n",
            "+--------------------+----+--------------+\n",
            "|         Double_Chex|   C|Ralston Purina|\n",
            "|      Quaker_Oatmeal|   H|   Quaker Oats|\n",
            "|      Shredded_Wheat|   C|       Nabisco|\n",
            "|Crispy_Wheat_&_Ra...|   C| General Mills|\n",
            "|Multi-Grain_Cheerios|   C| General Mills|\n",
            "|      Almond_Delight|   C|Ralston Purina|\n",
            "|            All-Bran|   C|      Kelloggs|\n",
            "|          Honey-comb|   C|          Post|\n",
            "|Strawberry_Fruit_...|   C|       Nabisco|\n",
            "|             Basic_4|   C| General Mills|\n",
            "|   Total_Whole_Grain|   C| General Mills|\n",
            "|                Trix|   C| General Mills|\n",
            "|            Cheerios|   C| General Mills|\n",
            "|         Raisin_Bran|   C|      Kelloggs|\n",
            "|         Corn_Flakes|   C|      Kelloggs|\n",
            "|Nutri-Grain_Almon...|   C|      Kelloggs|\n",
            "|All-Bran_with_Ext...|   C|      Kelloggs|\n",
            "|          Wheat_Chex|   C|Ralston Purina|\n",
            "|     Raisin_Nut_Bran|   C| General Mills|\n",
            "|              Smacks|   C|      Kelloggs|\n",
            "+--------------------+----+--------------+\n",
            "only showing top 20 rows\n",
            "\n"
          ]
        }
      ]
    },
    {
      "cell_type": "markdown",
      "source": [
        "#WHERE no Spark SQL"
      ],
      "metadata": {
        "id": "fcEYAyju9OYr"
      }
    },
    {
      "cell_type": "code",
      "source": [
        "cereal = spark.sql(''' SELECT * from cereal WHERE Manufacturer = 'Kelloggs' AND Calories = 100 ''')\n",
        "cereal.show()"
      ],
      "metadata": {
        "id": "3QmbhTsK9Mox",
        "outputId": "1d17f0ac-37a3-4592-f812-eab2def13be9",
        "colab": {
          "base_uri": "https://localhost:8080/"
        }
      },
      "execution_count": null,
      "outputs": [
        {
          "output_type": "stream",
          "name": "stdout",
          "text": [
            "+-------------------+------------+----+--------+-----------+---+------+-------------+-----+------+-------------+---------+---------------------+-------------------+----------------+\n",
            "|        Cereal Name|Manufacturer|Type|Calories|Protein (g)|Fat|Sodium|Dietary Fiber|Carbs|Sugars|Display Shelf|Potassium|Vitamins and Minerals|Serving Size Weight|Cups per Serving|\n",
            "+-------------------+------------+----+--------+-----------+---+------+-------------+-----+------+-------------+---------+---------------------+-------------------+----------------+\n",
            "|        Corn_Flakes|    Kelloggs|   C|     100|          2|  0|   290|          1.0| 21.0|     2|            1|       35|                   25|                1.0|             1.0|\n",
            "|Frosted_Mini-Wheats|    Kelloggs|   C|     100|          3|  0|     0|          3.0| 14.0|     7|            2|      100|                   25|                1.0|             0.8|\n",
            "|         Product_19|    Kelloggs|   C|     100|          3|  0|   320|          1.0| 20.0|     3|            3|       45|                  100|                1.0|             1.0|\n",
            "+-------------------+------------+----+--------+-----------+---+------+-------------+-----+------+-------------+---------+---------------------+-------------------+----------------+\n",
            "\n"
          ]
        }
      ]
    },
    {
      "cell_type": "markdown",
      "source": [
        "#GROUP BY"
      ],
      "metadata": {
        "id": "F_0tPpIxG8ii"
      }
    },
    {
      "cell_type": "code",
      "source": [
        "cereal = spark.sql(''' SELECT Manufacturer, Type, COUNT(*) AS total, SUM(Calories) AS total_calories \\\n",
        "                          FROM cereal \\\n",
        "                          GROUP BY Manufacturer, Type ''')\n",
        "cereal.show()"
      ],
      "metadata": {
        "id": "1_X2ndZqG79I",
        "outputId": "b7a4e458-d01a-481b-a018-8de6467e7752",
        "colab": {
          "base_uri": "https://localhost:8080/"
        }
      },
      "execution_count": null,
      "outputs": [
        {
          "output_type": "stream",
          "name": "stdout",
          "text": [
            "+--------------------+----+-----+--------------+\n",
            "|        Manufacturer|Type|total|total_calories|\n",
            "+--------------------+----+-----+--------------+\n",
            "|            Kelloggs|   C|   23|          2500|\n",
            "|         Quaker Oats|   C|    7|           660|\n",
            "|American Home Foo...|   H|    1|           100|\n",
            "|             Nabisco|   H|    1|           100|\n",
            "|             Nabisco|   C|    5|           420|\n",
            "|       General Mills|   C|   22|          2450|\n",
            "|      Ralston Purina|   C|    6|           620|\n",
            "|         Quaker Oats|   H|    1|           100|\n",
            "|                Post|   C|    8|           860|\n",
            "+--------------------+----+-----+--------------+\n",
            "\n"
          ]
        }
      ]
    },
    {
      "cell_type": "markdown",
      "source": [
        "#CASE WHEN"
      ],
      "metadata": {
        "id": "SlTa2gWULOxy"
      }
    },
    {
      "cell_type": "code",
      "source": [
        "cereal = spark.sql(''' SELECT Manufacturer, \\\n",
        "                          (CASE\n",
        "                            WHEN Type = 'C' THEN 'A'\n",
        "                            WHEN Type = 'H' THEN 'B'\n",
        "                            ELSE 'Ca' END) AS type_new \\\n",
        "                          , COUNT(*) AS total, SUM(Calories) AS total_calories \\\n",
        "                          FROM cereal \\\n",
        "                          GROUP BY Manufacturer, Type ''')\n",
        "cereal.show()"
      ],
      "metadata": {
        "id": "xgp8e_Tv673_",
        "outputId": "53804557-2e40-4de7-f58c-dfeceb6c8f87",
        "colab": {
          "base_uri": "https://localhost:8080/"
        }
      },
      "execution_count": null,
      "outputs": [
        {
          "output_type": "stream",
          "name": "stdout",
          "text": [
            "+--------------------+--------+-----+--------------+\n",
            "|        Manufacturer|type_new|total|total_calories|\n",
            "+--------------------+--------+-----+--------------+\n",
            "|            Kelloggs|       A|   23|          2500|\n",
            "|         Quaker Oats|       A|    7|           660|\n",
            "|American Home Foo...|       B|    1|           100|\n",
            "|             Nabisco|       B|    1|           100|\n",
            "|             Nabisco|       A|    5|           420|\n",
            "|       General Mills|       A|   22|          2450|\n",
            "|      Ralston Purina|       A|    6|           620|\n",
            "|         Quaker Oats|       B|    1|           100|\n",
            "|                Post|       A|    8|           860|\n",
            "+--------------------+--------+-----+--------------+\n",
            "\n"
          ]
        }
      ]
    },
    {
      "cell_type": "markdown",
      "source": [
        "#Consultas Avançadas em SQL usando PySPark"
      ],
      "metadata": {
        "id": "aVpoyKnexksb"
      }
    },
    {
      "cell_type": "code",
      "source": [
        "cereal = spark.sql('''\n",
        "  SELECT\n",
        "      Manufacturer,\n",
        "      Type,\n",
        "      SUM(Calories) AS sum_calories,\n",
        "      MIN(Calories) AS min_calories,\n",
        "      MAX(Calories) AS max_calories,\n",
        "      COUNT(DISTINCT `Cereal Name`) AS count_distinct_names,\n",
        "      COUNT(`Cereal Name`) AS count_names\n",
        "  FROM cereal\n",
        "  GROUP BY Manufacturer, Type\n",
        "  ORDER BY Manufacturer\n",
        "''')\n",
        "\n",
        "cereal.show()"
      ],
      "metadata": {
        "id": "PQK4WLDhLj4c",
        "outputId": "5d4d5000-f6c2-40d6-b06d-34f40faa2d96",
        "colab": {
          "base_uri": "https://localhost:8080/"
        }
      },
      "execution_count": 44,
      "outputs": [
        {
          "output_type": "stream",
          "name": "stdout",
          "text": [
            "+--------------------+----+------------+------------+------------+--------------------+-----------+\n",
            "|        Manufacturer|Type|sum_calories|min_calories|max_calories|count_distinct_names|count_names|\n",
            "+--------------------+----+------------+------------+------------+--------------------+-----------+\n",
            "|American Home Foo...|   H|         100|         100|         100|                   1|          1|\n",
            "|       General Mills|   C|        2450|         100|         140|                  22|         22|\n",
            "|            Kelloggs|   C|        2500|          50|         160|                  23|         23|\n",
            "|             Nabisco|   H|         100|         100|         100|                   1|          1|\n",
            "|             Nabisco|   C|         420|          70|          90|                   5|          5|\n",
            "|                Post|   C|         860|          90|         120|                   8|          8|\n",
            "|         Quaker Oats|   C|         660|          50|         120|                   7|          7|\n",
            "|         Quaker Oats|   H|         100|         100|         100|                   1|          1|\n",
            "|      Ralston Purina|   C|         620|          90|         110|                   6|          6|\n",
            "+--------------------+----+------------+------------+------------+--------------------+-----------+\n",
            "\n"
          ]
        }
      ]
    },
    {
      "cell_type": "code",
      "source": [
        "cereal = spark.sql('''\n",
        "  SELECT\n",
        "      Manufacturer,\n",
        "      Type,\n",
        "      SUM(Calories) AS sum_calories,\n",
        "      MIN(Calories) AS min_calories,\n",
        "      MAX(Calories) AS max_calories,\n",
        "      CAST(AVG(Calories) AS DECIMAL(10,2)) AS avg_calories,\n",
        "\n",
        "      SUM(Carbs) AS sum_carbs,\n",
        "      MIN(Carbs) AS min_carbs,\n",
        "      MAX(Carbs) AS max_carbs,\n",
        "      CAST(AVG(Carbs) AS DECIMAL(10,2)) AS avg_carbs,\n",
        "\n",
        "      SUM(`Vitamins and Minerals`) AS sum_vitamins,\n",
        "      MIN(`Vitamins and Minerals`) AS min_vitamins,\n",
        "      MAX(`Vitamins and Minerals`) AS max_vitamins,\n",
        "      CAST(AVG(`Vitamins and Minerals`) AS DECIMAL(10,2)) AS avg_vitamins,\n",
        "\n",
        "\n",
        "      COUNT(DISTINCT `Cereal Name`) AS count_distinct_names,\n",
        "      COUNT(`Cereal Name`) AS count_names\n",
        "  FROM cereal\n",
        "  GROUP BY Manufacturer, Type\n",
        "  ORDER BY Manufacturer\n",
        "''')\n",
        "\n",
        "cereal.show(truncate=False)"
      ],
      "metadata": {
        "id": "sYavSuVqxyqO",
        "outputId": "7320aae9-ac0c-44f8-a435-1767fcd90a70",
        "colab": {
          "base_uri": "https://localhost:8080/"
        }
      },
      "execution_count": 48,
      "outputs": [
        {
          "output_type": "stream",
          "name": "stdout",
          "text": [
            "+---------------------------+----+------------+------------+------------+------------+---------+---------+---------+---------+------------+------------+------------+------------+--------------------+-----------+\n",
            "|Manufacturer               |Type|sum_calories|min_calories|max_calories|avg_calories|sum_carbs|min_carbs|max_carbs|avg_carbs|sum_vitamins|min_vitamins|max_vitamins|avg_vitamins|count_distinct_names|count_names|\n",
            "+---------------------------+----+------------+------------+------------+------------+---------+---------+---------+---------+------------+------------+------------+------------+--------------------+-----------+\n",
            "|American Home Food Products|H   |100         |100         |100         |100.00      |16.0     |16.0     |16.0     |16.00    |25          |25          |25          |25.00       |1                   |1          |\n",
            "|General Mills              |C   |2450        |100         |140         |111.36      |324.0    |10.5     |21.0     |14.73    |775         |25          |100         |35.23       |22                  |22         |\n",
            "|Kelloggs                   |C   |2500        |50          |160         |108.70      |348.0    |7.0      |22.0     |15.13    |800         |25          |100         |34.78       |23                  |23         |\n",
            "|Nabisco                    |H   |100         |100         |100         |100.00      |21.0     |21.0     |21.0     |21.00    |0           |0           |0           |0.00        |1                   |1          |\n",
            "|Nabisco                    |C   |420         |70          |90          |84.00       |75.0     |5.0      |20.0     |15.00    |50          |0           |25          |10.00       |5                   |5          |\n",
            "|Post                       |C   |860         |90          |120         |107.50      |107.0    |11.0     |17.0     |13.38    |200         |25          |25          |25.00       |8                   |8          |\n",
            "|Quaker Oats                |C   |660         |50          |120         |94.29       |81.0     |8.0      |14.0     |11.57    |100         |0           |25          |14.29       |7                   |7          |\n",
            "|Quaker Oats                |H   |100         |100         |100         |100.00      |-1.0     |-1.0     |-1.0     |-1.00    |0           |0           |0           |0.00        |1                   |1          |\n",
            "|Ralston Purina             |C   |620         |90          |110         |103.33      |109.0    |14.0     |23.0     |18.17    |150         |25          |25          |25.00       |6                   |6          |\n",
            "+---------------------------+----+------------+------------+------------+------------+---------+---------+---------+---------+------------+------------+------------+------------+--------------------+-----------+\n",
            "\n"
          ]
        }
      ]
    },
    {
      "cell_type": "code",
      "source": [
        "cereal = spark.sql('''\n",
        "  SELECT\n",
        "      Manufacturer,\n",
        "      Type,\n",
        "      (CASE\n",
        "        WHEN Manufacturer = 'American Home Food Products' THEN 'Abacaxi'\n",
        "        WHEN Manufacturer = 'General Mills' THEN 'Tomate'\n",
        "        WHEN Manufacturer = 'Kelloggs' THEN 'Goiaba'\n",
        "        WHEN Manufacturer = 'Nabisco' THEN 'Laranja'\n",
        "        WHEN Manufacturer = 'Post' THEN 'Pera'\n",
        "        WHEN Manufacturer = 'Quaker Oats' THEN 'Uva'\n",
        "        WHEN Manufacturer = 'Ralston Purina' THEN 'Maca'\n",
        "        ELSE 'N/A'\n",
        "        END\n",
        "      ) AS type_fruit,\n",
        "      SUM(Calories) AS sum_calories,\n",
        "      MIN(Calories) AS min_calories,\n",
        "      MAX(Calories) AS max_calories,\n",
        "      CAST(AVG(Calories) AS DECIMAL(10,2)) AS avg_calories,\n",
        "\n",
        "      SUM(Carbs) AS sum_carbs,\n",
        "      MIN(Carbs) AS min_carbs,\n",
        "      MAX(Carbs) AS max_carbs,\n",
        "      CAST(AVG(Carbs) AS DECIMAL(10,2)) AS avg_carbs,\n",
        "\n",
        "      SUM(`Vitamins and Minerals`) AS sum_vitamins,\n",
        "      MIN(`Vitamins and Minerals`) AS min_vitamins,\n",
        "      MAX(`Vitamins and Minerals`) AS max_vitamins,\n",
        "      CAST(AVG(`Vitamins and Minerals`) AS DECIMAL(10,2)) AS avg_vitamins,\n",
        "\n",
        "\n",
        "      COUNT(DISTINCT `Cereal Name`) AS count_distinct_names,\n",
        "      COUNT(`Cereal Name`) AS count_names\n",
        "  FROM cereal\n",
        "  GROUP BY Manufacturer, Type\n",
        "  ORDER BY Manufacturer\n",
        "''')\n",
        "\n",
        "cereal.show(truncate=False)"
      ],
      "metadata": {
        "id": "ttqdPQNRx03O",
        "outputId": "41355a2a-ab1c-4bd2-d7a1-617a9d1548e1",
        "colab": {
          "base_uri": "https://localhost:8080/"
        }
      },
      "execution_count": 50,
      "outputs": [
        {
          "output_type": "stream",
          "name": "stdout",
          "text": [
            "+---------------------------+----+----------+------------+------------+------------+------------+---------+---------+---------+---------+------------+------------+------------+------------+--------------------+-----------+\n",
            "|Manufacturer               |Type|type_fruit|sum_calories|min_calories|max_calories|avg_calories|sum_carbs|min_carbs|max_carbs|avg_carbs|sum_vitamins|min_vitamins|max_vitamins|avg_vitamins|count_distinct_names|count_names|\n",
            "+---------------------------+----+----------+------------+------------+------------+------------+---------+---------+---------+---------+------------+------------+------------+------------+--------------------+-----------+\n",
            "|American Home Food Products|H   |Abacaxi   |100         |100         |100         |100.00      |16.0     |16.0     |16.0     |16.00    |25          |25          |25          |25.00       |1                   |1          |\n",
            "|General Mills              |C   |Tomate    |2450        |100         |140         |111.36      |324.0    |10.5     |21.0     |14.73    |775         |25          |100         |35.23       |22                  |22         |\n",
            "|Kelloggs                   |C   |Goiaba    |2500        |50          |160         |108.70      |348.0    |7.0      |22.0     |15.13    |800         |25          |100         |34.78       |23                  |23         |\n",
            "|Nabisco                    |H   |Laranja   |100         |100         |100         |100.00      |21.0     |21.0     |21.0     |21.00    |0           |0           |0           |0.00        |1                   |1          |\n",
            "|Nabisco                    |C   |Laranja   |420         |70          |90          |84.00       |75.0     |5.0      |20.0     |15.00    |50          |0           |25          |10.00       |5                   |5          |\n",
            "|Post                       |C   |Pera      |860         |90          |120         |107.50      |107.0    |11.0     |17.0     |13.38    |200         |25          |25          |25.00       |8                   |8          |\n",
            "|Quaker Oats                |C   |Uva       |660         |50          |120         |94.29       |81.0     |8.0      |14.0     |11.57    |100         |0           |25          |14.29       |7                   |7          |\n",
            "|Quaker Oats                |H   |Uva       |100         |100         |100         |100.00      |-1.0     |-1.0     |-1.0     |-1.00    |0           |0           |0           |0.00        |1                   |1          |\n",
            "|Ralston Purina             |C   |Maca      |620         |90          |110         |103.33      |109.0    |14.0     |23.0     |18.17    |150         |25          |25          |25.00       |6                   |6          |\n",
            "+---------------------------+----+----------+------------+------------+------------+------------+---------+---------+---------+---------+------------+------------+------------+------------+--------------------+-----------+\n",
            "\n"
          ]
        }
      ]
    },
    {
      "cell_type": "markdown",
      "source": [
        "#JOIN"
      ],
      "metadata": {
        "id": "Ifa0cZPszh8H"
      }
    },
    {
      "cell_type": "markdown",
      "source": [
        "#INNER"
      ],
      "metadata": {
        "id": "o-20SXzVzh5r"
      }
    },
    {
      "cell_type": "code",
      "source": [
        "sales = spark.read.csv('sales_data_sample.csv', sep=',', inferSchema = True, header = True)"
      ],
      "metadata": {
        "id": "19D7F0aDyCJG"
      },
      "execution_count": 53,
      "outputs": []
    },
    {
      "cell_type": "code",
      "source": [
        "sales.show()"
      ],
      "metadata": {
        "id": "3ZxJkhvhzzRO",
        "outputId": "993677ea-d697-4d85-a5f2-2eb61089445a",
        "colab": {
          "base_uri": "https://localhost:8080/"
        }
      },
      "execution_count": 54,
      "outputs": [
        {
          "output_type": "stream",
          "name": "stdout",
          "text": [
            "+-----------+---------------+---------+---------------+-------+---------------+-------+------+--------+-------+-----------+----+-----------+--------------------+----------------+--------------------+------------+-------------+--------+----------+---------+---------+---------------+----------------+--------+\n",
            "|ORDERNUMBER|QUANTITYORDERED|PRICEEACH|ORDERLINENUMBER|  SALES|      ORDERDATE| STATUS|QTR_ID|MONTH_ID|YEAR_ID|PRODUCTLINE|MSRP|PRODUCTCODE|        CUSTOMERNAME|           PHONE|        ADDRESSLINE1|ADDRESSLINE2|         CITY|   STATE|POSTALCODE|  COUNTRY|TERRITORY|CONTACTLASTNAME|CONTACTFIRSTNAME|DEALSIZE|\n",
            "+-----------+---------------+---------+---------------+-------+---------------+-------+------+--------+-------+-----------+----+-----------+--------------------+----------------+--------------------+------------+-------------+--------+----------+---------+---------+---------------+----------------+--------+\n",
            "|      10107|             30|     95.7|              2| 2871.0| 2/24/2003 0:00|Shipped|     1|       2|   2003|Motorcycles|  95|   S10_1678|   Land of Toys Inc.|      2125557818|897 Long Airport ...|        NULL|          NYC|      NY|     10022|      USA|       NA|             Yu|            Kwai|   Small|\n",
            "|      10121|             34|    81.35|              5| 2765.9|  5/7/2003 0:00|Shipped|     2|       5|   2003|Motorcycles|  95|   S10_1678|  Reims Collectables|      26.47.1555|  59 rue de l'Abbaye|        NULL|        Reims|    NULL|     51100|   France|     EMEA|        Henriot|            Paul|   Small|\n",
            "|      10134|             41|    94.74|              2|3884.34|  7/1/2003 0:00|Shipped|     3|       7|   2003|Motorcycles|  95|   S10_1678|     Lyon Souveniers|+33 1 46 62 7555|27 rue du Colonel...|        NULL|        Paris|    NULL|     75508|   France|     EMEA|       Da Cunha|          Daniel|  Medium|\n",
            "|      10145|             45|    83.26|              6| 3746.7| 8/25/2003 0:00|Shipped|     3|       8|   2003|Motorcycles|  95|   S10_1678|   Toys4GrownUps.com|      6265557265|  78934 Hillside Dr.|        NULL|     Pasadena|      CA|     90003|      USA|       NA|          Young|           Julie|  Medium|\n",
            "|      10159|             49|    100.0|             14|5205.27|10/10/2003 0:00|Shipped|     4|      10|   2003|Motorcycles|  95|   S10_1678|Corporate Gift Id...|      6505551386|     7734 Strong St.|        NULL|San Francisco|      CA|      NULL|      USA|       NA|          Brown|           Julie|  Medium|\n",
            "|      10168|             36|    96.66|              1|3479.76|10/28/2003 0:00|Shipped|     4|      10|   2003|Motorcycles|  95|   S10_1678|Technics Stores Inc.|      6505556809|   9408 Furth Circle|        NULL|   Burlingame|      CA|     94217|      USA|       NA|         Hirano|            Juri|  Medium|\n",
            "|      10180|             29|    86.13|              9|2497.77|11/11/2003 0:00|Shipped|     4|      11|   2003|Motorcycles|  95|   S10_1678|Daedalus Designs ...|      20.16.1555|184, chausse de T...|        NULL|        Lille|    NULL|     59000|   France|     EMEA|          Rance|         Martine|   Small|\n",
            "|      10188|             48|    100.0|              1|5512.32|11/18/2003 0:00|Shipped|     4|      11|   2003|Motorcycles|  95|   S10_1678|        Herkku Gifts|   +47 2267 3215|Drammen 121, PR 7...|        NULL|       Bergen|    NULL|    N 5804|   Norway|     EMEA|         Oeztan|          Veysel|  Medium|\n",
            "|      10201|             22|    98.57|              2|2168.54| 12/1/2003 0:00|Shipped|     4|      12|   2003|Motorcycles|  95|   S10_1678|     Mini Wheels Co.|      6505555787|5557 North Pendal...|        NULL|San Francisco|      CA|      NULL|      USA|       NA|         Murphy|           Julie|   Small|\n",
            "|      10211|             41|    100.0|             14|4708.44| 1/15/2004 0:00|Shipped|     1|       1|   2004|Motorcycles|  95|   S10_1678|    Auto Canal Petit|  (1) 47.55.6555|   25, rue Lauriston|        NULL|        Paris|    NULL|     75016|   France|     EMEA|        Perrier|       Dominique|  Medium|\n",
            "|      10223|             37|    100.0|              1|3965.66| 2/20/2004 0:00|Shipped|     1|       2|   2004|Motorcycles|  95|   S10_1678|Australian Collec...|    03 9520 4555|   636 St Kilda Road|     Level 3|    Melbourne|Victoria|      3004|Australia|     APAC|       Ferguson|           Peter|  Medium|\n",
            "|      10237|             23|    100.0|              7|2333.12|  4/5/2004 0:00|Shipped|     2|       4|   2004|Motorcycles|  95|   S10_1678|     Vitachrome Inc.|      2125551500|   2678 Kingston Rd.|   Suite 101|          NYC|      NY|     10022|      USA|       NA|          Frick|         Michael|   Small|\n",
            "|      10251|             28|    100.0|              2|3188.64| 5/18/2004 0:00|Shipped|     2|       5|   2004|Motorcycles|  95|   S10_1678|Tekni Collectable...|      2015559350|       7476 Moss Rd.|        NULL|       Newark|      NJ|     94019|      USA|       NA|          Brown|         William|  Medium|\n",
            "|      10263|             34|    100.0|              2|3676.76| 6/28/2004 0:00|Shipped|     2|       6|   2004|Motorcycles|  95|   S10_1678|     Gift Depot Inc.|      2035552570| 25593 South Bay Ln.|        NULL|  Bridgewater|      CT|     97562|      USA|       NA|           King|           Julie|  Medium|\n",
            "|      10275|             45|    92.83|              1|4177.35| 7/23/2004 0:00|Shipped|     3|       7|   2004|Motorcycles|  95|   S10_1678|   La Rochelle Gifts|      40.67.8555|67, rue des Cinqu...|        NULL|       Nantes|    NULL|     44000|   France|     EMEA|        Labrune|          Janine|  Medium|\n",
            "|      10285|             36|    100.0|              6|4099.68| 8/27/2004 0:00|Shipped|     3|       8|   2004|Motorcycles|  95|   S10_1678|Marta's Replicas Co.|      6175558555| 39323 Spinnaker Dr.|        NULL|    Cambridge|      MA|     51247|      USA|       NA|      Hernandez|           Marta|  Medium|\n",
            "|      10299|             23|    100.0|              9|2597.39| 9/30/2004 0:00|Shipped|     3|       9|   2004|Motorcycles|  95|   S10_1678|Toys of Finland, Co.|     90-224 8555|       Keskuskatu 45|        NULL|     Helsinki|    NULL|     21240|  Finland|     EMEA|      Karttunen|           Matti|   Small|\n",
            "|      10309|             41|    100.0|              5|4394.38|10/15/2004 0:00|Shipped|     4|      10|   2004|Motorcycles|  95|   S10_1678|  Baane Mini Imports|      07-98 9555|Erling Skakkes ga...|        NULL|      Stavern|    NULL|      4110|   Norway|     EMEA|     Bergulfsen|           Jonas|  Medium|\n",
            "|      10318|             46|    94.74|              1|4358.04| 11/2/2004 0:00|Shipped|     4|      11|   2004|Motorcycles|  95|   S10_1678|Diecast Classics ...|      2155551555|    7586 Pompton St.|        NULL|    Allentown|      PA|     70267|      USA|       NA|             Yu|           Kyung|  Medium|\n",
            "|      10329|             42|    100.0|              1|4396.14|11/15/2004 0:00|Shipped|     4|      11|   2004|Motorcycles|  95|   S10_1678|   Land of Toys Inc.|      2125557818|897 Long Airport ...|        NULL|          NYC|      NY|     10022|      USA|       NA|             Yu|            Kwai|  Medium|\n",
            "+-----------+---------------+---------+---------------+-------+---------------+-------+------+--------+-------+-----------+----+-----------+--------------------+----------------+--------------------+------------+-------------+--------+----------+---------+---------+---------------+----------------+--------+\n",
            "only showing top 20 rows\n",
            "\n"
          ]
        }
      ]
    },
    {
      "cell_type": "code",
      "source": [
        "sales.createOrReplaceTempView('sales')"
      ],
      "metadata": {
        "id": "hwp0b3lR0Pz6"
      },
      "execution_count": 55,
      "outputs": []
    },
    {
      "cell_type": "code",
      "source": [
        "sales.printSchema()"
      ],
      "metadata": {
        "id": "8eEe5zAu0a6w",
        "outputId": "f29258e4-425a-49f3-8d23-b5f7c15ad9f7",
        "colab": {
          "base_uri": "https://localhost:8080/"
        }
      },
      "execution_count": 57,
      "outputs": [
        {
          "output_type": "stream",
          "name": "stdout",
          "text": [
            "root\n",
            " |-- ORDERNUMBER: integer (nullable = true)\n",
            " |-- QUANTITYORDERED: integer (nullable = true)\n",
            " |-- PRICEEACH: double (nullable = true)\n",
            " |-- ORDERLINENUMBER: integer (nullable = true)\n",
            " |-- SALES: double (nullable = true)\n",
            " |-- ORDERDATE: string (nullable = true)\n",
            " |-- STATUS: string (nullable = true)\n",
            " |-- QTR_ID: integer (nullable = true)\n",
            " |-- MONTH_ID: integer (nullable = true)\n",
            " |-- YEAR_ID: integer (nullable = true)\n",
            " |-- PRODUCTLINE: string (nullable = true)\n",
            " |-- MSRP: integer (nullable = true)\n",
            " |-- PRODUCTCODE: string (nullable = true)\n",
            " |-- CUSTOMERNAME: string (nullable = true)\n",
            " |-- PHONE: string (nullable = true)\n",
            " |-- ADDRESSLINE1: string (nullable = true)\n",
            " |-- ADDRESSLINE2: string (nullable = true)\n",
            " |-- CITY: string (nullable = true)\n",
            " |-- STATE: string (nullable = true)\n",
            " |-- POSTALCODE: string (nullable = true)\n",
            " |-- COUNTRY: string (nullable = true)\n",
            " |-- TERRITORY: string (nullable = true)\n",
            " |-- CONTACTLASTNAME: string (nullable = true)\n",
            " |-- CONTACTFIRSTNAME: string (nullable = true)\n",
            " |-- DEALSIZE: string (nullable = true)\n",
            "\n"
          ]
        }
      ]
    },
    {
      "cell_type": "code",
      "source": [
        "calendar = spark.sql('''\n",
        "  SELECT DISTINCT\n",
        "    orderdate,\n",
        "    qtr_id, month_id, year_id\n",
        "  FROM sales\n",
        "  ORDER BY orderdate\n",
        "''')\n",
        "\n",
        "sales_data = spark.sql('''\n",
        "  SELECT DISTINCT\n",
        "    ordernumber,\n",
        "    customername,\n",
        "    sales,\n",
        "    quantityordered,\n",
        "    productcode\n",
        "    orderlinenumber\n",
        "  FROM sales\n",
        "  ORDER BY ordernumber\n",
        "''')\n",
        "\n",
        "customer_name = spark.sql('''\n",
        "  SELECT DISTINCT\n",
        "    customername,\n",
        "    phone,\n",
        "    addressline1,\n",
        "    addressline2,\n",
        "    city,\n",
        "    state,\n",
        "    postalcode,\n",
        "    country,\n",
        "    territory\n",
        "  FROM sales\n",
        "  ORDER BY customername\n",
        "''')\n",
        "\n"
      ],
      "metadata": {
        "id": "S1D8UGqiz0AW"
      },
      "execution_count": 69,
      "outputs": []
    },
    {
      "cell_type": "code",
      "source": [
        "calendar.count()"
      ],
      "metadata": {
        "id": "6JFbpDHK0TQG",
        "outputId": "90f8cd56-dd38-4b99-9935-5868b36c1813",
        "colab": {
          "base_uri": "https://localhost:8080/"
        }
      },
      "execution_count": 70,
      "outputs": [
        {
          "output_type": "execute_result",
          "data": {
            "text/plain": [
              "252"
            ]
          },
          "metadata": {},
          "execution_count": 70
        }
      ]
    },
    {
      "cell_type": "code",
      "source": [
        "sales_data.count()"
      ],
      "metadata": {
        "id": "NZMGAsLe2n3v",
        "outputId": "e314488d-bb38-490f-c68b-a59e6b007b98",
        "colab": {
          "base_uri": "https://localhost:8080/"
        }
      },
      "execution_count": 71,
      "outputs": [
        {
          "output_type": "execute_result",
          "data": {
            "text/plain": [
              "2823"
            ]
          },
          "metadata": {},
          "execution_count": 71
        }
      ]
    },
    {
      "cell_type": "code",
      "source": [
        "customer_name.count()"
      ],
      "metadata": {
        "id": "Ed1BjH792o4e",
        "outputId": "52a9fd19-b4c7-42ee-838f-b5f3a46da086",
        "colab": {
          "base_uri": "https://localhost:8080/"
        }
      },
      "execution_count": 72,
      "outputs": [
        {
          "output_type": "execute_result",
          "data": {
            "text/plain": [
              "92"
            ]
          },
          "metadata": {},
          "execution_count": 72
        }
      ]
    },
    {
      "cell_type": "code",
      "source": [
        "calendar.createOrReplaceTempView('calendar')\n",
        "sales_data.createOrReplaceTempView('sales_data')\n",
        "customer_name.createOrReplaceTempView('customer_name')"
      ],
      "metadata": {
        "id": "ws3NprPP3mHq"
      },
      "execution_count": 77,
      "outputs": []
    },
    {
      "cell_type": "code",
      "source": [
        "master = spark.sql('''\n",
        "  SELECT DISTINCT\n",
        "  s.ordernumber, c.city\n",
        "  FROM sales_data s\n",
        "  INNER JOIN customer_name c ON s.customername = c.customername\n",
        "''')\n",
        "\n",
        "master.show(truncate=False)"
      ],
      "metadata": {
        "id": "gaoa-n4Y2rFH",
        "outputId": "bdc5e5ab-f2fe-4a77-832e-011d6c105753",
        "colab": {
          "base_uri": "https://localhost:8080/"
        }
      },
      "execution_count": 82,
      "outputs": [
        {
          "output_type": "stream",
          "name": "stdout",
          "text": [
            "+-----------+-------------+\n",
            "|ordernumber|city         |\n",
            "+-----------+-------------+\n",
            "|10300      |Frankfurt    |\n",
            "|10385      |San Rafael   |\n",
            "|10140      |Burlingame   |\n",
            "|10182      |San Rafael   |\n",
            "|10241      |Strasbourg   |\n",
            "|10153      |Madrid       |\n",
            "|10293      |Torino       |\n",
            "|10161      |Aaarhus      |\n",
            "|10406      |Kobenhavn    |\n",
            "|10414      |Boston       |\n",
            "|10311      |Madrid       |\n",
            "|10195      |White Plains |\n",
            "|10189      |Pasadena     |\n",
            "|10357      |San Rafael   |\n",
            "|10422      |Allentown    |\n",
            "|10111      |San Francisco|\n",
            "|10204      |NYC          |\n",
            "|10304      |Versailles   |\n",
            "|10151      |Oulu         |\n",
            "|10369      |Brickhaven   |\n",
            "+-----------+-------------+\n",
            "only showing top 20 rows\n",
            "\n"
          ]
        }
      ]
    },
    {
      "cell_type": "code",
      "source": [],
      "metadata": {
        "id": "FP9GNi_F3W8X"
      },
      "execution_count": null,
      "outputs": []
    }
  ]
}