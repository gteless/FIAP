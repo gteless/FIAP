{
  "nbformat": 4,
  "nbformat_minor": 0,
  "metadata": {
    "colab": {
      "provenance": [],
      "toc_visible": true,
      "authorship_tag": "ABX9TyO3UEHq2yvIRdv+xfr0NO/2",
      "include_colab_link": true
    },
    "kernelspec": {
      "name": "python3",
      "display_name": "Python 3"
    },
    "language_info": {
      "name": "python"
    }
  },
  "cells": [
    {
      "cell_type": "markdown",
      "metadata": {
        "id": "view-in-github",
        "colab_type": "text"
      },
      "source": [
        "<a href=\"https://colab.research.google.com/github/gteless/Aulas_FIAP/blob/main/operacoes_entre_df_e_armazenamento.ipynb\" target=\"_parent\"><img src=\"https://colab.research.google.com/assets/colab-badge.svg\" alt=\"Open In Colab\"/></a>"
      ]
    },
    {
      "cell_type": "code",
      "execution_count": 1,
      "metadata": {
        "colab": {
          "base_uri": "https://localhost:8080/"
        },
        "id": "mJ7eAg2wLhAZ",
        "outputId": "47e14b98-a820-4632-ef6a-13d9a3692101"
      },
      "outputs": [
        {
          "output_type": "stream",
          "name": "stdout",
          "text": [
            "Requirement already satisfied: pyspark in /usr/local/lib/python3.11/dist-packages (3.5.1)\n",
            "Requirement already satisfied: py4j==0.10.9.7 in /usr/local/lib/python3.11/dist-packages (from pyspark) (0.10.9.7)\n"
          ]
        }
      ],
      "source": [
        "!pip install pyspark"
      ]
    },
    {
      "cell_type": "code",
      "source": [
        "!pip install findspark"
      ],
      "metadata": {
        "colab": {
          "base_uri": "https://localhost:8080/"
        },
        "id": "bHT1i3DtLvZC",
        "outputId": "526d734e-1151-41cc-fb9c-1e24edc6637e"
      },
      "execution_count": 2,
      "outputs": [
        {
          "output_type": "stream",
          "name": "stdout",
          "text": [
            "Collecting findspark\n",
            "  Downloading findspark-2.0.1-py2.py3-none-any.whl.metadata (352 bytes)\n",
            "Downloading findspark-2.0.1-py2.py3-none-any.whl (4.4 kB)\n",
            "Installing collected packages: findspark\n",
            "Successfully installed findspark-2.0.1\n"
          ]
        }
      ]
    },
    {
      "cell_type": "code",
      "source": [
        "from pyspark import SparkContext\n",
        "from pyspark.sql import SparkSession"
      ],
      "metadata": {
        "id": "Dqpfhd1SLw6Q"
      },
      "execution_count": 4,
      "outputs": []
    },
    {
      "cell_type": "code",
      "source": [
        "sc = SparkContext.getOrCreate()"
      ],
      "metadata": {
        "id": "L7GsUszcL2rI"
      },
      "execution_count": 5,
      "outputs": []
    },
    {
      "cell_type": "code",
      "source": [
        "spark = SparkSession.builder.appName('Pyspark Dataframe').getOrCreate()"
      ],
      "metadata": {
        "id": "X80myclZL7iP"
      },
      "execution_count": 7,
      "outputs": []
    },
    {
      "cell_type": "markdown",
      "source": [
        "# Transformations"
      ],
      "metadata": {
        "id": "xVo4ohVbM7B-"
      }
    },
    {
      "cell_type": "markdown",
      "source": [
        "###map()"
      ],
      "metadata": {
        "id": "VPp2-e9RNKqT"
      }
    },
    {
      "cell_type": "code",
      "source": [
        "data = [1,2,3,4,5]\n",
        "myRDD = sc.parallelize(data)\n",
        "newRDD = myRDD.map(lambda x: x*2)\n",
        "\n",
        "print(newRDD.collect())"
      ],
      "metadata": {
        "colab": {
          "base_uri": "https://localhost:8080/"
        },
        "id": "8_RRNEntMDRv",
        "outputId": "91e745fa-c60d-4c4e-f44a-67f009fe10c1"
      },
      "execution_count": 9,
      "outputs": [
        {
          "output_type": "stream",
          "name": "stdout",
          "text": [
            "[2, 4, 6, 8, 10]\n"
          ]
        }
      ]
    },
    {
      "cell_type": "code",
      "source": [
        "data = [1,2,3,4,5,6,7,8,9,10]\n",
        "myRDD = sc.parallelize(data)\n",
        "newRDD = myRDD.filter(lambda x: x%2 == 0)\n",
        "\n",
        "print(newRDD.collect())"
      ],
      "metadata": {
        "colab": {
          "base_uri": "https://localhost:8080/"
        },
        "id": "l7-hto5oNcTo",
        "outputId": "9adfb151-88cd-4620-fea9-80985ea79c74"
      },
      "execution_count": 12,
      "outputs": [
        {
          "output_type": "stream",
          "name": "stdout",
          "text": [
            "[2, 4, 6, 8, 10]\n"
          ]
        }
      ]
    },
    {
      "cell_type": "markdown",
      "source": [
        "###distinct()"
      ],
      "metadata": {
        "id": "yIEsDY2OPuof"
      }
    },
    {
      "cell_type": "code",
      "source": [
        "data = [1,1,1,2,2,2,3,3,3,3]\n",
        "myRDD = sc.parallelize(data)\n",
        "newRDD = myRDD.distinct()\n",
        "\n",
        "print(newRDD.collect())\n",
        "print(newRDD.count())"
      ],
      "metadata": {
        "colab": {
          "base_uri": "https://localhost:8080/"
        },
        "id": "zSx-xwHzOIEn",
        "outputId": "9a2a6364-bb00-459c-8347-45a1e8011d15"
      },
      "execution_count": 14,
      "outputs": [
        {
          "output_type": "stream",
          "name": "stdout",
          "text": [
            "[2, 1, 3]\n",
            "3\n"
          ]
        }
      ]
    },
    {
      "cell_type": "markdown",
      "source": [
        "###groupByKey()"
      ],
      "metadata": {
        "id": "V7ZRCWZGP3zl"
      }
    },
    {
      "cell_type": "code",
      "source": [
        "myRDD = sc.parallelize([('a', 1), ('a', 2), ('a', 3), ('b', 1)])\n",
        "resutlList = myRDD.groupByKey().mapValues(list)\n",
        "resutlList.collect()"
      ],
      "metadata": {
        "colab": {
          "base_uri": "https://localhost:8080/"
        },
        "id": "Ybk8f6uQP2MA",
        "outputId": "608579f2-5854-4678-cb39-fd554dec1d86"
      },
      "execution_count": 16,
      "outputs": [
        {
          "output_type": "execute_result",
          "data": {
            "text/plain": [
              "[('b', [1]), ('a', [1, 2, 3])]"
            ]
          },
          "metadata": {},
          "execution_count": 16
        }
      ]
    },
    {
      "cell_type": "markdown",
      "source": [
        "###reduceByKey()"
      ],
      "metadata": {
        "id": "Ft-rRv_uRNc4"
      }
    },
    {
      "cell_type": "code",
      "source": [
        "from operator import add\n",
        "myRDD = sc.parallelize([('a', 1), ('a', 2), ('a', 3), ('b', 1)])\n",
        "newRDD = myRDD.reduceByKey(add)\n",
        "newRDD.collect()"
      ],
      "metadata": {
        "colab": {
          "base_uri": "https://localhost:8080/"
        },
        "id": "HM4KpIuhQ02v",
        "outputId": "6038a576-d6f3-4808-a6e5-a875d4ff9f43"
      },
      "execution_count": 17,
      "outputs": [
        {
          "output_type": "execute_result",
          "data": {
            "text/plain": [
              "[('b', 1), ('a', 6)]"
            ]
          },
          "metadata": {},
          "execution_count": 17
        }
      ]
    },
    {
      "cell_type": "markdown",
      "source": [
        "###SortByKey()"
      ],
      "metadata": {
        "id": "KCN7sZGWRlHr"
      }
    },
    {
      "cell_type": "code",
      "source": [
        "from operator import add\n",
        "myRDD = sc.parallelize([('c', 1), ('d', 2), ('a', 3), ('b', 4)])\n",
        "newRDD = myRDD.sortByKey()\n",
        "newRDD.collect()"
      ],
      "metadata": {
        "colab": {
          "base_uri": "https://localhost:8080/"
        },
        "id": "8RXWDP6DRaun",
        "outputId": "0ffaa8a6-4539-43f9-cf41-5351cbd1cc36"
      },
      "execution_count": 20,
      "outputs": [
        {
          "output_type": "execute_result",
          "data": {
            "text/plain": [
              "[('a', 3), ('b', 4), ('c', 1), ('d', 2)]"
            ]
          },
          "metadata": {},
          "execution_count": 20
        }
      ]
    },
    {
      "cell_type": "markdown",
      "source": [
        "###Union()"
      ],
      "metadata": {
        "id": "-XXyda4vR6bM"
      }
    },
    {
      "cell_type": "code",
      "source": [
        "myRDD1 = sc.parallelize([1,2,3,4])\n",
        "myRDD2 = sc.parallelize([3,4,5,6,7])\n",
        "newRDD = myRDD1.union(myRDD2)\n",
        "newRDD.collect()"
      ],
      "metadata": {
        "colab": {
          "base_uri": "https://localhost:8080/"
        },
        "id": "qoJ9kq6oRpmY",
        "outputId": "7d552371-1af9-40a3-c3ee-b7d265f69e85"
      },
      "execution_count": 23,
      "outputs": [
        {
          "output_type": "execute_result",
          "data": {
            "text/plain": [
              "[1, 2, 3, 4, 3, 4, 5, 6, 7]"
            ]
          },
          "metadata": {},
          "execution_count": 23
        }
      ]
    },
    {
      "cell_type": "markdown",
      "source": [
        "#Actions"
      ],
      "metadata": {
        "id": "6mDfb2OlVsaX"
      }
    },
    {
      "cell_type": "markdown",
      "source": [
        "###count("
      ],
      "metadata": {
        "id": "cBaq9lDlV2zS"
      }
    },
    {
      "cell_type": "code",
      "source": [
        "data = ['Scala', 'Python', 'Java', 'R']\n",
        "myRDD = sc.parallelize(data)\n",
        "myRDD.count()"
      ],
      "metadata": {
        "colab": {
          "base_uri": "https://localhost:8080/"
        },
        "id": "yIstAwQ2SHNP",
        "outputId": "66d36f09-9e26-4283-c018-ad26a40b8ba1"
      },
      "execution_count": 24,
      "outputs": [
        {
          "output_type": "execute_result",
          "data": {
            "text/plain": [
              "4"
            ]
          },
          "metadata": {},
          "execution_count": 24
        }
      ]
    },
    {
      "cell_type": "markdown",
      "source": [
        "###reduce()"
      ],
      "metadata": {
        "id": "oOv1SPvsWLPT"
      }
    },
    {
      "cell_type": "code",
      "source": [
        "data = [1,2,3,4,5]\n",
        "myRDD = sc.parallelize(data)\n",
        "myRDD.reduce(lambda x, y: x * y)"
      ],
      "metadata": {
        "colab": {
          "base_uri": "https://localhost:8080/"
        },
        "id": "pVV0f9NuV-w3",
        "outputId": "6f1b039b-2070-4b5f-ae81-8349f6f0a91c"
      },
      "execution_count": 25,
      "outputs": [
        {
          "output_type": "execute_result",
          "data": {
            "text/plain": [
              "120"
            ]
          },
          "metadata": {},
          "execution_count": 25
        }
      ]
    },
    {
      "cell_type": "markdown",
      "source": [
        "###foreach()"
      ],
      "metadata": {
        "id": "e0qIImgfWgaQ"
      }
    },
    {
      "cell_type": "code",
      "source": [
        "def fun(x):\n",
        "  print(x)\n",
        "data = ['Scala', 'Python', 'Java', 'R']\n",
        "myRDD = sc.parallelize(data)\n",
        "myRDD.foreach(fun)"
      ],
      "metadata": {
        "id": "emLHY2NqWU2e"
      },
      "execution_count": 28,
      "outputs": []
    },
    {
      "cell_type": "markdown",
      "source": [
        "###countByValue()"
      ],
      "metadata": {
        "id": "3sUfoa_FW1qS"
      }
    },
    {
      "cell_type": "code",
      "source": [
        "data = ['Scala', 'Python', 'Python', 'Python', 'Java', 'R', 'R']\n",
        "myRDD = sc.parallelize(data)\n",
        "myRDD.countByValue().items()"
      ],
      "metadata": {
        "colab": {
          "base_uri": "https://localhost:8080/"
        },
        "id": "44NZLZ3MW00m",
        "outputId": "f0184133-0f10-4d44-cc6e-26b906203a70"
      },
      "execution_count": 29,
      "outputs": [
        {
          "output_type": "execute_result",
          "data": {
            "text/plain": [
              "dict_items([('Scala', 1), ('Python', 3), ('Java', 1), ('R', 2)])"
            ]
          },
          "metadata": {},
          "execution_count": 29
        }
      ]
    },
    {
      "cell_type": "markdown",
      "source": [
        "###countByKey()"
      ],
      "metadata": {
        "id": "_DyYnBDyXhyG"
      }
    },
    {
      "cell_type": "code",
      "source": [
        "data = [('c', 1), ('c', 2), ('a', 3), ('b', 4)]\n",
        "myRDD = sc.parallelize(data)\n",
        "myRDD.countByKey().items()"
      ],
      "metadata": {
        "colab": {
          "base_uri": "https://localhost:8080/"
        },
        "id": "MPkLSb6nWq1r",
        "outputId": "ec5a0377-cf38-4983-eb71-09ad1698f547"
      },
      "execution_count": 32,
      "outputs": [
        {
          "output_type": "execute_result",
          "data": {
            "text/plain": [
              "dict_items([('c', 2), ('a', 1), ('b', 1)])"
            ]
          },
          "metadata": {},
          "execution_count": 32
        }
      ]
    },
    {
      "cell_type": "markdown",
      "source": [
        "###take(n)"
      ],
      "metadata": {
        "id": "p9xOfn24XxEs"
      }
    },
    {
      "cell_type": "code",
      "source": [
        "data = [1,2,3,4,5,10,9,8,7,6]\n",
        "myRDD = sc.parallelize(data)\n",
        "#mostra o top X valores ordenando de forma decrescente\n",
        "myRDD.top(10)"
      ],
      "metadata": {
        "colab": {
          "base_uri": "https://localhost:8080/"
        },
        "id": "SJijbN3UXpKP",
        "outputId": "8268202c-08df-4d12-8044-975d6ee35190"
      },
      "execution_count": 35,
      "outputs": [
        {
          "output_type": "execute_result",
          "data": {
            "text/plain": [
              "[10, 9, 8, 7, 6, 5, 4, 3, 2, 1]"
            ]
          },
          "metadata": {},
          "execution_count": 35
        }
      ]
    }
  ]
}