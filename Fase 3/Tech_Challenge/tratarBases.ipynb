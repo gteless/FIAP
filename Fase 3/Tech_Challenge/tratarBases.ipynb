{
 "cells": [
  {
   "cell_type": "code",
   "execution_count": null,
   "id": "f2cce8e6",
   "metadata": {},
   "outputs": [],
   "source": [
    "# esse notebook"
   ]
  }
 ],
 "metadata": {
  "language_info": {
   "name": "python"
  }
 },
 "nbformat": 4,
 "nbformat_minor": 5
}
