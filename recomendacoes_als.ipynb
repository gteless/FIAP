{
  "nbformat": 4,
  "nbformat_minor": 0,
  "metadata": {
    "colab": {
      "provenance": [],
      "authorship_tag": "ABX9TyN+56jt1DcqTkDSbFdl3fjc",
      "include_colab_link": true
    },
    "kernelspec": {
      "name": "python3",
      "display_name": "Python 3"
    },
    "language_info": {
      "name": "python"
    }
  },
  "cells": [
    {
      "cell_type": "markdown",
      "metadata": {
        "id": "view-in-github",
        "colab_type": "text"
      },
      "source": [
        "<a href=\"https://colab.research.google.com/github/gteless/Aulas_FIAP/blob/main/recomendacoes_als.ipynb\" target=\"_parent\"><img src=\"https://colab.research.google.com/assets/colab-badge.svg\" alt=\"Open In Colab\"/></a>"
      ]
    },
    {
      "cell_type": "code",
      "execution_count": 16,
      "metadata": {
        "colab": {
          "base_uri": "https://localhost:8080/"
        },
        "id": "_vpYKiKVd3p7",
        "outputId": "b4f9491e-63b8-412e-94bc-c43f078106a4"
      },
      "outputs": [
        {
          "output_type": "stream",
          "name": "stdout",
          "text": [
            "Requirement already satisfied: pyspark in /usr/local/lib/python3.11/dist-packages (3.5.1)\n",
            "Requirement already satisfied: py4j==0.10.9.7 in /usr/local/lib/python3.11/dist-packages (from pyspark) (0.10.9.7)\n",
            "Requirement already satisfied: findspark in /usr/local/lib/python3.11/dist-packages (2.0.1)\n"
          ]
        }
      ],
      "source": [
        "!pip install pyspark\n",
        "!pip install findspark"
      ]
    },
    {
      "cell_type": "code",
      "source": [
        "from pyspark.sql import SparkSession\n",
        "from pyspark.ml.evaluation import RegressionEvaluator\n",
        "from pyspark.ml.recommendation import ALS\n",
        "from pyspark.sql import Row"
      ],
      "metadata": {
        "id": "-QeUAu5Fd-I_"
      },
      "execution_count": 17,
      "outputs": []
    },
    {
      "cell_type": "code",
      "source": [
        "spark = SparkSession.builder.master('local[*]').getOrCreate()"
      ],
      "metadata": {
        "id": "FqqqLzo5eXlL"
      },
      "execution_count": 18,
      "outputs": []
    },
    {
      "cell_type": "code",
      "source": [
        "lines = spark.read.text(\"/content/06- sample_movielens_ratings.txt\").rdd"
      ],
      "metadata": {
        "id": "2C8ADrC_e-Dn"
      },
      "execution_count": 19,
      "outputs": []
    },
    {
      "cell_type": "code",
      "source": [
        "parts = lines.map(lambda row: row.value.split(\"::\"))"
      ],
      "metadata": {
        "id": "RZYyqEbmfJsp"
      },
      "execution_count": 20,
      "outputs": []
    },
    {
      "cell_type": "code",
      "source": [
        "ratingsRDD = parts.map(lambda p: Row(userId=int(p[0]),  \\\n",
        "                                     movieId=int(p[1]), \\\n",
        "                                     rating=float(p[2]), \\\n",
        "                                     timestamp=int(p[3])))"
      ],
      "metadata": {
        "id": "Ng3pBiS6feyn"
      },
      "execution_count": 23,
      "outputs": []
    },
    {
      "cell_type": "code",
      "source": [
        "ratings = spark.createDataFrame(ratingsRDD)"
      ],
      "metadata": {
        "id": "eRCZ4sHIg5rj"
      },
      "execution_count": 24,
      "outputs": []
    },
    {
      "cell_type": "code",
      "source": [
        "ratings.show()"
      ],
      "metadata": {
        "colab": {
          "base_uri": "https://localhost:8080/"
        },
        "id": "wlzr1wiqhQ4J",
        "outputId": "1346765e-8350-4667-ad3b-8c72f58cfd9a"
      },
      "execution_count": 25,
      "outputs": [
        {
          "output_type": "stream",
          "name": "stdout",
          "text": [
            "+------+-------+------+----------+\n",
            "|userId|movieId|rating| timestamp|\n",
            "+------+-------+------+----------+\n",
            "|     0|      2|   3.0|1424380312|\n",
            "|     0|      3|   1.0|1424380312|\n",
            "|     0|      5|   2.0|1424380312|\n",
            "|     0|      9|   4.0|1424380312|\n",
            "|     0|     11|   1.0|1424380312|\n",
            "|     0|     12|   2.0|1424380312|\n",
            "|     0|     15|   1.0|1424380312|\n",
            "|     0|     17|   1.0|1424380312|\n",
            "|     0|     19|   1.0|1424380312|\n",
            "|     0|     21|   1.0|1424380312|\n",
            "|     0|     23|   1.0|1424380312|\n",
            "|     0|     26|   3.0|1424380312|\n",
            "|     0|     27|   1.0|1424380312|\n",
            "|     0|     28|   1.0|1424380312|\n",
            "|     0|     29|   1.0|1424380312|\n",
            "|     0|     30|   1.0|1424380312|\n",
            "|     0|     31|   1.0|1424380312|\n",
            "|     0|     34|   1.0|1424380312|\n",
            "|     0|     37|   1.0|1424380312|\n",
            "|     0|     41|   2.0|1424380312|\n",
            "+------+-------+------+----------+\n",
            "only showing top 20 rows\n",
            "\n"
          ]
        }
      ]
    },
    {
      "cell_type": "code",
      "source": [
        "(training, test) = ratings.randomSplit([0.8, 0.2])"
      ],
      "metadata": {
        "id": "a9J_XEL6h9m9"
      },
      "execution_count": 26,
      "outputs": []
    },
    {
      "cell_type": "code",
      "source": [
        "als = ALS(maxIter=5,\\\n",
        "          regParam=0.01,\\\n",
        "          userCol=\"userId\",\\\n",
        "          itemCol=\"movieId\",\\\n",
        "          ratingCol=\"rating\",\\\n",
        "          coldStartStrategy=\"drop\")"
      ],
      "metadata": {
        "id": "l2P9JkIpjfrQ"
      },
      "execution_count": 27,
      "outputs": []
    },
    {
      "cell_type": "code",
      "source": [
        "model = als.fit(training)"
      ],
      "metadata": {
        "id": "dZE6qLxJj5sn"
      },
      "execution_count": 30,
      "outputs": []
    },
    {
      "cell_type": "code",
      "source": [
        "predictions = model.transform(test)\n",
        "evaluator = RegressionEvaluator(metricName=\"rmse\", labelCol=\"rating\",\\\n",
        "                                predictionCol=\"prediction\")\n",
        "rmse = evaluator.evaluate(predictions)\n",
        "print(\"Erro médio quadrado = \" + str(rmse))"
      ],
      "metadata": {
        "colab": {
          "base_uri": "https://localhost:8080/"
        },
        "id": "IHcUmVyjj6Y1",
        "outputId": "fd628daa-61c4-4be8-aaeb-f015b6223543"
      },
      "execution_count": 31,
      "outputs": [
        {
          "output_type": "stream",
          "name": "stdout",
          "text": [
            "Erro médio quadrado = 1.8113472093514018\n"
          ]
        }
      ]
    },
    {
      "cell_type": "code",
      "source": [
        "userRec = model.recommendForAllUsers(10)"
      ],
      "metadata": {
        "id": "pCyVElxJlDge"
      },
      "execution_count": 32,
      "outputs": []
    },
    {
      "cell_type": "code",
      "source": [
        "userRec.show()"
      ],
      "metadata": {
        "colab": {
          "base_uri": "https://localhost:8080/"
        },
        "id": "NN_O6S5WlgVW",
        "outputId": "995447fb-10ea-4e01-c25c-74155cc3b53b"
      },
      "execution_count": 33,
      "outputs": [
        {
          "output_type": "stream",
          "name": "stdout",
          "text": [
            "+------+--------------------+\n",
            "|userId|     recommendations|\n",
            "+------+--------------------+\n",
            "|    20|[{94, 4.101472}, ...|\n",
            "|    10|[{62, 3.2924948},...|\n",
            "|     0|[{92, 4.111323}, ...|\n",
            "|     1|[{62, 3.9785001},...|\n",
            "|    21|[{29, 4.9223266},...|\n",
            "|    11|[{46, 5.629353}, ...|\n",
            "|    12|[{1, 7.0405626}, ...|\n",
            "|    22|[{46, 6.120947}, ...|\n",
            "|     2|[{8, 5.117934}, {...|\n",
            "|    13|[{74, 2.9587736},...|\n",
            "|     3|[{83, 4.971333}, ...|\n",
            "|    23|[{9, 5.637798}, {...|\n",
            "|     4|[{74, 4.6671205},...|\n",
            "|    24|[{90, 5.023566}, ...|\n",
            "|    14|[{32, 5.6837153},...|\n",
            "|     5|[{46, 6.060383}, ...|\n",
            "|    15|[{46, 4.676827}, ...|\n",
            "|    25|[{51, 6.7716484},...|\n",
            "|    26|[{49, 5.457879}, ...|\n",
            "|     6|[{51, 3.8709667},...|\n",
            "+------+--------------------+\n",
            "only showing top 20 rows\n",
            "\n"
          ]
        }
      ]
    },
    {
      "cell_type": "code",
      "source": [
        "movieRecs = model.recommendForAllItems(10)"
      ],
      "metadata": {
        "id": "8I78-6DHllPg"
      },
      "execution_count": 34,
      "outputs": []
    },
    {
      "cell_type": "code",
      "source": [
        "movieRecs.show()"
      ],
      "metadata": {
        "colab": {
          "base_uri": "https://localhost:8080/"
        },
        "id": "qXWu8MXtl6nF",
        "outputId": "7db73bee-c046-48dc-a46f-75e1cee94a5e"
      },
      "execution_count": 35,
      "outputs": [
        {
          "output_type": "stream",
          "name": "stdout",
          "text": [
            "+-------+--------------------+\n",
            "|movieId|     recommendations|\n",
            "+-------+--------------------+\n",
            "|     20|[{17, 4.8744907},...|\n",
            "|     40|[{8, 2.1154873}, ...|\n",
            "|     10|[{23, 3.9910712},...|\n",
            "|     50|[{12, 3.9930975},...|\n",
            "|     80|[{12, 4.4972887},...|\n",
            "|     70|[{8, 4.4876175}, ...|\n",
            "|     60|[{8, 2.864603}, {...|\n",
            "|     90|[{26, 5.426406}, ...|\n",
            "|     30|[{11, 5.0885506},...|\n",
            "|      0|[{23, 3.569371}, ...|\n",
            "|     31|[{11, 3.9737198},...|\n",
            "|     81|[{28, 4.7277374},...|\n",
            "|     91|[{23, 3.7359993},...|\n",
            "|      1|[{12, 7.0405626},...|\n",
            "|     41|[{14, 4.286777}, ...|\n",
            "|     61|[{16, 3.319751}, ...|\n",
            "|     51|[{25, 6.7716484},...|\n",
            "|     21|[{26, 2.760354}, ...|\n",
            "|     11|[{7, 1.8847281}, ...|\n",
            "|     71|[{25, 3.9516907},...|\n",
            "+-------+--------------------+\n",
            "only showing top 20 rows\n",
            "\n"
          ]
        }
      ]
    },
    {
      "cell_type": "code",
      "source": [
        "users = ratings.select(als.getUserCol()).distinct()"
      ],
      "metadata": {
        "id": "Am0GsAHdl7g2"
      },
      "execution_count": 36,
      "outputs": []
    },
    {
      "cell_type": "code",
      "source": [
        "users.show()"
      ],
      "metadata": {
        "colab": {
          "base_uri": "https://localhost:8080/"
        },
        "id": "hDfkb1kvmIrO",
        "outputId": "23e63407-0dc8-46e3-ce4a-8d365b50ef6d"
      },
      "execution_count": 37,
      "outputs": [
        {
          "output_type": "stream",
          "name": "stdout",
          "text": [
            "+------+\n",
            "|userId|\n",
            "+------+\n",
            "|    26|\n",
            "|    29|\n",
            "|    19|\n",
            "|     0|\n",
            "|    22|\n",
            "|     7|\n",
            "|    25|\n",
            "|     6|\n",
            "|     9|\n",
            "|    27|\n",
            "|    17|\n",
            "|    28|\n",
            "|     5|\n",
            "|     1|\n",
            "|    10|\n",
            "|     3|\n",
            "|    12|\n",
            "|     8|\n",
            "|    11|\n",
            "|     2|\n",
            "+------+\n",
            "only showing top 20 rows\n",
            "\n"
          ]
        }
      ]
    },
    {
      "cell_type": "code",
      "source": [
        "UserRecsOnlyItemId = userRec.select(userRec['userId'], \\\n",
        "                                    userRec['recommendations']['movieId'])"
      ],
      "metadata": {
        "id": "dCmZV07ZmKwO"
      },
      "execution_count": 38,
      "outputs": []
    },
    {
      "cell_type": "code",
      "source": [
        "UserRecsOnlyItemId.show(10, False)"
      ],
      "metadata": {
        "colab": {
          "base_uri": "https://localhost:8080/"
        },
        "id": "6RD40WPum76x",
        "outputId": "af26d873-624f-457b-adfb-fbf8c7545b83"
      },
      "execution_count": 41,
      "outputs": [
        {
          "output_type": "stream",
          "name": "stdout",
          "text": [
            "+------+----------------------------------------+\n",
            "|userId|recommendations.movieId                 |\n",
            "+------+----------------------------------------+\n",
            "|20    |[94, 77, 22, 74, 90, 75, 18, 46, 88, 68]|\n",
            "|10    |[62, 29, 42, 52, 9, 49, 89, 72, 0, 92]  |\n",
            "|0     |[92, 18, 49, 87, 9, 52, 91, 43, 86, 26] |\n",
            "|1     |[62, 17, 18, 53, 55, 28, 13, 9, 52, 85] |\n",
            "|21    |[29, 53, 43, 70, 2, 52, 74, 90, 95, 96] |\n",
            "|11    |[46, 30, 23, 32, 27, 79, 96, 48, 90, 66]|\n",
            "|12    |[1, 46, 64, 35, 17, 44, 80, 98, 33, 94] |\n",
            "|22    |[46, 75, 49, 74, 30, 88, 77, 51, 94, 72]|\n",
            "|2     |[8, 93, 83, 37, 39, 81, 38, 89, 29, 92] |\n",
            "|13    |[74, 53, 29, 62, 83, 52, 18, 92, 41, 4] |\n",
            "+------+----------------------------------------+\n",
            "only showing top 10 rows\n",
            "\n"
          ]
        }
      ]
    },
    {
      "cell_type": "code",
      "source": [],
      "metadata": {
        "id": "L9q9xpzBm-Jw"
      },
      "execution_count": null,
      "outputs": []
    }
  ]
}